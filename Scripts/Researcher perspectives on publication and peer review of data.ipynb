{
 "metadata": {
  "name": "",
  "signature": "sha256:791c6d87cb026df0ba5b0e82877a2a79dd364ecd2c22c7e742895728304a5c53"
 },
 "nbformat": 3,
 "nbformat_minor": 0,
 "worksheets": [
  {
   "cells": [
    {
     "cell_type": "heading",
     "level": 1,
     "metadata": {},
     "source": [
      "Researcher perspectives on publication and peer review of data"
     ]
    },
    {
     "cell_type": "markdown",
     "metadata": {},
     "source": [
      "John Ernest Kratz & Carly Strasser"
     ]
    },
    {
     "cell_type": "markdown",
     "metadata": {},
     "source": [
      "<hr>\n",
      "**Article:**<br>\n",
      "Kratz JE, Strasser C (2015) _Researcher Perspectives on Publication and Peer Review of Data._ PLoS ONE 10(2): e0117619. [doi:10.1371/journal.pone.0117619](http://dx.doi.org/10.1371/journal.pone.0117619)\n",
      "\n",
      "**Data:**<br>\n",
      "Kratz, JE; Strasser, C (2014) Data from _Researcher perspectives on publication and peer review of data._ UC Office of the President. [doi:10.5060/d8rp4v](https://dash.ucop.edu/xtf/view?docId=ucop/ark%2B%3Db5060%3Dd8rp4v/mrt-datacite.xml;query=kratz)\n",
      "<hr>"
     ]
    },
    {
     "cell_type": "heading",
     "level": 2,
     "metadata": {},
     "source": [
      "Abstract"
     ]
    },
    {
     "cell_type": "markdown",
     "metadata": {},
     "source": [
      "[Abstract](#Abstract) | [Introduction](#Introduction) | [Methods](#Methods) | [Results](#Results) | [Discussion](#Discussion) | [Appendix](#Appendix)"
     ]
    },
    {
     "cell_type": "heading",
     "level": 4,
     "metadata": {},
     "source": [
      "Research role has no significant effect on use of channels for sharing data."
     ]
    },
    {
     "cell_type": "markdown",
     "metadata": {},
     "source": [
      "Data \"publication\" seeks to appropriate the prestige of authorship in the peer-reviewed literature to reward researchers who create useful and well-documented datasets. \n",
      "The scholarly communication community has embraced data publication as an incentive to document and share data.\n",
      "But, numerous new and ongoing experiments in implementation have not yet resolved what a data publication should be, when data should be peer-reviewed, or how data peer review should work. \n",
      "While researchers have been surveyed extensively regarding data management and sharing, their perceptions and expectations of data publication are largely unknown.\n",
      "To bring this important yet neglected perspective into the conversation, we surveyed ~250 researchers across the sciences and social sciences-- asking what expectations \"data publication\" raises and what features would be useful to evaluate the trustworthiness, evaluate the impact, and enhance the prestige of a data publication.\n",
      "We found that researcher expectations of data publication center on availability, generally through an open database or repository.\n",
      "Few respondents expected published data to be peer-reviewed, but peer-reviewed data enjoyed much greater trust and prestige.\n",
      "The importance of adequate metadata was acknowledged, in that almost all respondents expected data peer review to include evaluation of the data's documentation.\n",
      "Formal citation in the reference list was affirmed by most respondents as the proper way to credit dataset creators.\n",
      "Citation count was viewed as the most useful measure of impact, but download count was seen as nearly as valuable.\n",
      "These results offer practical guidance for data publishers seeking to meet researcher expectations and enhance the value of published data."
     ]
    },
    {
     "cell_type": "heading",
     "level": 2,
     "metadata": {},
     "source": [
      "Introduction"
     ]
    },
    {
     "cell_type": "markdown",
     "metadata": {},
     "source": [
      "[Abstract](#Abstract) | [Introduction](#Introduction) | [Methods](#Methods) | [Results](#Results) | [Discussion](#Discussion)"
     ]
    },
    {
     "cell_type": "markdown",
     "metadata": {},
     "source": [
      "[Data sharing](#Data-sharing) | [Data publication](#Data-publication)"
     ]
    },
    {
     "cell_type": "heading",
     "level": 3,
     "metadata": {},
     "source": [
      "Data sharing"
     ]
    },
    {
     "cell_type": "markdown",
     "metadata": {},
     "source": [
      "In 1985\u2013 almost 30 years ago\u2013 Stephen Ceci surveyed 847 scientists and\n",
      "concluded \u201cit is clear that scientists in all fields endorse the\n",
      "principle of data sharing as a desirable norm of science\u201d\n",
      "([Ceci, 1988](http://www.jstor.org/stable/690052)). This endorsement has not weakened over the\n",
      "decades; more than 65% of faculty at [California Polytechnic State University](http://www.calpoly.edu/) (Cal Poly) affirmed the importance of data sharing in 2010\n",
      "([Scaramozzino et al., 2012](http://crl.acrl.org/content/73/4/349.full.pdf)), as did 94% of the researchers in the United\n",
      "Kingdom (UK) surveyed by the [Expert Advisor Group on Data Access](http://www.wellcome.ac.uk/About-us/Policy/Spotlight-issues/Data-sharing/EAGDA/) (EAGDA)\n",
      "in 2013 ([Bobrow et al., 2014](http://www.wellcome.ac.uk/stellent/groups/corporatesite/@msh_peda/documents/web_document/wtp056495.pdf)). The respondents in 1985 survey\n",
      "endorsed data sharing \u201cto allow replication and extension of one\u2019s own\n",
      "findings\u201d ([Ceci, 1988](http://www.jstor.org/stable/690052)), and enabling replication and (re)use is\n",
      "still the principal motive behind data sharing. The reproducibility\n",
      "problem plaguing science in the scholarly ([Ioannidis, 2005](http://dx.doi.org/10.1371/journal.pmed.0020124); [Prinz et al., 2011](http://dx.doi.org/10.1038/nrd3439-c1); [Mobley et al., 2013](http://dx.doi.org/10.1371/journal.pone.0063221)) and mainstream\n",
      "([Zimmer, 2012](http://www.nytimes.com/2012/04/17/science/rise-in-scientific-journal-retractions-prompts-calls-for-reform.html); [Economist 2013a](http://www.economist.com/news/leaders/21588069-scientific-research-has-changed-world-now-it-needs-change-itself-how-science-goes-wrong),[Economist 2013b](http://www.economist.com/news/briefing/21588057-scientists-think-science-self-correcting-alarming-degree-it-not-trouble)) press could\n",
      "be addressed, in part, by opening underlying data to scrutiny\n",
      "([Drew et al., 2013](http://dx.doi.org/10.1371/journal.pbio.1001636); [Collins & Tabak, 2014](http://dx.doi.org/10.1038/505612a)). Beyond confirming previous\n",
      "analyses, reuse of existing data cuts research costs ([Piwowar et al., 2011](http://dx.doi.org/10.1038/473285a))\n",
      "and allows new questions to be addressed ([Stewart, 2010](10.1098/rsbl.2009.0546); [Borenstein et al., 2011](http://books.google.com/books?id=JQg9jdrq26wC)). Despite the apparent enthusiasm for\n",
      "data sharing in principle, Ceci alleges that in practice, \u201csomething is\n",
      "amiss in the academy.\u201d\n",
      "\n",
      "Researchers frequently fail to make data available, even when they\n",
      "support the idea or are obliged to do so. Alsheikh-Ali et al. examined\n",
      "351 articles and found that 59% did not satisfy the data availability\n",
      "requirements of the journal that published them\n",
      "([Alsheikh-Ali, 2011](http://dx.doi.org/10.1371/journal.pone.0024357)). Vines et al. requested data from 516 articles\n",
      "published between 1991 and 2011 and obtained it less than half (47%) of\n",
      "the time ([Vines et al., 2014](http://dx.doi.org/10.1016/j.cub.2013.11.014)). Researchers themselves agree that\n",
      "this is a problem. In 1985, 59% of scientists surveyed by Ceci\n",
      "complained that their colleagues were disinclined to share data\n",
      "([Ceci, 1988](http://www.jstor.org/stable/690052)). Twenty-five years later, 67% of respondents to an\n",
      "international survey by the [Data Observation Network for Earth](https://www.dataone.org/) (DataONE) affirmed that \u201c[l]ack of access to data generated by other researchers\n",
      "or institutions is a major impediment to progress in science\u201d and 50%\n",
      "felt that their own research had suffered ([Tenopir et al., 2011](http://dx.doi.org/10.1371/journal.pone.0021101)). That same\n",
      "year, fewer than half of the 65% of Cal Poly faculty who agreed that\n",
      "data sharing is important followed through to share their own data\n",
      "([Scaramozzino et al., 2012](http://crl.acrl.org/content/73/4/349.full.pdf)).\n",
      "\n",
      "Why do researchers who believe in the importance of sharing data fail to\n",
      "carry through? Previous surveys unearthed a number of reasons: concern\n",
      "about the ethical and legal issues around human subject data, mistrust\n",
      "that others have the expertise to use the data appropriately, hope of\n",
      "wringing additional articles from the data, and fear that the data will\n",
      "be \u201cstolen\u201d without credit or acknowledgment. For example, researchers\n",
      "brought up ethical concerns in reports from the [Research Information Network](http://www.rin.ac.uk/) (RIN) in 2008 and EAGDA in 2014; in the 2014 report, this was\n",
      "the second most frequently mentioned constraint (by 55% of respondents)\n",
      "([Swan & Brown, 2008](http://eprints.ecs.soton.ac.uk/16742); [Bobrow et al., 2014](http://www.wellcome.ac.uk/stellent/groups/corporatesite/@msh_peda/documents/web_document/wtp056495.pdf)). The risk of losing\n",
      "publications from premature sharing came up in 60% of a series of\n",
      "interviews of United States (US) scientists in 2012, more than any other\n",
      "risk; fear of \u201cdata theft\u201d was mentioned in 32% of the interviews\n",
      "([Kim & Stanton, 2012](http://www.shodor.org/media/content/jocse/volume3/issue1/jocse_volume3_issue1#page=53)). However, by far the most consistent reason\n",
      "given is that preparing and documenting data to a high enough standard\n",
      "to be useful just takes too much time.\n",
      "\n",
      "In the UK, the RIN report described lack of time as a major constraint\n",
      "([Swan & Brown, 2008](http://eprints.ecs.soton.ac.uk/16742)), and it was mentioned by 66% of respondents to EAGDA,\n",
      "more than any other constraint ([Bobrow et al., 2014](http://www.wellcome.ac.uk/stellent/groups/corporatesite/@msh_peda/documents/web_document/wtp056495.pdf)). Time was\n",
      "brought up by 44% of respondents to Kim and Stanton\u2019s survey\n",
      "([Kim & Stanton, 2012](http://www.shodor.org/media/content/jocse/volume3/issue1/jocse_volume3_issue1#page=53)), more than any other cost. It was the most\n",
      "frequent reason for not sharing data in the multidisciplinary DataONE\n",
      "survey (named by 54% of respondents) ([Tenopir et al., 2011](http://dx.doi.org/10.1371/journal.pone.0021101)) and the second\n",
      "most frequent in a follow-up survey of astrobiologists (named by 22%)\n",
      "([Aydinoglu et al., 2014](http://dx.doi.org/10.1089/ast.2013.1127)). Time investment was the second most frequently\n",
      "raised objection to data sharing in a 2012 survey of biodiversity\n",
      "researchers and the \u201cmost violently discussed obstacle\u201d in associated\n",
      "interviews ([Enke et al., 2012](http://dx.doi.org/10.1016/j.ecoinf.2012.03.004)).\n",
      "\n",
      "Although the process of preparing and documenting data for sharing could\n",
      "undoubtedly be streamlined with better planning, education, and tools,\n",
      "it will always take time and effort. The underlying problem is that this\n",
      "time and effort is not rewarded. Lack of acknowledgment was the third\n",
      "most popular objection in the biodiveristy survey and $\\sim$2/3 of\n",
      "respondents would be more likely to share if they were recognized or\n",
      "credited when their data is used. In the EAGDA report, 55% of\n",
      "respondents said that lack of tangible recognition and rewards\n",
      "constrains data sharing, and at least 75% of respondents felt that the\n",
      "UK [Research Excellence Framework](http://www.ref.ac.uk/) (REF) does not recognize data to some\n",
      "or great extent relative to publications, but that it should. The need to compensate researchers who share data with scholarly prestige is a major driver of the movement toward data publication.\n"
     ]
    },
    {
     "cell_type": "heading",
     "level": 3,
     "metadata": {},
     "source": [
      "Data Publication"
     ]
    },
    {
     "cell_type": "markdown",
     "metadata": {},
     "source": [
      "Data publication appropriates familiar terminology (\"publication,\" \"peer review\") from the scholarly literature in order to insinuate data into the existing academic reward system ([Costello, 2009](http://dx.doi.org/10.1525/bio.2009.59.5.9); [Lawrence et al., 2011](http://dx.doi.org/10.2218/ijdc.v6i2.205); [Atici et al., 2012](http://dx.doi.org/10.1007/s10816-012-9132-9)).\n",
      "The model of data publication that most closely mimics the existing literature is the data paper.\n",
      "Data papers describe datasets, including the rationale and collections methods, without offering any analysis or conclusions ([Newman & Cork, 2009](http://dx.doi.org/10.1007/s10816-012-9132-9); [Callaghan et al., 2013](http://dx.doi.org/10.2218/ijdc.v8i1.253)).\n",
      "Data papers appear in existing journals like [*F1000Research*](http://f1000research.com/)  and [*Internet Archaeology*](http://intarch.ac.uk/) as well as new dedicated journals such as [*Earth System Science Data*](http://www.earth-system-science-data.net/), [*Geoscience Data Journal*](http://onlinelibrary.wiley.com/journal/10.1002/%28ISSN%292049-6060) ([Allan, 2014](http://dx.doi.org/10.1002/gdj3.3)), and Nature Publishing Group's [*Scientific Data*](http://www.nature.com/sdata/)-- which describes itself concisely as [\"a publication venue that credits scientists who share and explain their data\"](http://www.nature.com/articles/sdata201410).\n",
      "Data papers are invariably peer-reviewed based on the dataset; its description; and whether the two form a complete, consistent, and useable package ([Lawrence et al., 2011](http://dx.doi.org/10.2218/ijdc.v6i2.205)).\n",
      "The appeal of data papers is straightforward: they are unquestionably peer-reviewed papers, so academia knows how (if perhaps not how much) to value them.\n",
      "\n",
      "However, other data-publishing approaches abound.\n",
      "Data publishers include repositories such as [Dryad](http://www.datadryad.org/), [figshare](http://figshare.com/), and [Zenodo](http://zenodo.org/) where researchers can self-deposit any kind of research data with light documentation requirements and minimal validation. \n",
      "Dryad requires that data be associated with a \"reputable\" publication, while figshare and Zenodo are completely open.\n",
      "Domain-specific repositories frequently have more stringent documentation requirements and access to the domain knowledge needed for thorough evaluation.\n",
      "For instance, the [National Snow and Ice Data Center](http://nsidc.org/) (NSIDC) evaluates incoming data in a complex process involving both internal reviewers with technical expertise and external peers with domain knowledge ([Weaver & Duerr, 2012](http://nsidc.org/daac/daac-data-accpetance-plan.pdf)).\n",
      "As a final example, [Open Context](opencontext.org) publishes carefully processed and richly annotated archaeology data, some of which passes through editorial and peer review ([Kansa & Kansa, 2012](http://dx.doi.org/10.1353/ema.2013.0007)).\n",
      "One thing that all of these publishers have in common is that they endeavor to make datasets formally citable (in part through assignment of stable identifiers) as a means to credit the creators.\n",
      "\n",
      "The variety of forms of data publication attests to a general shortage of consensus on what, exactly, it means to publish data.\n",
      "Noting a lack of both consensus and interest on the part of researchers, the RIN report of 2008 adopted a deliberately minimal definition: \"making datasets publicly available\" ([Swan & Brown, 2008](http://eprints.ecs.soton.ac.uk/16742)).\n",
      "While eminently practical, this definition does not do much to distinguish publication from sharing (except for ruling out certain channels) or to advance its prestige.\n",
      "More recently, [Callaghan et al. (2013)](http://dx.doi.org/10.2218/ijdc.v7i1.218) suggested distinguishing between <u>p</u>ublished (available), and <u>P</u>ublished (also citable and peer-reviewed) data.\n",
      "We have argued that the consensus in the scholarly communications community\u2013 publishers, librarians, curators\u2013 is that published data is openly available, documented, and citable, but that what kind of validation (if any) is required to qualify is still an open question ([Kratz & Strasser, 2014](http://dx.doi.org/10.12688/f1000research.3979.3)).\n",
      "It is easy to forget, however, that what data publication means to the scholarly communication community is substantially irrelevant.\n",
      "The point of calling data made public through whatever particular process \"published\" is to exploit the meaning of the word to researchers; the important definition is what data publication means to them. \n",
      "This paper surveys researchers to explore these kinds of semantic gaps between the scholarly communication community and researchers and seeks to ensure that researcher expectations are more obvious, so that data publishers can maximize the return on their efforts.  \n",
      "\n",
      "Researchers have been surveyed about sharing data many times this decade, but not about data publication ([Harley et al., 2010](http://escholarship.org/uc/item/15x7385g); [Westra, 2010](http://www.ariadne.ac.uk/print/issue64/westra); [Tenopir et al., 2011](http://dx.doi.org/10.1371/journal.pone.0021101); [Kim & Stanton, 2012](http://www.shodor.org/media/content/jocse/volume3/issue1/jocse_volume3_issue1#page=53);  [Scaramozzino et al., 2012](http://crl.acrl.org/content/73/4/349); [Williams, 2013](http://dx.doi.org/10.7191/jeslib.2013.1048); [Bobrow et al., 2014](http://www.wellcome.ac.uk/stellent/groups/corporatesite/@msh_peda/documents/web_document/wtp056495.pdf); [Strasser et al., 2014](http://dx.doi.org/10.12688/f1000research.3-6.v2)).\n",
      "The RIN report of 2008 is the most recent survey to ask researchers about data publication; while the conclusions are undeniably valuable it uses the term broadly enough that it is difficult to make any distinction between attitudes towards sharing data and publishing it ([Swan & Brown, 2008](http://eprints.ecs.soton.ac.uk/16742)).\n",
      "Consequently, open questions abound: What would a researcher expect data publication to mean?\n",
      "What about peer review of a dataset? Do current models satisfy those expectations? What potential features of a data publication would be useful for evaluating the quality of the data? For evaluating the contribution of the creator(s)? To get this critical perspective we conducted an online survey of active researcher perceptions of data publication."
     ]
    },
    {
     "cell_type": "heading",
     "level": 2,
     "metadata": {},
     "source": [
      "Methods"
     ]
    },
    {
     "cell_type": "markdown",
     "metadata": {},
     "source": [
      "[Abstract](#Abstract) | [Introduction](#Introduction) | [Methods](#Methods) | [Results](#Results) | [Discussion](#Discussion)"
     ]
    },
    {
     "cell_type": "markdown",
     "metadata": {},
     "source": [
      "[Ethics statement](#Ethics-statement) | [Survey design](#Survey-design) | [Data processing and analysis](#Data-processing-and-analysis) | [Configuration](#Configuration) | [Graphing functions](#Graphing functions)"
     ]
    },
    {
     "cell_type": "heading",
     "level": 3,
     "metadata": {},
     "source": [
      "Ethics statement"
     ]
    },
    {
     "cell_type": "markdown",
     "metadata": {},
     "source": [
      "All results were drawn from a survey approved by the University of\n",
      "California, Berkeley Committee for Protection of Human Subjects/Office\n",
      "for the Protection of Human Subjects (protocol ID 2013-11-5841).\n",
      "Respondents completed the survey anonymously. Researchers affiliated\n",
      "with the University of California (UC) could supply an email address for\n",
      "follow-up assistance with data publication, but neither the fact of\n",
      "affiliation nor any UC-specific information was used in this analysis."
     ]
    },
    {
     "cell_type": "heading",
     "level": 3,
     "metadata": {},
     "source": [
      "Survey design"
     ]
    },
    {
     "cell_type": "markdown",
     "metadata": {},
     "source": [
      "The survey contained 34 questions in three categories: demographics,\n",
      "data sharing interest and experience, and data publication perceptions. Demographic questions collected information on\n",
      "respondent\u2019s country, type of institution, research role, and\n",
      "discipline. Questions to assess respondent\u2019s existing knowledge of data\n",
      "sharing and publication focused on knowledge of several relevant US\n",
      "governmental policies and an invitation to name data journals. Data\n",
      "publication perceptions consisted of \u201cmark all that apply\u201d questions\n",
      "concerning definitions of data publication and peer review and Likert\n",
      "scale questions about the value of various possible features of a data\n",
      "publication. The number of required questions was kept to a minimum.\n",
      "Some questions were displayed dynamically based on previous answers.\n",
      "Consequently, _n_ varies considerably from question to question.\n",
      "\n",
      "The survey was administered as a Google Form, officially open from\n",
      "January 22 to February 28 of 2014; two late responses received in March\n",
      "were included in the analysis. Solicitations were distributed via social\n",
      "media (Twitter, Facebook, Google+), emails to listservs, and a [blog post\n",
      "on Data Pub](http://datapub.cdlib.org/2014/01/22/data-publication-practices-and-perceptions/)."
     ]
    },
    {
     "cell_type": "heading",
     "level": 3,
     "metadata": {},
     "source": [
      "Data processing and analysis"
     ]
    },
    {
     "cell_type": "markdown",
     "metadata": {},
     "source": [
      "Although the topic of the survey is benign and identification would be\n",
      "unlikely to negatively impact respondents, light anonymization was\n",
      "performed prior to analysis and release of the response data. UC\n",
      "affiliation and answers to UC-specific questions were redacted.\n",
      "Respondent locations were grouped into United States and \u201cother.\u201d\n",
      "Questions that related to US policies were analyzed based on US\n",
      "respondents only; one questions about the NIH was analyzed based only on\n",
      "US biologists. Sub-disciplines with fewer than\n",
      "three respondents were re-coded with the corresponding discipline.\n",
      "Listed data journal names were standardized manually, and free text\n",
      "answers to other questions were replaced with \u201cother.\u201d Because few\n",
      "questions were required, \u201cmark all that apply\u201d questions with no reply\n",
      "at all were considered to be skipped.\n",
      "\n",
      "After anonymization, responses were filtered for analysis. Because the\n",
      "goal of the survey was to learn about researchers as distinct from the\n",
      "scholarly communication community, we exempted from analysis anyone who\n",
      "self-identified as a librarian or information scientist. To restrict the\n",
      "analysis to active researchers only, anyone who affirmed that they had\n",
      "not generated any data in the last five years was exempted; the 90 who\n",
      "respondents did not answer this question were retained. Finally,\n",
      "respondents without at least a Bachelors Degree were filtered out. In\n",
      "total, 32 respondents were removed before analysis, some by multiple\n",
      "criteria.\n",
      "\n",
      "Statistical significance was tested using Fisher\u2019s exact test where\n",
      "possible (i.e., for 2x2 tables) and contingency $\\chi^{2}$ in all other\n",
      "cases ([Agresti, 1992](http://dx.doi.org/10.1214/ss/1177011454)). A statistical significance cutoff of\n",
      "$\\alpha=0.05$ was used. When testing for e.g., effects of discipline or\n",
      "prior experience, each answer choice was tested separately, then the\n",
      "Bonferroni correction for multiple hypothesis testing was applied to\n",
      "adjust $\\alpha$ for that question; this is a conservative approach that\n",
      "may not detect subtle differences. Mathematicians were omitted from\n",
      "$\\chi^{2}$ significance testing for effects of discipline because their\n",
      "low $n$ led to unacceptably small expected count numbers. Odds Ratios\n",
      "(ORs) ([Szumilas, 2010](http://www.ncbi.nlm.nih.gov/pmc/articles/PMC2938757/)) and Fisher\u2019s exact test p-values were\n",
      "used to assess the relationships between items depicted in Figure\n",
      "5; to enable meaningful comparison, all ORs were\n",
      "calculated in the direction that yielded a value $\\geq1$."
     ]
    },
    {
     "cell_type": "heading",
     "level": 3,
     "metadata": {},
     "source": [
      "Configuration"
     ]
    },
    {
     "cell_type": "code",
     "collapsed": false,
     "input": [
      "%matplotlib inline\n",
      "import matplotlib.pyplot as plt\n",
      "import networkx as nx\n",
      "import numpy as np\n",
      "import pandas as pd\n",
      "import pylab\n",
      "import scipy as sp\n",
      "import scipy.stats as sps\n",
      "import seaborn as sns\n",
      "\n",
      "from IPython.display import display\n",
      "from math import sqrt\n",
      "from textwrap import wrap\n",
      "pylab.rcParams['figure.figsize'] = (14.0, 6.0)"
     ],
     "language": "python",
     "metadata": {},
     "outputs": [],
     "prompt_number": 1
    },
    {
     "cell_type": "heading",
     "level": 3,
     "metadata": {},
     "source": [
      "Utilities"
     ]
    },
    {
     "cell_type": "code",
     "collapsed": false,
     "input": [
      "def expand_checkbox(checkbox_column, options):\n",
      "    \"\"\"\n",
      "    checkbox_column = a series of lists of boxes checked in response to a question\n",
      "    options = a list the options available to check\n",
      "    \n",
      "    expand checkbox_column into a DataFrame of bools with index= respondents, columns= options\n",
      "    \"\"\"\n",
      "    return pd.DataFrame({option : checkbox_column.apply(lambda x: option in x) for option in options})\n",
      "\n",
      "def tuple_normalize(counts, n_responses):\n",
      "    \"\"\"\n",
      "    counts (tuple of ints): tuple of counts\n",
      "    n_responses (int): total number of respondents\n",
      "    \n",
      "    convert a pair (or more) of counts to percetages\n",
      "    \"\"\"\n",
      "    return map(lambda x: float(x) / n_responses * 100, counts)\n"
     ],
     "language": "python",
     "metadata": {},
     "outputs": [],
     "prompt_number": 2
    },
    {
     "cell_type": "code",
     "collapsed": false,
     "input": [
      "def interval_to_error(confidence_interval, center):\n",
      "    \"\"\"\n",
      "    confidence_interval (tuple): low, high relative to the origin\n",
      "    center: (int, float): measured value (e.g., mean)\n",
      "    returns the ci as a tuple relative to the center (i.e., minus, plus the mean)\n",
      "    \"\"\"\n",
      "    return tuple(map(lambda x: abs(float(x) - center), confidence_interval))\n",
      "    \n",
      "def split_interval(interval):\n",
      "    \"\"\"\n",
      "    split a confidence interval tuple and return as a 2-element Series\n",
      "    \"\"\"\n",
      "    return pd.Series(interval, index= ['low','high'])\n"
     ],
     "language": "python",
     "metadata": {},
     "outputs": []
    },
    {
     "cell_type": "heading",
     "level": 3,
     "metadata": {},
     "source": [
      "Graphing functions"
     ]
    },
    {
     "cell_type": "heading",
     "level": 4,
     "metadata": {},
     "source": [
      "Graph Styling"
     ]
    },
    {
     "cell_type": "code",
     "collapsed": false,
     "input": [
      "#set seaborn style\n",
      "sns.set_style(\"white\", \n",
      "              {'font.sans-serif': ['Helevetica', 'Liberation Sans', \n",
      "                                   'Bitstream Vera Sans', 'sans-serif'],\n",
      "               'axes.linewidth': 0,\n",
      "               'xtick.direction': 'in',\n",
      "               'xtick.major.size': 8.0})\n",
      "\n",
      "# max characters per line in graph labels\n",
      "LABEL_WIDTH = 25\n",
      "# color of x-axis\n",
      "AXIS_COLOR = '#808080'\n",
      "# color of checkbox bar graph bars\n",
      "BAR_COLOR = '#08519c'\n",
      "# color of confidence intervals\n",
      "INTERVAL_COLOR = '#949494'"
     ],
     "language": "python",
     "metadata": {},
     "outputs": [],
     "prompt_number": 22
    },
    {
     "cell_type": "code",
     "collapsed": false,
     "input": [
      "def apply_cdl_style(fig, axis_color=AXIS_COLOR):\n",
      "    fig.set_ylabel('')\n",
      "    sns.despine(ax=fig, left=True)\n",
      "    # get rid of weird dashed line\n",
      "    fig.lines[0].set_visible(False) \n",
      "    \n",
      "    #set font sizes\n",
      "    fig.tick_params(axis='x', width=2, labelsize=14, color=axis_color)\n",
      "    fig.tick_params(axis='y', labelsize=16)\n",
      "    \n",
      "    return fig"
     ],
     "language": "python",
     "metadata": {},
     "outputs": [],
     "prompt_number": 4
    },
    {
     "cell_type": "heading",
     "level": 4,
     "metadata": {},
     "source": [
      "Bootstrap functions to generate confidence intervals"
     ]
    },
    {
     "cell_type": "code",
     "collapsed": false,
     "input": [
      "def bootstrap_percentile_ci(data, n_samples=100000, alpha=0.05, stat_function=np.sum):\n",
      "    \"\"\"\n",
      "    Calculates a confidence interval for True/False count data and returns a tuple (low, high) \n",
      "    This is a straighforward percentile calculation\n",
      "    \n",
      "    data (numpy array): of bools to resample\n",
      "    num_samples (int): number of times to resample\n",
      "    alpha (float): 1 - desired confidence interval (e.g., 0.05 for 95%)\n",
      "    \n",
      "    returns a tuple (low, high)\n",
      "    \"\"\"\n",
      "    n_responses = len(data)\n",
      "    # get num_samples resampled arrays (of length n) of valid indicies for data\n",
      "    indicies = np.random.randint(0, n_responses, (n_samples, n_responses))\n",
      "    \n",
      "    # generate sorted array of desired stat in each resampled array\n",
      "    stats = [stat_function(data[x]) for x in indicies]\n",
      "    stats.sort()\n",
      "\n",
      "    # return stats at the edge of the 2.5 and 97.5 percentiles\n",
      "    return (stats[int((alpha/2.0)*n_samples)], stats[int((1-alpha/2.0)*n_samples)])\n",
      "\n",
      "\n",
      "def bootstrap_basic_ci(data, n_samples=100000, alpha=0.05, stat_function=np.sum):\n",
      "    \"\"\"\n",
      "    Calculates a confidence interval for True/False count data and returns a tuple (low, high)\n",
      "    Calls bootsrtap_percentile_ci and converts to a basic bootstrap\n",
      "    \n",
      "    data (numpy array): of bools to resample\n",
      "    num_samples (int): number of times to resample\n",
      "    alpha (float): 1 - desired confidence interval (e.g., 0.05 for 95%)\n",
      "    \n",
      "    returns a tuple (low, high)\n",
      "    \"\"\"\n",
      "    double_observed = 2 * stat_function(data)\n",
      "    high, low = bootstrap_percentile_ci(data, n_samples=n_samples, alpha=alpha, stat_function=stat_function)\n",
      "\n",
      "    return (double_observed - low, double_observed - high)\n"
     ],
     "language": "python",
     "metadata": {},
     "outputs": [],
     "prompt_number": 5
    },
    {
     "cell_type": "heading",
     "level": 4,
     "metadata": {},
     "source": [
      "Graph answers to check box \"check all that apply\" questions."
     ]
    },
    {
     "cell_type": "code",
     "collapsed": false,
     "input": [
      "def graph_checkbox(question, answers, bar_color=BAR_COLOR, interval_color=INTERVAL_COLOR):\n",
      "    split_checkbox = responses[question].dropna()\n",
      "\n",
      "    # checkbox_responses== DataFrame of bools where index=individual respondents, columns=answer choices\n",
      "    checkbox_responses = expand_checkbox(split_checkbox, answers)\n",
      "    \n",
      "    # sum checked boxes in each column; response_counts== Series with values=sums, index=answer choices\n",
      "    response_counts = checkbox_responses.sum()\n",
      "    \n",
      "    # resample and sum from each column to bootstrap a confidence interval\n",
      "    # count_confidence_intervals== Series with values= tuples (low, high), index=answer choices\n",
      "    count_confidence_intervals = checkbox_responses.apply(lambda x: bootstrap_basic_ci(np.array(x)))\n",
      "    \n",
      "    #print checkbox_responses.apply(lambda x: bootstrap_percentile_ci(np.array(x))).apply(tuple_normalize, args=([len(checkbox_responses)]))\n",
      "    #print checkbox_responses.apply(lambda x: bootstrap_basic_ci(np.array(x))).apply(tuple_normalize, args=([len(checkbox_responses)]))\n",
      "    \n",
      "    #normalize response_counts to percentage of total respondents to the question and sort\n",
      "    response_counts = response_counts.apply(lambda x: float(x) / len(checkbox_responses) * 100)\n",
      "    response_counts.sort(ascending=True)\n",
      "    \n",
      "    #normalize confidence intervals to percentages\n",
      "    count_confidence_intervals = count_confidence_intervals.apply(tuple_normalize, args=([len(checkbox_responses)]))\n",
      "    \n",
      "    \n",
      "    #convert absolute interval values to distance below and above the observed value\n",
      "    for index in count_confidence_intervals.index.values:\n",
      "        count_confidence_intervals.loc[index] = interval_to_error(count_confidence_intervals.loc[index], \n",
      "                                                                  response_counts.loc[index])\n",
      "    \n",
      "    #split interval tuples into 2 element Series\n",
      "    count_confidence_intervals = count_confidence_intervals.apply(split_interval)\n",
      "    \n",
      "    response_counts.index = [ '\\n'.join(wrap(i, LABEL_WIDTH)) for i in response_counts.index ]\n",
      "\n",
      "    fig = response_counts.plot(kind='barh', color=bar_color, edgecolor='w', \n",
      "                               grid=False, xlim=(0,100), fontsize=14)\n",
      "    \n",
      "    fig.errorbar(response_counts.as_matrix()[::-1], np.arange(len(response_counts))[::-1], \n",
      "                 xerr=count_confidence_intervals.T.as_matrix(),\n",
      "                 fmt='none', ecolor=interval_color, alpha=0.65, elinewidth=2, capsize=12, capthick=2)\n",
      "    \n",
      "    \n",
      "    apply_cdl_style(fig)\n",
      "\n",
      "    fig.get_figure().set_size_inches(14., 2. * len(response_counts.index))    \n",
      "    return fig, response_counts\n",
      "    "
     ],
     "language": "python",
     "metadata": {},
     "outputs": [],
     "prompt_number": 25
    },
    {
     "cell_type": "heading",
     "level": 4,
     "metadata": {},
     "source": [
      "Graph interrelationships between check box \"check all that apply\" answers"
     ]
    },
    {
     "cell_type": "code",
     "collapsed": false,
     "input": [
      "def graph_fisher_exact(question, answers, alpha=0.05, labels=None, edge_color=BAR_COLOR):\n",
      "    \n",
      "    checkbox_responses = expand_checkbox(question.dropna(), answers)\n",
      "\n",
      "    fig=nx.Graph()\n",
      "    fig.add_nodes_from(checkbox_responses.columns)\n",
      "    pos = nx.circular_layout(fig, scale=10000)\n",
      "\n",
      "    nx.draw_networkx_nodes(fig, pos, node_size=5000, node_color='#cdcdcd', linewidths=0)\n",
      "    nx.draw_networkx_labels(fig, pos, labels=labels, fontsize=10, font_family='serif')\n",
      "    \n",
      "    i = 0\n",
      "    for a in checkbox_responses.columns:\n",
      "        i += 1\n",
      "        for b in checkbox_responses.columns[i:]:\n",
      "            square = pd.DataFrame({ 0 : 0, 0 : 0}, index=[True, False], columns=[True, False])        \n",
      "        \n",
      "            # fill in counts\n",
      "            square[True] = (checkbox_responses[checkbox_responses[a] == True][b].value_counts())\n",
      "            square[False] = (checkbox_responses[checkbox_responses[a] == False][b].value_counts())\n",
      "\n",
      "            odds_ratio, p = sps.fisher_exact(square.as_matrix())\n",
      "            \n",
      "            e_color = edge_color\n",
      "            if odds_ratio < 1:\n",
      "                odds_ratio, p = sps.fisher_exact(square.T.as_matrix())\n",
      "                e_color = 'r'\n",
      "            \n",
      "            how_significant = 0.5 if p > alpha else 1.0\n",
      "            \n",
      "            nx.draw_networkx_edges(fig, pos, edgelist=[(a,b)], width=odds_ratio, edge_color=e_color, alpha=how_significant)\n",
      "\n",
      "    plt.axis('off')\n",
      "    return fig"
     ],
     "language": "python",
     "metadata": {},
     "outputs": [],
     "prompt_number": 23
    },
    {
     "cell_type": "heading",
     "level": 4,
     "metadata": {},
     "source": [
      "Graph answers to Likert-scale (i.e., rate from 1 to 5) questions"
     ]
    },
    {
     "cell_type": "code",
     "collapsed": false,
     "input": [
      "def graph_likert(questions, answers, filter_on_column=None, filter_value=None, \n",
      "                 interval_color=INTERVAL_COLOR):\n",
      "    \n",
      "    if filter_on_column:\n",
      "        responses_ft = responses[responses[filter_on_column] == filter_value]\n",
      "    else:\n",
      "        responses_ft = responses\n",
      "    \n",
      "    collected_counts = pd.DataFrame(index=answers)\n",
      "    stats = pd.DataFrame(index=questions,columns=['mean', 'ci'])\n",
      "\n",
      "    # set up dict for converstion from likert scale (e.g., 1-5) to 0-100%\n",
      "    number_of_answers = len(answers) \n",
      "    answer_to_value = dict(zip(answers, np.arange(number_of_answers)/float(number_of_answers - 1)*100)) \n",
      "    \n",
      "    for column in questions:\n",
      "        collected_counts[column] = responses_ft[column].value_counts().dropna()\n",
      "       \n",
      "        #scale responses to go from 0 to 100\n",
      "        likert_values = responses[column].dropna().map(answer_to_value)\n",
      "        \n",
      "        #cacluate mean and 95% confidence interval\n",
      "        stats['mean'].loc[column] = likert_values.mean() \n",
      "        stats['ci'].loc[column] = bootstrap_basic_ci(np.array(likert_values), stat_function=np.mean)\n",
      "        \n",
      "    #sort stats and collected_counts by the mean   \n",
      "    stats = stats.sort_index(axis=0, by='mean', ascending=True)\n",
      "    collected_counts = collected_counts.T.reindex(index=stats.index)\n",
      "    collected_counts = collected_counts.div(collected_counts.sum(1).astype(float)/100, axis = 0) \n",
      "    \n",
      "    #convert absolute interval values to distance below and above the observed value\n",
      "    for index in stats.index.values:\n",
      "        stats['ci'].loc[index] = interval_to_error(stats['ci'].loc[index], stats['mean'].loc[index])\n",
      "\n",
      "    #split interval tuples into 2 element Series\n",
      "    stats['ci'] = stats['ci'].apply(split_interval)\n",
      "    \n",
      "    collected_counts.index = [ '\\n'.join(wrap(i, LABEL_WIDTH)) for i in collected_counts.index ]\n",
      "   \n",
      "    #plot percentages of each response\n",
      "    fig = collected_counts.plot(kind='barh', stacked=True, grid=False, \n",
      "                                color=sns.color_palette(\"Blues\", len(collected_counts.columns)),\n",
      "                                xlim = (0,100), edgecolor='w', linewidth=2) \n",
      "    \n",
      "    # plot mean and 95% confidence interval\n",
      "    fig.plot(stats['mean'], np.arange(len(stats)), marker='o', color='w',axes=fig, \n",
      "             markersize=25, markeredgewidth=0, linewidth=0)\n",
      "    \n",
      "    fig.errorbar(stats['mean'].as_matrix()[::-1], np.arange(len(stats))[::-1], xerr=stats['ci'],\n",
      "                 fmt='none', ecolor=interval_color, alpha=0.65, elinewidth=2, capsize=12, capthick=2)\n",
      "    \n",
      "    fig.legend(bbox_to_anchor=(0., -0.02, 1., -0.03), loc='upper left', ncol=number_of_answers, mode=\"expand\",\n",
      "                    borderaxespad=0., fontsize=14)\n",
      "    \n",
      "    apply_cdl_style(fig)\n",
      "    \n",
      "    fig.get_figure().set_size_inches(14., 2. * len(collected_counts.index))\n",
      "    \n",
      "    return fig"
     ],
     "language": "python",
     "metadata": {},
     "outputs": [],
     "prompt_number": 26
    },
    {
     "cell_type": "heading",
     "level": 3,
     "metadata": {},
     "source": [
      "Statistical robustness"
     ]
    },
    {
     "cell_type": "markdown",
     "metadata": {},
     "source": [
      "The robustness of all significant results was confirmed using a\n",
      "jackknife procedure in which the test was repeated systematically with\n",
      "each respondent removed; in no cases did the absence of a single\n",
      "respondent raise the p-value above the designated significance\n",
      "threshold. Error bars represent 95% basic bootstrap confidence intervals\n",
      "(10,000 resamples) of the mean response in Figure 5\n",
      "and the percentage of positive responses in all other figures. To\n",
      "facilitate comparison, $\\chi^{2}$ effects were measured as Cram\u00e9r\u2019s V\n",
      "($\\Phi_{C}$) ([Cram\u00e9r, 1999](http://books.google.com/books?hl=en&lr=&id=CRTKKaJO0DYC&oi=fnd&pg=PA1&dq=Mathematical+Methods+of+Statistics,&ots=9iST5YL-xY&sig=jwQ6AVrSpl3gZpKED9LLD7Ionwc))."
     ]
    },
    {
     "cell_type": "heading",
     "level": 4,
     "metadata": {},
     "source": [
      "Permutation"
     ]
    },
    {
     "cell_type": "code",
     "collapsed": false,
     "input": [
      "def jacknife(data_frame, axis=0):\n",
      "    \"\"\"\n",
      "    returns a list of DataFrames, with each row (or column) of data_frame missing in turn\n",
      "    \n",
      "    data_frame (data frame)\n",
      "    axis (int): 0 for rows, 1 for columns\n",
      "    \n",
      "    \"\"\"\n",
      "    frame_list = []\n",
      "    if axis == 0:\n",
      "        for index in data_frame.index:\n",
      "            frame_list.append(data_frame.drop(index))\n",
      "    if axis == 1:\n",
      "        for column in data_frame.columns:\n",
      "            frame_list.append(data_frame.drop(column))\n",
      "    \n",
      "    return frame_list\n",
      "\n",
      "jacknifed_responses = jacknife(responses)"
     ],
     "language": "python",
     "metadata": {},
     "outputs": [],
     "prompt_number": 49
    },
    {
     "cell_type": "code",
     "collapsed": false,
     "input": [
      "def combinatorial_fisher_exact_power(checkbox_responses):\n",
      "    \"\"\"\n",
      "    checkbox_responses should be a DataFrame in format:\n",
      "                answer1 answer2 ...\n",
      "    respondent1 T/F     T/F\n",
      "    respondent2 T/F     T/F\n",
      "    ...\n",
      "    \n",
      "    returns a DataFrame in format:\n",
      "                option1         option2       ...\n",
      "                OR     p-value  OR    p-value\n",
      "    option1     NaN    NaN      #>1   #\n",
      "    option2     #>1    #        NaN   NaN     ...\n",
      "    ...\n",
      "    \n",
      "    all ORs are calculated to be >1, returned frame is diagonally symmetrical \n",
      "    \"\"\"\n",
      "    return_columns = pd.MultiIndex.from_product([checkbox_responses.columns, \n",
      "                                                 ['OR', 'p-value', 'p1', 'p2', 'n1', 'n2']])\n",
      "    \n",
      "    return_frame = pd.DataFrame(index=checkbox_responses.columns, columns=return_columns)\n",
      "    \n",
      "    i = 0\n",
      "    for a in checkbox_responses.columns:\n",
      "        i += 1\n",
      "        for b in checkbox_responses.columns[i:]:\n",
      "            square = pd.DataFrame({ 0 : 0, 0 : 0}, index=[True, False], columns=[True, False])        \n",
      "        \n",
      "            # fill in counts\n",
      "            square[True] = (checkbox_responses[checkbox_responses[a] == True][b].value_counts())\n",
      "            square[False] = (checkbox_responses[checkbox_responses[a] == False][b].value_counts())\n",
      "\n",
      "            odds_ratio, p = sps.fisher_exact(square.as_matrix())\n",
      "            \n",
      "            if odds_ratio < 1:\n",
      "                odds_ratio, p = sps.fisher_exact(square.T.as_matrix())\n",
      "                \n",
      "            \n",
      "            return_frame.loc[a,(b,'OR')] = return_frame.loc[b,(a,'OR')] = odds_ratio\n",
      "            return_frame.loc[a,(b,'p-value')] = return_frame.loc[b,(a,'p-value')]= p\n",
      "            return_frame.loc[a,(b, 'n1')] = square[True][True] + square[True][False]\n",
      "            return_frame.loc[a,(b, 'n2')] = square[False][True] + square[False][False]\n",
      "            return_frame.loc[a,(b, 'p1')] = square[True][True] / float(return_frame.loc[a,(b, 'n1')])\n",
      "            return_frame.loc[a,(b, 'p2')] = square[False][True] / float(return_frame.loc[a,(b, 'n2')])\n",
      "\n",
      "    return return_frame\n",
      "\n",
      "                    \n",
      "def checkbox_fisher_exact_power(question, answers):\n",
      "    \n",
      "    # DF of bools; responders x checkbox (checked = True) \n",
      "    checkbox_responses = expand_checkbox(question.dropna(), answers)\n",
      "    \n",
      "    # DF of True and False counts for each checkbox\n",
      "    count_table = checkbox_responses.apply(lambda x: x.value_counts()).T\n",
      "    \n",
      "    return combinatorial_fisher_exact_power(checkbox_responses)"
     ],
     "language": "python",
     "metadata": {},
     "outputs": [],
     "prompt_number": 50
    },
    {
     "cell_type": "code",
     "collapsed": false,
     "input": [
      "def jacknifed_fisher_exact(question, answers):\n",
      "         \n",
      "    checkbox_responses = expand_checkbox(question.dropna(), answers)\n",
      "\n",
      "    jk_responses = jacknife(checkbox_responses)\n",
      "\n",
      "    jk_results = [combinatorial_fisher_exact(frame) for frame in jk_responses]\n",
      "\n",
      "    return jk_results\n",
      "\n",
      "\n",
      "def jacknife_fisher_exact_effect(jacknifed_frames, reference_frame, alpha=0.05, statistic='p-value'):\n",
      "        reference_significance = reference_frame.xs(statistic, level=1, axis=1).apply(lambda x: x < alpha)\n",
      "        \n",
      "        #display(jacknifed_frames)\n",
      "        sig_frames = [frame.xs(statistic, level=1, axis=1).apply(lambda x: x < alpha) for frame in jacknifed_frames]\n",
      "        filter_frames = [frame != reference_significance for frame in sig_frames]\n",
      "        filter_panel = pd.Panel(dict(zip(np.arange(0,len(filter_frames)-1), filter_frames)))\n",
      "        return filter_panel.sum(axis=0)\n",
      "    \n",
      "def jacknife_effect_1d(jacknifed_results_frames, reference_frame, statistic='p', alpha=0.05):\n",
      "        # apply significance threshold to the reference frame\n",
      "        reference_significance = reference_frame.xs(statistic, axis=1).apply(lambda x: x < alpha)\n",
      "        \n",
      "        # apply significance threshold to each jacknifed frame\n",
      "        sig_frames = [frame.xs(statistic, axis=1).apply(lambda x: x < alpha) for frame in jacknifed_results_frames]\n",
      "        \n",
      "        # compare jacknifed frames to reference\n",
      "        filter_frames = [frame != reference_significance for frame in sig_frames]\n",
      "                        \n",
      "        # build panel of filter_frames\n",
      "        filter_results = pd.DataFrame.from_dict(dict(zip(np.arange(0,len(filter_frames)-1), filter_frames)))\n",
      "        \n",
      "        # sum differences for each cell and return\n",
      "        return filter_results.sum(axis=1)"
     ],
     "language": "python",
     "metadata": {},
     "outputs": [],
     "prompt_number": 51
    },
    {
     "cell_type": "heading",
     "level": 3,
     "metadata": {},
     "source": [
      "Read in and filter data"
     ]
    },
    {
     "cell_type": "markdown",
     "metadata": {},
     "source": [
      "To limit analysis to active researchers, filter out librarians, undergraduates, and respondents who said that they had not generated any data in the last 5 years."
     ]
    },
    {
     "cell_type": "code",
     "collapsed": false,
     "input": [
      "EXCLUDE = {'role' : 'Librarian', 'discipline' : 'Information science', \n",
      "           'highest_degree' : 'Highschool', 'generated_data' : 'No'}\n",
      "\n",
      "responses = pd.read_csv('../Tables/DataPubSurvey_anon.csv')\n",
      "\n",
      "for column, value in EXCLUDE.items():\n",
      "    responses = responses[responses[column] != value]\n"
     ],
     "language": "python",
     "metadata": {},
     "outputs": [],
     "prompt_number": 9
    },
    {
     "cell_type": "markdown",
     "metadata": {},
     "source": [
      "Consolidate fine-grained sub-discipline answers into larger disciplines."
     ]
    },
    {
     "cell_type": "code",
     "collapsed": false,
     "input": [
      "DISCIPLINE_MAP = {'Anthropology' : 'Social science',\n",
      "                  'Archaeology' : 'Archaeology',\n",
      "                  'Area studies' : 'Social science',\n",
      "                  'Economics' : 'Social science',\n",
      "                  'Political science' : 'Social science',\n",
      "                  'Psychology' : 'Social science',\n",
      "                  'Sociology' : 'Social science',\n",
      "                  'Astronomy' : 'Space science',\n",
      "                  'Astrophysics' : 'Space science',\n",
      "                  'Environmental Science' : 'Environmental science',\n",
      "                  'Geology' : 'Earth science',\n",
      "                  'Oceanography' : 'Environmental science',\n",
      "                  'Planetary science' : 'Earth science',\n",
      "                  'Biochemistry' : 'Biology',\n",
      "                  'Bioinformatics' : 'Biology',\n",
      "                  'Biology' : 'Biology',\n",
      "                  'Evolutionary Biology' : 'Biology',\n",
      "                  'Neurobiology' : 'Biology',\n",
      "                  'Social science' : 'Social science',\n",
      "                  'Space science' : 'Space science',\n",
      "                  'Earth science' : 'Earth science',\n",
      "                  'Life science' : 'Biology',\n",
      "                  'Chemistry' : 'Physical science',\n",
      "                  'Physics' : 'Physical science',\n",
      "                  'Computer science' : 'Computer science',\n",
      "                  'Mathematics' : 'Mathematics',\n",
      "                  'Information science' : 'Information science',\n",
      "                  'Other' : 'Other'}\n",
      "\n",
      "responses.discipline= responses.discipline.map(DISCIPLINE_MAP).dropna()"
     ],
     "language": "python",
     "metadata": {},
     "outputs": [],
     "prompt_number": 10
    },
    {
     "cell_type": "heading",
     "level": 2,
     "metadata": {},
     "source": [
      "Results"
     ]
    },
    {
     "cell_type": "markdown",
     "metadata": {},
     "source": [
      "[Abstract](#Abstract) | [Introduction](#Introduction) | [Methods](#Methods) | [Results](#Results) | [Discussion](#Discussion)"
     ]
    },
    {
     "cell_type": "heading",
     "level": 3,
     "metadata": {},
     "source": [
      "Demographics"
     ]
    },
    {
     "cell_type": "heading",
     "level": 4,
     "metadata": {},
     "source": [
      "**Table 1.** Demographic breakdown of the 249 researchers whose responses are analyzed here."
     ]
    },
    {
     "cell_type": "code",
     "collapsed": false,
     "input": [
      "DEMOGRAPHICS = ['discipline', 'highest_degree', 'role','institution']\n",
      "\n",
      "for column in DEMOGRAPHICS:\n",
      "    count = responses[column].value_counts()\n",
      "    percentages = 100 * count.apply(lambda x: float(x) / count.sum())\n",
      "    display(pd.DataFrame([count, percentages], index=['count', 'percent']).T)"
     ],
     "language": "python",
     "metadata": {},
     "outputs": [
      {
       "html": [
        "<div style=\"max-height:1000px;max-width:1500px;overflow:auto;\">\n",
        "<table border=\"1\" class=\"dataframe\">\n",
        "  <thead>\n",
        "    <tr style=\"text-align: right;\">\n",
        "      <th></th>\n",
        "      <th>count</th>\n",
        "      <th>percent</th>\n",
        "    </tr>\n",
        "  </thead>\n",
        "  <tbody>\n",
        "    <tr>\n",
        "      <th>Biology</th>\n",
        "      <td> 91</td>\n",
        "      <td> 36.842105</td>\n",
        "    </tr>\n",
        "    <tr>\n",
        "      <th>Social science</th>\n",
        "      <td> 32</td>\n",
        "      <td> 12.955466</td>\n",
        "    </tr>\n",
        "    <tr>\n",
        "      <th>Archaeology</th>\n",
        "      <td> 31</td>\n",
        "      <td> 12.550607</td>\n",
        "    </tr>\n",
        "    <tr>\n",
        "      <th>Environmental science</th>\n",
        "      <td> 27</td>\n",
        "      <td> 10.931174</td>\n",
        "    </tr>\n",
        "    <tr>\n",
        "      <th>Other</th>\n",
        "      <td> 21</td>\n",
        "      <td>  8.502024</td>\n",
        "    </tr>\n",
        "    <tr>\n",
        "      <th>Physical science</th>\n",
        "      <td> 18</td>\n",
        "      <td>  7.287449</td>\n",
        "    </tr>\n",
        "    <tr>\n",
        "      <th>Earth science</th>\n",
        "      <td> 13</td>\n",
        "      <td>  5.263158</td>\n",
        "    </tr>\n",
        "    <tr>\n",
        "      <th>Computer science</th>\n",
        "      <td> 11</td>\n",
        "      <td>  4.453441</td>\n",
        "    </tr>\n",
        "    <tr>\n",
        "      <th>Mathematics</th>\n",
        "      <td>  3</td>\n",
        "      <td>  1.214575</td>\n",
        "    </tr>\n",
        "  </tbody>\n",
        "</table>\n",
        "</div>"
       ],
       "metadata": {},
       "output_type": "display_data",
       "text": [
        "                       count    percent\n",
        "Biology                   91  36.842105\n",
        "Social science            32  12.955466\n",
        "Archaeology               31  12.550607\n",
        "Environmental science     27  10.931174\n",
        "Other                     21   8.502024\n",
        "Physical science          18   7.287449\n",
        "Earth science             13   5.263158\n",
        "Computer science          11   4.453441\n",
        "Mathematics                3   1.214575"
       ]
      },
      {
       "html": [
        "<div style=\"max-height:1000px;max-width:1500px;overflow:auto;\">\n",
        "<table border=\"1\" class=\"dataframe\">\n",
        "  <thead>\n",
        "    <tr style=\"text-align: right;\">\n",
        "      <th></th>\n",
        "      <th>count</th>\n",
        "      <th>percent</th>\n",
        "    </tr>\n",
        "  </thead>\n",
        "  <tbody>\n",
        "    <tr>\n",
        "      <th>Doctorate</th>\n",
        "      <td> 186</td>\n",
        "      <td> 75.609756</td>\n",
        "    </tr>\n",
        "    <tr>\n",
        "      <th>Masters</th>\n",
        "      <td>  41</td>\n",
        "      <td> 16.666667</td>\n",
        "    </tr>\n",
        "    <tr>\n",
        "      <th>Bachelors</th>\n",
        "      <td>  19</td>\n",
        "      <td>  7.723577</td>\n",
        "    </tr>\n",
        "  </tbody>\n",
        "</table>\n",
        "</div>"
       ],
       "metadata": {},
       "output_type": "display_data",
       "text": [
        "           count    percent\n",
        "Doctorate    186  75.609756\n",
        "Masters       41  16.666667\n",
        "Bachelors     19   7.723577"
       ]
      },
      {
       "html": [
        "<div style=\"max-height:1000px;max-width:1500px;overflow:auto;\">\n",
        "<table border=\"1\" class=\"dataframe\">\n",
        "  <thead>\n",
        "    <tr style=\"text-align: right;\">\n",
        "      <th></th>\n",
        "      <th>count</th>\n",
        "      <th>percent</th>\n",
        "    </tr>\n",
        "  </thead>\n",
        "  <tbody>\n",
        "    <tr>\n",
        "      <th>PI</th>\n",
        "      <td> 102</td>\n",
        "      <td> 40.963855</td>\n",
        "    </tr>\n",
        "    <tr>\n",
        "      <th>Postdoc</th>\n",
        "      <td>  61</td>\n",
        "      <td> 24.497992</td>\n",
        "    </tr>\n",
        "    <tr>\n",
        "      <th>Grad_student</th>\n",
        "      <td>  41</td>\n",
        "      <td> 16.465863</td>\n",
        "    </tr>\n",
        "    <tr>\n",
        "      <th>Other</th>\n",
        "      <td>  28</td>\n",
        "      <td> 11.244980</td>\n",
        "    </tr>\n",
        "    <tr>\n",
        "      <th>Tech</th>\n",
        "      <td>  17</td>\n",
        "      <td>  6.827309</td>\n",
        "    </tr>\n",
        "  </tbody>\n",
        "</table>\n",
        "</div>"
       ],
       "metadata": {},
       "output_type": "display_data",
       "text": [
        "              count    percent\n",
        "PI              102  40.963855\n",
        "Postdoc          61  24.497992\n",
        "Grad_student     41  16.465863\n",
        "Other            28  11.244980\n",
        "Tech             17   6.827309"
       ]
      },
      {
       "html": [
        "<div style=\"max-height:1000px;max-width:1500px;overflow:auto;\">\n",
        "<table border=\"1\" class=\"dataframe\">\n",
        "  <thead>\n",
        "    <tr style=\"text-align: right;\">\n",
        "      <th></th>\n",
        "      <th>count</th>\n",
        "      <th>percent</th>\n",
        "    </tr>\n",
        "  </thead>\n",
        "  <tbody>\n",
        "    <tr>\n",
        "      <th>Academic: research-focused</th>\n",
        "      <td> 191</td>\n",
        "      <td> 76.706827</td>\n",
        "    </tr>\n",
        "    <tr>\n",
        "      <th>Government</th>\n",
        "      <td>  14</td>\n",
        "      <td>  5.622490</td>\n",
        "    </tr>\n",
        "    <tr>\n",
        "      <th>Academic: teaching-focused</th>\n",
        "      <td>  13</td>\n",
        "      <td>  5.220884</td>\n",
        "    </tr>\n",
        "    <tr>\n",
        "      <th>Nonprofit</th>\n",
        "      <td>  12</td>\n",
        "      <td>  4.819277</td>\n",
        "    </tr>\n",
        "    <tr>\n",
        "      <th>Academic: medical school</th>\n",
        "      <td>   9</td>\n",
        "      <td>  3.614458</td>\n",
        "    </tr>\n",
        "    <tr>\n",
        "      <th>Other</th>\n",
        "      <td>   6</td>\n",
        "      <td>  2.409639</td>\n",
        "    </tr>\n",
        "    <tr>\n",
        "      <th>Commercial</th>\n",
        "      <td>   4</td>\n",
        "      <td>  1.606426</td>\n",
        "    </tr>\n",
        "  </tbody>\n",
        "</table>\n",
        "</div>"
       ],
       "metadata": {},
       "output_type": "display_data",
       "text": [
        "                            count    percent\n",
        "Academic: research-focused    191  76.706827\n",
        "Government                     14   5.622490\n",
        "Academic: teaching-focused     13   5.220884\n",
        "Nonprofit                      12   4.819277\n",
        "Academic: medical school        9   3.614458\n",
        "Other                           6   2.409639\n",
        "Commercial                      4   1.606426"
       ]
      }
     ],
     "prompt_number": 11
    },
    {
     "cell_type": "markdown",
     "metadata": {},
     "source": [
      "We collected responses to an online survey of data publication practices and perceptions in January and February of 2014 and received 281 unique responses.\n",
      "Because we distributed the survey solicitation via social media and email lists and did not contact most recipients directly, we cannot estimate with any accuracy how many researchers received the solicitation or calculate a response rate.\n",
      "Our analysis was restricted to the 249 (81%) respondents who we deemed to be active researchers (described in Table 1.).\n",
      "Researchers from 20 countries responded, but most were affiliated with institutions in the US (79%, $n=197$).\n",
      "The institutions were largely academic (85%, $n=204$); 94% ($n=191$) of those were focused on research rather than teaching. \n",
      "By discipline, the largest response was from biologists (37%), followed by arch{\\ae}ologists (13%), social scientists (13%), and environmental scientists (11%).\n",
      "We heard from researchers across the academic career spectrum: 41% ($n=102$) were principal investigators/lab heads, 24% ($n=61$) postdocs, and 16% ($n=41$) grad students.\n",
      "We saw few significant differences in responses between disciplines or roles, so we have presented the results in aggregate.\n",
      "For significance testing, we consolidated subdisciplines into 8 high-level disciplines.\n",
      "Given the number of respondents, this survey should have 80% power to detect small effects by chi square ($\\chi^{2}$) test (size $\\Phi_{C}=0.17$) and 95% power to detect medium-small effects ($\\Phi_{C}=0.22$) ([Cohen, 1988](http://books.google.com/books?hl=en&lr=&id=2v9zDAsLvA0C&oi=fnd&pg=PR3&dq=tatistical+power+analysis+for+the+behavioral+sciences.+&ots=x5bD9RauC_&sig=yd3fi8c1xSSgmaa4qrAiX7MkK8w)).\n",
      "For breakdown of data by discipline or role, see the full\u2013 except for redactions to preserve anonymity\u2013 raw dataset published in the University of California's Merritt repository."
     ]
    },
    {
     "cell_type": "heading",
     "level": 3,
     "metadata": {},
     "source": [
      "Background Knowledge"
     ]
    },
    {
     "cell_type": "markdown",
     "metadata": {},
     "source": [
      "<hr>"
     ]
    },
    {
     "cell_type": "heading",
     "level": 4,
     "metadata": {},
     "source": [
      "Figure 1. Researchers are generally unfamiliar with data-related funder policies."
     ]
    },
    {
     "cell_type": "heading",
     "level": 5,
     "metadata": {},
     "source": [
      "How familiar are you with each of these policies?"
     ]
    },
    {
     "cell_type": "code",
     "collapsed": false,
     "input": [
      "AWARENESS_QUESTIONS = ['aware_ostp_policy', 'aware_nsf_dmp', 'aware_nih_data_sharing_policy']\n",
      "AWARENESS_ANSWERS = [\"Never heard of it\", \"Heard of it\", \"Read about it\", \"Know all the details\"]  \n",
      "\n",
      "graph_likert(AWARENESS_QUESTIONS, AWARENESS_ANSWERS, filter_on_column='united_states', filter_value=True)"
     ],
     "language": "python",
     "metadata": {},
     "outputs": [
      {
       "metadata": {},
       "output_type": "pyout",
       "prompt_number": 12,
       "text": [
        "<matplotlib.axes._subplots.AxesSubplot at 0x109aeea50>"
       ]
      },
      {
       "metadata": {},
       "output_type": "display_data",
       "png": "[encoded data removed]",
       "text": [
        "<matplotlib.figure.Figure at 0x109aebad0>"
       ]
      }
     ],
     "prompt_number": 12
    },
    {
     "cell_type": "markdown",
     "metadata": {},
     "source": [
      "**Researchers are generally unfamiliar with data-related funder policies.**\n",
      "Respondents based at US institutions self-reported their familiarity with three government funder policies: the Whitehouse OSTP Open Data Initiative ($n=197$), NSF Data Management Plan requirements ($n=197$), and the NIH data sharing policy (only biologists included, $n=76$). \n",
      "White dots show the mean familiarity for each item; error bars depict bootstrapped 95% confidence intervals.\n",
      "<hr>"
     ]
    },
    {
     "cell_type": "markdown",
     "metadata": {},
     "source": [
      "We asked a number of questions to assess engagement and familiarity with data sharing and publication (Figure 1).\n",
      "Respondents rated their familiarity with three US federal government policies related to data sharing and availability.\n",
      "Because these policies are specific to the US, we restricted this part of our analysis to respondents who work there.\n",
      "Respondents were most familiar with the National Science Foundation (NSF)'s Data Management Plan requirement ([NSF, 2011](http://www.nsf.gov/pubs/policydocs/pappguide/nsf11001/aag_6.jsp#VID4)).\n",
      "Fewer than than half had heard of the United States Office of Science and Technology Policy (OSTP) Open Data Initiative ([Obama, 2013](http://www.whitehouse.gov/the-press-office/2013/05/09/executive-order-making-open-and-machine-readable-new-default-government-)). \n",
      "Although the directive will eventually affect virtually all researchers who receive US government funding, awareness is most likely low because concrete policies have not been implemented yet. \n",
      "The much older National Institutes of Health (NIH) data sharing policy \\cite{national_institutes_of_health_final_2003} was enacted 11 years ago, but only four biologists ($5\\%$) claimed to know all the details, fewer than the 18 ($24\\%$) who had never heard of it."
     ]
    },
    {
     "cell_type": "markdown",
     "metadata": {},
     "source": [
      "The recent rapid proliferation of data journals led us to ask about them specifically.\n",
      "A free text box was provided for respondents to list any data journals that they could name.\n",
      "Only 40 respondents (16%) named any data journals. \n",
      "_Ecological Archives_ was the most frequently named, by 16 respondents. \n",
      "The second most frequent response was Nature Publishing Group's [_Scientific Data_](http://www.nature.com/sdata/) (named by 14), even though it had not started publishing at the time of the survey.\n",
      "[_Earth System Science Data (ESSD)_](http://www.earth-system-science-data.net/) ($n=7$), [_Biodiversity Data Journal_](http://biodiversitydatajournal.com/) ($n=6$) and [_Geoscience Data Journal_](http://onlinelibrary.wiley.com/journal/10.1002/%28ISSN%292049-6060) ($n=5$) followed.\n",
      "A number of respondents listed non-journal data publishers: [figshare](http://figshare.com/) ($n=6$), [Dryad](http://datadryad.org/) ($n=3$), and [Zenodo](https://zenodo.org/) ($n=1$)."
     ]
    },
    {
     "cell_type": "heading",
     "level": 3,
     "metadata": {},
     "source": [
      "Data sharing mechanisms"
     ]
    },
    {
     "cell_type": "markdown",
     "metadata": {},
     "source": [
      "Data publication is a relatively new and unfamiliar concept to researchers, but most do have experience with and opinions about data sharing, and we explored those briefly before moving on to publication.\n",
      "Many respondents (56%, $n=140$) said that it is very important to share the data that underlies a study; differences between disciplines were not statistically meaningful ($\\chi^{2}=39.1$, $p= 0.18$).\n",
      "Most have experience sharing their data (68%, $n=168$) or reusing another researcher's shared data (61%, $n=151$).\n",
      "Of the researchers who shared, 58% ($n=98$) saw their data reused by someone and 62% ($n=61$) of those reuse instances led to a published paper.\n",
      "Most of the respondents who reused data published a paper with it (69%, $n=104$)."
     ]
    },
    {
     "cell_type": "markdown",
     "metadata": {},
     "source": [
      "<hr>"
     ]
    },
    {
     "cell_type": "heading",
     "level": 4,
     "metadata": {},
     "source": [
      "Figure 2. Researchers primarily share data in response to direct contact (e.g. via email)."
     ]
    },
    {
     "cell_type": "heading",
     "level": 5,
     "metadata": {},
     "source": [
      "Figure 2A. How have you shared your data?"
     ]
    },
    {
     "cell_type": "code",
     "collapsed": false,
     "input": [
      "SHARING_CHANNELS = [\"Email / direct contact\", \"Personal or lab website\", \"Journal website (as supplemental material)\", \n",
      "                    \"Database or repository\"]\n",
      "graph_checkbox('how_shared', SHARING_CHANNELS)"
     ],
     "language": "python",
     "metadata": {},
     "outputs": [
      {
       "metadata": {},
       "output_type": "pyout",
       "prompt_number": 13,
       "text": [
        "(<matplotlib.axes._subplots.AxesSubplot at 0x1161ac9d0>,\n",
        " Personal or lab website                        33.333333\n",
        " Journal website (as\\nsupplemental material)    36.904762\n",
        " Database or repository                         53.571429\n",
        " Email / direct contact                         86.904762\n",
        " dtype: float64)"
       ]
      },
      {
       "metadata": {},
       "output_type": "display_data",
       "png": "[encoded data removed]",
       "text": [
        "<matplotlib.figure.Figure at 0x109aeba50>"
       ]
      }
     ],
     "prompt_number": 13
    },
    {
     "cell_type": "heading",
     "level": 5,
     "metadata": {},
     "source": [
      "Figure 2B. How have others obtained your data?"
     ]
    },
    {
     "cell_type": "code",
     "collapsed": false,
     "input": [
      "graph_checkbox('how_others_got', SHARING_CHANNELS)"
     ],
     "language": "python",
     "metadata": {},
     "outputs": [
      {
       "metadata": {},
       "output_type": "pyout",
       "prompt_number": 14,
       "text": [
        "(<matplotlib.axes._subplots.AxesSubplot at 0x112710550>,\n",
        " Journal website (as\\nsupplemental material)    16.326531\n",
        " Personal or lab website                        26.530612\n",
        " Database or repository                         38.775510\n",
        " Email / direct contact                         82.653061\n",
        " dtype: float64)"
       ]
      },
      {
       "metadata": {},
       "output_type": "display_data",
       "png": "[encoded data removed]",
       "text": [
        "<matplotlib.figure.Figure at 0x11271d410>"
       ]
      }
     ],
     "prompt_number": 14
    },
    {
     "cell_type": "heading",
     "level": 5,
     "metadata": {},
     "source": [
      "Figure 2C. How have you obtained other's data?"
     ]
    },
    {
     "cell_type": "code",
     "collapsed": false,
     "input": [
      "graph_checkbox('how_you_got', SHARING_CHANNELS)"
     ],
     "language": "python",
     "metadata": {},
     "outputs": [
      {
       "metadata": {},
       "output_type": "pyout",
       "prompt_number": 15,
       "text": [
        "(<matplotlib.axes._subplots.AxesSubplot at 0x10a0b9710>,\n",
        " Personal or lab website                        20.666667\n",
        " Journal website (as\\nsupplemental material)    32.666667\n",
        " Database or repository                         53.333333\n",
        " Email / direct contact                         57.333333\n",
        " dtype: float64)"
       ]
      },
      {
       "metadata": {},
       "output_type": "display_data",
       "png": "[encoded data removed]",
       "text": [
        "<matplotlib.figure.Figure at 0x10a0e2c90>"
       ]
      }
     ],
     "prompt_number": 15
    },
    {
     "cell_type": "heading",
     "level": 5,
     "metadata": {},
     "source": [
      "Figure 2D. What accompanied your shared data?"
     ]
    },
    {
     "cell_type": "code",
     "collapsed": false,
     "input": [
      "HOW_DOCUMENTED_ANSWERS = [\"A traditional research paper based on the data (with analysis and conclusions)\",\n",
      "                          \"A data paper describing the data (without analysis or conclusions)\",\n",
      "                          \"Informal text describing the data\",\n",
      "                          \"Formal metadata describing the data (e.g. as XML)\",\n",
      "                          \"Computer code used to process or generate the data\",\n",
      "                          \"Shared with no additional documentation\"]\n",
      "\n",
      "graph_checkbox('how_documented', HOW_DOCUMENTED_ANSWERS)"
     ],
     "language": "python",
     "metadata": {},
     "outputs": [
      {
       "metadata": {},
       "output_type": "pyout",
       "prompt_number": 16,
       "text": [
        "(<matplotlib.axes._subplots.AxesSubplot at 0x1039c0dd0>,\n",
        " Shared with no additional\\ndocumentation                        11.377246\n",
        " A data paper describing\\nthe data (without\\nanalysis or conclusions)    13.772455\n",
        " Computer code used to\\nprocess or generate the\\ndata            30.538922\n",
        " Formal metadata\\ndescribing the data (e.g.\\nas XML)             31.137725\n",
        " Informal text describing\\nthe data                              62.874251\n",
        " A traditional research\\npaper based on the data\\n(with analysis and\\nconclusions)    64.670659\n",
        " dtype: float64)"
       ]
      },
      {
       "metadata": {},
       "output_type": "display_data",
       "png": "[encoded data removed]",
       "text": [
        "<matplotlib.figure.Figure at 0x1039c2390>"
       ]
      }
     ],
     "prompt_number": 16
    },
    {
     "cell_type": "markdown",
     "metadata": {},
     "source": [
      "**Researchers primarily share data in response to direct contact (e.g. via email).**\n",
      "Respondents who shared data indicated (A.) the channels they used to share their data, (B.) the channels others used to obtain the data, and (D.) how they documented the data.\n",
      "(C.) Respondents who used others' data indicated the channels through which they obtained the data.\n",
      "Error bars depict bootstrapped 95% confidence intervals.\n",
      "<hr>"
     ]
    },
    {
     "cell_type": "markdown",
     "metadata": {},
     "source": [
      "Because some, but not all, means of sharing data satisfy the availability requirements of data publication ([Kratz & Strasser, 2014](http://dx.doi.org/10.12688/f1000research.3979.3)), we asked researchers with data sharing experience about the mode of transmission (Figure 2A-C.\n",
      "The supplied answer choices were the four methods for external data sharing that emerged in interviews by [Kim and Stanton (2012)](http://www.shodor.org/media/content/jocse/volume3/issue1/jocse_volume3_issue1#page=53): email/direct contact, personal website, journal website, and database or repository.\n",
      "Email/direct contact was the most frequently reported method for sharing: 87% ($n=146$) of the respondents who shared data did so directly, 82% ($n=82$) were aware of other researchers obtaining their data directly, and 57% ($n=86$) of the respondents who reused data obtained it directly.\n",
      "The predominance of direct contact is probably in part an artifact of awareness\u2013 respondents necessarily know when they give someone their data directly, but they may not be notified when someone downloads it from a repository or website.\n",
      "Eight respondents (5%) wrote-in that they had obtained data through a channel we had not considered: extracting data from the text, tables, or figures of a published paper."
     ]
    },
    {
     "cell_type": "heading",
     "level": 3,
     "metadata": {},
     "source": [
      "Credit for sharing data"
     ]
    },
    {
     "cell_type": "markdown",
     "metadata": {},
     "source": [
      "<hr>"
     ]
    },
    {
     "cell_type": "heading",
     "level": 4,
     "metadata": {},
     "source": [
      "Figure 3. Formal citation is the preferred method of crediting dataset creators."
     ]
    },
    {
     "cell_type": "heading",
     "level": 5,
     "metadata": {},
     "source": [
      "Figure 3A. How should a dataset creator be credited?"
     ]
    },
    {
     "cell_type": "code",
     "collapsed": false,
     "input": [
      "HOW_CREDITED_ANSWERS = [\"Authorship on paper\",\n",
      "                        \"Acknowledgement in the paper\",\n",
      "                        \"Data cited in the reference list\",\n",
      "                        \"Data cited informally in the text of the paper\"]\n",
      "\n",
      "graph_checkbox('data_sharing_credit', HOW_CREDITED_ANSWERS)"
     ],
     "language": "python",
     "metadata": {},
     "outputs": [
      {
       "metadata": {},
       "output_type": "pyout",
       "prompt_number": 17,
       "text": [
        "(<matplotlib.axes._subplots.AxesSubplot at 0x109ec6610>,\n",
        " Data cited informally in\\nthe text of the paper    14.056225\n",
        " Authorship on paper                                39.357430\n",
        " Acknowledgement in the\\npaper                      63.052209\n",
        " Data cited in the\\nreference list                  75.100402\n",
        " dtype: float64)"
       ]
      },
      {
       "metadata": {},
       "output_type": "display_data",
       "png": "[encoded data removed]",
       "text": [
        "<matplotlib.figure.Figure at 0x109ebd3d0>"
       ]
      }
     ],
     "prompt_number": 17
    },
    {
     "cell_type": "heading",
     "level": 5,
     "metadata": {},
     "source": [
      "Figure 3B. If you published on someone else's dataset, how did you credit the dataset creator(s)?"
     ]
    },
    {
     "cell_type": "code",
     "collapsed": false,
     "input": [
      "graph_checkbox('how_you_credited', HOW_CREDITED_ANSWERS)"
     ],
     "language": "python",
     "metadata": {},
     "outputs": [
      {
       "metadata": {},
       "output_type": "pyout",
       "prompt_number": 18,
       "text": [
        "(<matplotlib.axes._subplots.AxesSubplot at 0x109f250d0>,\n",
        " Data cited informally in\\nthe text of the paper     0.000000\n",
        " Authorship on paper                                23.255814\n",
        " Acknowledgement in the\\npaper                      50.387597\n",
        " Data cited in the\\nreference list                  62.790698\n",
        " dtype: float64)"
       ]
      },
      {
       "metadata": {},
       "output_type": "display_data",
       "png": "[encoded data removed]",
       "text": [
        "<matplotlib.figure.Figure at 0x10a12ccd0>"
       ]
      }
     ],
     "prompt_number": 18
    },
    {
     "cell_type": "markdown",
     "metadata": {},
     "source": [
      "**Formal citation is the preferred method of crediting dataset creators.**\n",
      "Respondents indicated (A.) how a dataset creator should be credited, (B.) how they actually credited a dataset creator in the past, and (C.) how satisfied they were with the credit they received the last time someone else published using their data.  (A., B.) Respondents could select more than one item for each question.\n",
      "Error bars depict bootstrapped 95% confidence intervals.\n",
      "<hr>"
     ]
    },
    {
     "cell_type": "markdown",
     "metadata": {},
     "source": [
      "Rewarding data creators is a primary goal of data publication, so we asked how a dataset creator should be credited by a reuser (Figure 3A.).\n",
      "The most common answer, from 83% ($n=126$) of respondents, was formal citation in the reference list.\n",
      "Acknowledgment also ranked highly at 62% (93).\n",
      "Most (30 out of 34) respondents who gave a free-text answer wrote some variant on \"it depends,\" often citing one of two factors: the publication status of the dataset (e.g. \"depends on whether the data is already published\") and the role of the data in the paper (e.g. \"authorship if data is [the] primary source of analysis, otherwise acknowledgment\").\n",
      "Because previous studies reported differences in citation practices between disciplines ([Swan & Brown, 2008](http://eprints.ecs.soton.ac.uk/16742); [Harley et al., 2010](http://escholarship.org/uc/item/15x7385g); [Tenopir et al., 2011](http://dx.doi.org/10.1371/journal.pone.0021101)), we tested whether different disciplines responded differently (omitting Mathematics because the $n$ was too low to reliably test). Following the approach of Tenopir et al. (2011), we performed separate $\\chi^{2}$ tests for each of the four provided answer choices. Using a significance cutoff corrected for multiple hypothesis testing of $\\alpha= 0.05/4 = 0.0125$, we did not detect a difference between disciplines ($\\chi^{2}\\leq 16.4$, $p\\geq 0.022$)."
     ]
    },
    {
     "cell_type": "markdown",
     "metadata": {},
     "source": [
      "We also asked respondents who had published with shared data how they actually credited the creator.\n",
      "Reported practice fit well with theory: formal citation was the most popular method (63%, $n=81$), followed by acknowledgment (50%, $n=70$).\n",
      "A notable distinction was that while a few respondents (16%, $n=24$) said that it was appropriate to cite data informally in the body of the text, none admitted to actually doing it (Figure 3B.)."
     ]
    },
    {
     "cell_type": "markdown",
     "metadata": {},
     "source": [
      "Many researchers fear that shared data might be used by \"data vultures\" who contribute little and don't acknowledge the source ([Kim & Stanton, 2012](http://www.shodor.org/media/content/jocse/volume3/issue1/jocse_volume3_issue1#page=53)).\n",
      "To assess how realistic this fear is, we asked respondents whose data had been reused for a publication whether they felt adequately credited.\n",
      "Most (63%, $n=54$) felt satisfied, and a combined 78% ($n=67$) felt the credit was appropriate or excessive. This left 22% ($n=13$) who were unsatisfied; only 2 (2%) felt that the credit was \"very insufficient.\" These differences in satisfaction could derive from different attitudes toward appropriate credit. To test this, we collapsed responses into three categories (insufficient, appropriate, and excessive) and tested for independence with each of the four provided answers in data sharing credit, but none of the relationships were statistically meaningful (corrected $\\alpha= 0.0125$, $\\chi^{2}\\leq 3.26$, $p\\geq 0.20$)."
     ]
    },
    {
     "cell_type": "heading",
     "level": 3,
     "metadata": {},
     "source": [
      "Expected features of data publication and peer review"
     ]
    },
    {
     "cell_type": "markdown",
     "metadata": {},
     "source": [
      "<hr>"
     ]
    },
    {
     "cell_type": "heading",
     "level": 4,
     "metadata": {},
     "source": [
      "Figure 4. Researcher expectations of data publication center on availability, not peer review."
     ]
    },
    {
     "cell_type": "heading",
     "level": 5,
     "metadata": {},
     "source": [
      "Figure 4A. How would you expect a published dataset to differ from a shared one?"
     ]
    },
    {
     "cell_type": "code",
     "collapsed": false,
     "input": [
      "DP_FEATURES = [\"Openly available without contacting the author(s)\",\n",
      "               \"Deposited in a database or repository\",\n",
      "               \"Assigned a unique identifier such as a DOI\",\n",
      "               \"A traditional research paper is based on the data\",\n",
      "               \"A data paper (without conclusions) describes the data\",\n",
      "               \"Packaged with a thorough description of the data\",\n",
      "               \"Packaged with formal metadata describing the data (e.g. as XML)\",\n",
      "               \"Dataset is \\\"peer reviewed\\\"\"]\n",
      "fig = graph_checkbox('publish_definition', DP_FEATURES)"
     ],
     "language": "python",
     "metadata": {},
     "outputs": []
    },
    {
     "cell_type": "heading",
     "level": 5,
     "metadata": {},
     "source": [
      "Figure 4B. What would you expect data peer review to consider?"
     ]
    },
    {
     "cell_type": "code",
     "collapsed": false,
     "input": [
      "PR_FEATURES = [\"Collection and processing methods were evaluated\",\n",
      "               \"Descriptive text is thorough enough to use or replicate the dataset\",\n",
      "               \"Necessary metadata is standardized (e.g. in XML)\",\n",
      "               \"Technical details have been checked (e.g. no missing files no missing values)\",\n",
      "               \"Plausibility considered based on area expertise\",\n",
      "               \"Novelty/impact considered\"]\n",
      "\n",
      "graph_checkbox('peer_review_definition', PR_FEATURES)"
     ],
     "language": "python",
     "metadata": {},
     "outputs": [
      {
       "metadata": {},
       "output_type": "pyout",
       "prompt_number": 20,
       "text": [
        "(<matplotlib.axes._subplots.AxesSubplot at 0x103a034d0>,\n",
        " Novelty/impact considered                                       21.721311\n",
        " Necessary metadata is\\nstandardized (e.g. in\\nXML)              38.524590\n",
        " Plausibility considered\\nbased on area expertise                61.475410\n",
        " Technical details have\\nbeen checked (e.g. no\\nmissing files no missing\\nvalues)    70.491803\n",
        " Descriptive text is\\nthorough enough to use or\\nreplicate the dataset    80.327869\n",
        " Collection and processing\\nmethods were evaluated               90.163934\n",
        " dtype: float64)"
       ]
      },
      {
       "metadata": {},
       "output_type": "display_data",
       "png": "[encoded data removed]",
       "text": [
        "<matplotlib.figure.Figure at 0x10a26b110>"
       ]
      }
     ],
     "prompt_number": 20
    },
    {
     "cell_type": "markdown",
     "metadata": {},
     "source": [
      "**Researcher expectations of data publication center on availability, not peer review.** Respondents conveyed the expectations raised by the terms (A.) publication and (B.) peer review in the context of data. \n",
      "Respondents could select more than one item for each question. \n",
      "Error bars depict bootstrapped 95% confidence intervals.\n",
      "<hr>"
     ]
    },
    {
     "cell_type": "markdown",
     "metadata": {},
     "source": [
      "The central question we hoped to answer is what \"data publication\" and \"data peer review\" actually mean to researchers.\n",
      "We decomposed the prevalent models of data publication into a set of potential features and asked respondents to select all the features that would distinguish a \"published\" dataset from a \"shared\" one (Figure 4A).\n",
      "The most prevalent expectations relate to access: 68% ($n=166$) expect a published dataset to be openly available and 54% ($n=133$) expect it to be in a repository or database.\n",
      "Substantially more researchers expected a published dataset to be accompanied by a traditional publication (43%, $n=105$) than by a data paper (22%, $n=55$).\n",
      "Only a minority of 29% ($n=70$) expected published data to have been peer-reviewed."
     ]
    },
    {
     "cell_type": "markdown",
     "metadata": {},
     "source": [
      "Much of the prestige of scholarly publication derives from surviving the peer review process.\n",
      "It is natural, then, that many data publication initiatives model their validation process on peer review and employ the term for its prestige and familiarity.\n",
      "However, it is not obvious exactly how literature peer review processes and criteria should be adapted for data or what guarantees it should make.\n",
      "We asked what researchers expect from data peer review, providing a selection of considerations that data reviewers might take into account (Figure 4B).\n",
      "The most common responses sidestepped examination of the data itself; 90% ($n=220$) of respondents expected evaluation of the methods and 80% ($n=196$) of the documentation.\n",
      "There was little (22%, $n=53$) expectation that data reviewers would consider novelty or potential impact."
     ]
    },
    {
     "cell_type": "markdown",
     "metadata": {},
     "source": [
      "We tested for differences in expectations of both data publication and peer review among disciplines and between research roles. \n",
      "No significant differences between roles emerged.\n",
      "The only two significant differences among disciplines related to structured metadata: discipline had a significant effect on expectation of formal metadata in the publication process (corrected $\\alpha= 0.006$, $\\chi^{2}= 33.0$, $p= 2.6\\times10^{-5}$) and consideration of standardized metadata in peer review (corrected $\\alpha= 0.008$, $\\chi^{2}= 26.7$, $p= 3.8\\times10^{-4}$). \n",
      "In both cases, the most notable distinctions were the expectations of a large fraction of environmental scientists: 63% (compared to 25% in the population as a whole) for publication and 73% (compared to 39%) for peer review.\n",
      "This popularity among environmental scientists may be driven by the use of a mature metadata standard in the field, Ecological Metadata Language (EML) ([Blankman & McGann, 2003](http://im.lternet.edu/sites/im.lternet.edu/files/emlHandbook.pdf)).\n",
      "<hr>"
     ]
    },
    {
     "cell_type": "heading",
     "level": 4,
     "metadata": {},
     "source": [
      "Figure 5.  Researchers have coherent expectations of data publication and peer review."
     ]
    },
    {
     "cell_type": "heading",
     "level": 5,
     "metadata": {},
     "source": [
      "Figure 5A. How would you expect a published dataset to differ from a shared one?"
     ]
    },
    {
     "cell_type": "code",
     "collapsed": false,
     "input": [
      "dp_labels = {\"Openly available without contacting the author(s)\" : \"openly\\navailable\",\n",
      "             \"Deposited in a database or repository\" : \"repository\\ndeposit\",\n",
      "             \"Assigned a unique identifier such as a DOI\" : \"unique\\nID\",\n",
      "              \"A traditional research paper is based on the data\" : \"traditional\\npaper\",\n",
      "              \"A data paper (without conclusions) describes the data\" : \"data\\npaper\",\n",
      "              \"Packaged with a thorough description of the data\" : \"thorough\\nmetadata\",\n",
      "              \"Packaged with formal metadata describing the data (e.g. as XML)\" : \"formal\\nmetadata\",\n",
      "              \"Dataset is \\\"peer reviewed\\\"\" : \"peer\\nreview\"}\n",
      "graph_fisher_exact(responses.publish_definition, DP_FEATURES, labels=dp_labels, alpha=0.05/28)"
     ],
     "language": "python",
     "metadata": {},
     "outputs": [
      {
       "metadata": {},
       "output_type": "pyout",
       "prompt_number": 27,
       "text": [
        "<networkx.classes.graph.Graph at 0x10b233790>"
       ]
      },
      {
       "metadata": {},
       "output_type": "display_data",
       "png": "[encoded data removed]",
       "text": [
        "<matplotlib.figure.Figure at 0x10b233810>"
       ]
      }
     ],
     "prompt_number": 27
    },
    {
     "cell_type": "heading",
     "level": 5,
     "metadata": {},
     "source": [
      "Figure 5B. What would you expect data peer review to consider?"
     ]
    },
    {
     "cell_type": "code",
     "collapsed": false,
     "input": [
      "pr_labels = {\"Collection and processing methods were evaluated\" : \"methods\\nappropriate\",\n",
      "               \"Descriptive text is thorough enough to use or replicate the dataset\" : \"thorough\\nmetadata\",\n",
      "               \"Necessary metadata is standardized (e.g. in XML)\" : \"standard\\nmetadata\",\n",
      "               \"Technical details have been checked (e.g. no missing files no missing values)\" : \"technical\\ndetails\",\n",
      "               \"Plausibility considered based on area expertise\" : \"data\\nplausible\",\n",
      "               \"Novelty/impact considered\" : \"novelty/\\nimpact\"}\n",
      "graph_fisher_exact(responses.peer_review_definition, PR_FEATURES, labels=pr_labels, alpha=0.05/15)"
     ],
     "language": "python",
     "metadata": {},
     "outputs": [
      {
       "metadata": {},
       "output_type": "pyout",
       "prompt_number": 28,
       "text": [
        "<networkx.classes.graph.Graph at 0x10a1f7150>"
       ]
      },
      {
       "metadata": {},
       "output_type": "display_data",
       "png": "[encoded data removed]",
       "text": [
        "<matplotlib.figure.Figure at 0x10a1f7f50>"
       ]
      }
     ],
     "prompt_number": 28
    },
    {
     "cell_type": "markdown",
     "metadata": {},
     "source": [
      "**Researchers have coherent expectations of data publication and peer review.** Graph of relationships between the researcher expectations shown in Figure 4. Nodes are potential (A.) publication features or (B.) peer review assessments. Edge width is proportional to relationship strength as measured by odds ratio. Blue edges show positive relationships, red are negative. Dark edges are significant at the $\\alpha=0.05$ level by Fisher's exact test, with correction for multiple hypothesis testing to (A.) $\\alpha=0.0018$ and (B.) $\\alpha=0.0033$.\n",
      "<hr>"
     ]
    },
    {
     "cell_type": "markdown",
     "metadata": {},
     "source": [
      "To learn whether respondents selected data publication features or peer-review assessments independently or as coherent constellations of ideas, we performed Fisher exact tests of independence between every pair of features (Figure 5).\n",
      "Within data publication, we found a dense set of statistically significant associations among items related to access and preservation (at the $\\alpha=0.05$ level, corrected to $\\alpha=0.0018$).\n",
      "For example, repository deposit was linked to openly availability ($Odds Ratio=9.55$, $p=7.6\\times10^{-14}$), assignment of unique identifier, ($OR= 3.33$, $p= 1.33\\times10^{-5}$), and both formal ($OR= 4.49$, $p= 3.94\\times10^{-6}$) and rich ($OR= 3.83$, $p=1.14\\times10^{-6}$) metadata.\n",
      "Formal and rich metadata were themselves linked ($OR= 12.5$, $p=2.7\\times10^{-14}$). \n",
      "Formal metadata was also linked to assignment of a unique identifier, which is sensible in that an identifier is meaningless without metadata ($OR= 7.92, p= 5.05\\times10^{-11}$).\n",
      "Another carrier for metadata, a data paper, was linked to both rich ($OR=3.64$, $p=4.22\\times10^{-5}$) and formal ($OR=4.30$, $p=1.32\\times10^{-5}$) metadata.\n",
      "Data papers were the only item associated with peer review ($OR=3.00$, $p=0.0011$).\n",
      "Traditional papers had no significant associations at all; the closest was with data paper ($OR=1.93, p=0.023$)."
     ]
    },
    {
     "cell_type": "markdown",
     "metadata": {},
     "source": [
      "Potential considerations during peer review are also linked significantly (with a corrected cutoff of $\\alpha=0.0033$).\n",
      "Three assessments were strongly interlinked: from appropriate methods to standardized metadata ($OR=7.91$, $p=0.00081$) to technical evaluation ($OR=4.56$, $p=3.4\\times10^{-6}$) and back ($OR=5.9$, $p=7.9\\times10^{-5}$).\n",
      "Plausibility correlated with other factors that require domain expertise: appropriate methods ($OR=4.51, p=0.0014$), adequate documentation ($OR=4.87$, $p=2.5x10^{-6}$), and novelty/impact ($OR=5.50$, $p=1.1x10^{-5}$).\n",
      "Plausibility was the only association for novelty/impact."
     ]
    },
    {
     "cell_type": "heading",
     "level": 3,
     "metadata": {},
     "source": [
      "Valued data-publication features"
     ]
    },
    {
     "cell_type": "markdown",
     "metadata": {},
     "source": [
      "<hr>"
     ]
    },
    {
     "cell_type": "heading",
     "level": 4,
     "metadata": {},
     "source": [
      "Figure 6. Researchers trust and value peer review highly."
     ]
    },
    {
     "cell_type": "heading",
     "level": 5,
     "metadata": {},
     "source": [
      "Figure 6A. Which of the following evaluations have you made?"
     ]
    },
    {
     "cell_type": "code",
     "collapsed": false,
     "input": [
      "REVIEW_ACTIONS = [\"reviewed a journal article\",\n",
      "                  \"reviewed a grant proposal\",\n",
      "                  \"reviewed an application to graduate school\",\n",
      "                  \"reviewed a CV to hire someone for your lab\",\n",
      "                  \"served on a hiring committee\",\n",
      "                  \"served on a tenure & promotions committee\"]\n",
      "graph_checkbox('researcher_review_experience', REVIEW_ACTIONS)"
     ],
     "language": "python",
     "metadata": {},
     "outputs": [
      {
       "metadata": {},
       "output_type": "pyout",
       "prompt_number": 29,
       "text": [
        "(<matplotlib.axes._subplots.AxesSubplot at 0x10c8178d0>,\n",
        " served on a tenure &\\npromotions committee     25.877193\n",
        " reviewed an application\\nto graduate school    47.807018\n",
        " served on a hiring\\ncommittee                  51.315789\n",
        " reviewed a grant proposal                      59.649123\n",
        " reviewed a CV to hire\\nsomeone for your lab    65.789474\n",
        " reviewed a journal\\narticle                    93.421053\n",
        " dtype: float64)"
       ]
      },
      {
       "metadata": {},
       "output_type": "display_data",
       "png": "[encoded data removed]",
       "text": [
        "<matplotlib.figure.Figure at 0x10c8348d0>"
       ]
      }
     ],
     "prompt_number": 29
    },
    {
     "cell_type": "heading",
     "level": 5,
     "metadata": {},
     "source": [
      "Figure 6B. How much confidence in a dataset does each attribute inspire?"
     ]
    },
    {
     "cell_type": "code",
     "collapsed": false,
     "input": [
      "DATA_TRUST = ['traditional_paper_confidence', 'data_paper_confidence', 'peer_review_confidence', 'reuse_confidence']\n",
      "DATA_TRUST_SEQUENCE = [\"No confidence\", \"Little confidence\", \"Some confidence\", \"High confidence\", \"Complete confidence\"]\n",
      "\n",
      "graph_likert(DATA_TRUST,DATA_TRUST_SEQUENCE)"
     ],
     "language": "python",
     "metadata": {},
     "outputs": [
      {
       "metadata": {},
       "output_type": "pyout",
       "prompt_number": 30,
       "text": [
        "<matplotlib.axes._subplots.AxesSubplot at 0x10b377090>"
       ]
      },
      {
       "metadata": {},
       "output_type": "display_data",
       "png": "[encoded data removed]",
       "text": [
        "<matplotlib.figure.Figure at 0x10c834110>"
       ]
      }
     ],
     "prompt_number": 30
    },
    {
     "cell_type": "heading",
     "level": 5,
     "metadata": {},
     "source": [
      "Figure 6C. How useful is each metric in assessing dataset value/impact?"
     ]
    },
    {
     "cell_type": "code",
     "collapsed": false,
     "input": [
      "DATA_IMPACT = ['impact_citation', 'impact_downloads', 'impact_altmetrics', 'impact_google_rank']\n",
      "DATA_IMPACT_SEQUENCE = [\"Not at all useful\", \"Slightly useful\", \"Somewhat useful\", \"Highly useful\", \"Extremely useful\"]\n",
      "\n",
      "graph_likert(DATA_IMPACT, DATA_IMPACT_SEQUENCE)"
     ],
     "language": "python",
     "metadata": {},
     "outputs": [
      {
       "metadata": {},
       "output_type": "pyout",
       "prompt_number": 31,
       "text": [
        "<matplotlib.axes._subplots.AxesSubplot at 0x10cc39d90>"
       ]
      },
      {
       "metadata": {},
       "output_type": "display_data",
       "png": "[encoded data removed]",
       "text": [
        "<matplotlib.figure.Figure at 0x10ca12f50>"
       ]
      }
     ],
     "prompt_number": 31
    },
    {
     "cell_type": "heading",
     "level": 5,
     "metadata": {},
     "source": [
      "Figure 6D. How much weight would you give each item on a researcher's CV?"
     ]
    },
    {
     "cell_type": "code",
     "collapsed": false,
     "input": [
      "PUBLICATION_VALUE = [\"traditional_paper_value\", \"data_paper_pr_value\", \"data_paper_npr_value\", \"dataset_pr_value\", \"dataset_npr_value\"]\n",
      "PUBLICATION_VALUE_SEQUENCE = [\"None\", \"A small amount\", \"Some\", \"Significant\", \"A great deal\"]\n",
      "\n",
      "graph_likert(PUBLICATION_VALUE, PUBLICATION_VALUE_SEQUENCE)"
     ],
     "language": "python",
     "metadata": {},
     "outputs": [
      {
       "metadata": {},
       "output_type": "pyout",
       "prompt_number": 32,
       "text": [
        "<matplotlib.axes._subplots.AxesSubplot at 0x10cbe5a10>"
       ]
      },
      {
       "metadata": {},
       "output_type": "display_data",
       "png": "[encoded data removed]",
       "text": [
        "<matplotlib.figure.Figure at 0x10cb64110>"
       ]
      }
     ],
     "prompt_number": 32
    },
    {
     "cell_type": "markdown",
     "metadata": {},
     "source": [
      "**Researchers trust and value peer review highly.** (A.) Respondents reported their past experience evaluating other researchers in each context; respondents could select more than one item.\n",
      "Respondents reported (B.) how much trust each data publication feature inspires, (C.) how useful each metric would be for assessing impact, and (D.) how valuable a CV item each kind of data publication would be.\n",
      "White dots show the mean response for each item; error bars depict bootstrapped 95% confidence intervals.\n",
      "<hr>"
     ]
    },
    {
     "cell_type": "markdown",
     "metadata": {},
     "source": [
      "Validation of published data facilitates use only if potential users trust the means of assessment.\n",
      "To learn which means researchers trust, we presented respondents with four possible features and asked how much to rate how much confidence each would confer (Figure 6B).\n",
      "All four inspired at least some confidence in most researchers (ranging from 89% to 98%).\n",
      "Respondents trusted peer review above all else: 72% ($n=175$) said it conferred high or complete confidence and only 2% ($n=4$) would feel little or no confidence.\n",
      "The second most trusted indicator was knowledge that a traditional paper had been published with the data; 56% ($n=137$) would have high or complete confidence.\n",
      "Reuse of the data by a third party came in third, with 43% ($n=106$). \n",
      "Description by a data paper was the least convincing at 37% ($n=89$) high or complete confidence, although reuse inspired little or no confidence in more respondents (11%, $n=25$)."
     ]
    },
    {
     "cell_type": "markdown",
     "metadata": {},
     "source": [
      "Beyond reuse, data publication should reward researchers who create useful datasets with credit.\n",
      "To that end, we asked what metrics researchers would most respect when evaluating a dataset's impact (Figure 6C). Respondents considered number of citations to be the most useful metric; 49% ($n=119$) found citation count highly or extremely useful. Unexpectedly, a substantial 32% ($n=77$) felt the same way about number of downloads. The distinction between citation and download counts shrinks to 9% if the comparison is made at the level of at least somewhat useful (82% versus 73%).\n",
      "Only a minority of respondents considered search rank (42%, $n=102$) or altmetrics (37%, $n=91$) to be even somewhat useful."
     ]
    },
    {
     "cell_type": "markdown",
     "metadata": {},
     "source": [
      "Even before quality or impact enter consideration, the prestige associated with publishing a dataset is influenced by its format. We distilled a multiplicity of data publications formats to four generic models\u2013 with or without a data paper and with or without peer review\u2013 and asked respondents how much each would contribute to a researcher's curriculum vitae (Figure 6D). As a point of comparison, respondents also rated the value of a traditional paper; 60% ($n=145$) give one a great deal of weight and another 36% ($n=87$) give it significant weight. The most valuable data publication model was data published with a peer-reviewed data paper, but even that was only given a great deal of weight by 10% ($n=23$), although another 46% ($n=109$) gave it significant weight. A peer-reviewed dataset with no paper dropped to 5% ($n=12$) giving a great deal of weight, while an un-peer-reviewed data paper dropped to 1% ($n=2$). Thus, peer review outweighed having a data paper as a factor. A substantial, 27% ($n=65$) would award an un-peer-reviewed dataset no weight at all. For this question, which explicitly addressed evaluation of dataset creators, we were particularly interested in the 26% (59) of survey respondents who had experience on a tenure and promotions committee. We compared their responses to each feature with those who had not served on a committee by $\\chi^{2}$, but found no significant relationships (corrected $\\alpha= 0.01$, $\\chi^{2}\\leq 8.39$, $p\\geq 0.078$)."
     ]
    },
    {
     "cell_type": "heading",
     "level": 2,
     "metadata": {},
     "source": [
      "Discussion"
     ]
    },
    {
     "cell_type": "markdown",
     "metadata": {},
     "source": [
      "[Abstract](#Abstract) | [Introduction](#Introduction) | [Methods](#Methods) | [Results](#Results) | [Discussion](#Discussion)"
     ]
    },
    {
     "cell_type": "heading",
     "level": 3,
     "metadata": {},
     "source": [
      "Demographics, statistical power, and bias"
     ]
    },
    {
     "cell_type": "markdown",
     "metadata": {},
     "source": [
      "Although this survey was international in scope, most of the respondents were affiliated with institutions in the United States.\n",
      "The respondents here (84% North American) resemble those of the DataONE survey ([Tenopir et al., 2011](http://dx.doi.org/10.1371/journal.pone.0021101)) (73% North American); many of the previous surveys were conducted entirely in the US ([Ceci, 1988](http://www.jstor.org/stable/690052); [Kim & Stanton, 2012](http://www.shodor.org/media/content/jocse/volume3/issue1/jocse_volume3_issue1#page=53);  [Scaramozzino et al., 2012](http://crl.acrl.org/content/73/4/349.full.pdf)).\n",
      "The in-depth reports prepared by EAGDA ([Bobrow et al., 2014](http://www.wellcome.ac.uk/stellent/groups/corporatesite/@msh_peda/documents/web_document/wtp056495.pdf)) and the RIN ([Swan & Brown, 2008](http://eprints.ecs.soton.ac.uk/16742)) were carried out in the UK, where a single assessment framework, the REF dominates, creating a significantly different environment in terms of credit.\n",
      "The bulk of our responses (85%) came from academic institutions, which is similar to DataONEs 81% ([Tenopir et al., 2011](http://dx.doi.org/10.1371/journal.pone.0021101)).  \n",
      "Ceci's initial survey was academic ([Ceci, 1988](http://www.jstor.org/stable/690052)), and Scaramozzino's was conducted entirely at a single teaching-oriented university ([Scaramozzino et al., 2012](http://crl.acrl.org/content/73/4/349.full.pdf)).\n",
      "In this respect, the population here is quite comparable to previous surveys."
     ]
    },
    {
     "cell_type": "markdown",
     "metadata": {},
     "source": [
      "Researchers in all of the major roles in academia and a variety of disciplines responded.\n",
      "In terms of role, our respondents again resemble those of the DataONE survey.\n",
      "There, 47% were professors and 13.5% grad students; here, 41% were principal investigators and 16% grad students ([Tenopir et al., 2011](http://dx.doi.org/10.1371/journal.pone.0021101)).\n",
      "Most other surveys were restricted to principal investigators.\n",
      "An exception, the EAGDA survey, still mostly (69%) heard from principal investigators ([Bobrow et al., 2014](http://www.wellcome.ac.uk/stellent/groups/corporatesite/@msh_peda/documents/web_document/wtp056495.pdf)).\n",
      "Our largest response was from biologists (37%), followed by archaeologists (13%), social scientists (13%), and environmental scientists (11%). \n",
      "DataONE heard mostly from researchers in its area of focus, environmental sciences and ecology (36%), followed by social science (16%) and biology (14%) ([Tenopir et al., 2011](http://dx.doi.org/10.1371/journal.pone.0021101)). \n",
      "Scaramozzino's survey included a high proportion of physicists and mathematicians, but 18\\% of respondents were biologists ([Scaramozzino et al., 2012](http://crl.acrl.org/content/73/4/349.full.pdf)).\n",
      "The EAGDA survey was heaviest in biomedical fields, such as epidemiology and (26.8%), genetics/genomics (20\\), but also featured 31.4% social scientists ([Bobrow et al., 2014](http://www.wellcome.ac.uk/stellent/groups/corporatesite/@msh_peda/documents/web_document/wtp056495.pdf)). "
     ]
    },
    {
     "cell_type": "markdown",
     "metadata": {},
     "source": [
      "Whereas DataONE uncovered statistically distinct data sharing attitudes between respondents in different disciplines, we did not.\n",
      "The effect sizes observed in tables 21 and 22 of [Tenopir et al., (2011)](http://dx.doi.org/10.1371/journal.pone.0021101)\u2013 which most closely parallel the questions about appropriate credit for sharing data presented here\u2013 range from an effect size of $\\Phi_{C}=0.11$ to $0.17$.\n",
      "This survey should have 80% sensitivity to an effect size at the top of this range, $\\Phi_{C}=0.17$, so we find it plausible that the detection of statistically meaningful distinctions in one survey and not the other could an artifact of the difference in statistical power (from an $n$ of $1329$ vs. $249$) rather than a reflection of real differences in the respondent populations.\n",
      "However, $0.17$ is comfortably a \"small\" effect, so we are unlikely here to have missed large or even moderate effects by chance ([Cohen, 1988](http://dx.doi.org/10.1037/0033-2909.112.1.155))."
     ]
    },
    {
     "cell_type": "markdown",
     "metadata": {},
     "source": [
      "As is the case for many of the previous surveys, participation was voluntary and open, so our sample may be biased toward researchers with an interest in data sharing and publication.\n",
      "However, a high proportion of respondents (84%) did not name any data journals, especially relative to the 40% of EAGDA respondents who were unfamiliar with the format ([Bobrow et al., 2014](http://www.wellcome.ac.uk/stellent/groups/corporatesite/@msh_peda/documents/web_document/wtp056495.pdf)).\n",
      "That and the low awareness of US federal policies (e.g., 35% of US respondents had never heard of the NSF data management plan requirement and 6% had never heard of the OSTP Open Data Initiative) suggest that our respondents are not atypically invested in these issues."
     ]
    },
    {
     "cell_type": "heading",
     "level": 3,
     "metadata": {},
     "source": [
      "Data publication"
     ]
    },
    {
     "cell_type": "markdown",
     "metadata": {},
     "source": [
      "The RIN report of 2008 concluded that \"...'publishing' datasets means different things to different researchers\" ([Swan & Brown, 2008](http://eprints.ecs.soton.ac.uk/16742)) and we found that little has changed.\n",
      "Even the most frequently named defining feature in this survey, open availability, was only chosen by $\\sim$2/3 of respondents.\n",
      "One respondent simply wrote \"terms are confusing.\"\n",
      "However, the emergence of systematic relationships between some of the features demonstrates that the responses were not utterly confused.\n",
      "We observed two, arguably three, independent concepts of data publication."
     ]
    },
    {
     "cell_type": "markdown",
     "metadata": {},
     "source": [
      "The most widely held concept centers on present and future access.\n",
      "Open availability tightly correlates with the second most frequent feature, repository deposit.\n",
      "Repository deposit correlates with three other conceptually related features (unique identification, rich metadata, and formal metadata), and numerous interconnections unite all five of these features.\n",
      "This concept of publication maps well onto virtually all present data publication implementations, including lightweight approaches like figshare and Zenodo."
     ]
    },
    {
     "cell_type": "markdown",
     "metadata": {},
     "source": [
      "The second concept lingers from the pre-digital days of scholarly communication: published data is data that has been used or described in a traditional journal article. \n",
      "Nearly half (43%) of the respondents chose \"basis of a research paper\" as a defining feature of data publication. \n",
      "Surprisingly, this and the previous concept did not compete, but were instead almost completely independent.\n",
      "The traditional paper concept reflects how researchers speak (e.g. to \"publish an experiment\" is to publish a research paper that uses the experiment), but does not match the conversation in the scholarly communication community, where data that had been used or described but not made available would not be considered to have been published and, conversely, data that has been made available but never used in a research paper might be.\n",
      "This mismatch is a potential source of misunderstanding that the scholarly communication community should be aware of."
     ]
    },
    {
     "cell_type": "markdown",
     "metadata": {},
     "source": [
      "The third concept, not entirely independent from the first, is that a published dataset is one that has been described by a data paper.\n",
      "Data papers correlate with peer review and both kinds of metadata, but not with features related to the disposition of the data (e.g. open availability or repository deposit), even though virtually all data paper publishers require repository deposit.\n",
      "Data papers conferred less trust than any other feature, but only by a small margin: 36% of respondents derive high or complete confidence from a data paper, compared to 44% from successful reuse.\n",
      "Respondents regarded data papers as much less valuable than traditional research papers: 60% would give traditional paper a great deal of weight, but only 10% would value a data paper that highly. \n",
      "Only 16% had been able to name a data journal at the start of the survey, and data papers may come to be valued more as awareness spreads; one respondent wrote \"I've never heard of this, but it sounds fantastic.\"\n",
      "Alternatively, research communities may conclude that data papers _should_ be valued less.\n",
      "Already, 55% of respondents gave a data paper significant (or higher) value, and that may ultimately be appropriate.\n",
      "Data papers clearly add perceived value to a dataset, but not as much as peer review."
     ]
    },
    {
     "cell_type": "heading",
     "level": 3,
     "metadata": {},
     "source": [
      "Validating published data"
     ]
    },
    {
     "cell_type": "markdown",
     "metadata": {},
     "source": [
      "Quality control via peer review is integral to traditional scholarly publication so it is no surprise that, in reference to data publication, the RIN noted \"[t]here is, for some, also an implication that the information has been through a quality control process\" ([Swan & Brown, 2008](http://eprints.ecs.soton.ac.uk/16742)).\n",
      "Even in regard to novel material like data, researchers trust the traditional scholarly publication process: our respondents trusted peer review and use in a research paper more than any other indicators of quality.\n",
      "However, less than half expected published data to have been used in a published research paper and only one third expected it to have been peer reviewed.\n",
      "We conclude, with the RIN, that researchers don't have a clear idea what quality control to expect from published data.\n",
      "In this uncertainty, the research and scholarly communication communities are in perfect agreement.\n",
      "How, and how extensively, to assess data quality is the least settled of the many open questions surrounding data publication, and different initiatives take a variety of approaches, including collecting user feedback, distinct technical and scientific review, and closely modeling literature peer review ([Kratz & Strasser, 2014](http://dx.doi.org/10.12688/f1000research.3979.3))."
     ]
    },
    {
     "cell_type": "markdown",
     "metadata": {},
     "source": [
      "Peer review establishes the trustworthiness of dataset and elevates its perceived value more than any other factor in this survey.\n",
      "Despite one respondent's remark that \"I have never heard this term applied to a dataset and I don't know what it means,\" expectations of peer review were more consistent than of publication. \n",
      "Whereas only 68% of respondents selected even the most popular feature in the question on data publication, 90% agreed that they expect data peer review to include evaluation of collection and processing methods.\n",
      "In fact, half of the peer review assessments were selected by more than 68% of respondents."
     ]
    },
    {
     "cell_type": "markdown",
     "metadata": {},
     "source": [
      "Unsurprisingly, a majority of respondents expect assessments that require domain expertise, i.e. that peer review involve review by peers in their field.\n",
      "Assessment of plausibility was linked with three other assessment that require domain expertise: method evaluation, adequacy of metadata for replication, and potential novelty/impact.\n",
      "The high (80%) expectation that peer review of data includes peer review of its documentation/metadata suggests that researchers are aware of the critical importance of documentation for data reuse and replication.\n",
      "That and the low (22%) expectation that peer review consider novelty/impact are in line with current data journal peer review processes and guidelines ([Kratz & Strasser, 2014](http://dx.doi.org/10.12688/f1000research.3979.3)).\n",
      "However, our survey question focused on the aspects of a data publication that might be assessed, not the review process, and peer review expectations might be satisfied through any number of pre- or post-publication processes.\n",
      "We conclude that models of data publication without peer review are unlikely to confuse researchers, but that peer review greatly enhances both reuse and reward.\n",
      "Furthermore, assessment processes that at least meet the expectations of peer review will be critical for data publications to attain a status at all comparable to that of journal articles."
     ]
    },
    {
     "cell_type": "markdown",
     "metadata": {},
     "source": [
      "The idea that \"data use in its own right provides a form of review\" ([Parsons et al., 2010](http://dx.doi.org/10.1029/2010EO340001)) is frequently expressed in the conversation around data publication. \n",
      "Reuse could be documented through citations from research papers to the dataset or direct feedback from researchers who used the data.\n",
      "Based on past experiences, we were surprised that successful reuse did not inspire more trust; both peer review and \"basis of a traditional paper\" inspired slightly more confidence than reuse.\n",
      "It is worth nothing that serving as the basis of a research paper by the dataset creator is itself evidence of successful use, just not by a third party.\n",
      "However, respondents did consider citations to be the most useful metric for assessing value/impact.\n",
      "This apparent contradiction could result from evaluating trustworthiness and impact differently or from different concepts of  \"successful\" reuse and reuse that that results in a citation.\n",
      "The combined value of enhancing trust and establishing impact makes tracking dataset citations eminently worthwhile, but still no substitute for peer review."
     ]
    },
    {
     "cell_type": "heading",
     "level": 3,
     "metadata": {},
     "source": [
      "Credit for publishing data"
     ]
    },
    {
     "cell_type": "markdown",
     "metadata": {},
     "source": [
      "The scholarly communication community agrees that data should be cited formally in the reference list ([Joint Declaration of Data Citation Principles](http://www.force11.org/node/4769)), but this is rarely actually done ([Sieber & Trumbo, 1995](http://dx.doi.org/10.1007/BF02628694); [Mooney, 2011](http://dx.doi.org/10.1087/20110204); [Mooney & Newton, 2012](http://dx.doi.org/10.7710/2162-3309.1035)).\n",
      "In a 1995 survey of 198 papers that used published social science datasets, 19% cited the dataset with at least the title in the reference list ([Sieber & Trumbo, 1995](http://dx.doi.org/10.1007/BF02628694)).\n",
      "A followup 17 years later found that only 17% of papers meeting even this low standard, showing that practice has not improved ([Mooney & Newton, 2012](http://dx.doi.org/10.7710/2162-3309.1035)).\n",
      "The most common actual approach is informal citation in the methods or results section of the paper; 30.8% of papers in 1995 and 69.2% in 2012 included the dataset title somewhere in the text.\n",
      "Notwithstanding thi dismal state of practice, researchers agree that the correct approach is formal citation; 95% of respondents to DataONE said that formal citation was a fair condition for data sharing, 87% of astrobiologists said the same, and 71% of biodiversity researchers said they would like their data to be cited \"\"in the references like normal publications\" ([Tenopir et al., 2011](http://dx.doi.org/10.1371/journal.pone.0021101); [Aydinoglu et al., 2014](http://dx.doi.org/10.1089/ast.2013.1127); [Enke et al., 2012](http://dx.doi.org/10.1016/j.ecoinf.2012.03.004)).\n",
      "Here too, formal citation was the most popular response to both how a dataset creator should be credited and how the respondent actually credited data creators.\n",
      "No respondents admitted to citing data informally in the text.\n",
      "This apparent disconnect between what is observed in the social science literature and self-reported practice could arise in any of a number or ways: it may be that social science is not a representative discipline, that occasions when respondents cited data formally are easier to bring to mind, or that researchers define dataset reuse differently than the authors of the literature surveys.\n",
      "For instance, a biologist who uses a sequence from GenBank and mentions the accession number in the methods section of the paper might not think of that activity as data reuse warranting a formal citation.\n",
      "Beyond notions of credit, formal data citations are useful to the 71% of respondents to the EAGDA survey who already track use of their datasets \"through details of publications generated using the data\" ([Bobrow et al., 2014](http://www.wellcome.ac.uk/stellent/groups/corporatesite/@msh_peda/documents/web_document/wtp056495.pdf)). \n",
      "We conclude that researchers are aware of the benefits of formal data citation and suggest that data citation efforts focus on implementation rather than persuasion. "
     ]
    },
    {
     "cell_type": "markdown",
     "metadata": {},
     "source": [
      "While respondents deemed citation the most useful metric of dataset value, they also attached high value to download counts.\n",
      "These preferences align with the practices reported in the EAGDA survey, where 43% of respondents tracked downloads of their datasets ([Bobrow et al., 2014](http://www.wellcome.ac.uk/stellent/groups/corporatesite/@msh_peda/documents/web_document/wtp056495.pdf)).\n",
      "In the present scholarly communication infrastructure, repositories can count downloads much more easily than citations; citations are preferable, but downloads are the \"low hanging fruit\" of data metrics.\n",
      "In comparison to download counts, appreciation of altmetrics (e.g. mentions in social media or the popular press) was low: only one third of respondents found them even somewhat useful in assessing impact.\n",
      "Altmetrics for research articles are still being developed, so it is not surprising that researchers are unsure what they might signify for data.\n",
      "For data publishers, there is certainly no harm in providing altmetrics-- and a majority of respondents did find them at least slightly useful-- but they are unlikely to have much impact in the short term."
     ]
    },
    {
     "cell_type": "markdown",
     "metadata": {},
     "source": [
      "Researchers see the time required as the biggest cost to data sharing, but the risk they most fear is that \"data vultures\" will strip the data for publications without adequately acknowledging the creator(s) ([Kim & Stanton, 2012](http://www.shodor.org/media/content/jocse/volume3/issue1/jocse_volume3_issue1#page=53); ).\n",
      "To learn how well-founded these fears are, we asked respondents how satisfied they were with their credit the last time someone published using their data.\n",
      "The majority felt that the credit was appropriate, but the fraction that felt shortchanged (22%) is too large to ignore, and we must conclude that this dissatisfaction is a real problem.\n",
      "Whether the problem is ultimately with the way dataset creators are credited or the way dataset creators _expect_ to be credited is for research communities to decide.\n",
      "We can say that there was no significant difference in how satisfied and dissatisfied respondents thought dataset creators should be credited, so the variability in satisfaction was most likely driven by variability in credit received rather than the respondent's expectation.\n",
      "As data publication takes shape, the problem can be reduced by solidification of community norms around data use, increased prestige for dataset creators, and better adoption of formal data citation."
     ]
    },
    {
     "cell_type": "heading",
     "level": 3,
     "metadata": {},
     "source": [
      "Practical conclusions"
     ]
    },
    {
     "cell_type": "markdown",
     "metadata": {},
     "source": [
      "The results of this survey offer some practical guidance for data publishers seeking to meet researcher expectations and enhance the value of datasets.\n",
      "Above all else, researchers expect published data to be accessible, generally through a database or repository; this fits well with current practice and, indeed, with the idea of publication at its most fundamental.\n",
      "The research and scholarly communication communities agree that formal citation is the way to credit a dataset creator, and a number of steps can be taken to encourage this practice.\n",
      "Data publishers should enable formal citation (e.g. by assigning persistent identifiers and specifying a preferred citation format), and article publishers should encourage authors to cite data formally in the reference list.\n",
      "Data publishers should track and aggregate citations to their datasets to the extent feasible; at a minimum, they should publicize download counts, which are less valued by researchers but easier to implement.\n",
      "Data papers enhance dataset value, but much of the value of a peer-reviewed data paper can be obtained by peer review alone.\n",
      "Peer review is not integral to data publication for researchers, but it remains the gold standard of both trustworthiness and prestige.\n",
      "Repositories and databases can make data more useful to both creators and users by incorporating peer review, whether by managing the process themselves or integrating with peer-reviewed data journals.\n",
      "While many aspects of data peer review are unresolved, two clear expectations that should be met are that true peers will supply domain expertise and that evaluation of metadata will play a significant role."
     ]
    },
    {
     "cell_type": "heading",
     "level": 2,
     "metadata": {},
     "source": [
      "Appendix"
     ]
    },
    {
     "cell_type": "markdown",
     "metadata": {},
     "source": [
      "Additional figures and analysis that does not appear in the figures of the published paper. This section is considerably rougher in format and documentation that the preceeding."
     ]
    },
    {
     "cell_type": "heading",
     "level": 2,
     "metadata": {},
     "source": [
      "Statistical functions"
     ]
    },
    {
     "cell_type": "code",
     "collapsed": false,
     "input": [
      "def dvar_by_ivar(dvar, dvar_values, ivar):    \n",
      "    \"\"\"\n",
      "    utility to group a likert-scale question by another column \n",
      "    (e.g., group peer review definition by research role)\n",
      "    \"\"\"\n",
      "    checkbox_responses = expand_checkbox(dvar.dropna(), dvar_values)\n",
      "    checkbox_responses[ivar.name] = ivar\n",
      "\n",
      "    # group by ivar values \n",
      "    grouped_by_ivar = checkbox_responses.groupby(ivar.name)\n",
      "    \n",
      "    # create a DataFrame where index= ivar values, columns = multi-index [dvar_values, [True, False]],\n",
      "    # cell values= count for each ivar value, dvar value, and bool value\n",
      "    grouped_frame = grouped_by_ivar.agg([np.count_nonzero, lambda x: np.size(x) - np.count_nonzero(x)])\n",
      "    grouped_frame = grouped_frame.rename(columns={'count_nonzero' : True, '<lambda>' : False})\n",
      "    \n",
      "    return grouped_frame"
     ],
     "language": "python",
     "metadata": {},
     "outputs": [],
     "prompt_number": 52
    },
    {
     "cell_type": "heading",
     "level": 3,
     "metadata": {},
     "source": [
      "Chi square for checkbox questions"
     ]
    },
    {
     "cell_type": "code",
     "collapsed": false,
     "input": [
      "def validate_chi_square(expected_values, counts=1):\n",
      "    \"\"\"\n",
      "    check for sufficiently high expected counts in each cell\n",
      "    \"\"\"\n",
      "    for cell in expected_values:\n",
      "        if cell.min() < counts:\n",
      "            print(\"expected count less than \" + str(counts))\n",
      "            \n",
      "def chkbx_chi_square(dvar, dvar_values, ivar, validate=True):\n",
      "\n",
      "    grouped_frame = dvar_by_ivar(dvar, dvar_values, ivar)\n",
      "    \n",
      "    # calculate chi square for each dvar value & return all of them in a DataFrame\n",
      "    output = grouped_frame.groupby(level=0, axis=1).apply(lambda x: sps.chi2_contingency(x.as_matrix()))\n",
      "    output = output.apply(lambda x: pd.Series(x, index = ['chi2', 'p', 'df', 'expected_values']))\n",
      "    \n",
      "    if validate: \n",
      "        validate_chi_square(output.expected_values)\n",
      "    \n",
      "    return output"
     ],
     "language": "python",
     "metadata": {},
     "outputs": [],
     "prompt_number": 53
    },
    {
     "cell_type": "heading",
     "level": 3,
     "metadata": {},
     "source": [
      "Fisher exact test for checkbox questions"
     ]
    },
    {
     "cell_type": "code",
     "collapsed": false,
     "input": [
      "def chbx_fisher_exact(dvar, dvar_values, ivar):\n",
      "    grouped_frame = dvar_by_ivar(dvar, dvar_values, ivar)\n",
      "    output = grouped_frame.groupby(level=0, axis=1).apply(lambda x: sps.fisher_exact(x.as_matrix()))\n",
      "    output = output.apply(lambda x: pd.Series(x, index = ['OR', 'p']))\n",
      "    return output"
     ],
     "language": "python",
     "metadata": {},
     "outputs": [],
     "prompt_number": 54
    },
    {
     "cell_type": "code",
     "collapsed": false,
     "input": [
      "def combinatorial_fisher_exact(checkbox_responses):\n",
      "    \"\"\"\n",
      "    checkbox_responses should be a DataFrame in format:\n",
      "                answer1 answer2 ...\n",
      "    respondent1 T/F     T/F\n",
      "    respondent2 T/F     T/F\n",
      "    ...\n",
      "    \n",
      "    returns a DataFrame in format:\n",
      "                option1         option2       ...\n",
      "                OR     p-value  OR    p-value\n",
      "    option1     NaN    NaN      #>1   #\n",
      "    option2     #>1    #        NaN   NaN     ...\n",
      "    ...\n",
      "    \n",
      "    all ORs are calculated to be >1, returned frame is diagonally symmetrical \n",
      "    \"\"\"\n",
      "    \n",
      "    return_columns = pd.MultiIndex.from_product([checkbox_responses.columns, ['OR', 'p-value']])\n",
      "    \n",
      "    return_frame = pd.DataFrame(index=checkbox_responses.columns, columns=return_columns)\n",
      "    \n",
      "    i = 0\n",
      "    for a in checkbox_responses.columns:\n",
      "        i += 1\n",
      "        for b in checkbox_responses.columns[i:]:\n",
      "            square = pd.DataFrame({ 0 : 0, 0 : 0}, index=[True, False], columns=[True, False])        \n",
      "        \n",
      "            # fill in counts\n",
      "            square[True] = (checkbox_responses[checkbox_responses[a] == True][b].value_counts())\n",
      "            square[False] = (checkbox_responses[checkbox_responses[a] == False][b].value_counts())\n",
      "\n",
      "            odds_ratio, p = sps.fisher_exact(square.as_matrix())\n",
      "            \n",
      "            if odds_ratio < 1:\n",
      "                odds_ratio, p = sps.fisher_exact(square.T.as_matrix())\n",
      "                \n",
      "            \n",
      "            return_frame.loc[a,(b,'OR')] = return_frame.loc[b,(a,'OR')] = odds_ratio\n",
      "            return_frame.loc[a,(b,'p-value')] = return_frame.loc[b,(a,'p-value')]= p\n",
      "\n",
      "    return return_frame\n",
      "                    \n",
      "def checkbox_fisher_exact(question, answers):\n",
      "    \n",
      "    # DF of bools; responders x checkbox (checked = True) \n",
      "    checkbox_responses = expand_checkbox(question.dropna(), answers)\n",
      "    \n",
      "    # DF of True and False counts for each checkbox\n",
      "    count_table = checkbox_responses.apply(lambda x: x.value_counts()).T\n",
      "    \n",
      "    return combinatorial_fisher_exact(checkbox_responses)\n"
     ],
     "language": "python",
     "metadata": {},
     "outputs": [],
     "prompt_number": 55
    },
    {
     "cell_type": "heading",
     "level": 3,
     "metadata": {},
     "source": [
      "Jackknife-ish systematic permutation "
     ]
    },
    {
     "cell_type": "heading",
     "level": 2,
     "metadata": {},
     "source": [
      "Few differences in attitudes between disciplines were detected."
     ]
    },
    {
     "cell_type": "markdown",
     "metadata": {},
     "source": [
      "Statistical significance was tested using Fisher's exact test where possible (i.e., for 2x2 tables) and contingency $\\chi^{2}$ in all other cases.\n",
      "A statistical significance cutoff of $\\alpha=0.05$ was used. \n",
      "When testing for e.g., effects of discipline or prior experience, each answer choice was tested separately, then the Bonferroni correction for multiple hypothesis testing was applied to adjust $\\alpha$ for that question; this is a conservative approach that may not detect subtle differences.\n",
      "Mathematicians were omitted from $\\chi^{2}$  significance testing for effects of discipline because their low $n$ led to unacceptably small expected count numbers.\n",
      "The robustness of all significant results was confirmed using a jackknife procedure in which the test was repeated systematically with each respondent removed; the number of caseses in which the absence of a single respondent moved the p-value accross the designated significance threshold is recorded in the \"changed outcomes\" column."
     ]
    },
    {
     "cell_type": "code",
     "collapsed": false,
     "input": [
      "# Not enough mathematicians responded to test reliably.\n",
      "populated_disciplines = responses[responses.discipline != \"Mathematics\"].discipline"
     ],
     "language": "python",
     "metadata": {},
     "outputs": [],
     "prompt_number": 56
    },
    {
     "cell_type": "heading",
     "level": 4,
     "metadata": {},
     "source": [
      "Discipline has no significant effect on use of channels for sharing data."
     ]
    },
    {
     "cell_type": "code",
     "collapsed": false,
     "input": [
      "alpha = 0.05/4\n",
      "\n",
      "how_shared_by_discipline = chkbx_chi_square(responses.how_shared, SHARING_CHANNELS, populated_disciplines)\n",
      "\n",
      "how_shared_by_discipline_chi2_frames = []\n",
      "for frame in jacknifed_responses:\n",
      "    how_shared_by_discipline_chi2_frames.append(chkbx_chi_square(frame.how_shared, SHARING_CHANNELS, \n",
      "                                                                 populated_disciplines, validate=False))\n",
      "how_shared_by_discipline['changed outcomes'] = jacknife_effect_1d(how_shared_by_discipline_chi2_frames, \n",
      "                                                                  how_shared_by_discipline, alpha=alpha)\n",
      "\n",
      "display(how_shared_by_discipline)\n",
      "print(\"alpha = \" + str(alpha))"
     ],
     "language": "python",
     "metadata": {},
     "outputs": [
      {
       "html": [
        "<div style=\"max-height:1000px;max-width:1500px;overflow:auto;\">\n",
        "<table border=\"1\" class=\"dataframe\">\n",
        "  <thead>\n",
        "    <tr style=\"text-align: right;\">\n",
        "      <th></th>\n",
        "      <th>chi2</th>\n",
        "      <th>p</th>\n",
        "      <th>df</th>\n",
        "      <th>expected_values</th>\n",
        "      <th>changed outcomes</th>\n",
        "    </tr>\n",
        "  </thead>\n",
        "  <tbody>\n",
        "    <tr>\n",
        "      <th>Database or repository</th>\n",
        "      <td>  8.698958</td>\n",
        "      <td> 0.274998</td>\n",
        "      <td> 7</td>\n",
        "      <td> [[12.5582822086, 10.4417177914], [34.398773006...</td>\n",
        "      <td> 0</td>\n",
        "    </tr>\n",
        "    <tr>\n",
        "      <th>Email / direct contact</th>\n",
        "      <td> 14.215072</td>\n",
        "      <td> 0.047486</td>\n",
        "      <td> 7</td>\n",
        "      <td> [[19.8957055215, 3.10429447853], [54.496932515...</td>\n",
        "      <td> 0</td>\n",
        "    </tr>\n",
        "    <tr>\n",
        "      <th>Journal website (as supplemental material)</th>\n",
        "      <td>  8.353407</td>\n",
        "      <td> 0.302464</td>\n",
        "      <td> 7</td>\n",
        "      <td> [[8.74846625767, 14.2515337423], [23.963190184...</td>\n",
        "      <td> 0</td>\n",
        "    </tr>\n",
        "    <tr>\n",
        "      <th>Personal or lab website</th>\n",
        "      <td>  9.764734</td>\n",
        "      <td> 0.202302</td>\n",
        "      <td> 7</td>\n",
        "      <td> [[7.61963190184, 15.3803680982], [20.871165644...</td>\n",
        "      <td> 0</td>\n",
        "    </tr>\n",
        "  </tbody>\n",
        "</table>\n",
        "</div>"
       ],
       "metadata": {},
       "output_type": "display_data",
       "text": [
        "                                                 chi2         p  df  \\\n",
        "Database or repository                       8.698958  0.274998   7   \n",
        "Email / direct contact                      14.215072  0.047486   7   \n",
        "Journal website (as supplemental material)   8.353407  0.302464   7   \n",
        "Personal or lab website                      9.764734  0.202302   7   \n",
        "\n",
        "                                                                              expected_values  \\\n",
        "Database or repository                      [[12.5582822086, 10.4417177914], [34.398773006...   \n",
        "Email / direct contact                      [[19.8957055215, 3.10429447853], [54.496932515...   \n",
        "Journal website (as supplemental material)  [[8.74846625767, 14.2515337423], [23.963190184...   \n",
        "Personal or lab website                     [[7.61963190184, 15.3803680982], [20.871165644...   \n",
        "\n",
        "                                            changed outcomes  \n",
        "Database or repository                                     0  \n",
        "Email / direct contact                                     0  \n",
        "Journal website (as supplemental material)                 0  \n",
        "Personal or lab website                                    0  "
       ]
      },
      {
       "output_type": "stream",
       "stream": "stdout",
       "text": [
        "alpha = 0.0125\n"
       ]
      }
     ],
     "prompt_number": 57
    },
    {
     "cell_type": "heading",
     "level": 4,
     "metadata": {},
     "source": [
      "Discipline has no significant effect on appropriate credit for sharing data."
     ]
    },
    {
     "cell_type": "code",
     "collapsed": false,
     "input": [
      "alpha = 0.05/4\n",
      "\n",
      "data_sharing_credit_by_discipline = chkbx_chi_square(responses.data_sharing_credit, HOW_CREDITED_ANSWERS, populated_disciplines)\n",
      "\n",
      "data_sharing_credit_by_discipline_chi2_frames = []\n",
      "for frame in jacknifed_responses:\n",
      "    data_sharing_credit_by_discipline_chi2_frames.append(chkbx_chi_square(frame.data_sharing_credit, HOW_CREDITED_ANSWERS, \n",
      "                                                                          populated_disciplines, validate=False))\n",
      "data_sharing_credit_by_discipline['changed outcomes'] = jacknife_effect_1d(data_sharing_credit_by_discipline_chi2_frames, \n",
      "                                                                           data_sharing_credit_by_discipline, alpha=alpha)\n",
      "\n",
      "display(data_sharing_credit_by_discipline)\n",
      "print(\"alpha = \" + str(alpha))"
     ],
     "language": "python",
     "metadata": {},
     "outputs": [
      {
       "html": [
        "<div style=\"max-height:1000px;max-width:1500px;overflow:auto;\">\n",
        "<table border=\"1\" class=\"dataframe\">\n",
        "  <thead>\n",
        "    <tr style=\"text-align: right;\">\n",
        "      <th></th>\n",
        "      <th>chi2</th>\n",
        "      <th>p</th>\n",
        "      <th>df</th>\n",
        "      <th>expected_values</th>\n",
        "      <th>changed outcomes</th>\n",
        "    </tr>\n",
        "  </thead>\n",
        "  <tbody>\n",
        "    <tr>\n",
        "      <th>Acknowledgement in the paper</th>\n",
        "      <td>  9.807940</td>\n",
        "      <td> 0.199721</td>\n",
        "      <td> 7</td>\n",
        "      <td> [[19.4385245902, 11.5614754098], [57.061475409...</td>\n",
        "      <td> 0</td>\n",
        "    </tr>\n",
        "    <tr>\n",
        "      <th>Authorship on paper</th>\n",
        "      <td> 16.347019</td>\n",
        "      <td> 0.022128</td>\n",
        "      <td> 7</td>\n",
        "      <td> [[12.3237704918, 18.6762295082], [36.176229508...</td>\n",
        "      <td> 2</td>\n",
        "    </tr>\n",
        "    <tr>\n",
        "      <th>Data cited in the reference list</th>\n",
        "      <td> 14.267247</td>\n",
        "      <td> 0.046627</td>\n",
        "      <td> 7</td>\n",
        "      <td> [[23.1229508197, 7.87704918033], [67.877049180...</td>\n",
        "      <td> 0</td>\n",
        "    </tr>\n",
        "    <tr>\n",
        "      <th>Data cited informally in the text of the paper</th>\n",
        "      <td> 10.540068</td>\n",
        "      <td> 0.159977</td>\n",
        "      <td> 7</td>\n",
        "      <td> [[4.44672131148, 26.5532786885], [13.053278688...</td>\n",
        "      <td> 0</td>\n",
        "    </tr>\n",
        "  </tbody>\n",
        "</table>\n",
        "</div>"
       ],
       "metadata": {},
       "output_type": "display_data",
       "text": [
        "                                                     chi2         p  df  \\\n",
        "Acknowledgement in the paper                     9.807940  0.199721   7   \n",
        "Authorship on paper                             16.347019  0.022128   7   \n",
        "Data cited in the reference list                14.267247  0.046627   7   \n",
        "Data cited informally in the text of the paper  10.540068  0.159977   7   \n",
        "\n",
        "                                                                                  expected_values  \\\n",
        "Acknowledgement in the paper                    [[19.4385245902, 11.5614754098], [57.061475409...   \n",
        "Authorship on paper                             [[12.3237704918, 18.6762295082], [36.176229508...   \n",
        "Data cited in the reference list                [[23.1229508197, 7.87704918033], [67.877049180...   \n",
        "Data cited informally in the text of the paper  [[4.44672131148, 26.5532786885], [13.053278688...   \n",
        "\n",
        "                                                changed outcomes  \n",
        "Acknowledgement in the paper                                   0  \n",
        "Authorship on paper                                            2  \n",
        "Data cited in the reference list                               0  \n",
        "Data cited informally in the text of the paper                 0  "
       ]
      },
      {
       "output_type": "stream",
       "stream": "stdout",
       "text": [
        "alpha = 0.0125\n"
       ]
      }
     ],
     "prompt_number": 58
    },
    {
     "cell_type": "heading",
     "level": 4,
     "metadata": {},
     "source": [
      "Discipline has a significant effect on expectation of formal metadata."
     ]
    },
    {
     "cell_type": "code",
     "collapsed": false,
     "input": [
      "alpha = 0.05/8\n",
      "\n",
      "publish_definition_by_discipline = chkbx_chi_square(responses.publish_definition, DP_FEATURES, populated_disciplines)\n",
      "\n",
      "publish_definition_by_discipline_chi2_frames = []\n",
      "for frame in jacknifed_responses:\n",
      "    publish_definition_by_discipline_chi2_frames.append(chkbx_chi_square(frame.publish_definition, DP_FEATURES, \n",
      "                                                                         populated_disciplines, validate=False))\n",
      "publish_definition_by_discipline['changed outcomes'] = jacknife_effect_1d(publish_definition_by_discipline_chi2_frames, \n",
      "                                                                          publish_definition_by_discipline, alpha=alpha)\n",
      "display(publish_definition_by_discipline)\n",
      "print(\"alpha = \" + str(alpha))"
     ],
     "language": "python",
     "metadata": {},
     "outputs": [
      {
       "html": [
        "<div style=\"max-height:1000px;max-width:1500px;overflow:auto;\">\n",
        "<table border=\"1\" class=\"dataframe\">\n",
        "  <thead>\n",
        "    <tr style=\"text-align: right;\">\n",
        "      <th></th>\n",
        "      <th>chi2</th>\n",
        "      <th>p</th>\n",
        "      <th>df</th>\n",
        "      <th>expected_values</th>\n",
        "      <th>changed outcomes</th>\n",
        "    </tr>\n",
        "  </thead>\n",
        "  <tbody>\n",
        "    <tr>\n",
        "      <th>A data paper (without conclusions) describes the data</th>\n",
        "      <td> 10.721173</td>\n",
        "      <td> 0.151252</td>\n",
        "      <td> 7</td>\n",
        "      <td> [[6.94605809129, 24.0539419087], [19.941908713...</td>\n",
        "      <td> 0</td>\n",
        "    </tr>\n",
        "    <tr>\n",
        "      <th>A traditional research paper is based on the data</th>\n",
        "      <td>  5.794857</td>\n",
        "      <td> 0.563897</td>\n",
        "      <td> 7</td>\n",
        "      <td> [[13.2489626556, 17.7510373444], [38.037344398...</td>\n",
        "      <td> 0</td>\n",
        "    </tr>\n",
        "    <tr>\n",
        "      <th>Assigned a unique identifier such as a DOI</th>\n",
        "      <td>  8.159624</td>\n",
        "      <td> 0.318729</td>\n",
        "      <td> 7</td>\n",
        "      <td> [[12.2199170124, 18.7800829876], [35.082987551...</td>\n",
        "      <td> 0</td>\n",
        "    </tr>\n",
        "    <tr>\n",
        "      <th>Dataset is \"peer reviewed\"</th>\n",
        "      <td>  8.361368</td>\n",
        "      <td> 0.301810</td>\n",
        "      <td> 7</td>\n",
        "      <td> [[9.00414937759, 21.9958506224], [25.850622406...</td>\n",
        "      <td> 0</td>\n",
        "    </tr>\n",
        "    <tr>\n",
        "      <th>Deposited in a database or repository</th>\n",
        "      <td> 14.289540</td>\n",
        "      <td> 0.046265</td>\n",
        "      <td> 7</td>\n",
        "      <td> [[16.7219917012, 14.2780082988], [48.008298755...</td>\n",
        "      <td> 0</td>\n",
        "    </tr>\n",
        "    <tr>\n",
        "      <th>Openly available without contacting the author(s)</th>\n",
        "      <td> 10.742765</td>\n",
        "      <td> 0.150240</td>\n",
        "      <td> 7</td>\n",
        "      <td> [[20.8381742739, 10.1618257261], [59.825726141...</td>\n",
        "      <td> 0</td>\n",
        "    </tr>\n",
        "    <tr>\n",
        "      <th>Packaged with a thorough description of the data</th>\n",
        "      <td> 15.646527</td>\n",
        "      <td> 0.028549</td>\n",
        "      <td> 7</td>\n",
        "      <td> [[12.2199170124, 18.7800829876], [35.082987551...</td>\n",
        "      <td> 0</td>\n",
        "    </tr>\n",
        "    <tr>\n",
        "      <th>Packaged with formal metadata describing the data (e.g. as XML)</th>\n",
        "      <td> 33.025723</td>\n",
        "      <td> 0.000026</td>\n",
        "      <td> 7</td>\n",
        "      <td> [[7.97510373444, 23.0248962656], [22.896265560...</td>\n",
        "      <td> 0</td>\n",
        "    </tr>\n",
        "  </tbody>\n",
        "</table>\n",
        "</div>"
       ],
       "metadata": {},
       "output_type": "display_data",
       "text": [
        "                                                                      chi2  \\\n",
        "A data paper (without conclusions) describes the data            10.721173   \n",
        "A traditional research paper is based on the data                 5.794857   \n",
        "Assigned a unique identifier such as a DOI                        8.159624   \n",
        "Dataset is \"peer reviewed\"                                        8.361368   \n",
        "Deposited in a database or repository                            14.289540   \n",
        "Openly available without contacting the author(s)                10.742765   \n",
        "Packaged with a thorough description of the data                 15.646527   \n",
        "Packaged with formal metadata describing the data (e.g. as XML)  33.025723   \n",
        "\n",
        "                                                                        p  df  \\\n",
        "A data paper (without conclusions) describes the data            0.151252   7   \n",
        "A traditional research paper is based on the data                0.563897   7   \n",
        "Assigned a unique identifier such as a DOI                       0.318729   7   \n",
        "Dataset is \"peer reviewed\"                                       0.301810   7   \n",
        "Deposited in a database or repository                            0.046265   7   \n",
        "Openly available without contacting the author(s)                0.150240   7   \n",
        "Packaged with a thorough description of the data                 0.028549   7   \n",
        "Packaged with formal metadata describing the data (e.g. as XML)  0.000026   7   \n",
        "\n",
        "                                                                                                   expected_values  \\\n",
        "A data paper (without conclusions) describes the data            [[6.94605809129, 24.0539419087], [19.941908713...   \n",
        "A traditional research paper is based on the data                [[13.2489626556, 17.7510373444], [38.037344398...   \n",
        "Assigned a unique identifier such as a DOI                       [[12.2199170124, 18.7800829876], [35.082987551...   \n",
        "Dataset is \"peer reviewed\"                                       [[9.00414937759, 21.9958506224], [25.850622406...   \n",
        "Deposited in a database or repository                            [[16.7219917012, 14.2780082988], [48.008298755...   \n",
        "Openly available without contacting the author(s)                [[20.8381742739, 10.1618257261], [59.825726141...   \n",
        "Packaged with a thorough description of the data                 [[12.2199170124, 18.7800829876], [35.082987551...   \n",
        "Packaged with formal metadata describing the data (e.g. as XML)  [[7.97510373444, 23.0248962656], [22.896265560...   \n",
        "\n",
        "                                                                 changed outcomes  \n",
        "A data paper (without conclusions) describes the data                           0  \n",
        "A traditional research paper is based on the data                               0  \n",
        "Assigned a unique identifier such as a DOI                                      0  \n",
        "Dataset is \"peer reviewed\"                                                      0  \n",
        "Deposited in a database or repository                                           0  \n",
        "Openly available without contacting the author(s)                               0  \n",
        "Packaged with a thorough description of the data                                0  \n",
        "Packaged with formal metadata describing the data (e.g. as XML)                 0  "
       ]
      },
      {
       "output_type": "stream",
       "stream": "stdout",
       "text": [
        "alpha = 0.00625\n"
       ]
      }
     ],
     "prompt_number": 59
    },
    {
     "cell_type": "heading",
     "level": 4,
     "metadata": {},
     "source": [
      "Discipline has a significant effect on expectation of standardized metadata."
     ]
    },
    {
     "cell_type": "code",
     "collapsed": false,
     "input": [
      "alpha = 0.05/6\n",
      "\n",
      "peer_review_definition_by_discipline = chkbx_chi_square(responses.peer_review_definition, PR_FEATURES, populated_disciplines)\n",
      "\n",
      "peer_review_definition_by_discipline_chi2_frames = []\n",
      "for frame in jacknifed_responses:\n",
      "    peer_review_definition_by_discipline_chi2_frames.append(chkbx_chi_square(frame.peer_review_definition, PR_FEATURES, \n",
      "                                                                             populated_disciplines, validate=False)) \n",
      "peer_review_definition_by_discipline['changed outcomes'] = jacknife_effect_1d(peer_review_definition_by_discipline_chi2_frames,\n",
      "                                                                              peer_review_definition_by_discipline, alpha=alpha)\n",
      "\n",
      "display(peer_review_definition_by_discipline)\n",
      "print \"alpha = \" + str(alpha)"
     ],
     "language": "python",
     "metadata": {},
     "outputs": [
      {
       "html": [
        "<div style=\"max-height:1000px;max-width:1500px;overflow:auto;\">\n",
        "<table border=\"1\" class=\"dataframe\">\n",
        "  <thead>\n",
        "    <tr style=\"text-align: right;\">\n",
        "      <th></th>\n",
        "      <th>chi2</th>\n",
        "      <th>p</th>\n",
        "      <th>df</th>\n",
        "      <th>expected_values</th>\n",
        "      <th>changed outcomes</th>\n",
        "    </tr>\n",
        "  </thead>\n",
        "  <tbody>\n",
        "    <tr>\n",
        "      <th>Collection and processing methods were evaluated</th>\n",
        "      <td> 14.227971</td>\n",
        "      <td> 0.047272</td>\n",
        "      <td> 7</td>\n",
        "      <td> [[28.0291666667, 2.97083333333], [80.470833333...</td>\n",
        "      <td> 0</td>\n",
        "    </tr>\n",
        "    <tr>\n",
        "      <th>Descriptive text is thorough enough to use or replicate the dataset</th>\n",
        "      <td> 13.592239</td>\n",
        "      <td> 0.058928</td>\n",
        "      <td> 7</td>\n",
        "      <td> [[25.0583333333, 5.94166666667], [71.941666666...</td>\n",
        "      <td> 0</td>\n",
        "    </tr>\n",
        "    <tr>\n",
        "      <th>Necessary metadata is standardized (e.g. in XML)</th>\n",
        "      <td> 26.667930</td>\n",
        "      <td> 0.000382</td>\n",
        "      <td> 7</td>\n",
        "      <td> [[12.0125, 18.9875], [34.4875, 54.5125], [4.26...</td>\n",
        "      <td> 0</td>\n",
        "    </tr>\n",
        "    <tr>\n",
        "      <th>Novelty/impact considered</th>\n",
        "      <td> 14.015437</td>\n",
        "      <td> 0.050907</td>\n",
        "      <td> 7</td>\n",
        "      <td> [[6.84583333333, 24.1541666667], [19.654166666...</td>\n",
        "      <td> 0</td>\n",
        "    </tr>\n",
        "    <tr>\n",
        "      <th>Plausibility considered based on area expertise</th>\n",
        "      <td>  7.207301</td>\n",
        "      <td> 0.407620</td>\n",
        "      <td> 7</td>\n",
        "      <td> [[19.2458333333, 11.7541666667], [55.254166666...</td>\n",
        "      <td> 0</td>\n",
        "    </tr>\n",
        "    <tr>\n",
        "      <th>Technical details have been checked (e.g. no missing files no missing values)</th>\n",
        "      <td>  6.849833</td>\n",
        "      <td> 0.444681</td>\n",
        "      <td> 7</td>\n",
        "      <td> [[21.8291666667, 9.17083333333], [62.670833333...</td>\n",
        "      <td> 0</td>\n",
        "    </tr>\n",
        "  </tbody>\n",
        "</table>\n",
        "</div>"
       ],
       "metadata": {},
       "output_type": "display_data",
       "text": [
        "                                                                                    chi2  \\\n",
        "Collection and processing methods were evaluated                               14.227971   \n",
        "Descriptive text is thorough enough to use or replicate the dataset            13.592239   \n",
        "Necessary metadata is standardized (e.g. in XML)                               26.667930   \n",
        "Novelty/impact considered                                                      14.015437   \n",
        "Plausibility considered based on area expertise                                 7.207301   \n",
        "Technical details have been checked (e.g. no missing files no missing values)   6.849833   \n",
        "\n",
        "                                                                                      p  \\\n",
        "Collection and processing methods were evaluated                               0.047272   \n",
        "Descriptive text is thorough enough to use or replicate the dataset            0.058928   \n",
        "Necessary metadata is standardized (e.g. in XML)                               0.000382   \n",
        "Novelty/impact considered                                                      0.050907   \n",
        "Plausibility considered based on area expertise                                0.407620   \n",
        "Technical details have been checked (e.g. no missing files no missing values)  0.444681   \n",
        "\n",
        "                                                                               df  \\\n",
        "Collection and processing methods were evaluated                                7   \n",
        "Descriptive text is thorough enough to use or replicate the dataset             7   \n",
        "Necessary metadata is standardized (e.g. in XML)                                7   \n",
        "Novelty/impact considered                                                       7   \n",
        "Plausibility considered based on area expertise                                 7   \n",
        "Technical details have been checked (e.g. no missing files no missing values)   7   \n",
        "\n",
        "                                                                                                                 expected_values  \\\n",
        "Collection and processing methods were evaluated                               [[28.0291666667, 2.97083333333], [80.470833333...   \n",
        "Descriptive text is thorough enough to use or replicate the dataset            [[25.0583333333, 5.94166666667], [71.941666666...   \n",
        "Necessary metadata is standardized (e.g. in XML)                               [[12.0125, 18.9875], [34.4875, 54.5125], [4.26...   \n",
        "Novelty/impact considered                                                      [[6.84583333333, 24.1541666667], [19.654166666...   \n",
        "Plausibility considered based on area expertise                                [[19.2458333333, 11.7541666667], [55.254166666...   \n",
        "Technical details have been checked (e.g. no missing files no missing values)  [[21.8291666667, 9.17083333333], [62.670833333...   \n",
        "\n",
        "                                                                               changed outcomes  \n",
        "Collection and processing methods were evaluated                                              0  \n",
        "Descriptive text is thorough enough to use or replicate the dataset                           0  \n",
        "Necessary metadata is standardized (e.g. in XML)                                              0  \n",
        "Novelty/impact considered                                                                     0  \n",
        "Plausibility considered based on area expertise                                               0  \n",
        "Technical details have been checked (e.g. no missing files no missing values)                 0  "
       ]
      },
      {
       "output_type": "stream",
       "stream": "stdout",
       "text": [
        "alpha = 0.00833333333333\n"
       ]
      }
     ],
     "prompt_number": 60
    },
    {
     "cell_type": "markdown",
     "metadata": {},
     "source": [
      "The only two significant differences among disciplines related to structured metadata: discipline had a significant effect on expectation of formal metadata in the publication process (corrected $\\alpha= 0.006$, $\\chi^{2}= 33.0$, $p= 2.6\\times10^{-5}$) and consideration of standardized metadata in peer review (corrected $\\alpha= 0.008$, $\\chi^{2}= 26.7$, $p= 3.8\\times10^{-4}$). \n",
      "In both cases, the most notable distinctions were the expectations of a large fraction of environmental scientists: 63% (compared to 25% in the population as a whole) for publication and 73% (compared to 39%) for peer review."
     ]
    },
    {
     "cell_type": "heading",
     "level": 3,
     "metadata": {},
     "source": [
      "Environmental scientists have high expectations for formal metadata."
     ]
    },
    {
     "cell_type": "heading",
     "level": 4,
     "metadata": {},
     "source": [
      "Environmental sciencists have an especially high expectation that data publication include formal metadata."
     ]
    },
    {
     "cell_type": "code",
     "collapsed": false,
     "input": [
      "dp_checkbox = expand_checkbox(responses.publish_definition.dropna(), DP_FEATURES)\n",
      "dp_checkbox['discipline'] = responses.discipline\n",
      "counts = dp_checkbox.groupby('discipline').sum()\n",
      "disc_totals = dp_checkbox.discipline.value_counts()\n",
      "\n",
      "for disc in counts.index:\n",
      "    counts.ix[disc] = counts.ix[disc].apply(lambda x: float(x) / disc_totals[disc])\n",
      "\n",
      "fig = counts[\"Packaged with formal metadata describing the data (e.g. as XML)\"].plot(kind='bar', color=BAR_COLOR, \n",
      "                                                                               grid='off', ylim=(0,1))\n",
      "apply_cdl_style(fig)\n"
     ],
     "language": "python",
     "metadata": {},
     "outputs": [
      {
       "metadata": {},
       "output_type": "pyout",
       "prompt_number": 101,
       "text": [
        "<matplotlib.axes._subplots.AxesSubplot at 0x1151bb590>"
       ]
      },
      {
       "metadata": {},
       "output_type": "display_data",
       "png": "[encoded data removed]",
       "text": [
        "<matplotlib.figure.Figure at 0x1151c7610>"
       ]
      }
     ],
     "prompt_number": 101
    },
    {
     "cell_type": "markdown",
     "metadata": {},
     "source": [
      "The fraction of respondents who expect data publication to include formal metadata (e.g., as XML) is especially high for the discipline of environmetal science."
     ]
    },
    {
     "cell_type": "heading",
     "level": 4,
     "metadata": {},
     "source": [
      "Environmental sciencists have an especially high expectation that data peer review include standardized metadata."
     ]
    },
    {
     "cell_type": "code",
     "collapsed": false,
     "input": [
      "pr_checkbox = expand_checkbox(responses.peer_review_definition.dropna(), PR_FEATURES)\n",
      "pr_checkbox['discipline'] = responses.discipline\n",
      "counts = pr_checkbox.groupby('discipline').sum()\n",
      "disc_totals = pr_checkbox.discipline.value_counts()\n",
      "\n",
      "for disc in counts.index:\n",
      "    counts.ix[disc] = counts.ix[disc].apply(lambda x: float(x) / disc_totals[disc])\n",
      "#normalize = counts.apply(test.discipline.value_counts()\n",
      "#display(counts)\n",
      "fig = counts[\"Necessary metadata is standardized (e.g. in XML)\"].plot(kind='bar',color=BAR_COLOR,\n",
      "                                                                grid='off', ylim=(0,1),\n",
      "                                                                edgecolor='w')\n",
      "apply_cdl_style(fig)\n"
     ],
     "language": "python",
     "metadata": {},
     "outputs": [
      {
       "metadata": {},
       "output_type": "pyout",
       "prompt_number": 102,
       "text": [
        "<matplotlib.axes._subplots.AxesSubplot at 0x115420950>"
       ]
      },
      {
       "metadata": {},
       "output_type": "display_data",
       "png": "[encoded data removed]",
       "text": [
        "<matplotlib.figure.Figure at 0x1155f97d0>"
       ]
      }
     ],
     "prompt_number": 102
    },
    {
     "cell_type": "markdown",
     "metadata": {},
     "source": [
      "The fraction of respondents who expect data peer review to include standardized metadata (e.g., as XML) is especially high for the discipline of environmetal science."
     ]
    },
    {
     "cell_type": "heading",
     "level": 2,
     "metadata": {},
     "source": [
      "Few differences in attitudes between research roles were detected."
     ]
    },
    {
     "cell_type": "heading",
     "level": 4,
     "metadata": {},
     "source": [
      "Research role has no significant effect on use of channels for sharing data."
     ]
    },
    {
     "cell_type": "code",
     "collapsed": false,
     "input": [
      "alpha = 0.05/4\n",
      "\n",
      "how_shared_by_role = chkbx_chi_square(responses.how_shared, SHARING_CHANNELS, responses.role)\n",
      "\n",
      "how_shared_by_role_chi2_frames = []\n",
      "for frame in jacknifed_responses:\n",
      "    how_shared_by_role_chi2_frames.append(chkbx_chi_square(frame.how_shared, SHARING_CHANNELS, \n",
      "                                                           populated_disciplines, validate=False))\n",
      "how_shared_by_role['changed outcomes'] = jacknife_effect_1d(how_shared_by_role_chi2_frames, \n",
      "                                                            how_shared_by_discipline, alpha=alpha)\n",
      "\n",
      "display(how_shared_by_role)\n",
      "print(\"alpha = \" + str(alpha))"
     ],
     "language": "python",
     "metadata": {},
     "outputs": [
      {
       "html": [
        "<div style=\"max-height:1000px;max-width:1500px;overflow:auto;\">\n",
        "<table border=\"1\" class=\"dataframe\">\n",
        "  <thead>\n",
        "    <tr style=\"text-align: right;\">\n",
        "      <th></th>\n",
        "      <th>chi2</th>\n",
        "      <th>p</th>\n",
        "      <th>df</th>\n",
        "      <th>expected_values</th>\n",
        "      <th>changed outcomes</th>\n",
        "    </tr>\n",
        "  </thead>\n",
        "  <tbody>\n",
        "    <tr>\n",
        "      <th>Database or repository</th>\n",
        "      <td> 1.215118</td>\n",
        "      <td> 0.875603</td>\n",
        "      <td> 4</td>\n",
        "      <td> [[11.7857142857, 10.2142857143], [7.5, 6.5], [...</td>\n",
        "      <td> 0</td>\n",
        "    </tr>\n",
        "    <tr>\n",
        "      <th>Email / direct contact</th>\n",
        "      <td> 7.029752</td>\n",
        "      <td> 0.134324</td>\n",
        "      <td> 4</td>\n",
        "      <td> [[19.119047619, 2.88095238095], [12.1666666667...</td>\n",
        "      <td> 0</td>\n",
        "    </tr>\n",
        "    <tr>\n",
        "      <th>Journal website (as supplemental material)</th>\n",
        "      <td> 7.013019</td>\n",
        "      <td> 0.135202</td>\n",
        "      <td> 4</td>\n",
        "      <td> [[8.11904761905, 13.880952381], [5.16666666667...</td>\n",
        "      <td> 0</td>\n",
        "    </tr>\n",
        "    <tr>\n",
        "      <th>Personal or lab website</th>\n",
        "      <td> 9.499026</td>\n",
        "      <td> 0.049767</td>\n",
        "      <td> 4</td>\n",
        "      <td> [[7.33333333333, 14.6666666667], [4.6666666666...</td>\n",
        "      <td> 0</td>\n",
        "    </tr>\n",
        "  </tbody>\n",
        "</table>\n",
        "</div>"
       ],
       "metadata": {},
       "output_type": "display_data",
       "text": [
        "                                                chi2         p  df  \\\n",
        "Database or repository                      1.215118  0.875603   4   \n",
        "Email / direct contact                      7.029752  0.134324   4   \n",
        "Journal website (as supplemental material)  7.013019  0.135202   4   \n",
        "Personal or lab website                     9.499026  0.049767   4   \n",
        "\n",
        "                                                                              expected_values  \\\n",
        "Database or repository                      [[11.7857142857, 10.2142857143], [7.5, 6.5], [...   \n",
        "Email / direct contact                      [[19.119047619, 2.88095238095], [12.1666666667...   \n",
        "Journal website (as supplemental material)  [[8.11904761905, 13.880952381], [5.16666666667...   \n",
        "Personal or lab website                     [[7.33333333333, 14.6666666667], [4.6666666666...   \n",
        "\n",
        "                                            changed outcomes  \n",
        "Database or repository                                     0  \n",
        "Email / direct contact                                     0  \n",
        "Journal website (as supplemental material)                 0  \n",
        "Personal or lab website                                    0  "
       ]
      },
      {
       "output_type": "stream",
       "stream": "stdout",
       "text": [
        "alpha = 0.0125\n"
       ]
      }
     ],
     "prompt_number": 103
    },
    {
     "cell_type": "heading",
     "level": 4,
     "metadata": {},
     "source": [
      "Research role has no significant effect on appropriate credit for sharing data."
     ]
    },
    {
     "cell_type": "code",
     "collapsed": false,
     "input": [
      "alpha = 0.05/4\n",
      "\n",
      "data_sharing_credit_by_role = chkbx_chi_square(responses.data_sharing_credit, HOW_CREDITED_ANSWERS, responses.role)\n",
      "\n",
      "data_sharing_credit_by_role_chi2_frames = []\n",
      "for frame in jacknifed_responses:\n",
      "    data_sharing_credit_by_role_chi2_frames.append(chkbx_chi_square(frame.data_sharing_credit, HOW_CREDITED_ANSWERS, \n",
      "                                                                    populated_disciplines, validate=False))\n",
      "data_sharing_credit_by_role['changed outcomes'] = jacknife_effect_1d(data_sharing_credit_by_role_chi2_frames, \n",
      "                                                                     data_sharing_credit_by_role, alpha=alpha)\n",
      "\n",
      "display(data_sharing_credit_by_role)\n",
      "print \"alpha = \" + str(alpha)"
     ],
     "language": "python",
     "metadata": {},
     "outputs": [
      {
       "html": [
        "<div style=\"max-height:1000px;max-width:1500px;overflow:auto;\">\n",
        "<table border=\"1\" class=\"dataframe\">\n",
        "  <thead>\n",
        "    <tr style=\"text-align: right;\">\n",
        "      <th></th>\n",
        "      <th>chi2</th>\n",
        "      <th>p</th>\n",
        "      <th>df</th>\n",
        "      <th>expected_values</th>\n",
        "      <th>changed outcomes</th>\n",
        "    </tr>\n",
        "  </thead>\n",
        "  <tbody>\n",
        "    <tr>\n",
        "      <th>Acknowledgement in the paper</th>\n",
        "      <td> 11.922001</td>\n",
        "      <td> 0.017941</td>\n",
        "      <td> 4</td>\n",
        "      <td> [[25.8514056225, 15.1485943775], [17.654618473...</td>\n",
        "      <td> 0</td>\n",
        "    </tr>\n",
        "    <tr>\n",
        "      <th>Authorship on paper</th>\n",
        "      <td>  6.204855</td>\n",
        "      <td> 0.184363</td>\n",
        "      <td> 4</td>\n",
        "      <td> [[16.1365461847, 24.8634538153], [11.020080321...</td>\n",
        "      <td> 2</td>\n",
        "    </tr>\n",
        "    <tr>\n",
        "      <th>Data cited in the reference list</th>\n",
        "      <td>  2.559411</td>\n",
        "      <td> 0.634030</td>\n",
        "      <td> 4</td>\n",
        "      <td> [[30.7911646586, 10.2088353414], [21.028112449...</td>\n",
        "      <td> 0</td>\n",
        "    </tr>\n",
        "    <tr>\n",
        "      <th>Data cited informally in the text of the paper</th>\n",
        "      <td>  3.043897</td>\n",
        "      <td> 0.550506</td>\n",
        "      <td> 4</td>\n",
        "      <td> [[5.76305220884, 35.2369477912], [3.9357429718...</td>\n",
        "      <td> 0</td>\n",
        "    </tr>\n",
        "  </tbody>\n",
        "</table>\n",
        "</div>"
       ],
       "metadata": {},
       "output_type": "display_data",
       "text": [
        "                                                     chi2         p  df  \\\n",
        "Acknowledgement in the paper                    11.922001  0.017941   4   \n",
        "Authorship on paper                              6.204855  0.184363   4   \n",
        "Data cited in the reference list                 2.559411  0.634030   4   \n",
        "Data cited informally in the text of the paper   3.043897  0.550506   4   \n",
        "\n",
        "                                                                                  expected_values  \\\n",
        "Acknowledgement in the paper                    [[25.8514056225, 15.1485943775], [17.654618473...   \n",
        "Authorship on paper                             [[16.1365461847, 24.8634538153], [11.020080321...   \n",
        "Data cited in the reference list                [[30.7911646586, 10.2088353414], [21.028112449...   \n",
        "Data cited informally in the text of the paper  [[5.76305220884, 35.2369477912], [3.9357429718...   \n",
        "\n",
        "                                                changed outcomes  \n",
        "Acknowledgement in the paper                                   0  \n",
        "Authorship on paper                                            2  \n",
        "Data cited in the reference list                               0  \n",
        "Data cited informally in the text of the paper                 0  "
       ]
      },
      {
       "output_type": "stream",
       "stream": "stdout",
       "text": [
        "alpha = 0.0125\n"
       ]
      }
     ],
     "prompt_number": 69
    },
    {
     "cell_type": "heading",
     "level": 4,
     "metadata": {},
     "source": [
      "Research role has no stable significant effect on expectations of data publication."
     ]
    },
    {
     "cell_type": "code",
     "collapsed": false,
     "input": [
      "alpha = 0.05/8\n",
      "\n",
      "publish_definition_by_role = chkbx_chi_square(responses.publish_definition, DP_FEATURES, responses.role)\n",
      "\n",
      "publish_definition_by_role_chi2_frames = []\n",
      "for frame in jacknifed_responses:\n",
      "    publish_definition_by_role_chi2_frames.append(chkbx_chi_square(frame.publish_definition, DP_FEATURES, \n",
      "                                                                   responses.role, validate=False))\n",
      "publish_definition_by_role['changed outcomes'] = jacknife_effect_1d(publish_definition_by_role_chi2_frames, \n",
      "                                                                    publish_definition_by_role, alpha=alpha)\n",
      "\n",
      "display(publish_definition_by_role)\n",
      "print \"alpha = \" + str(alpha)"
     ],
     "language": "python",
     "metadata": {},
     "outputs": [
      {
       "html": [
        "<div style=\"max-height:1000px;max-width:1500px;overflow:auto;\">\n",
        "<table border=\"1\" class=\"dataframe\">\n",
        "  <thead>\n",
        "    <tr style=\"text-align: right;\">\n",
        "      <th></th>\n",
        "      <th>chi2</th>\n",
        "      <th>p</th>\n",
        "      <th>df</th>\n",
        "      <th>expected_values</th>\n",
        "      <th>changed outcomes</th>\n",
        "    </tr>\n",
        "  </thead>\n",
        "  <tbody>\n",
        "    <tr>\n",
        "      <th>A data paper (without conclusions) describes the data</th>\n",
        "      <td>  4.280058</td>\n",
        "      <td> 0.369429</td>\n",
        "      <td> 4</td>\n",
        "      <td> [[9.16666666667, 31.8333333333], [6.2601626016...</td>\n",
        "      <td>   0</td>\n",
        "    </tr>\n",
        "    <tr>\n",
        "      <th>A traditional research paper is based on the data</th>\n",
        "      <td> 14.358619</td>\n",
        "      <td> 0.006234</td>\n",
        "      <td> 4</td>\n",
        "      <td> [[17.5, 23.5], [11.9512195122, 16.0487804878],...</td>\n",
        "      <td> 148</td>\n",
        "    </tr>\n",
        "    <tr>\n",
        "      <th>Assigned a unique identifier such as a DOI</th>\n",
        "      <td>  6.621271</td>\n",
        "      <td> 0.157308</td>\n",
        "      <td> 4</td>\n",
        "      <td> [[15.8333333333, 25.1666666667], [10.813008130...</td>\n",
        "      <td>   0</td>\n",
        "    </tr>\n",
        "    <tr>\n",
        "      <th>Dataset is \"peer reviewed\"</th>\n",
        "      <td> 14.062821</td>\n",
        "      <td> 0.007097</td>\n",
        "      <td> 4</td>\n",
        "      <td> [[11.6666666667, 29.3333333333], [7.9674796748...</td>\n",
        "      <td>  69</td>\n",
        "    </tr>\n",
        "    <tr>\n",
        "      <th>Deposited in a database or repository</th>\n",
        "      <td>  5.890349</td>\n",
        "      <td> 0.207488</td>\n",
        "      <td> 4</td>\n",
        "      <td> [[22.1666666667, 18.8333333333], [15.138211382...</td>\n",
        "      <td>   0</td>\n",
        "    </tr>\n",
        "    <tr>\n",
        "      <th>Openly available without contacting the author(s)</th>\n",
        "      <td>  4.232183</td>\n",
        "      <td> 0.375494</td>\n",
        "      <td> 4</td>\n",
        "      <td> [[27.6666666667, 13.3333333333], [18.894308943...</td>\n",
        "      <td>   0</td>\n",
        "    </tr>\n",
        "    <tr>\n",
        "      <th>Packaged with a thorough description of the data</th>\n",
        "      <td>  4.214483</td>\n",
        "      <td> 0.377756</td>\n",
        "      <td> 4</td>\n",
        "      <td> [[16.1666666667, 24.8333333333], [11.040650406...</td>\n",
        "      <td>   0</td>\n",
        "    </tr>\n",
        "    <tr>\n",
        "      <th>Packaged with formal metadata describing the data (e.g. as XML)</th>\n",
        "      <td>  1.055797</td>\n",
        "      <td> 0.901221</td>\n",
        "      <td> 4</td>\n",
        "      <td> [[10.3333333333, 30.6666666667], [7.0569105691...</td>\n",
        "      <td>   0</td>\n",
        "    </tr>\n",
        "  </tbody>\n",
        "</table>\n",
        "</div>"
       ],
       "metadata": {},
       "output_type": "display_data",
       "text": [
        "                                                                      chi2  \\\n",
        "A data paper (without conclusions) describes the data             4.280058   \n",
        "A traditional research paper is based on the data                14.358619   \n",
        "Assigned a unique identifier such as a DOI                        6.621271   \n",
        "Dataset is \"peer reviewed\"                                       14.062821   \n",
        "Deposited in a database or repository                             5.890349   \n",
        "Openly available without contacting the author(s)                 4.232183   \n",
        "Packaged with a thorough description of the data                  4.214483   \n",
        "Packaged with formal metadata describing the data (e.g. as XML)   1.055797   \n",
        "\n",
        "                                                                        p  df  \\\n",
        "A data paper (without conclusions) describes the data            0.369429   4   \n",
        "A traditional research paper is based on the data                0.006234   4   \n",
        "Assigned a unique identifier such as a DOI                       0.157308   4   \n",
        "Dataset is \"peer reviewed\"                                       0.007097   4   \n",
        "Deposited in a database or repository                            0.207488   4   \n",
        "Openly available without contacting the author(s)                0.375494   4   \n",
        "Packaged with a thorough description of the data                 0.377756   4   \n",
        "Packaged with formal metadata describing the data (e.g. as XML)  0.901221   4   \n",
        "\n",
        "                                                                                                   expected_values  \\\n",
        "A data paper (without conclusions) describes the data            [[9.16666666667, 31.8333333333], [6.2601626016...   \n",
        "A traditional research paper is based on the data                [[17.5, 23.5], [11.9512195122, 16.0487804878],...   \n",
        "Assigned a unique identifier such as a DOI                       [[15.8333333333, 25.1666666667], [10.813008130...   \n",
        "Dataset is \"peer reviewed\"                                       [[11.6666666667, 29.3333333333], [7.9674796748...   \n",
        "Deposited in a database or repository                            [[22.1666666667, 18.8333333333], [15.138211382...   \n",
        "Openly available without contacting the author(s)                [[27.6666666667, 13.3333333333], [18.894308943...   \n",
        "Packaged with a thorough description of the data                 [[16.1666666667, 24.8333333333], [11.040650406...   \n",
        "Packaged with formal metadata describing the data (e.g. as XML)  [[10.3333333333, 30.6666666667], [7.0569105691...   \n",
        "\n",
        "                                                                 changed outcomes  \n",
        "A data paper (without conclusions) describes the data                           0  \n",
        "A traditional research paper is based on the data                             148  \n",
        "Assigned a unique identifier such as a DOI                                      0  \n",
        "Dataset is \"peer reviewed\"                                                     69  \n",
        "Deposited in a database or repository                                           0  \n",
        "Openly available without contacting the author(s)                               0  \n",
        "Packaged with a thorough description of the data                                0  \n",
        "Packaged with formal metadata describing the data (e.g. as XML)                 0  "
       ]
      },
      {
       "output_type": "stream",
       "stream": "stdout",
       "text": [
        "alpha = 0.00625\n"
       ]
      }
     ],
     "prompt_number": 70
    },
    {
     "cell_type": "markdown",
     "metadata": {},
     "source": [
      "Research role had a marginally significant effect on the expectation that a published dataset be the basis of a traditional research paper; this effect was extremely sensistive to deletion of individual responses."
     ]
    },
    {
     "cell_type": "heading",
     "level": 4,
     "metadata": {},
     "source": [
      "Research role has no significant effect on expectations of peer review."
     ]
    },
    {
     "cell_type": "code",
     "collapsed": false,
     "input": [
      "alpha = 0.05/6\n",
      "\n",
      "peer_review_definition_by_role = chkbx_chi_square(responses.peer_review_definition, PR_FEATURES, responses.role)\n",
      "\n",
      "peer_review_definition_by_role_chi2_frames = []\n",
      "for frame in jacknifed_responses:\n",
      "    peer_review_definition_by_role_chi2_frames.append(chkbx_chi_square(frame.peer_review_definition, PR_FEATURES, \n",
      "                                                                       responses.role, validate=False))\n",
      "peer_review_definition_by_role['changed outcomes'] = jacknife_effect_1d(peer_review_definition_by_role_chi2_frames, \n",
      "                                                                        peer_review_definition_by_role, alpha=alpha)\n",
      "\n",
      "display(peer_review_definition_by_role)\n",
      "print \"alpha = \" + str(alpha)"
     ],
     "language": "python",
     "metadata": {},
     "outputs": [
      {
       "html": [
        "<div style=\"max-height:1000px;max-width:1500px;overflow:auto;\">\n",
        "<table border=\"1\" class=\"dataframe\">\n",
        "  <thead>\n",
        "    <tr style=\"text-align: right;\">\n",
        "      <th></th>\n",
        "      <th>chi2</th>\n",
        "      <th>p</th>\n",
        "      <th>df</th>\n",
        "      <th>expected_values</th>\n",
        "      <th>changed outcomes</th>\n",
        "    </tr>\n",
        "  </thead>\n",
        "  <tbody>\n",
        "    <tr>\n",
        "      <th>Collection and processing methods were evaluated</th>\n",
        "      <td> 3.634805</td>\n",
        "      <td> 0.457679</td>\n",
        "      <td> 4</td>\n",
        "      <td> [[36.9672131148, 4.03278688525], [23.442622950...</td>\n",
        "      <td> 0</td>\n",
        "    </tr>\n",
        "    <tr>\n",
        "      <th>Descriptive text is thorough enough to use or replicate the dataset</th>\n",
        "      <td> 2.006652</td>\n",
        "      <td> 0.734535</td>\n",
        "      <td> 4</td>\n",
        "      <td> [[32.9344262295, 8.06557377049], [20.885245901...</td>\n",
        "      <td> 0</td>\n",
        "    </tr>\n",
        "    <tr>\n",
        "      <th>Necessary metadata is standardized (e.g. in XML)</th>\n",
        "      <td> 4.889011</td>\n",
        "      <td> 0.298876</td>\n",
        "      <td> 4</td>\n",
        "      <td> [[15.7950819672, 25.2049180328], [10.016393442...</td>\n",
        "      <td> 0</td>\n",
        "    </tr>\n",
        "    <tr>\n",
        "      <th>Novelty/impact considered</th>\n",
        "      <td> 5.330965</td>\n",
        "      <td> 0.254992</td>\n",
        "      <td> 4</td>\n",
        "      <td> [[8.90573770492, 32.0942622951], [5.6475409836...</td>\n",
        "      <td> 0</td>\n",
        "    </tr>\n",
        "    <tr>\n",
        "      <th>Plausibility considered based on area expertise</th>\n",
        "      <td> 4.034804</td>\n",
        "      <td> 0.401316</td>\n",
        "      <td> 4</td>\n",
        "      <td> [[25.2049180328, 15.7950819672], [15.983606557...</td>\n",
        "      <td> 0</td>\n",
        "    </tr>\n",
        "    <tr>\n",
        "      <th>Technical details have been checked (e.g. no missing files no missing values)</th>\n",
        "      <td> 1.356123</td>\n",
        "      <td> 0.851784</td>\n",
        "      <td> 4</td>\n",
        "      <td> [[28.9016393443, 12.0983606557], [18.327868852...</td>\n",
        "      <td> 0</td>\n",
        "    </tr>\n",
        "  </tbody>\n",
        "</table>\n",
        "</div>"
       ],
       "metadata": {},
       "output_type": "display_data",
       "text": [
        "                                                                                   chi2  \\\n",
        "Collection and processing methods were evaluated                               3.634805   \n",
        "Descriptive text is thorough enough to use or replicate the dataset            2.006652   \n",
        "Necessary metadata is standardized (e.g. in XML)                               4.889011   \n",
        "Novelty/impact considered                                                      5.330965   \n",
        "Plausibility considered based on area expertise                                4.034804   \n",
        "Technical details have been checked (e.g. no missing files no missing values)  1.356123   \n",
        "\n",
        "                                                                                      p  \\\n",
        "Collection and processing methods were evaluated                               0.457679   \n",
        "Descriptive text is thorough enough to use or replicate the dataset            0.734535   \n",
        "Necessary metadata is standardized (e.g. in XML)                               0.298876   \n",
        "Novelty/impact considered                                                      0.254992   \n",
        "Plausibility considered based on area expertise                                0.401316   \n",
        "Technical details have been checked (e.g. no missing files no missing values)  0.851784   \n",
        "\n",
        "                                                                               df  \\\n",
        "Collection and processing methods were evaluated                                4   \n",
        "Descriptive text is thorough enough to use or replicate the dataset             4   \n",
        "Necessary metadata is standardized (e.g. in XML)                                4   \n",
        "Novelty/impact considered                                                       4   \n",
        "Plausibility considered based on area expertise                                 4   \n",
        "Technical details have been checked (e.g. no missing files no missing values)   4   \n",
        "\n",
        "                                                                                                                 expected_values  \\\n",
        "Collection and processing methods were evaluated                               [[36.9672131148, 4.03278688525], [23.442622950...   \n",
        "Descriptive text is thorough enough to use or replicate the dataset            [[32.9344262295, 8.06557377049], [20.885245901...   \n",
        "Necessary metadata is standardized (e.g. in XML)                               [[15.7950819672, 25.2049180328], [10.016393442...   \n",
        "Novelty/impact considered                                                      [[8.90573770492, 32.0942622951], [5.6475409836...   \n",
        "Plausibility considered based on area expertise                                [[25.2049180328, 15.7950819672], [15.983606557...   \n",
        "Technical details have been checked (e.g. no missing files no missing values)  [[28.9016393443, 12.0983606557], [18.327868852...   \n",
        "\n",
        "                                                                               changed outcomes  \n",
        "Collection and processing methods were evaluated                                              0  \n",
        "Descriptive text is thorough enough to use or replicate the dataset                           0  \n",
        "Necessary metadata is standardized (e.g. in XML)                                              0  \n",
        "Novelty/impact considered                                                                     0  \n",
        "Plausibility considered based on area expertise                                               0  \n",
        "Technical details have been checked (e.g. no missing files no missing values)                 0  "
       ]
      },
      {
       "output_type": "stream",
       "stream": "stdout",
       "text": [
        "alpha = 0.00833333333333\n"
       ]
      }
     ],
     "prompt_number": 71
    },
    {
     "cell_type": "heading",
     "level": 3,
     "metadata": {},
     "source": [
      "The results reported in Figure 5. are at least minimally robust."
     ]
    },
    {
     "cell_type": "markdown",
     "metadata": {},
     "source": [
      "The Fisher's exact tests used to detect relationships betwen items in Figure 5. were repeated with each respondent removed one-at-a-time.\n",
      "In no case did this change the binary outcome of the test.\n"
     ]
    },
    {
     "cell_type": "heading",
     "level": 4,
     "metadata": {},
     "source": [
      "Relationships between expectations of data publication are robust to deletion of individual repondents."
     ]
    },
    {
     "cell_type": "code",
     "collapsed": false,
     "input": [
      "publish_fe = checkbox_fisher_exact(responses.publish_definition, DP_FEATURES)\n",
      "jk_publish_fe = jacknifed_fisher_exact(responses.publish_definition, DP_FEATURES)\n",
      "display(jacknife_fisher_exact_effect(jk_publish_fe, publish_fe, alpha=0.05/28))"
     ],
     "language": "python",
     "metadata": {},
     "outputs": [
      {
       "html": [
        "<div style=\"max-height:1000px;max-width:1500px;overflow:auto;\">\n",
        "<table border=\"1\" class=\"dataframe\">\n",
        "  <thead>\n",
        "    <tr style=\"text-align: right;\">\n",
        "      <th></th>\n",
        "      <th>A data paper (without conclusions) describes the data</th>\n",
        "      <th>A traditional research paper is based on the data</th>\n",
        "      <th>Assigned a unique identifier such as a DOI</th>\n",
        "      <th>Dataset is \"peer reviewed\"</th>\n",
        "      <th>Deposited in a database or repository</th>\n",
        "      <th>Openly available without contacting the author(s)</th>\n",
        "      <th>Packaged with a thorough description of the data</th>\n",
        "      <th>Packaged with formal metadata describing the data (e.g. as XML)</th>\n",
        "    </tr>\n",
        "  </thead>\n",
        "  <tbody>\n",
        "    <tr>\n",
        "      <th>A data paper (without conclusions) describes the data</th>\n",
        "      <td> 0</td>\n",
        "      <td> 0</td>\n",
        "      <td> 0</td>\n",
        "      <td> 0</td>\n",
        "      <td> 0</td>\n",
        "      <td> 0</td>\n",
        "      <td> 0</td>\n",
        "      <td> 0</td>\n",
        "    </tr>\n",
        "    <tr>\n",
        "      <th>A traditional research paper is based on the data</th>\n",
        "      <td> 0</td>\n",
        "      <td> 0</td>\n",
        "      <td> 0</td>\n",
        "      <td> 0</td>\n",
        "      <td> 0</td>\n",
        "      <td> 0</td>\n",
        "      <td> 0</td>\n",
        "      <td> 0</td>\n",
        "    </tr>\n",
        "    <tr>\n",
        "      <th>Assigned a unique identifier such as a DOI</th>\n",
        "      <td> 0</td>\n",
        "      <td> 0</td>\n",
        "      <td> 0</td>\n",
        "      <td> 0</td>\n",
        "      <td> 0</td>\n",
        "      <td> 0</td>\n",
        "      <td> 0</td>\n",
        "      <td> 0</td>\n",
        "    </tr>\n",
        "    <tr>\n",
        "      <th>Dataset is \"peer reviewed\"</th>\n",
        "      <td> 0</td>\n",
        "      <td> 0</td>\n",
        "      <td> 0</td>\n",
        "      <td> 0</td>\n",
        "      <td> 0</td>\n",
        "      <td> 0</td>\n",
        "      <td> 0</td>\n",
        "      <td> 0</td>\n",
        "    </tr>\n",
        "    <tr>\n",
        "      <th>Deposited in a database or repository</th>\n",
        "      <td> 0</td>\n",
        "      <td> 0</td>\n",
        "      <td> 0</td>\n",
        "      <td> 0</td>\n",
        "      <td> 0</td>\n",
        "      <td> 0</td>\n",
        "      <td> 0</td>\n",
        "      <td> 0</td>\n",
        "    </tr>\n",
        "    <tr>\n",
        "      <th>Openly available without contacting the author(s)</th>\n",
        "      <td> 0</td>\n",
        "      <td> 0</td>\n",
        "      <td> 0</td>\n",
        "      <td> 0</td>\n",
        "      <td> 0</td>\n",
        "      <td> 0</td>\n",
        "      <td> 0</td>\n",
        "      <td> 0</td>\n",
        "    </tr>\n",
        "    <tr>\n",
        "      <th>Packaged with a thorough description of the data</th>\n",
        "      <td> 0</td>\n",
        "      <td> 0</td>\n",
        "      <td> 0</td>\n",
        "      <td> 0</td>\n",
        "      <td> 0</td>\n",
        "      <td> 0</td>\n",
        "      <td> 0</td>\n",
        "      <td> 0</td>\n",
        "    </tr>\n",
        "    <tr>\n",
        "      <th>Packaged with formal metadata describing the data (e.g. as XML)</th>\n",
        "      <td> 0</td>\n",
        "      <td> 0</td>\n",
        "      <td> 0</td>\n",
        "      <td> 0</td>\n",
        "      <td> 0</td>\n",
        "      <td> 0</td>\n",
        "      <td> 0</td>\n",
        "      <td> 0</td>\n",
        "    </tr>\n",
        "  </tbody>\n",
        "</table>\n",
        "</div>"
       ],
       "metadata": {},
       "output_type": "display_data",
       "text": [
        "                                                                 A data paper (without conclusions) describes the data  \\\n",
        "A data paper (without conclusions) describes the data                                                            0       \n",
        "A traditional research paper is based on the data                                                                0       \n",
        "Assigned a unique identifier such as a DOI                                                                       0       \n",
        "Dataset is \"peer reviewed\"                                                                                       0       \n",
        "Deposited in a database or repository                                                                            0       \n",
        "Openly available without contacting the author(s)                                                                0       \n",
        "Packaged with a thorough description of the data                                                                 0       \n",
        "Packaged with formal metadata describing the data (e.g. as XML)                                                  0       \n",
        "\n",
        "                                                                 A traditional research paper is based on the data  \\\n",
        "A data paper (without conclusions) describes the data                                                            0   \n",
        "A traditional research paper is based on the data                                                                0   \n",
        "Assigned a unique identifier such as a DOI                                                                       0   \n",
        "Dataset is \"peer reviewed\"                                                                                       0   \n",
        "Deposited in a database or repository                                                                            0   \n",
        "Openly available without contacting the author(s)                                                                0   \n",
        "Packaged with a thorough description of the data                                                                 0   \n",
        "Packaged with formal metadata describing the data (e.g. as XML)                                                  0   \n",
        "\n",
        "                                                                 Assigned a unique identifier such as a DOI  \\\n",
        "A data paper (without conclusions) describes the data                                                     0   \n",
        "A traditional research paper is based on the data                                                         0   \n",
        "Assigned a unique identifier such as a DOI                                                                0   \n",
        "Dataset is \"peer reviewed\"                                                                                0   \n",
        "Deposited in a database or repository                                                                     0   \n",
        "Openly available without contacting the author(s)                                                         0   \n",
        "Packaged with a thorough description of the data                                                          0   \n",
        "Packaged with formal metadata describing the data (e.g. as XML)                                           0   \n",
        "\n",
        "                                                                 Dataset is \"peer reviewed\"  \\\n",
        "A data paper (without conclusions) describes the data                                     0   \n",
        "A traditional research paper is based on the data                                         0   \n",
        "Assigned a unique identifier such as a DOI                                                0   \n",
        "Dataset is \"peer reviewed\"                                                                0   \n",
        "Deposited in a database or repository                                                     0   \n",
        "Openly available without contacting the author(s)                                         0   \n",
        "Packaged with a thorough description of the data                                          0   \n",
        "Packaged with formal metadata describing the data (e.g. as XML)                           0   \n",
        "\n",
        "                                                                 Deposited in a database or repository  \\\n",
        "A data paper (without conclusions) describes the data                                                0   \n",
        "A traditional research paper is based on the data                                                    0   \n",
        "Assigned a unique identifier such as a DOI                                                           0   \n",
        "Dataset is \"peer reviewed\"                                                                           0   \n",
        "Deposited in a database or repository                                                                0   \n",
        "Openly available without contacting the author(s)                                                    0   \n",
        "Packaged with a thorough description of the data                                                     0   \n",
        "Packaged with formal metadata describing the data (e.g. as XML)                                      0   \n",
        "\n",
        "                                                                 Openly available without contacting the author(s)  \\\n",
        "A data paper (without conclusions) describes the data                                                            0   \n",
        "A traditional research paper is based on the data                                                                0   \n",
        "Assigned a unique identifier such as a DOI                                                                       0   \n",
        "Dataset is \"peer reviewed\"                                                                                       0   \n",
        "Deposited in a database or repository                                                                            0   \n",
        "Openly available without contacting the author(s)                                                                0   \n",
        "Packaged with a thorough description of the data                                                                 0   \n",
        "Packaged with formal metadata describing the data (e.g. as XML)                                                  0   \n",
        "\n",
        "                                                                 Packaged with a thorough description of the data  \\\n",
        "A data paper (without conclusions) describes the data                                                           0   \n",
        "A traditional research paper is based on the data                                                               0   \n",
        "Assigned a unique identifier such as a DOI                                                                      0   \n",
        "Dataset is \"peer reviewed\"                                                                                      0   \n",
        "Deposited in a database or repository                                                                           0   \n",
        "Openly available without contacting the author(s)                                                               0   \n",
        "Packaged with a thorough description of the data                                                                0   \n",
        "Packaged with formal metadata describing the data (e.g. as XML)                                                 0   \n",
        "\n",
        "                                                                 Packaged with formal metadata describing the data (e.g. as XML)  \n",
        "A data paper (without conclusions) describes the data                                                            0                \n",
        "A traditional research paper is based on the data                                                                0                \n",
        "Assigned a unique identifier such as a DOI                                                                       0                \n",
        "Dataset is \"peer reviewed\"                                                                                       0                \n",
        "Deposited in a database or repository                                                                            0                \n",
        "Openly available without contacting the author(s)                                                                0                \n",
        "Packaged with a thorough description of the data                                                                 0                \n",
        "Packaged with formal metadata describing the data (e.g. as XML)                                                  0                "
       ]
      }
     ],
     "prompt_number": 72
    },
    {
     "cell_type": "markdown",
     "metadata": {},
     "source": [
      "Reported values show the number of times the p-value changed from significant to insignificant or vice-versa."
     ]
    },
    {
     "cell_type": "heading",
     "level": 4,
     "metadata": {},
     "source": [
      "Expectations of data peer review are robust to deletion of individual repondents."
     ]
    },
    {
     "cell_type": "code",
     "collapsed": false,
     "input": [
      "pr_fe = checkbox_fisher_exact(responses.peer_review_definition, PR_FEATURES)\n",
      "jk_pr_fe = jacknifed_fisher_exact(responses.peer_review_definition, PR_FEATURES)\n",
      "display(jacknife_fisher_exact_effect(jk_pr_fe, pr_fe, alpha=0.05/15))"
     ],
     "language": "python",
     "metadata": {},
     "outputs": [
      {
       "html": [
        "<div style=\"max-height:1000px;max-width:1500px;overflow:auto;\">\n",
        "<table border=\"1\" class=\"dataframe\">\n",
        "  <thead>\n",
        "    <tr style=\"text-align: right;\">\n",
        "      <th></th>\n",
        "      <th>Collection and processing methods were evaluated</th>\n",
        "      <th>Descriptive text is thorough enough to use or replicate the dataset</th>\n",
        "      <th>Necessary metadata is standardized (e.g. in XML)</th>\n",
        "      <th>Novelty/impact considered</th>\n",
        "      <th>Plausibility considered based on area expertise</th>\n",
        "      <th>Technical details have been checked (e.g. no missing files no missing values)</th>\n",
        "    </tr>\n",
        "  </thead>\n",
        "  <tbody>\n",
        "    <tr>\n",
        "      <th>Collection and processing methods were evaluated</th>\n",
        "      <td> 0</td>\n",
        "      <td> 0</td>\n",
        "      <td> 0</td>\n",
        "      <td> 0</td>\n",
        "      <td> 0</td>\n",
        "      <td> 0</td>\n",
        "    </tr>\n",
        "    <tr>\n",
        "      <th>Descriptive text is thorough enough to use or replicate the dataset</th>\n",
        "      <td> 0</td>\n",
        "      <td> 0</td>\n",
        "      <td> 0</td>\n",
        "      <td> 0</td>\n",
        "      <td> 0</td>\n",
        "      <td> 0</td>\n",
        "    </tr>\n",
        "    <tr>\n",
        "      <th>Necessary metadata is standardized (e.g. in XML)</th>\n",
        "      <td> 0</td>\n",
        "      <td> 0</td>\n",
        "      <td> 0</td>\n",
        "      <td> 0</td>\n",
        "      <td> 0</td>\n",
        "      <td> 0</td>\n",
        "    </tr>\n",
        "    <tr>\n",
        "      <th>Novelty/impact considered</th>\n",
        "      <td> 0</td>\n",
        "      <td> 0</td>\n",
        "      <td> 0</td>\n",
        "      <td> 0</td>\n",
        "      <td> 0</td>\n",
        "      <td> 0</td>\n",
        "    </tr>\n",
        "    <tr>\n",
        "      <th>Plausibility considered based on area expertise</th>\n",
        "      <td> 0</td>\n",
        "      <td> 0</td>\n",
        "      <td> 0</td>\n",
        "      <td> 0</td>\n",
        "      <td> 0</td>\n",
        "      <td> 0</td>\n",
        "    </tr>\n",
        "    <tr>\n",
        "      <th>Technical details have been checked (e.g. no missing files no missing values)</th>\n",
        "      <td> 0</td>\n",
        "      <td> 0</td>\n",
        "      <td> 0</td>\n",
        "      <td> 0</td>\n",
        "      <td> 0</td>\n",
        "      <td> 0</td>\n",
        "    </tr>\n",
        "  </tbody>\n",
        "</table>\n",
        "</div>"
       ],
       "metadata": {},
       "output_type": "display_data",
       "text": [
        "                                                                               Collection and processing methods were evaluated  \\\n",
        "Collection and processing methods were evaluated                                                                              0   \n",
        "Descriptive text is thorough enough to use or replicate the dataset                                                           0   \n",
        "Necessary metadata is standardized (e.g. in XML)                                                                              0   \n",
        "Novelty/impact considered                                                                                                     0   \n",
        "Plausibility considered based on area expertise                                                                               0   \n",
        "Technical details have been checked (e.g. no missing files no missing values)                                                 0   \n",
        "\n",
        "                                                                               Descriptive text is thorough enough to use or replicate the dataset  \\\n",
        "Collection and processing methods were evaluated                                                                               0                     \n",
        "Descriptive text is thorough enough to use or replicate the dataset                                                            0                     \n",
        "Necessary metadata is standardized (e.g. in XML)                                                                               0                     \n",
        "Novelty/impact considered                                                                                                      0                     \n",
        "Plausibility considered based on area expertise                                                                                0                     \n",
        "Technical details have been checked (e.g. no missing files no missing values)                                                  0                     \n",
        "\n",
        "                                                                               Necessary metadata is standardized (e.g. in XML)  \\\n",
        "Collection and processing methods were evaluated                                                                              0   \n",
        "Descriptive text is thorough enough to use or replicate the dataset                                                           0   \n",
        "Necessary metadata is standardized (e.g. in XML)                                                                              0   \n",
        "Novelty/impact considered                                                                                                     0   \n",
        "Plausibility considered based on area expertise                                                                               0   \n",
        "Technical details have been checked (e.g. no missing files no missing values)                                                 0   \n",
        "\n",
        "                                                                               Novelty/impact considered  \\\n",
        "Collection and processing methods were evaluated                                                       0   \n",
        "Descriptive text is thorough enough to use or replicate the dataset                                    0   \n",
        "Necessary metadata is standardized (e.g. in XML)                                                       0   \n",
        "Novelty/impact considered                                                                              0   \n",
        "Plausibility considered based on area expertise                                                        0   \n",
        "Technical details have been checked (e.g. no missing files no missing values)                          0   \n",
        "\n",
        "                                                                               Plausibility considered based on area expertise  \\\n",
        "Collection and processing methods were evaluated                                                                             0   \n",
        "Descriptive text is thorough enough to use or replicate the dataset                                                          0   \n",
        "Necessary metadata is standardized (e.g. in XML)                                                                             0   \n",
        "Novelty/impact considered                                                                                                    0   \n",
        "Plausibility considered based on area expertise                                                                              0   \n",
        "Technical details have been checked (e.g. no missing files no missing values)                                                0   \n",
        "\n",
        "                                                                               Technical details have been checked (e.g. no missing files no missing values)  \n",
        "Collection and processing methods were evaluated                                                                               0                              \n",
        "Descriptive text is thorough enough to use or replicate the dataset                                                            0                              \n",
        "Necessary metadata is standardized (e.g. in XML)                                                                               0                              \n",
        "Novelty/impact considered                                                                                                      0                              \n",
        "Plausibility considered based on area expertise                                                                                0                              \n",
        "Technical details have been checked (e.g. no missing files no missing values)                                                  0                              "
       ]
      }
     ],
     "prompt_number": 73
    },
    {
     "cell_type": "markdown",
     "metadata": {},
     "source": [
      "Reported values show the number of times the p-value changed from significant to insignificant or vice-versa."
     ]
    },
    {
     "cell_type": "code",
     "collapsed": false,
     "input": [
      "#set significance threshold\n",
      "alpha = 0.05/6\n",
      "\n",
      "peer_review_definition_by_expectation = chbx_fisher_exact(responses.peer_review_definition, \n",
      "                                                          PR_FEATURES, dp_checkbox['Dataset is \"peer reviewed\"'])\n",
      "\n",
      "peer_review_definition_by_expectation_fe_frames = []\n",
      "for frame in jacknifed_responses:\n",
      "    peer_review_definition_by_expectation_fe_frames.append(chbx_fisher_exact(frame.peer_review_definition, PR_FEATURES, \n",
      "                                                                       dp_checkbox['Dataset is \"peer reviewed\"']))\n",
      "peer_review_definition_by_expectation['changed outcomes'] = jacknife_effect_1d(peer_review_definition_by_expectation_fe_frames, \n",
      "                                                                               peer_review_definition_by_expectation, \n",
      "                                                                               alpha=alpha)\n",
      "\n",
      "display(peer_review_definition_by_expectation)\n",
      "print(\"alpha = \" + str(alpha))"
     ],
     "language": "python",
     "metadata": {},
     "outputs": [
      {
       "html": [
        "<div style=\"max-height:1000px;max-width:1500px;overflow:auto;\">\n",
        "<table border=\"1\" class=\"dataframe\">\n",
        "  <thead>\n",
        "    <tr style=\"text-align: right;\">\n",
        "      <th></th>\n",
        "      <th>OR</th>\n",
        "      <th>p</th>\n",
        "      <th>changed outcomes</th>\n",
        "    </tr>\n",
        "  </thead>\n",
        "  <tbody>\n",
        "    <tr>\n",
        "      <th>Collection and processing methods were evaluated</th>\n",
        "      <td> 0.200535</td>\n",
        "      <td> 0.017611</td>\n",
        "      <td>  2</td>\n",
        "    </tr>\n",
        "    <tr>\n",
        "      <th>Descriptive text is thorough enough to use or replicate the dataset</th>\n",
        "      <td> 0.176309</td>\n",
        "      <td> 0.000289</td>\n",
        "      <td>  0</td>\n",
        "    </tr>\n",
        "    <tr>\n",
        "      <th>Necessary metadata is standardized (e.g. in XML)</th>\n",
        "      <td> 0.585412</td>\n",
        "      <td> 0.079392</td>\n",
        "      <td>  0</td>\n",
        "    </tr>\n",
        "    <tr>\n",
        "      <th>Novelty/impact considered</th>\n",
        "      <td> 0.414412</td>\n",
        "      <td> 0.009154</td>\n",
        "      <td>  0</td>\n",
        "    </tr>\n",
        "    <tr>\n",
        "      <th>Plausibility considered based on area expertise</th>\n",
        "      <td> 0.437247</td>\n",
        "      <td> 0.008728</td>\n",
        "      <td> 18</td>\n",
        "    </tr>\n",
        "    <tr>\n",
        "      <th>Technical details have been checked (e.g. no missing files no missing values)</th>\n",
        "      <td> 0.436812</td>\n",
        "      <td> 0.019529</td>\n",
        "      <td>  0</td>\n",
        "    </tr>\n",
        "  </tbody>\n",
        "</table>\n",
        "</div>"
       ],
       "metadata": {},
       "output_type": "display_data",
       "text": [
        "                                                                                     OR  \\\n",
        "Collection and processing methods were evaluated                               0.200535   \n",
        "Descriptive text is thorough enough to use or replicate the dataset            0.176309   \n",
        "Necessary metadata is standardized (e.g. in XML)                               0.585412   \n",
        "Novelty/impact considered                                                      0.414412   \n",
        "Plausibility considered based on area expertise                                0.437247   \n",
        "Technical details have been checked (e.g. no missing files no missing values)  0.436812   \n",
        "\n",
        "                                                                                      p  \\\n",
        "Collection and processing methods were evaluated                               0.017611   \n",
        "Descriptive text is thorough enough to use or replicate the dataset            0.000289   \n",
        "Necessary metadata is standardized (e.g. in XML)                               0.079392   \n",
        "Novelty/impact considered                                                      0.009154   \n",
        "Plausibility considered based on area expertise                                0.008728   \n",
        "Technical details have been checked (e.g. no missing files no missing values)  0.019529   \n",
        "\n",
        "                                                                               changed outcomes  \n",
        "Collection and processing methods were evaluated                                              2  \n",
        "Descriptive text is thorough enough to use or replicate the dataset                           0  \n",
        "Necessary metadata is standardized (e.g. in XML)                                              0  \n",
        "Novelty/impact considered                                                                     0  \n",
        "Plausibility considered based on area expertise                                              18  \n",
        "Technical details have been checked (e.g. no missing files no missing values)                 0  "
       ]
      },
      {
       "output_type": "stream",
       "stream": "stdout",
       "text": [
        "alpha = 0.00833333333333\n"
       ]
      }
     ],
     "prompt_number": 105
    },
    {
     "cell_type": "code",
     "collapsed": false,
     "input": [
      "alpha = 0.05\n",
      "\n",
      "boxes_checked = pd.DataFrame(pr_checkbox.sum(axis=1), columns=['number_checked'])\n",
      "boxes_checked['included_in_publication'] = dp_checkbox['Dataset is \"peer reviewed\"']\n",
      "\n",
      "pr_def_sum_table = pd.concat([boxes_checked[boxes_checked['included_in_publication'] == False]['number_checked'].value_counts(),\n",
      "                              boxes_checked[boxes_checked['included_in_publication'] == True]['number_checked'].value_counts()],\n",
      "                             axis=1, keys=[False, True])\n",
      "\n",
      "pr_def_sum_table = pr_def_sum_table.fillna(value=0).T\n",
      "\n",
      "fig = pr_def_sum_table.T.plot(kind='bar', color=sns.color_palette('Blues', 2), grid='off', edgecolor='w')\n",
      "apply_cdl_style(fig)\n",
      "\n",
      "chi2_results = pd.Series(sps.chi2_contingency(pr_def_sum_table.as_matrix()), index = ['chi2', 'p', 'df', 'expected_vals'])\n",
      "\n",
      "display(chi2_results)\n",
      "print(\"alpha = \" + str(alpha))"
     ],
     "language": "python",
     "metadata": {},
     "outputs": [
      {
       "metadata": {},
       "output_type": "display_data",
       "text": [
        "chi2                                                      25.24516\n",
        "p                                                     0.0003075431\n",
        "df                                                               6\n",
        "expected_vals    [[4.26446280992, 10.6611570248, 21.3223140496,...\n",
        "dtype: object"
       ]
      },
      {
       "output_type": "stream",
       "stream": "stdout",
       "text": [
        "alpha = 0.05\n"
       ]
      },
      {
       "metadata": {},
       "output_type": "display_data",
       "png": "[encoded data removed]",
       "text": [
        "<matplotlib.figure.Figure at 0x115b778d0>"
       ]
      }
     ],
     "prompt_number": 109
    },
    {
     "cell_type": "code",
     "collapsed": false,
     "input": [
      "i=0\n",
      "boxes_checked_jacknife = jacknife(boxes_checked)\n",
      "boxes_checked_chi2_series = pd.Series()\n",
      "\n",
      "for frame in boxes_checked_jacknife:\n",
      "    pr_sum_table = pd.concat([frame[frame['included_in_publication'] == False]['number_checked'].value_counts(),\n",
      "                              frame[frame['included_in_publication'] == True]['number_checked'].value_counts()],\n",
      "                             axis=1, keys=[False, True])\n",
      "    pr_sum_table = pr_sum_table.fillna(value=0).T\n",
      "    chi2, jk_p, df, expected = sps.chi2_contingency(pr_sum_table.as_matrix())\n",
      "    boxes_checked_chi2_series = boxes_checked_chi2_series.append(pd.Series(jk_p <= alpha, index=[i]), verify_integrity=True)\n",
      "    i += 1\n",
      "\n",
      "    \n",
      "display(sum(boxes_checked_chi2_series != significant))"
     ],
     "language": "python",
     "metadata": {},
     "outputs": [
      {
       "ename": "NameError",
       "evalue": "name 'significant' is not defined",
       "output_type": "pyerr",
       "traceback": [
        "\u001b[0;31m---------------------------------------------------------------------------\u001b[0m\n\u001b[0;31mNameError\u001b[0m                                 Traceback (most recent call last)",
        "\u001b[0;32m<ipython-input-86-7c510a62ef25>\u001b[0m in \u001b[0;36m<module>\u001b[0;34m()\u001b[0m\n\u001b[1;32m     13\u001b[0m \u001b[0;34m\u001b[0m\u001b[0m\n\u001b[1;32m     14\u001b[0m \u001b[0;34m\u001b[0m\u001b[0m\n\u001b[0;32m---> 15\u001b[0;31m \u001b[0mdisplay\u001b[0m\u001b[0;34m(\u001b[0m\u001b[0msum\u001b[0m\u001b[0;34m(\u001b[0m\u001b[0mboxes_checked_chi2_series\u001b[0m \u001b[0;34m!=\u001b[0m \u001b[0msignificant\u001b[0m\u001b[0;34m)\u001b[0m\u001b[0;34m)\u001b[0m\u001b[0;34m\u001b[0m\u001b[0m\n\u001b[0m",
        "\u001b[0;31mNameError\u001b[0m: name 'significant' is not defined"
       ]
      }
     ],
     "prompt_number": 86
    },
    {
     "cell_type": "code",
     "collapsed": false,
     "input": [
      "RESEARCHER_VALUE = [\"traditional_paper_value\",\n",
      "                    \"data_paper_pr_value\",\n",
      "                    \"data_paper_npr_value\",\n",
      "                    \"dataset_pr_value\",\n",
      "                    \"dataset_npr_value\"] \n",
      "\n",
      "\n",
      "RESEARCHER_VALUE_SEQUENCE = [\"A great deal\",\n",
      "                             \"Significant\",\n",
      "                             \"Some\",\n",
      "                             \"A small amount\",\n",
      "                             \"None\"]\n",
      "alpha = 0.05\n",
      "\n",
      "dp_values = responses[RESEARCHER_VALUE].dropna()\n",
      "dp_values['have_reviewed'] = (\n",
      "    responses.researcher_review_experience.dropna().apply(lambda x : \"served on a tenure & promotions committee\" in x))\n",
      "\n",
      "output = pd.DataFrame\n",
      "\n",
      "for column in RESEARCHER_VALUE:\n",
      "    square = pd.DataFrame(columns=[True, False], index=RESEARCHER_VALUE_SEQUENCE)\n",
      "    square[True] = dp_values[dp_values.have_reviewed == True][column].value_counts()\n",
      "    square[False] = dp_values[dp_values.have_reviewed == False][column].value_counts()\n",
      "    display(column, sps.chi2_contingency(square.dropna().as_matrix()))"
     ],
     "language": "python",
     "metadata": {},
     "outputs": [
      {
       "metadata": {},
       "output_type": "display_data",
       "text": [
        "'traditional_paper_value'"
       ]
      },
      {
       "metadata": {},
       "output_type": "display_data",
       "text": [
        "(2.1650893658308035,\n",
        " 0.33873246129096657,\n",
        " 2,\n",
        " array([[  34.67889908,  100.32110092],\n",
        "        [  19.52293578,   56.47706422],\n",
        "        [   1.79816514,    5.20183486]]))"
       ]
      },
      {
       "metadata": {},
       "output_type": "display_data",
       "text": [
        "'data_paper_pr_value'"
       ]
      },
      {
       "metadata": {},
       "output_type": "display_data",
       "text": [
        "(7.404587791059634,\n",
        " 0.11599091116178091,\n",
        " 4,\n",
        " array([[  5.65137615,  16.34862385],\n",
        "        [ 24.91743119,  72.08256881],\n",
        "        [ 20.29357798,  58.70642202],\n",
        "        [  3.59633028,  10.40366972],\n",
        "        [  1.5412844 ,   4.4587156 ]]))"
       ]
      },
      {
       "metadata": {},
       "output_type": "display_data",
       "text": [
        "'data_paper_npr_value'"
       ]
      },
      {
       "metadata": {},
       "output_type": "display_data",
       "text": [
        "(6.4101636163453906,\n",
        " 0.17053954733745114,\n",
        " 4,\n",
        " array([[  0.51376147,   1.48623853],\n",
        "        [  6.42201835,  18.57798165],\n",
        "        [ 18.49541284,  53.50458716],\n",
        "        [ 24.40366972,  70.59633028],\n",
        "        [  6.16513761,  17.83486239]]))"
       ]
      },
      {
       "metadata": {},
       "output_type": "display_data",
       "text": [
        "'dataset_pr_value'"
       ]
      },
      {
       "metadata": {},
       "output_type": "display_data",
       "text": [
        "(8.3902934903380775,\n",
        " 0.078283230120443678,\n",
        " 4,\n",
        " array([[  3.08256881,   8.91743119],\n",
        "        [ 16.69724771,  48.30275229],\n",
        "        [ 22.86238532,  66.13761468],\n",
        "        [ 10.78899083,  31.21100917],\n",
        "        [  2.56880734,   7.43119266]]))"
       ]
      },
      {
       "metadata": {},
       "output_type": "display_data",
       "text": [
        "'dataset_npr_value'"
       ]
      },
      {
       "metadata": {},
       "output_type": "display_data",
       "text": [
        "(3.2170236522406861,\n",
        " 0.3593593707507709,\n",
        " 3,\n",
        " array([[  5.93548387,  17.06451613],\n",
        "        [ 13.16129032,  37.83870968],\n",
        "        [ 21.67741935,  62.32258065],\n",
        "        [ 15.22580645,  43.77419355]]))"
       ]
      }
     ],
     "prompt_number": 110
    },
    {
     "cell_type": "code",
     "collapsed": false,
     "input": [
      "pr_checkbox['included_in_publication'] = dp_checkbox['Dataset is \"peer reviewed\"']\n",
      "counts = pr_checkbox.groupby('included_in_publication').sum()\n",
      "totals = pr_checkbox.included_in_publication.value_counts()\n",
      "\n",
      "display(counts)\n",
      "\n",
      "for disc in counts.index:\n",
      "    counts.ix[disc] = counts.ix[disc].apply(lambda x: float(x) / totals[disc])\n",
      "\n",
      "counts.plot(kind='bar', color=sns.color_palette(\"Blues\", len(counts.columns)), grid='off', edgecolor='w')"
     ],
     "language": "python",
     "metadata": {},
     "outputs": [
      {
       "html": [
        "<div style=\"max-height:1000px;max-width:1500px;overflow:auto;\">\n",
        "<table border=\"1\" class=\"dataframe\">\n",
        "  <thead>\n",
        "    <tr style=\"text-align: right;\">\n",
        "      <th></th>\n",
        "      <th>Collection and processing methods were evaluated</th>\n",
        "      <th>Descriptive text is thorough enough to use or replicate the dataset</th>\n",
        "      <th>Necessary metadata is standardized (e.g. in XML)</th>\n",
        "      <th>Novelty/impact considered</th>\n",
        "      <th>Plausibility considered based on area expertise</th>\n",
        "      <th>Technical details have been checked (e.g. no missing files no missing values)</th>\n",
        "    </tr>\n",
        "    <tr>\n",
        "      <th>included_in_publication</th>\n",
        "      <th></th>\n",
        "      <th></th>\n",
        "      <th></th>\n",
        "      <th></th>\n",
        "      <th></th>\n",
        "      <th></th>\n",
        "    </tr>\n",
        "  </thead>\n",
        "  <tbody>\n",
        "    <tr>\n",
        "      <th>False</th>\n",
        "      <td> 150</td>\n",
        "      <td> 128</td>\n",
        "      <td> 59</td>\n",
        "      <td> 29</td>\n",
        "      <td> 96</td>\n",
        "      <td> 113</td>\n",
        "    </tr>\n",
        "    <tr>\n",
        "      <th>True </th>\n",
        "      <td>  68</td>\n",
        "      <td>  66</td>\n",
        "      <td> 33</td>\n",
        "      <td> 23</td>\n",
        "      <td> 52</td>\n",
        "      <td>  57</td>\n",
        "    </tr>\n",
        "  </tbody>\n",
        "</table>\n",
        "</div>"
       ],
       "metadata": {},
       "output_type": "display_data",
       "text": [
        "                         Collection and processing methods were evaluated  \\\n",
        "included_in_publication                                                     \n",
        "False                                                                 150   \n",
        "True                                                                   68   \n",
        "\n",
        "                         Descriptive text is thorough enough to use or replicate the dataset  \\\n",
        "included_in_publication                                                                        \n",
        "False                                                                  128                     \n",
        "True                                                                    66                     \n",
        "\n",
        "                         Necessary metadata is standardized (e.g. in XML)  \\\n",
        "included_in_publication                                                     \n",
        "False                                                                  59   \n",
        "True                                                                   33   \n",
        "\n",
        "                         Novelty/impact considered  \\\n",
        "included_in_publication                              \n",
        "False                                           29   \n",
        "True                                            23   \n",
        "\n",
        "                         Plausibility considered based on area expertise  \\\n",
        "included_in_publication                                                    \n",
        "False                                                                 96   \n",
        "True                                                                  52   \n",
        "\n",
        "                         Technical details have been checked (e.g. no missing files no missing values)  \n",
        "included_in_publication                                                                                 \n",
        "False                                                                  113                              \n",
        "True                                                                    57                              "
       ]
      },
      {
       "metadata": {},
       "output_type": "pyout",
       "prompt_number": 93,
       "text": [
        "<matplotlib.axes._subplots.AxesSubplot at 0x11458f390>"
       ]
      },
      {
       "metadata": {},
       "output_type": "display_data",
       "png": "[encoded data removed]",
       "text": [
        "<matplotlib.figure.Figure at 0x10fcb7350>"
       ]
      }
     ],
     "prompt_number": 93
    },
    {
     "cell_type": "code",
     "collapsed": false,
     "input": [
      "def or_power(p_yes, p_no, n_yes, n_no, alpha=0.05):\n",
      "\n",
      "    kappa= n_yes/n_no\n",
      "    odds_ratio=(p_yes*(1-p_no))/(p_no*(1-p_yes))\n",
      "    \n",
      "    z=log(odds_ratio)*sqrt(n_no)/sqrt(1/(kappa*p_yes*(1-p_yes))+1/(p_no*(1-p_no)))\n",
      "    power=pnorm(z-qnorm(1-alpha/2))+pnorm(-z-qnorm(1-alpha/2))"
     ],
     "language": "python",
     "metadata": {},
     "outputs": [],
     "prompt_number": 74
    },
    {
     "cell_type": "markdown",
     "metadata": {},
     "source": [
      "**Calculation from G*Power:**\n",
      "\n",
      "\u03c7\u00b2 tests - Goodness-of-fit tests: Contingency tables\n",
      "\n",
      "Analysis:\tSensitivity: Compute required effect size \n",
      "\n",
      "Input:\n",
      "* \u03b1 err prob = 0.05\n",
      "* Power (1-\u03b2 err prob) = 0.8\n",
      "* Total sample size =\t249\n",
      "* Df = 7\n",
      "\n",
      "Output:\t\n",
      "* Noncentrality parameter \u03bb =\t14.3505266 \n",
      "* Critical \u03c7\u00b2 = 14.0671404 \n",
      "* Effect size w =\t0.2400680 \n",
      "\n",
      "*Conclusion* When testing for the effect of discipline on responses, we have 80% power to detect a moderate effect size of w = 0.24. DataONE saw small effects of discipline on fair conditions for sharing ranging from 0.11 to 0.17. Our power for those effects ranges from 19% to 45%.\n"
     ]
    },
    {
     "cell_type": "code",
     "collapsed": false,
     "input": [
      "[1] -- Wednesday, December 03, 2014 -- 16:24:42\n",
      "\u03c7\u00b2 tests - Goodness-of-fit tests: Contingency tables\n",
      "\n",
      "Analysis:\tSensitivity: Compute required effect size \n",
      "Input:\t\t\u03b1 err prob                    \t=\t0.05\n",
      "\t\t\tPower (1-\u03b2 err prob)          \t=\t0.8\n",
      "\t\t\tTotal sample size             \t=\t249\n",
      "\t\t\tDf                            \t=\t4\n",
      "Output:\t\tNoncentrality parameter \u03bb     \t=\t11.9352858\n",
      "\t\t\tCritical \u03c7\u00b2                   \t=\t9.4877290\n",
      "\t\t\tEffect size w                 \t=\t0.2189358\n"
     ],
     "language": "python",
     "metadata": {},
     "outputs": []
    },
    {
     "cell_type": "markdown",
     "metadata": {},
     "source": [
      "Test for effect of discipline on importance of sharing"
     ]
    },
    {
     "cell_type": "code",
     "collapsed": false,
     "input": [
      "importance = pd.DataFrame(responses.groupby('discipline').data_sharing_importance.value_counts()).unstack().fillna(value=0)\n",
      "display(pd.Series(sps.chi2_contingency(importance.as_matrix()), index= ['chi2', 'p', 'df', 'expected counts']))"
     ],
     "language": "python",
     "metadata": {},
     "outputs": [
      {
       "metadata": {},
       "output_type": "display_data",
       "text": [
        "chi2                                                        39.08115\n",
        "p                                                          0.1816239\n",
        "df                                                                32\n",
        "expected counts    [[17.6422764228, 8.06504065041, 3.27642276423,...\n",
        "dtype: object"
       ]
      }
     ],
     "prompt_number": 95
    },
    {
     "cell_type": "code",
     "collapsed": false,
     "input": [
      "publish_fe = checkbox_fisher_exact_power(responses.publish_definition, DP_FEATURES)\n",
      "\n",
      "for feature in DP_FEATURES:\n",
      "    display(publish_fe[feature])\n"
     ],
     "language": "python",
     "metadata": {},
     "outputs": [
      {
       "html": [
        "<div style=\"max-height:1000px;max-width:1500px;overflow:auto;\">\n",
        "<table border=\"1\" class=\"dataframe\">\n",
        "  <thead>\n",
        "    <tr style=\"text-align: right;\">\n",
        "      <th></th>\n",
        "      <th>OR</th>\n",
        "      <th>p-value</th>\n",
        "      <th>p1</th>\n",
        "      <th>p2</th>\n",
        "      <th>n1</th>\n",
        "      <th>n2</th>\n",
        "    </tr>\n",
        "  </thead>\n",
        "  <tbody>\n",
        "    <tr>\n",
        "      <th>A data paper (without conclusions) describes the data</th>\n",
        "      <td>  1.546286</td>\n",
        "      <td>    0.2532906</td>\n",
        "      <td> 0.7454545</td>\n",
        "      <td> 0.6544503</td>\n",
        "      <td>  55</td>\n",
        "      <td> 191</td>\n",
        "    </tr>\n",
        "    <tr>\n",
        "      <th>A traditional research paper is based on the data</th>\n",
        "      <td> 0.5968436</td>\n",
        "      <td>   0.07356048</td>\n",
        "      <td> 0.6095238</td>\n",
        "      <td> 0.7234043</td>\n",
        "      <td> 105</td>\n",
        "      <td> 141</td>\n",
        "    </tr>\n",
        "    <tr>\n",
        "      <th>Assigned a unique identifier such as a DOI</th>\n",
        "      <td>  2.980025</td>\n",
        "      <td> 0.0002817331</td>\n",
        "      <td> 0.8105263</td>\n",
        "      <td>  0.589404</td>\n",
        "      <td>  95</td>\n",
        "      <td> 151</td>\n",
        "    </tr>\n",
        "    <tr>\n",
        "      <th>Dataset is \"peer reviewed\"</th>\n",
        "      <td>  1.072419</td>\n",
        "      <td>     0.880714</td>\n",
        "      <td> 0.6857143</td>\n",
        "      <td> 0.6704545</td>\n",
        "      <td>  70</td>\n",
        "      <td> 176</td>\n",
        "    </tr>\n",
        "    <tr>\n",
        "      <th>Deposited in a database or repository</th>\n",
        "      <td>   9.55102</td>\n",
        "      <td> 7.603767e-14</td>\n",
        "      <td> 0.8796992</td>\n",
        "      <td> 0.4336283</td>\n",
        "      <td> 133</td>\n",
        "      <td> 113</td>\n",
        "    </tr>\n",
        "    <tr>\n",
        "      <th>Openly available without contacting the author(s)</th>\n",
        "      <td>       NaN</td>\n",
        "      <td>          NaN</td>\n",
        "      <td>       NaN</td>\n",
        "      <td>       NaN</td>\n",
        "      <td> NaN</td>\n",
        "      <td> NaN</td>\n",
        "    </tr>\n",
        "    <tr>\n",
        "      <th>Packaged with a thorough description of the data</th>\n",
        "      <td>  2.372487</td>\n",
        "      <td>   0.00349073</td>\n",
        "      <td>       NaN</td>\n",
        "      <td>       NaN</td>\n",
        "      <td> NaN</td>\n",
        "      <td> NaN</td>\n",
        "    </tr>\n",
        "    <tr>\n",
        "      <th>Packaged with formal metadata describing the data (e.g. as XML)</th>\n",
        "      <td>  1.711485</td>\n",
        "      <td>     0.118658</td>\n",
        "      <td>       NaN</td>\n",
        "      <td>       NaN</td>\n",
        "      <td> NaN</td>\n",
        "      <td> NaN</td>\n",
        "    </tr>\n",
        "  </tbody>\n",
        "</table>\n",
        "</div>"
       ],
       "metadata": {},
       "output_type": "display_data",
       "text": [
        "                                                                        OR  \\\n",
        "A data paper (without conclusions) describes the data             1.546286   \n",
        "A traditional research paper is based on the data                0.5968436   \n",
        "Assigned a unique identifier such as a DOI                        2.980025   \n",
        "Dataset is \"peer reviewed\"                                        1.072419   \n",
        "Deposited in a database or repository                              9.55102   \n",
        "Openly available without contacting the author(s)                      NaN   \n",
        "Packaged with a thorough description of the data                  2.372487   \n",
        "Packaged with formal metadata describing the data (e.g. as XML)   1.711485   \n",
        "\n",
        "                                                                      p-value  \\\n",
        "A data paper (without conclusions) describes the data               0.2532906   \n",
        "A traditional research paper is based on the data                  0.07356048   \n",
        "Assigned a unique identifier such as a DOI                       0.0002817331   \n",
        "Dataset is \"peer reviewed\"                                           0.880714   \n",
        "Deposited in a database or repository                            7.603767e-14   \n",
        "Openly available without contacting the author(s)                         NaN   \n",
        "Packaged with a thorough description of the data                   0.00349073   \n",
        "Packaged with formal metadata describing the data (e.g. as XML)      0.118658   \n",
        "\n",
        "                                                                        p1  \\\n",
        "A data paper (without conclusions) describes the data            0.7454545   \n",
        "A traditional research paper is based on the data                0.6095238   \n",
        "Assigned a unique identifier such as a DOI                       0.8105263   \n",
        "Dataset is \"peer reviewed\"                                       0.6857143   \n",
        "Deposited in a database or repository                            0.8796992   \n",
        "Openly available without contacting the author(s)                      NaN   \n",
        "Packaged with a thorough description of the data                       NaN   \n",
        "Packaged with formal metadata describing the data (e.g. as XML)        NaN   \n",
        "\n",
        "                                                                        p2  \\\n",
        "A data paper (without conclusions) describes the data            0.6544503   \n",
        "A traditional research paper is based on the data                0.7234043   \n",
        "Assigned a unique identifier such as a DOI                        0.589404   \n",
        "Dataset is \"peer reviewed\"                                       0.6704545   \n",
        "Deposited in a database or repository                            0.4336283   \n",
        "Openly available without contacting the author(s)                      NaN   \n",
        "Packaged with a thorough description of the data                       NaN   \n",
        "Packaged with formal metadata describing the data (e.g. as XML)        NaN   \n",
        "\n",
        "                                                                  n1   n2  \n",
        "A data paper (without conclusions) describes the data             55  191  \n",
        "A traditional research paper is based on the data                105  141  \n",
        "Assigned a unique identifier such as a DOI                        95  151  \n",
        "Dataset is \"peer reviewed\"                                        70  176  \n",
        "Deposited in a database or repository                            133  113  \n",
        "Openly available without contacting the author(s)                NaN  NaN  \n",
        "Packaged with a thorough description of the data                 NaN  NaN  \n",
        "Packaged with formal metadata describing the data (e.g. as XML)  NaN  NaN  "
       ]
      },
      {
       "html": [
        "<div style=\"max-height:1000px;max-width:1500px;overflow:auto;\">\n",
        "<table border=\"1\" class=\"dataframe\">\n",
        "  <thead>\n",
        "    <tr style=\"text-align: right;\">\n",
        "      <th></th>\n",
        "      <th>OR</th>\n",
        "      <th>p-value</th>\n",
        "      <th>p1</th>\n",
        "      <th>p2</th>\n",
        "      <th>n1</th>\n",
        "      <th>n2</th>\n",
        "    </tr>\n",
        "  </thead>\n",
        "  <tbody>\n",
        "    <tr>\n",
        "      <th>A data paper (without conclusions) describes the data</th>\n",
        "      <td>  2.258824</td>\n",
        "      <td>   0.01376784</td>\n",
        "      <td> 0.6909091</td>\n",
        "      <td> 0.4973822</td>\n",
        "      <td>  55</td>\n",
        "      <td> 191</td>\n",
        "    </tr>\n",
        "    <tr>\n",
        "      <th>A traditional research paper is based on the data</th>\n",
        "      <td> 0.7267645</td>\n",
        "      <td>     0.245196</td>\n",
        "      <td> 0.4952381</td>\n",
        "      <td> 0.5744681</td>\n",
        "      <td> 105</td>\n",
        "      <td> 141</td>\n",
        "    </tr>\n",
        "    <tr>\n",
        "      <th>Assigned a unique identifier such as a DOI</th>\n",
        "      <td>  3.332194</td>\n",
        "      <td> 1.330964e-05</td>\n",
        "      <td> 0.7157895</td>\n",
        "      <td> 0.4304636</td>\n",
        "      <td>  95</td>\n",
        "      <td> 151</td>\n",
        "    </tr>\n",
        "    <tr>\n",
        "      <th>Dataset is \"peer reviewed\"</th>\n",
        "      <td> 0.8623408</td>\n",
        "      <td>    0.6710047</td>\n",
        "      <td> 0.5142857</td>\n",
        "      <td> 0.5511364</td>\n",
        "      <td>  70</td>\n",
        "      <td> 176</td>\n",
        "    </tr>\n",
        "    <tr>\n",
        "      <th>Deposited in a database or repository</th>\n",
        "      <td>       NaN</td>\n",
        "      <td>          NaN</td>\n",
        "      <td>       NaN</td>\n",
        "      <td>       NaN</td>\n",
        "      <td> NaN</td>\n",
        "      <td> NaN</td>\n",
        "    </tr>\n",
        "    <tr>\n",
        "      <th>Openly available without contacting the author(s)</th>\n",
        "      <td>   9.55102</td>\n",
        "      <td> 7.603767e-14</td>\n",
        "      <td>       NaN</td>\n",
        "      <td>       NaN</td>\n",
        "      <td> NaN</td>\n",
        "      <td> NaN</td>\n",
        "    </tr>\n",
        "    <tr>\n",
        "      <th>Packaged with a thorough description of the data</th>\n",
        "      <td>  3.831886</td>\n",
        "      <td> 1.140463e-06</td>\n",
        "      <td>       NaN</td>\n",
        "      <td>       NaN</td>\n",
        "      <td> NaN</td>\n",
        "      <td> NaN</td>\n",
        "    </tr>\n",
        "    <tr>\n",
        "      <th>Packaged with formal metadata describing the data (e.g. as XML)</th>\n",
        "      <td>  4.487179</td>\n",
        "      <td> 3.935137e-06</td>\n",
        "      <td>       NaN</td>\n",
        "      <td>       NaN</td>\n",
        "      <td> NaN</td>\n",
        "      <td> NaN</td>\n",
        "    </tr>\n",
        "  </tbody>\n",
        "</table>\n",
        "</div>"
       ],
       "metadata": {},
       "output_type": "display_data",
       "text": [
        "                                                                        OR  \\\n",
        "A data paper (without conclusions) describes the data             2.258824   \n",
        "A traditional research paper is based on the data                0.7267645   \n",
        "Assigned a unique identifier such as a DOI                        3.332194   \n",
        "Dataset is \"peer reviewed\"                                       0.8623408   \n",
        "Deposited in a database or repository                                  NaN   \n",
        "Openly available without contacting the author(s)                  9.55102   \n",
        "Packaged with a thorough description of the data                  3.831886   \n",
        "Packaged with formal metadata describing the data (e.g. as XML)   4.487179   \n",
        "\n",
        "                                                                      p-value  \\\n",
        "A data paper (without conclusions) describes the data              0.01376784   \n",
        "A traditional research paper is based on the data                    0.245196   \n",
        "Assigned a unique identifier such as a DOI                       1.330964e-05   \n",
        "Dataset is \"peer reviewed\"                                          0.6710047   \n",
        "Deposited in a database or repository                                     NaN   \n",
        "Openly available without contacting the author(s)                7.603767e-14   \n",
        "Packaged with a thorough description of the data                 1.140463e-06   \n",
        "Packaged with formal metadata describing the data (e.g. as XML)  3.935137e-06   \n",
        "\n",
        "                                                                        p1  \\\n",
        "A data paper (without conclusions) describes the data            0.6909091   \n",
        "A traditional research paper is based on the data                0.4952381   \n",
        "Assigned a unique identifier such as a DOI                       0.7157895   \n",
        "Dataset is \"peer reviewed\"                                       0.5142857   \n",
        "Deposited in a database or repository                                  NaN   \n",
        "Openly available without contacting the author(s)                      NaN   \n",
        "Packaged with a thorough description of the data                       NaN   \n",
        "Packaged with formal metadata describing the data (e.g. as XML)        NaN   \n",
        "\n",
        "                                                                        p2  \\\n",
        "A data paper (without conclusions) describes the data            0.4973822   \n",
        "A traditional research paper is based on the data                0.5744681   \n",
        "Assigned a unique identifier such as a DOI                       0.4304636   \n",
        "Dataset is \"peer reviewed\"                                       0.5511364   \n",
        "Deposited in a database or repository                                  NaN   \n",
        "Openly available without contacting the author(s)                      NaN   \n",
        "Packaged with a thorough description of the data                       NaN   \n",
        "Packaged with formal metadata describing the data (e.g. as XML)        NaN   \n",
        "\n",
        "                                                                  n1   n2  \n",
        "A data paper (without conclusions) describes the data             55  191  \n",
        "A traditional research paper is based on the data                105  141  \n",
        "Assigned a unique identifier such as a DOI                        95  151  \n",
        "Dataset is \"peer reviewed\"                                        70  176  \n",
        "Deposited in a database or repository                            NaN  NaN  \n",
        "Openly available without contacting the author(s)                NaN  NaN  \n",
        "Packaged with a thorough description of the data                 NaN  NaN  \n",
        "Packaged with formal metadata describing the data (e.g. as XML)  NaN  NaN  "
       ]
      },
      {
       "html": [
        "<div style=\"max-height:1000px;max-width:1500px;overflow:auto;\">\n",
        "<table border=\"1\" class=\"dataframe\">\n",
        "  <thead>\n",
        "    <tr style=\"text-align: right;\">\n",
        "      <th></th>\n",
        "      <th>OR</th>\n",
        "      <th>p-value</th>\n",
        "      <th>p1</th>\n",
        "      <th>p2</th>\n",
        "      <th>n1</th>\n",
        "      <th>n2</th>\n",
        "    </tr>\n",
        "  </thead>\n",
        "  <tbody>\n",
        "    <tr>\n",
        "      <th>A data paper (without conclusions) describes the data</th>\n",
        "      <td>  2.563151</td>\n",
        "      <td>   0.00277827</td>\n",
        "      <td> 0.5636364</td>\n",
        "      <td> 0.3350785</td>\n",
        "      <td>  55</td>\n",
        "      <td> 191</td>\n",
        "    </tr>\n",
        "    <tr>\n",
        "      <th>A traditional research paper is based on the data</th>\n",
        "      <td> 0.7786511</td>\n",
        "      <td>    0.3577453</td>\n",
        "      <td>  0.352381</td>\n",
        "      <td> 0.4113475</td>\n",
        "      <td> 105</td>\n",
        "      <td> 141</td>\n",
        "    </tr>\n",
        "    <tr>\n",
        "      <th>Assigned a unique identifier such as a DOI</th>\n",
        "      <td>       NaN</td>\n",
        "      <td>          NaN</td>\n",
        "      <td>       NaN</td>\n",
        "      <td>       NaN</td>\n",
        "      <td> NaN</td>\n",
        "      <td> NaN</td>\n",
        "    </tr>\n",
        "    <tr>\n",
        "      <th>Dataset is \"peer reviewed\"</th>\n",
        "      <td>  1.178862</td>\n",
        "      <td>    0.5656739</td>\n",
        "      <td>       NaN</td>\n",
        "      <td>       NaN</td>\n",
        "      <td> NaN</td>\n",
        "      <td> NaN</td>\n",
        "    </tr>\n",
        "    <tr>\n",
        "      <th>Deposited in a database or repository</th>\n",
        "      <td>  3.332194</td>\n",
        "      <td> 1.330964e-05</td>\n",
        "      <td>       NaN</td>\n",
        "      <td>       NaN</td>\n",
        "      <td> NaN</td>\n",
        "      <td> NaN</td>\n",
        "    </tr>\n",
        "    <tr>\n",
        "      <th>Openly available without contacting the author(s)</th>\n",
        "      <td>  2.980025</td>\n",
        "      <td> 0.0002817331</td>\n",
        "      <td>       NaN</td>\n",
        "      <td>       NaN</td>\n",
        "      <td> NaN</td>\n",
        "      <td> NaN</td>\n",
        "    </tr>\n",
        "    <tr>\n",
        "      <th>Packaged with a thorough description of the data</th>\n",
        "      <td>  2.645751</td>\n",
        "      <td> 0.0004608618</td>\n",
        "      <td>       NaN</td>\n",
        "      <td>       NaN</td>\n",
        "      <td> NaN</td>\n",
        "      <td> NaN</td>\n",
        "    </tr>\n",
        "    <tr>\n",
        "      <th>Packaged with formal metadata describing the data (e.g. as XML)</th>\n",
        "      <td>  7.920918</td>\n",
        "      <td> 5.052153e-11</td>\n",
        "      <td>       NaN</td>\n",
        "      <td>       NaN</td>\n",
        "      <td> NaN</td>\n",
        "      <td> NaN</td>\n",
        "    </tr>\n",
        "  </tbody>\n",
        "</table>\n",
        "</div>"
       ],
       "metadata": {},
       "output_type": "display_data",
       "text": [
        "                                                                        OR  \\\n",
        "A data paper (without conclusions) describes the data             2.563151   \n",
        "A traditional research paper is based on the data                0.7786511   \n",
        "Assigned a unique identifier such as a DOI                             NaN   \n",
        "Dataset is \"peer reviewed\"                                        1.178862   \n",
        "Deposited in a database or repository                             3.332194   \n",
        "Openly available without contacting the author(s)                 2.980025   \n",
        "Packaged with a thorough description of the data                  2.645751   \n",
        "Packaged with formal metadata describing the data (e.g. as XML)   7.920918   \n",
        "\n",
        "                                                                      p-value  \\\n",
        "A data paper (without conclusions) describes the data              0.00277827   \n",
        "A traditional research paper is based on the data                   0.3577453   \n",
        "Assigned a unique identifier such as a DOI                                NaN   \n",
        "Dataset is \"peer reviewed\"                                          0.5656739   \n",
        "Deposited in a database or repository                            1.330964e-05   \n",
        "Openly available without contacting the author(s)                0.0002817331   \n",
        "Packaged with a thorough description of the data                 0.0004608618   \n",
        "Packaged with formal metadata describing the data (e.g. as XML)  5.052153e-11   \n",
        "\n",
        "                                                                        p1  \\\n",
        "A data paper (without conclusions) describes the data            0.5636364   \n",
        "A traditional research paper is based on the data                 0.352381   \n",
        "Assigned a unique identifier such as a DOI                             NaN   \n",
        "Dataset is \"peer reviewed\"                                             NaN   \n",
        "Deposited in a database or repository                                  NaN   \n",
        "Openly available without contacting the author(s)                      NaN   \n",
        "Packaged with a thorough description of the data                       NaN   \n",
        "Packaged with formal metadata describing the data (e.g. as XML)        NaN   \n",
        "\n",
        "                                                                        p2  \\\n",
        "A data paper (without conclusions) describes the data            0.3350785   \n",
        "A traditional research paper is based on the data                0.4113475   \n",
        "Assigned a unique identifier such as a DOI                             NaN   \n",
        "Dataset is \"peer reviewed\"                                             NaN   \n",
        "Deposited in a database or repository                                  NaN   \n",
        "Openly available without contacting the author(s)                      NaN   \n",
        "Packaged with a thorough description of the data                       NaN   \n",
        "Packaged with formal metadata describing the data (e.g. as XML)        NaN   \n",
        "\n",
        "                                                                  n1   n2  \n",
        "A data paper (without conclusions) describes the data             55  191  \n",
        "A traditional research paper is based on the data                105  141  \n",
        "Assigned a unique identifier such as a DOI                       NaN  NaN  \n",
        "Dataset is \"peer reviewed\"                                       NaN  NaN  \n",
        "Deposited in a database or repository                            NaN  NaN  \n",
        "Openly available without contacting the author(s)                NaN  NaN  \n",
        "Packaged with a thorough description of the data                 NaN  NaN  \n",
        "Packaged with formal metadata describing the data (e.g. as XML)  NaN  NaN  "
       ]
      },
      {
       "html": [
        "<div style=\"max-height:1000px;max-width:1500px;overflow:auto;\">\n",
        "<table border=\"1\" class=\"dataframe\">\n",
        "  <thead>\n",
        "    <tr style=\"text-align: right;\">\n",
        "      <th></th>\n",
        "      <th>OR</th>\n",
        "      <th>p-value</th>\n",
        "      <th>p1</th>\n",
        "      <th>p2</th>\n",
        "      <th>n1</th>\n",
        "      <th>n2</th>\n",
        "    </tr>\n",
        "  </thead>\n",
        "  <tbody>\n",
        "    <tr>\n",
        "      <th>A data paper (without conclusions) describes the data</th>\n",
        "      <td>  1.535354</td>\n",
        "      <td>  0.1677371</td>\n",
        "      <td> 0.5090909</td>\n",
        "      <td> 0.4031414</td>\n",
        "      <td>  55</td>\n",
        "      <td> 191</td>\n",
        "    </tr>\n",
        "    <tr>\n",
        "      <th>A traditional research paper is based on the data</th>\n",
        "      <td>       NaN</td>\n",
        "      <td>        NaN</td>\n",
        "      <td>       NaN</td>\n",
        "      <td>       NaN</td>\n",
        "      <td> NaN</td>\n",
        "      <td> NaN</td>\n",
        "    </tr>\n",
        "    <tr>\n",
        "      <th>Assigned a unique identifier such as a DOI</th>\n",
        "      <td> 0.7786511</td>\n",
        "      <td>  0.3577453</td>\n",
        "      <td>       NaN</td>\n",
        "      <td>       NaN</td>\n",
        "      <td> NaN</td>\n",
        "      <td> NaN</td>\n",
        "    </tr>\n",
        "    <tr>\n",
        "      <th>Dataset is \"peer reviewed\"</th>\n",
        "      <td>  1.931903</td>\n",
        "      <td> 0.02277664</td>\n",
        "      <td>       NaN</td>\n",
        "      <td>       NaN</td>\n",
        "      <td> NaN</td>\n",
        "      <td> NaN</td>\n",
        "    </tr>\n",
        "    <tr>\n",
        "      <th>Deposited in a database or repository</th>\n",
        "      <td> 0.7267645</td>\n",
        "      <td>   0.245196</td>\n",
        "      <td>       NaN</td>\n",
        "      <td>       NaN</td>\n",
        "      <td> NaN</td>\n",
        "      <td> NaN</td>\n",
        "    </tr>\n",
        "    <tr>\n",
        "      <th>Openly available without contacting the author(s)</th>\n",
        "      <td> 0.5968436</td>\n",
        "      <td> 0.07356048</td>\n",
        "      <td>       NaN</td>\n",
        "      <td>       NaN</td>\n",
        "      <td> NaN</td>\n",
        "      <td> NaN</td>\n",
        "    </tr>\n",
        "    <tr>\n",
        "      <th>Packaged with a thorough description of the data</th>\n",
        "      <td>  1.042424</td>\n",
        "      <td>  0.8956619</td>\n",
        "      <td>       NaN</td>\n",
        "      <td>       NaN</td>\n",
        "      <td> NaN</td>\n",
        "      <td> NaN</td>\n",
        "    </tr>\n",
        "    <tr>\n",
        "      <th>Packaged with formal metadata describing the data (e.g. as XML)</th>\n",
        "      <td> 0.9599156</td>\n",
        "      <td>          1</td>\n",
        "      <td>       NaN</td>\n",
        "      <td>       NaN</td>\n",
        "      <td> NaN</td>\n",
        "      <td> NaN</td>\n",
        "    </tr>\n",
        "  </tbody>\n",
        "</table>\n",
        "</div>"
       ],
       "metadata": {},
       "output_type": "display_data",
       "text": [
        "                                                                        OR  \\\n",
        "A data paper (without conclusions) describes the data             1.535354   \n",
        "A traditional research paper is based on the data                      NaN   \n",
        "Assigned a unique identifier such as a DOI                       0.7786511   \n",
        "Dataset is \"peer reviewed\"                                        1.931903   \n",
        "Deposited in a database or repository                            0.7267645   \n",
        "Openly available without contacting the author(s)                0.5968436   \n",
        "Packaged with a thorough description of the data                  1.042424   \n",
        "Packaged with formal metadata describing the data (e.g. as XML)  0.9599156   \n",
        "\n",
        "                                                                    p-value  \\\n",
        "A data paper (without conclusions) describes the data             0.1677371   \n",
        "A traditional research paper is based on the data                       NaN   \n",
        "Assigned a unique identifier such as a DOI                        0.3577453   \n",
        "Dataset is \"peer reviewed\"                                       0.02277664   \n",
        "Deposited in a database or repository                              0.245196   \n",
        "Openly available without contacting the author(s)                0.07356048   \n",
        "Packaged with a thorough description of the data                  0.8956619   \n",
        "Packaged with formal metadata describing the data (e.g. as XML)           1   \n",
        "\n",
        "                                                                        p1  \\\n",
        "A data paper (without conclusions) describes the data            0.5090909   \n",
        "A traditional research paper is based on the data                      NaN   \n",
        "Assigned a unique identifier such as a DOI                             NaN   \n",
        "Dataset is \"peer reviewed\"                                             NaN   \n",
        "Deposited in a database or repository                                  NaN   \n",
        "Openly available without contacting the author(s)                      NaN   \n",
        "Packaged with a thorough description of the data                       NaN   \n",
        "Packaged with formal metadata describing the data (e.g. as XML)        NaN   \n",
        "\n",
        "                                                                        p2  \\\n",
        "A data paper (without conclusions) describes the data            0.4031414   \n",
        "A traditional research paper is based on the data                      NaN   \n",
        "Assigned a unique identifier such as a DOI                             NaN   \n",
        "Dataset is \"peer reviewed\"                                             NaN   \n",
        "Deposited in a database or repository                                  NaN   \n",
        "Openly available without contacting the author(s)                      NaN   \n",
        "Packaged with a thorough description of the data                       NaN   \n",
        "Packaged with formal metadata describing the data (e.g. as XML)        NaN   \n",
        "\n",
        "                                                                  n1   n2  \n",
        "A data paper (without conclusions) describes the data             55  191  \n",
        "A traditional research paper is based on the data                NaN  NaN  \n",
        "Assigned a unique identifier such as a DOI                       NaN  NaN  \n",
        "Dataset is \"peer reviewed\"                                       NaN  NaN  \n",
        "Deposited in a database or repository                            NaN  NaN  \n",
        "Openly available without contacting the author(s)                NaN  NaN  \n",
        "Packaged with a thorough description of the data                 NaN  NaN  \n",
        "Packaged with formal metadata describing the data (e.g. as XML)  NaN  NaN  "
       ]
      },
      {
       "html": [
        "<div style=\"max-height:1000px;max-width:1500px;overflow:auto;\">\n",
        "<table border=\"1\" class=\"dataframe\">\n",
        "  <thead>\n",
        "    <tr style=\"text-align: right;\">\n",
        "      <th></th>\n",
        "      <th>OR</th>\n",
        "      <th>p-value</th>\n",
        "      <th>p1</th>\n",
        "      <th>p2</th>\n",
        "      <th>n1</th>\n",
        "      <th>n2</th>\n",
        "    </tr>\n",
        "  </thead>\n",
        "  <tbody>\n",
        "    <tr>\n",
        "      <th>A data paper (without conclusions) describes the data</th>\n",
        "      <td>      NaN</td>\n",
        "      <td>          NaN</td>\n",
        "      <td> NaN</td>\n",
        "      <td> NaN</td>\n",
        "      <td> NaN</td>\n",
        "      <td> NaN</td>\n",
        "    </tr>\n",
        "    <tr>\n",
        "      <th>A traditional research paper is based on the data</th>\n",
        "      <td> 1.535354</td>\n",
        "      <td>    0.1677371</td>\n",
        "      <td> NaN</td>\n",
        "      <td> NaN</td>\n",
        "      <td> NaN</td>\n",
        "      <td> NaN</td>\n",
        "    </tr>\n",
        "    <tr>\n",
        "      <th>Assigned a unique identifier such as a DOI</th>\n",
        "      <td> 2.563151</td>\n",
        "      <td>   0.00277827</td>\n",
        "      <td> NaN</td>\n",
        "      <td> NaN</td>\n",
        "      <td> NaN</td>\n",
        "      <td> NaN</td>\n",
        "    </tr>\n",
        "    <tr>\n",
        "      <th>Dataset is \"peer reviewed\"</th>\n",
        "      <td> 2.995298</td>\n",
        "      <td>  0.001082305</td>\n",
        "      <td> NaN</td>\n",
        "      <td> NaN</td>\n",
        "      <td> NaN</td>\n",
        "      <td> NaN</td>\n",
        "    </tr>\n",
        "    <tr>\n",
        "      <th>Deposited in a database or repository</th>\n",
        "      <td> 2.258824</td>\n",
        "      <td>   0.01376784</td>\n",
        "      <td> NaN</td>\n",
        "      <td> NaN</td>\n",
        "      <td> NaN</td>\n",
        "      <td> NaN</td>\n",
        "    </tr>\n",
        "    <tr>\n",
        "      <th>Openly available without contacting the author(s)</th>\n",
        "      <td> 1.546286</td>\n",
        "      <td>    0.2532906</td>\n",
        "      <td> NaN</td>\n",
        "      <td> NaN</td>\n",
        "      <td> NaN</td>\n",
        "      <td> NaN</td>\n",
        "    </tr>\n",
        "    <tr>\n",
        "      <th>Packaged with a thorough description of the data</th>\n",
        "      <td> 3.641129</td>\n",
        "      <td>  4.21724e-05</td>\n",
        "      <td> NaN</td>\n",
        "      <td> NaN</td>\n",
        "      <td> NaN</td>\n",
        "      <td> NaN</td>\n",
        "    </tr>\n",
        "    <tr>\n",
        "      <th>Packaged with formal metadata describing the data (e.g. as XML)</th>\n",
        "      <td> 4.297959</td>\n",
        "      <td> 1.316373e-05</td>\n",
        "      <td> NaN</td>\n",
        "      <td> NaN</td>\n",
        "      <td> NaN</td>\n",
        "      <td> NaN</td>\n",
        "    </tr>\n",
        "  </tbody>\n",
        "</table>\n",
        "</div>"
       ],
       "metadata": {},
       "output_type": "display_data",
       "text": [
        "                                                                       OR  \\\n",
        "A data paper (without conclusions) describes the data                 NaN   \n",
        "A traditional research paper is based on the data                1.535354   \n",
        "Assigned a unique identifier such as a DOI                       2.563151   \n",
        "Dataset is \"peer reviewed\"                                       2.995298   \n",
        "Deposited in a database or repository                            2.258824   \n",
        "Openly available without contacting the author(s)                1.546286   \n",
        "Packaged with a thorough description of the data                 3.641129   \n",
        "Packaged with formal metadata describing the data (e.g. as XML)  4.297959   \n",
        "\n",
        "                                                                      p-value  \\\n",
        "A data paper (without conclusions) describes the data                     NaN   \n",
        "A traditional research paper is based on the data                   0.1677371   \n",
        "Assigned a unique identifier such as a DOI                         0.00277827   \n",
        "Dataset is \"peer reviewed\"                                        0.001082305   \n",
        "Deposited in a database or repository                              0.01376784   \n",
        "Openly available without contacting the author(s)                   0.2532906   \n",
        "Packaged with a thorough description of the data                  4.21724e-05   \n",
        "Packaged with formal metadata describing the data (e.g. as XML)  1.316373e-05   \n",
        "\n",
        "                                                                  p1   p2  \\\n",
        "A data paper (without conclusions) describes the data            NaN  NaN   \n",
        "A traditional research paper is based on the data                NaN  NaN   \n",
        "Assigned a unique identifier such as a DOI                       NaN  NaN   \n",
        "Dataset is \"peer reviewed\"                                       NaN  NaN   \n",
        "Deposited in a database or repository                            NaN  NaN   \n",
        "Openly available without contacting the author(s)                NaN  NaN   \n",
        "Packaged with a thorough description of the data                 NaN  NaN   \n",
        "Packaged with formal metadata describing the data (e.g. as XML)  NaN  NaN   \n",
        "\n",
        "                                                                  n1   n2  \n",
        "A data paper (without conclusions) describes the data            NaN  NaN  \n",
        "A traditional research paper is based on the data                NaN  NaN  \n",
        "Assigned a unique identifier such as a DOI                       NaN  NaN  \n",
        "Dataset is \"peer reviewed\"                                       NaN  NaN  \n",
        "Deposited in a database or repository                            NaN  NaN  \n",
        "Openly available without contacting the author(s)                NaN  NaN  \n",
        "Packaged with a thorough description of the data                 NaN  NaN  \n",
        "Packaged with formal metadata describing the data (e.g. as XML)  NaN  NaN  "
       ]
      },
      {
       "html": [
        "<div style=\"max-height:1000px;max-width:1500px;overflow:auto;\">\n",
        "<table border=\"1\" class=\"dataframe\">\n",
        "  <thead>\n",
        "    <tr style=\"text-align: right;\">\n",
        "      <th></th>\n",
        "      <th>OR</th>\n",
        "      <th>p-value</th>\n",
        "      <th>p1</th>\n",
        "      <th>p2</th>\n",
        "      <th>n1</th>\n",
        "      <th>n2</th>\n",
        "    </tr>\n",
        "  </thead>\n",
        "  <tbody>\n",
        "    <tr>\n",
        "      <th>A data paper (without conclusions) describes the data</th>\n",
        "      <td> 3.641129</td>\n",
        "      <td>  4.21724e-05</td>\n",
        "      <td> 0.6363636</td>\n",
        "      <td> 0.3246073</td>\n",
        "      <td>  55</td>\n",
        "      <td> 191</td>\n",
        "    </tr>\n",
        "    <tr>\n",
        "      <th>A traditional research paper is based on the data</th>\n",
        "      <td> 1.042424</td>\n",
        "      <td>    0.8956619</td>\n",
        "      <td>       0.4</td>\n",
        "      <td> 0.3900709</td>\n",
        "      <td> 105</td>\n",
        "      <td> 141</td>\n",
        "    </tr>\n",
        "    <tr>\n",
        "      <th>Assigned a unique identifier such as a DOI</th>\n",
        "      <td> 2.645751</td>\n",
        "      <td> 0.0004608618</td>\n",
        "      <td> 0.5368421</td>\n",
        "      <td> 0.3046358</td>\n",
        "      <td>  95</td>\n",
        "      <td> 151</td>\n",
        "    </tr>\n",
        "    <tr>\n",
        "      <th>Dataset is \"peer reviewed\"</th>\n",
        "      <td> 1.694004</td>\n",
        "      <td>   0.08243073</td>\n",
        "      <td> 0.4857143</td>\n",
        "      <td> 0.3579545</td>\n",
        "      <td>  70</td>\n",
        "      <td> 176</td>\n",
        "    </tr>\n",
        "    <tr>\n",
        "      <th>Deposited in a database or repository</th>\n",
        "      <td> 3.831886</td>\n",
        "      <td> 1.140463e-06</td>\n",
        "      <td> 0.5338346</td>\n",
        "      <td> 0.2300885</td>\n",
        "      <td> 133</td>\n",
        "      <td> 113</td>\n",
        "    </tr>\n",
        "    <tr>\n",
        "      <th>Openly available without contacting the author(s)</th>\n",
        "      <td> 2.372487</td>\n",
        "      <td>   0.00349073</td>\n",
        "      <td> 0.4578313</td>\n",
        "      <td>    0.2625</td>\n",
        "      <td> 166</td>\n",
        "      <td>  80</td>\n",
        "    </tr>\n",
        "    <tr>\n",
        "      <th>Packaged with a thorough description of the data</th>\n",
        "      <td>      NaN</td>\n",
        "      <td>          NaN</td>\n",
        "      <td>       NaN</td>\n",
        "      <td>       NaN</td>\n",
        "      <td> NaN</td>\n",
        "      <td> NaN</td>\n",
        "    </tr>\n",
        "    <tr>\n",
        "      <th>Packaged with formal metadata describing the data (e.g. as XML)</th>\n",
        "      <td> 12.14539</td>\n",
        "      <td> 2.072113e-14</td>\n",
        "      <td>       NaN</td>\n",
        "      <td>       NaN</td>\n",
        "      <td> NaN</td>\n",
        "      <td> NaN</td>\n",
        "    </tr>\n",
        "  </tbody>\n",
        "</table>\n",
        "</div>"
       ],
       "metadata": {},
       "output_type": "display_data",
       "text": [
        "                                                                       OR  \\\n",
        "A data paper (without conclusions) describes the data            3.641129   \n",
        "A traditional research paper is based on the data                1.042424   \n",
        "Assigned a unique identifier such as a DOI                       2.645751   \n",
        "Dataset is \"peer reviewed\"                                       1.694004   \n",
        "Deposited in a database or repository                            3.831886   \n",
        "Openly available without contacting the author(s)                2.372487   \n",
        "Packaged with a thorough description of the data                      NaN   \n",
        "Packaged with formal metadata describing the data (e.g. as XML)  12.14539   \n",
        "\n",
        "                                                                      p-value  \\\n",
        "A data paper (without conclusions) describes the data             4.21724e-05   \n",
        "A traditional research paper is based on the data                   0.8956619   \n",
        "Assigned a unique identifier such as a DOI                       0.0004608618   \n",
        "Dataset is \"peer reviewed\"                                         0.08243073   \n",
        "Deposited in a database or repository                            1.140463e-06   \n",
        "Openly available without contacting the author(s)                  0.00349073   \n",
        "Packaged with a thorough description of the data                          NaN   \n",
        "Packaged with formal metadata describing the data (e.g. as XML)  2.072113e-14   \n",
        "\n",
        "                                                                        p1  \\\n",
        "A data paper (without conclusions) describes the data            0.6363636   \n",
        "A traditional research paper is based on the data                      0.4   \n",
        "Assigned a unique identifier such as a DOI                       0.5368421   \n",
        "Dataset is \"peer reviewed\"                                       0.4857143   \n",
        "Deposited in a database or repository                            0.5338346   \n",
        "Openly available without contacting the author(s)                0.4578313   \n",
        "Packaged with a thorough description of the data                       NaN   \n",
        "Packaged with formal metadata describing the data (e.g. as XML)        NaN   \n",
        "\n",
        "                                                                        p2  \\\n",
        "A data paper (without conclusions) describes the data            0.3246073   \n",
        "A traditional research paper is based on the data                0.3900709   \n",
        "Assigned a unique identifier such as a DOI                       0.3046358   \n",
        "Dataset is \"peer reviewed\"                                       0.3579545   \n",
        "Deposited in a database or repository                            0.2300885   \n",
        "Openly available without contacting the author(s)                   0.2625   \n",
        "Packaged with a thorough description of the data                       NaN   \n",
        "Packaged with formal metadata describing the data (e.g. as XML)        NaN   \n",
        "\n",
        "                                                                  n1   n2  \n",
        "A data paper (without conclusions) describes the data             55  191  \n",
        "A traditional research paper is based on the data                105  141  \n",
        "Assigned a unique identifier such as a DOI                        95  151  \n",
        "Dataset is \"peer reviewed\"                                        70  176  \n",
        "Deposited in a database or repository                            133  113  \n",
        "Openly available without contacting the author(s)                166   80  \n",
        "Packaged with a thorough description of the data                 NaN  NaN  \n",
        "Packaged with formal metadata describing the data (e.g. as XML)  NaN  NaN  "
       ]
      },
      {
       "html": [
        "<div style=\"max-height:1000px;max-width:1500px;overflow:auto;\">\n",
        "<table border=\"1\" class=\"dataframe\">\n",
        "  <thead>\n",
        "    <tr style=\"text-align: right;\">\n",
        "      <th></th>\n",
        "      <th>OR</th>\n",
        "      <th>p-value</th>\n",
        "      <th>p1</th>\n",
        "      <th>p2</th>\n",
        "      <th>n1</th>\n",
        "      <th>n2</th>\n",
        "    </tr>\n",
        "  </thead>\n",
        "  <tbody>\n",
        "    <tr>\n",
        "      <th>A data paper (without conclusions) describes the data</th>\n",
        "      <td>  4.297959</td>\n",
        "      <td> 1.316373e-05</td>\n",
        "      <td> 0.4909091</td>\n",
        "      <td>  0.1832461</td>\n",
        "      <td>  55</td>\n",
        "      <td> 191</td>\n",
        "    </tr>\n",
        "    <tr>\n",
        "      <th>A traditional research paper is based on the data</th>\n",
        "      <td> 0.9599156</td>\n",
        "      <td>            1</td>\n",
        "      <td>  0.247619</td>\n",
        "      <td>  0.2553191</td>\n",
        "      <td> 105</td>\n",
        "      <td> 141</td>\n",
        "    </tr>\n",
        "    <tr>\n",
        "      <th>Assigned a unique identifier such as a DOI</th>\n",
        "      <td>  7.920918</td>\n",
        "      <td> 5.052153e-11</td>\n",
        "      <td> 0.4842105</td>\n",
        "      <td>  0.1059603</td>\n",
        "      <td>  95</td>\n",
        "      <td> 151</td>\n",
        "    </tr>\n",
        "    <tr>\n",
        "      <th>Dataset is \"peer reviewed\"</th>\n",
        "      <td>   1.71904</td>\n",
        "      <td>    0.1031605</td>\n",
        "      <td> 0.3285714</td>\n",
        "      <td>  0.2215909</td>\n",
        "      <td>  70</td>\n",
        "      <td> 176</td>\n",
        "    </tr>\n",
        "    <tr>\n",
        "      <th>Deposited in a database or repository</th>\n",
        "      <td>  4.487179</td>\n",
        "      <td> 3.935137e-06</td>\n",
        "      <td> 0.3684211</td>\n",
        "      <td>  0.1150442</td>\n",
        "      <td> 133</td>\n",
        "      <td> 113</td>\n",
        "    </tr>\n",
        "    <tr>\n",
        "      <th>Openly available without contacting the author(s)</th>\n",
        "      <td>  1.711485</td>\n",
        "      <td>     0.118658</td>\n",
        "      <td> 0.2831325</td>\n",
        "      <td>     0.1875</td>\n",
        "      <td> 166</td>\n",
        "      <td>  80</td>\n",
        "    </tr>\n",
        "    <tr>\n",
        "      <th>Packaged with a thorough description of the data</th>\n",
        "      <td>  12.14539</td>\n",
        "      <td> 2.072113e-14</td>\n",
        "      <td> 0.5154639</td>\n",
        "      <td> 0.08053691</td>\n",
        "      <td>  97</td>\n",
        "      <td> 149</td>\n",
        "    </tr>\n",
        "    <tr>\n",
        "      <th>Packaged with formal metadata describing the data (e.g. as XML)</th>\n",
        "      <td>       NaN</td>\n",
        "      <td>          NaN</td>\n",
        "      <td>       NaN</td>\n",
        "      <td>        NaN</td>\n",
        "      <td> NaN</td>\n",
        "      <td> NaN</td>\n",
        "    </tr>\n",
        "  </tbody>\n",
        "</table>\n",
        "</div>"
       ],
       "metadata": {},
       "output_type": "display_data",
       "text": [
        "                                                                        OR  \\\n",
        "A data paper (without conclusions) describes the data             4.297959   \n",
        "A traditional research paper is based on the data                0.9599156   \n",
        "Assigned a unique identifier such as a DOI                        7.920918   \n",
        "Dataset is \"peer reviewed\"                                         1.71904   \n",
        "Deposited in a database or repository                             4.487179   \n",
        "Openly available without contacting the author(s)                 1.711485   \n",
        "Packaged with a thorough description of the data                  12.14539   \n",
        "Packaged with formal metadata describing the data (e.g. as XML)        NaN   \n",
        "\n",
        "                                                                      p-value  \\\n",
        "A data paper (without conclusions) describes the data            1.316373e-05   \n",
        "A traditional research paper is based on the data                           1   \n",
        "Assigned a unique identifier such as a DOI                       5.052153e-11   \n",
        "Dataset is \"peer reviewed\"                                          0.1031605   \n",
        "Deposited in a database or repository                            3.935137e-06   \n",
        "Openly available without contacting the author(s)                    0.118658   \n",
        "Packaged with a thorough description of the data                 2.072113e-14   \n",
        "Packaged with formal metadata describing the data (e.g. as XML)           NaN   \n",
        "\n",
        "                                                                        p1  \\\n",
        "A data paper (without conclusions) describes the data            0.4909091   \n",
        "A traditional research paper is based on the data                 0.247619   \n",
        "Assigned a unique identifier such as a DOI                       0.4842105   \n",
        "Dataset is \"peer reviewed\"                                       0.3285714   \n",
        "Deposited in a database or repository                            0.3684211   \n",
        "Openly available without contacting the author(s)                0.2831325   \n",
        "Packaged with a thorough description of the data                 0.5154639   \n",
        "Packaged with formal metadata describing the data (e.g. as XML)        NaN   \n",
        "\n",
        "                                                                         p2  \\\n",
        "A data paper (without conclusions) describes the data             0.1832461   \n",
        "A traditional research paper is based on the data                 0.2553191   \n",
        "Assigned a unique identifier such as a DOI                        0.1059603   \n",
        "Dataset is \"peer reviewed\"                                        0.2215909   \n",
        "Deposited in a database or repository                             0.1150442   \n",
        "Openly available without contacting the author(s)                    0.1875   \n",
        "Packaged with a thorough description of the data                 0.08053691   \n",
        "Packaged with formal metadata describing the data (e.g. as XML)         NaN   \n",
        "\n",
        "                                                                  n1   n2  \n",
        "A data paper (without conclusions) describes the data             55  191  \n",
        "A traditional research paper is based on the data                105  141  \n",
        "Assigned a unique identifier such as a DOI                        95  151  \n",
        "Dataset is \"peer reviewed\"                                        70  176  \n",
        "Deposited in a database or repository                            133  113  \n",
        "Openly available without contacting the author(s)                166   80  \n",
        "Packaged with a thorough description of the data                  97  149  \n",
        "Packaged with formal metadata describing the data (e.g. as XML)  NaN  NaN  "
       ]
      },
      {
       "html": [
        "<div style=\"max-height:1000px;max-width:1500px;overflow:auto;\">\n",
        "<table border=\"1\" class=\"dataframe\">\n",
        "  <thead>\n",
        "    <tr style=\"text-align: right;\">\n",
        "      <th></th>\n",
        "      <th>OR</th>\n",
        "      <th>p-value</th>\n",
        "      <th>p1</th>\n",
        "      <th>p2</th>\n",
        "      <th>n1</th>\n",
        "      <th>n2</th>\n",
        "    </tr>\n",
        "  </thead>\n",
        "  <tbody>\n",
        "    <tr>\n",
        "      <th>A data paper (without conclusions) describes the data</th>\n",
        "      <td>  2.995298</td>\n",
        "      <td> 0.001082305</td>\n",
        "      <td> 0.4727273</td>\n",
        "      <td> 0.2303665</td>\n",
        "      <td>  55</td>\n",
        "      <td> 191</td>\n",
        "    </tr>\n",
        "    <tr>\n",
        "      <th>A traditional research paper is based on the data</th>\n",
        "      <td>  1.931903</td>\n",
        "      <td>  0.02277664</td>\n",
        "      <td> 0.3619048</td>\n",
        "      <td> 0.2269504</td>\n",
        "      <td> 105</td>\n",
        "      <td> 141</td>\n",
        "    </tr>\n",
        "    <tr>\n",
        "      <th>Assigned a unique identifier such as a DOI</th>\n",
        "      <td>  1.178862</td>\n",
        "      <td>   0.5656739</td>\n",
        "      <td> 0.3052632</td>\n",
        "      <td> 0.2715232</td>\n",
        "      <td>  95</td>\n",
        "      <td> 151</td>\n",
        "    </tr>\n",
        "    <tr>\n",
        "      <th>Dataset is \"peer reviewed\"</th>\n",
        "      <td>       NaN</td>\n",
        "      <td>         NaN</td>\n",
        "      <td>       NaN</td>\n",
        "      <td>       NaN</td>\n",
        "      <td> NaN</td>\n",
        "      <td> NaN</td>\n",
        "    </tr>\n",
        "    <tr>\n",
        "      <th>Deposited in a database or repository</th>\n",
        "      <td> 0.8623408</td>\n",
        "      <td>   0.6710047</td>\n",
        "      <td>       NaN</td>\n",
        "      <td>       NaN</td>\n",
        "      <td> NaN</td>\n",
        "      <td> NaN</td>\n",
        "    </tr>\n",
        "    <tr>\n",
        "      <th>Openly available without contacting the author(s)</th>\n",
        "      <td>  1.072419</td>\n",
        "      <td>    0.880714</td>\n",
        "      <td>       NaN</td>\n",
        "      <td>       NaN</td>\n",
        "      <td> NaN</td>\n",
        "      <td> NaN</td>\n",
        "    </tr>\n",
        "    <tr>\n",
        "      <th>Packaged with a thorough description of the data</th>\n",
        "      <td>  1.694004</td>\n",
        "      <td>  0.08243073</td>\n",
        "      <td>       NaN</td>\n",
        "      <td>       NaN</td>\n",
        "      <td> NaN</td>\n",
        "      <td> NaN</td>\n",
        "    </tr>\n",
        "    <tr>\n",
        "      <th>Packaged with formal metadata describing the data (e.g. as XML)</th>\n",
        "      <td>   1.71904</td>\n",
        "      <td>   0.1031605</td>\n",
        "      <td>       NaN</td>\n",
        "      <td>       NaN</td>\n",
        "      <td> NaN</td>\n",
        "      <td> NaN</td>\n",
        "    </tr>\n",
        "  </tbody>\n",
        "</table>\n",
        "</div>"
       ],
       "metadata": {},
       "output_type": "display_data",
       "text": [
        "                                                                        OR  \\\n",
        "A data paper (without conclusions) describes the data             2.995298   \n",
        "A traditional research paper is based on the data                 1.931903   \n",
        "Assigned a unique identifier such as a DOI                        1.178862   \n",
        "Dataset is \"peer reviewed\"                                             NaN   \n",
        "Deposited in a database or repository                            0.8623408   \n",
        "Openly available without contacting the author(s)                 1.072419   \n",
        "Packaged with a thorough description of the data                  1.694004   \n",
        "Packaged with formal metadata describing the data (e.g. as XML)    1.71904   \n",
        "\n",
        "                                                                     p-value  \\\n",
        "A data paper (without conclusions) describes the data            0.001082305   \n",
        "A traditional research paper is based on the data                 0.02277664   \n",
        "Assigned a unique identifier such as a DOI                         0.5656739   \n",
        "Dataset is \"peer reviewed\"                                               NaN   \n",
        "Deposited in a database or repository                              0.6710047   \n",
        "Openly available without contacting the author(s)                   0.880714   \n",
        "Packaged with a thorough description of the data                  0.08243073   \n",
        "Packaged with formal metadata describing the data (e.g. as XML)    0.1031605   \n",
        "\n",
        "                                                                        p1  \\\n",
        "A data paper (without conclusions) describes the data            0.4727273   \n",
        "A traditional research paper is based on the data                0.3619048   \n",
        "Assigned a unique identifier such as a DOI                       0.3052632   \n",
        "Dataset is \"peer reviewed\"                                             NaN   \n",
        "Deposited in a database or repository                                  NaN   \n",
        "Openly available without contacting the author(s)                      NaN   \n",
        "Packaged with a thorough description of the data                       NaN   \n",
        "Packaged with formal metadata describing the data (e.g. as XML)        NaN   \n",
        "\n",
        "                                                                        p2  \\\n",
        "A data paper (without conclusions) describes the data            0.2303665   \n",
        "A traditional research paper is based on the data                0.2269504   \n",
        "Assigned a unique identifier such as a DOI                       0.2715232   \n",
        "Dataset is \"peer reviewed\"                                             NaN   \n",
        "Deposited in a database or repository                                  NaN   \n",
        "Openly available without contacting the author(s)                      NaN   \n",
        "Packaged with a thorough description of the data                       NaN   \n",
        "Packaged with formal metadata describing the data (e.g. as XML)        NaN   \n",
        "\n",
        "                                                                  n1   n2  \n",
        "A data paper (without conclusions) describes the data             55  191  \n",
        "A traditional research paper is based on the data                105  141  \n",
        "Assigned a unique identifier such as a DOI                        95  151  \n",
        "Dataset is \"peer reviewed\"                                       NaN  NaN  \n",
        "Deposited in a database or repository                            NaN  NaN  \n",
        "Openly available without contacting the author(s)                NaN  NaN  \n",
        "Packaged with a thorough description of the data                 NaN  NaN  \n",
        "Packaged with formal metadata describing the data (e.g. as XML)  NaN  NaN  "
       ]
      }
     ],
     "prompt_number": 94
    },
    {
     "cell_type": "code",
     "collapsed": false,
     "input": [
      "[2] -- Friday, December 05, 2014 -- 10:18:15\n",
      "\u03c7\u00b2 tests - Goodness-of-fit tests: Contingency tables\n",
      "\n",
      "Analysis:\tSensitivity: Compute required effect size \n",
      "Input:\t\t\u03b1 err prob                    \t=\t0.05\n",
      "\t\t\tPower (1-\u03b2 err prob)          \t=\t0.8\n",
      "\t\t\tTotal sample size             \t=\t249\n",
      "\t\t\tDf                            \t=\t1\n",
      "Output:\t\tNoncentrality parameter \u03bb     \t=\t7.8488605\n",
      "\t\t\tCritical \u03c7\u00b2                   \t=\t3.8414588\n",
      "\t\t\tEffect size w                 \t=\t0.1775430\n",
      "\n",
      "\n",
      "[3] -- Friday, December 05, 2014 -- 11:02:46\n",
      "Exact - Proportions: Inequality, two independent groups (Fisher's exact test) \n",
      "\n",
      "Options:\tExact distribution\n",
      "\n",
      "Analysis:\tPost hoc: Compute achieved power \n",
      "Input:\t\tTail(s)                  \t=\tTwo\n",
      "\t\t\tProportion p1            \t=\t0.515\n",
      "\t\t\tProportion p2            \t=\t0.081\n",
      "\t\t\t\u03b1 err prob               \t=\t0.05\n",
      "\t\t\tSample size group 1      \t=\t97\n",
      "\t\t\tSample size group 2      \t=\t149\n",
      "Output:\t\tPower (1-\u03b2 err prob)     \t=\t1.0000000\n",
      "\t\t\tActual \u03b1                 \t=\t0.0361614\n",
      "\n",
      "\n",
      "[4] -- Friday, December 05, 2014 -- 11:04:55\n",
      "Exact - Proportions: Inequality, two independent groups (Fisher's exact test) \n",
      "\n",
      "Options:\tExact distribution\n",
      "\n",
      "Analysis:\tPost hoc: Compute achieved power \n",
      "Input:\t\tTail(s)                  \t=\tTwo\n",
      "\t\t\tProportion p1            \t=\t0.4\n",
      "\t\t\tProportion p2            \t=\t0.39\n",
      "\t\t\t\u03b1 err prob               \t=\t0.05\n",
      "\t\t\tSample size group 1      \t=\t105\n",
      "\t\t\tSample size group 2      \t=\t141\n",
      "Output:\t\tPower (1-\u03b2 err prob)     \t=\t0.0472693\n",
      "\t\t\tActual \u03b1                 \t=\t0.0446068\n",
      "\n",
      "\n",
      "[5] -- Friday, December 05, 2014 -- 11:05:58\n",
      "Exact - Proportions: Inequality, two independent groups (Fisher's exact test) \n",
      "\n",
      "Options:\tExact distribution\n",
      "\n",
      "Analysis:\tSensitivity: Compute required effect size \n",
      "Input:\t\tTail(s)                  \t=\tTwo\n",
      "\t\t\tEffect direction         \t=\tp1\u2265p2\n",
      "\t\t\tProportion p2            \t=\t0.39\n",
      "\t\t\t\u03b1 err prob               \t=\t0.05\n",
      "\t\t\tPower (1-\u03b2 err prob)     \t=\t0.8\n",
      "\t\t\tSample size group 1      \t=\t105\n",
      "\t\t\tSample size group 2      \t=\t141\n",
      "Output:\t\tProportion p1            \t=\t0.5756715\n",
      "\t\t\tActual power             \t=\t0.8000000\n",
      "\t\t\tActual \u03b1                 \t=\t0.0446068\n",
      "\n",
      "\n",
      "[6] -- Friday, December 05, 2014 -- 11:06:08\n",
      "Exact - Proportions: Inequality, two independent groups (Fisher's exact test) \n",
      "\n",
      "Options:\tExact distribution\n",
      "\n",
      "Analysis:\tSensitivity: Compute required effect size \n",
      "Input:\t\tTail(s)                  \t=\tTwo\n",
      "\t\t\tEffect direction         \t=\tp1\u2264p2\n",
      "\t\t\tProportion p2            \t=\t0.39\n",
      "\t\t\t\u03b1 err prob               \t=\t0.05\n",
      "\t\t\tPower (1-\u03b2 err prob)     \t=\t0.8\n",
      "\t\t\tSample size group 1      \t=\t105\n",
      "\t\t\tSample size group 2      \t=\t141\n",
      "Output:\t\tProportion p1            \t=\t0.2198081\n",
      "\t\t\tActual power             \t=\t0.8000000\n",
      "\t\t\tActual \u03b1                 \t=\t0.0446068\n",
      "\n",
      "\n",
      "[7] -- Friday, December 05, 2014 -- 11:07:26\n",
      "Exact - Proportions: Inequality, two independent groups (Fisher's exact test) \n",
      "\n",
      "Options:\tExact distribution\n",
      "\n",
      "Analysis:\tSensitivity: Compute required effect size \n",
      "Input:\t\tTail(s)                  \t=\tTwo\n",
      "\t\t\tEffect direction         \t=\tp1\u2264p2\n",
      "\t\t\tProportion p2            \t=\t.43\n",
      "\t\t\t\u03b1 err prob               \t=\t0.05\n",
      "\t\t\tPower (1-\u03b2 err prob)     \t=\t0.8\n",
      "\t\t\tSample size group 1      \t=\t133\n",
      "\t\t\tSample size group 2      \t=\t113\n",
      "Output:\t\tProportion p1            \t=\t0.2572962\n",
      "\t\t\tActual power             \t=\t0.8000000\n",
      "\t\t\tActual \u03b1                 \t=\t0.0404907\n",
      "\n",
      "\n",
      "[8] -- Friday, December 05, 2014 -- 11:07:41\n",
      "Exact - Proportions: Inequality, two independent groups (Fisher's exact test) \n",
      "\n",
      "Options:\tExact distribution\n",
      "\n",
      "Analysis:\tSensitivity: Compute required effect size \n",
      "Input:\t\tTail(s)                  \t=\tTwo\n",
      "\t\t\tEffect direction         \t=\tp1\u2265p2\n",
      "\t\t\tProportion p2            \t=\t0.43\n",
      "\t\t\t\u03b1 err prob               \t=\t0.05\n",
      "\t\t\tPower (1-\u03b2 err prob)     \t=\t0.8\n",
      "\t\t\tSample size group 1      \t=\t133\n",
      "\t\t\tSample size group 2      \t=\t113\n",
      "Output:\t\tProportion p1            \t=\t0.6135019\n",
      "\t\t\tActual power             \t=\t0.8000000\n",
      "\t\t\tActual \u03b1                 \t=\t0.0404907"
     ],
     "language": "python",
     "metadata": {},
     "outputs": []
    },
    {
     "cell_type": "code",
     "collapsed": false,
     "input": [
      "graph_likert(['data_sharing_importance'], [5,4,3,2,1])"
     ],
     "language": "python",
     "metadata": {},
     "outputs": []
    },
    {
     "cell_type": "code",
     "collapsed": false,
     "input": [],
     "language": "python",
     "metadata": {},
     "outputs": []
    }
   ],
   "metadata": {}
  }
 ]
}