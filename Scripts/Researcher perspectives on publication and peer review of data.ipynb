{
 "metadata": {
  "name": "",
  "signature": "sha256:0103b1f9bd3052827268e87aca99b01b8bb71c24dcc2b528c9d2c2e6a5f9e552"
 },
 "nbformat": 3,
 "nbformat_minor": 0,
 "worksheets": [
  {
   "cells": [
    {
     "cell_type": "heading",
     "level": 1,
     "metadata": {},
     "source": [
      "Researcher perspectives on publication and peer review of data"
     ]
    },
    {
     "cell_type": "markdown",
     "metadata": {},
     "source": [
      "John Kratz & Carly Strasser"
     ]
    },
    {
     "cell_type": "heading",
     "level": 2,
     "metadata": {},
     "source": [
      "Abstract"
     ]
    },
    {
     "cell_type": "markdown",
     "metadata": {},
     "source": [
      "Data \"publication\" seeks to appropriate the prestige of authorship in the peer-reviewed literature to reward researchers who create useful and well-documented datasets. \n",
      "The scholarly communication community has embraced data publication as an incentive to document and share data.\n",
      "But, numerous new and ongoing experiments in implementation have not yet resolved what a data publication should be, when data should be peer-reviewed, or how data peer review should work. \n",
      "While researchers have been surveyed extensively regarding data management and sharing, their perceptions and expectations of data publication are largely unknown.\n",
      "To bring this important yet neglected perspective into the conversation, we surveyed ~250 researchers across the sciences and social sciences-- asking what expectations \"data publication\" raises and what features would be useful to evaluate the trustworthiness, evaluate the impact, and enhance the prestige of a data publication.\n",
      "We found that researcher expectations of data publication center on availability, generally through an open database or repository.\n",
      "Few respondents expected published data to be peer-reviewed, but peer-reviewed data enjoyed much greater trust and prestige.\n",
      "The importance of adequate metadata was acknowledged, in that almost all respondents expected data peer review to include evaluation of the data's documentation.\n",
      "Formal citation in the reference list was affirmed by most respondents as the proper way to credit dataset creators.\n",
      "Citation count was viewed as the most useful measure of impact, but download count was seen as nearly as valuable.\n",
      "These results offer practical guidance for data publishers seeking to meet researcher expectations and enhance the value of published data."
     ]
    },
    {
     "cell_type": "heading",
     "level": 2,
     "metadata": {},
     "source": [
      "Introduction"
     ]
    },
    {
     "cell_type": "heading",
     "level": 3,
     "metadata": {},
     "source": [
      "Data sharing"
     ]
    },
    {
     "cell_type": "markdown",
     "metadata": {},
     "source": [
      "In 1985\u2013 almost 30 years ago\u2013 Stephen Ceci surveyed 847 scientists and\n",
      "concluded \u201cit is clear that scientists in all fields endorse the\n",
      "principle of data sharing as a desirable norm of science\u201d\n",
      "([Ceci, 1988](http://www.jstor.org/stable/690052)). This endorsement has not weakened over the\n",
      "decades; more than 65% of faculty at California Polytechnic State\n",
      "University (Cal Poly) affirmed the importance of data sharing in 2010\n",
      "([Scaramozzino et al., 2012](http://crl.acrl.org/content/73/4/349.full.pdf)), as did 94% of the researchers in the United\n",
      "Kingdom (UK) surveyed by the Expert Advisor Group on Data Access (EAGDA)\n",
      "in 2013 ([Bobrow et al., 2014](http://www.wellcome.ac.uk/stellent/groups/corporatesite/@msh_peda/documents/web_document/wtp056495.pdf)). The respondents in 1985 survey\n",
      "endorsed data sharing \u201cto allow replication and extension of one\u2019s own\n",
      "findings\u201d ([Ceci, 1988](http://www.jstor.org/stable/690052)), and enabling replication and (re)use is\n",
      "still the principal motive behind data sharing. The reproducibility\n",
      "problem plaguing science in the scholarly (Ioannidis, 2005; Prinz et al., 2011; Mobley et al., 2013) and mainstream\n",
      "([Zimmer, 2012](http://www.nytimes.com/2012/04/17/science/rise-in-scientific-journal-retractions-prompts-calls-for-reform.html); Economist 2013[a](http://www.economist.com/news/leaders/21588069-scientific-research-has-changed-world-now-it-needs-change-itself-how-science-goes-wrong),[b](http://www.economist.com/news/briefing/21588057-scientists-think-science-self-correcting-alarming-degree-it-not-trouble)) press could\n",
      "be addressed, in part, by opening underlying data to scrutiny\n",
      "([Drew et al., 2013](http://dx.doi.org/10.1371/journal.pbio.1001636); [Collins & Tabak, 2014](http://dx.doi.org/10.1038/505612a)). Beyond confirming previous\n",
      "analyses, reuse of existing data cuts research costs ([Piwowar et al., 2011](http://dx.doi.org/10.1038/473285a))\n",
      "and allows new questions to be addressed ([Stewart, 2010](10.1098/rsbl.2009.0546); [Borenstein et al., 2011](http://books.google.com/books?id=JQg9jdrq26wC)). Despite the apparent enthusiasm for\n",
      "data sharing in principle, Ceci alleges that in practice, \u201csomething is\n",
      "amiss in the academy.\u201d\n",
      "\n",
      "Researchers frequently fail to make data available, even when they\n",
      "support the idea or are obliged to do so. Alsheikh-Ali et al. examined\n",
      "351 articles and found that 59% did not satisfy the data availability\n",
      "requirements of the journal that published them\n",
      "@alsheikh-ali_public_2011. Vines et al. requested data from 516 articles\n",
      "published between 1991 and 2011 and obtained it less than half (47%) of\n",
      "the time @vines_availability_2014. Researchers themselves agree that\n",
      "this is a problem. In 1985, 59% of scientists surveyed by Ceci\n",
      "complained that their colleagues were disinclined to share data\n",
      "@ceci_scientists_1988. Twenty-five years later, 67% of respondents to an\n",
      "international survey by the Data Observation Network for Earth (DataONE)\n",
      "affirmed that \u201c[l]ack of access to data generated by other researchers\n",
      "or institutions is a major impediment to progress in science\u201d and 50%\n",
      "felt that their own research had suffered @tenopir_data_2011. That same\n",
      "year, fewer than half of the 65% of Cal Poly faculty who agreed that\n",
      "data sharing is important followed through to share their own data\n",
      "@scaramozzino_study_2012.\n",
      "\n",
      "Why do researchers who believe in the importance of sharing data fail to\n",
      "carry through? Previous surveys unearthed a number of reasons: concern\n",
      "about the ethical and legal issues around human subject data, mistrust\n",
      "that others have the expertise to use the data appropriately, hope of\n",
      "wringing additional articles from the data, and fear that the data will\n",
      "be \u201cstolen\u201d without credit or acknowledgment. For example, researchers\n",
      "brought up ethical concerns in reports from the Research Information\n",
      "Network (RIN) in 2008 and EAGDA in 2014; in the 2014 report, this was\n",
      "the second most frequently mentioned constraint (by 55% of respondents)\n",
      "@swan_share_2008 [@bobrow_establishing_2014]. The risk of losing\n",
      "publications from premature sharing came up in 60% of a series of\n",
      "interviews of United States (US) scientists in 2012, more than any other\n",
      "risk; fear of \u201cdata theft\u201d was mentioned in 32% of the interviews\n",
      "@kim_institutional_2012. However, by far the most consistent reason\n",
      "given is that preparing and documenting data to a high enough standard\n",
      "to be useful just takes too much time.\n",
      "\n",
      "In the UK, the RIN report described lack of time as a major constraint\n",
      "@swan_share_2008, and it was mentioned by 66% of respondents to EAGDA,\n",
      "more than any other constraint @bobrow_establishing_2014. Time was\n",
      "brought up by 44% of respondents to Kim and Stanton\u2019s survey\n",
      "@kim_institutional_2012, more than any other cost. It was the most\n",
      "frequent reason for not sharing data in the multidisciplinary DataONE\n",
      "survey (named by 54% of respondents) @tenopir_data_2011 and the second\n",
      "most frequent in a follow-up survey of astrobiologists (named by 22%)\n",
      "@aydinoglu_data_2014. Time investment was the second most frequently\n",
      "raised objection to data sharing in a 2012 survey of biodiversity\n",
      "researchers and the \u201cmost violently discussed obstacle\u201d in associated\n",
      "interviews @enke_users_2012.\n",
      "\n",
      "Although the process of preparing and documenting data for sharing could\n",
      "undoubtedly be streamlined with better planning, education, and tools,\n",
      "it will always take time and effort. The underlying problem is that this\n",
      "time and effort is not rewarded. Lack of acknowledgment was the third\n",
      "most popular objection in the biodiveristy survey and $\\sim$2/3 of\n",
      "respondents would be more likely to share if they were recognized or\n",
      "credited when their data is used. In the EAGDA report, 55% of\n",
      "respondents said that lack of tangible recognition and rewards\n",
      "constrains data sharing, and at least 75% of respondents felt that the\n",
      "UK Research Excellence Framework (REF) does not recognize data to some\n",
      "or great extent relative to publications, but that it should. The need"
     ]
    },
    {
     "cell_type": "heading",
     "level": 2,
     "metadata": {},
     "source": [
      "Methods"
     ]
    },
    {
     "cell_type": "heading",
     "level": 3,
     "metadata": {},
     "source": [
      "Ethics statement"
     ]
    },
    {
     "cell_type": "markdown",
     "metadata": {},
     "source": [
      "All results were drawn from a survey approved by the University of\n",
      "California, Berkeley Committee for Protection of Human Subjects/Office\n",
      "for the Protection of Human Subjects (protocol ID 2013-11-5841).\n",
      "Respondents completed the survey anonymously. Researchers affiliated\n",
      "with the University of California (UC) could supply an email address for\n",
      "follow-up assistance with data publication, but neither the fact of\n",
      "affiliation nor any UC-specific information was used in this analysis."
     ]
    },
    {
     "cell_type": "heading",
     "level": 3,
     "metadata": {},
     "source": [
      "Survey design"
     ]
    },
    {
     "cell_type": "markdown",
     "metadata": {},
     "source": [
      "The survey contained 34 questions in three categories: demographics,\n",
      "data sharing interest and experience, and data publication perceptions. Demographic questions collected information on\n",
      "respondent\u2019s country, type of institution, research role, and\n",
      "discipline. Questions to assess respondent\u2019s existing knowledge of data\n",
      "sharing and publication focused on knowledge of several relevant US\n",
      "governmental policies and an invitation to name data journals. Data\n",
      "publication perceptions consisted of \u201cmark all that apply\u201d questions\n",
      "concerning definitions of data publication and peer review and Likert\n",
      "scale questions about the value of various possible features of a data\n",
      "publication. The number of required questions was kept to a minimum.\n",
      "Some questions were displayed dynamically based on previous answers.\n",
      "Consequently, _n_ varies considerably from question to question.\n",
      "\n",
      "The survey was administered as a Google Form, officially open from\n",
      "January 22 to February 28 of 2014; two late responses received in March\n",
      "were included in the analysis. Solicitations were distributed via social\n",
      "media (Twitter, Facebook, Google+), emails to listservs, and a [blog post\n",
      "on Data Pub](http://datapub.cdlib.org/2014/01/22/data-publication-practices-and-perceptions/)."
     ]
    },
    {
     "cell_type": "heading",
     "level": 3,
     "metadata": {},
     "source": [
      "Data processing and analysis"
     ]
    },
    {
     "cell_type": "markdown",
     "metadata": {},
     "source": [
      "Although the topic of the survey is benign and identification would be\n",
      "unlikely to negatively impact respondents, light anonymization was\n",
      "performed prior to analysis and release of the response data. UC\n",
      "affiliation and answers to UC-specific questions were redacted.\n",
      "Respondent locations were grouped into United States and \u201cother.\u201d\n",
      "Questions that related to US policies were analyzed based on US\n",
      "respondents only; one questions about the NIH was analyzed based only on\n",
      "US biologists. Sub-disciplines with fewer than\n",
      "three respondents were re-coded with the corresponding discipline.\n",
      "Listed data journal names were standardized manually, and free text\n",
      "answers to other questions were replaced with \u201cother.\u201d Because few\n",
      "questions were required, \u201cmark all that apply\u201d questions with no reply\n",
      "at all were considered to be skipped.\n",
      "\n",
      "After anonymization, responses were filtered for analysis. Because the\n",
      "goal of the survey was to learn about researchers as distinct from the\n",
      "scholarly communication community, we exempted from analysis anyone who\n",
      "self-identified as a librarian or information scientist. To restrict the\n",
      "analysis to active researchers only, anyone who affirmed that they had\n",
      "not generated any data in the last five years was exempted; the 90 who\n",
      "respondents did not answer this question were retained. Finally,\n",
      "respondents without at least a Bachelors Degree were filtered out. In\n",
      "total, 32 respondents were removed before analysis, some by multiple\n",
      "criteria.\n",
      "\n",
      "Statistical significance was tested using Fisher\u2019s exact test where\n",
      "possible (i.e., for 2x2 tables) and contingency $\\chi^{2}$ in all other\n",
      "cases@agresti_survey_1992. A statistical significance cutoff of\n",
      "$\\alpha=0.05$ was used. When testing for e.g., effects of discipline or\n",
      "prior experience, each answer choice was tested separately, then the\n",
      "Bonferroni correction for multiple hypothesis testing was applied to\n",
      "adjust $\\alpha$ for that question; this is a conservative approach that\n",
      "may not detect subtle differences. Mathematicians were omitted from\n",
      "$\\chi^{2}$ significance testing for effects of discipline because their\n",
      "low $n$ led to unacceptably small expected count numbers. Odds Ratios\n",
      "(ORs)@szumilas_explaining_2010 and Fisher\u2019s exact test p-values were\n",
      "used to assess the relationships between items depicted in Figure\n",
      "[fig:definition~w~eb]; to enable meaningful comparison, all ORs were\n",
      "calculated in the direction that yielded a value $\\geq1$.\n",
      "\n",
      "The robustness of all significant results was confirmed using a\n",
      "jackknife procedure in which the test was repeated systematically with\n",
      "each respondent removed; in no cases did the absence of a single\n",
      "respondent raise the p-value above the designated significance\n",
      "threshold. Error bars represent 95% basic bootstrap confidence intervals\n",
      "(10,000 resamples) of the mean response in Figure [fig:definition~w~eb]\n",
      "and the percentage of positive responses in all other figures. To\n",
      "facilitate comparison, $\\chi^{2}$ effects were measured as Cram\u00e9r\u2019s V\n",
      "($\\Phi_{C}$)@cramer_mathematical_1999."
     ]
    },
    {
     "cell_type": "heading",
     "level": 2,
     "metadata": {},
     "source": [
      "Configuration"
     ]
    },
    {
     "cell_type": "code",
     "collapsed": false,
     "input": [
      "%matplotlib inline\n",
      "from IPython.display import display\n",
      "from math import sqrt\n",
      "import matplotlib.pyplot as plt\n",
      "import networkx as nx\n",
      "import numpy as np\n",
      "import pandas as pd\n",
      "import pylab\n",
      "import scipy as sp\n",
      "import scipy.stats as sps\n",
      "\n",
      "pylab.rcParams['figure.figsize'] = (14.0, 6.0)\n",
      "\n",
      "COLORS = ['#eff3ff', '#bdd7e7', '#6baed6', '#3182bd', '#08519c']\n",
      "BAR_COLOR = '#949494'"
     ],
     "language": "python",
     "metadata": {},
     "outputs": [],
     "prompt_number": 1
    },
    {
     "cell_type": "code",
     "collapsed": false,
     "input": [
      "def expand_checkbox(checkbox_column, options):\n",
      "    \"\"\"\n",
      "    checkbox_column = a series of lists of boxes checked in response to a question\n",
      "    options = a list the options available to check\n",
      "    \n",
      "    expand checkbox_column into a DataFrame of bools with index= respondents, columns= options\n",
      "    \"\"\"\n",
      "    return pd.DataFrame({option : checkbox_column.apply(lambda x: option in x) for option in options})"
     ],
     "language": "python",
     "metadata": {},
     "outputs": [],
     "prompt_number": 2
    },
    {
     "cell_type": "heading",
     "level": 2,
     "metadata": {},
     "source": [
      "Graphing functions"
     ]
    },
    {
     "cell_type": "heading",
     "level": 3,
     "metadata": {},
     "source": [
      "Bootstrap functions to generate error bars"
     ]
    },
    {
     "cell_type": "code",
     "collapsed": false,
     "input": [
      "def bootstrap_percentile_ci(data, n_samples=100000, alpha=0.05, stat_function=np.sum):\n",
      "    \"\"\"\n",
      "    Calculates a confidence interval for True/False count data and returns a tuple (low, high) \n",
      "    \n",
      "    data: (numpy array) of bools to resample\n",
      "    num_samples: (int) number of times to resample\n",
      "    alpha: (float) 1 - desired confidence interval  \n",
      "    \"\"\"\n",
      "    n_responses = len(data)\n",
      "    # get num_samples resampled arrays (of length n) of valid indicies for data\n",
      "    indicies = np.random.randint(0, n_responses, (n_samples, n_responses))\n",
      "    \n",
      "    # generate sorted array of desired stat in each resampled array\n",
      "    stats = [stat_function(data[x]) for x in indicies]\n",
      "    stats.sort()\n",
      "\n",
      "    # return stats at the edge of the 2.5 and 97.5 percentiles\n",
      "    return (stats[int((alpha/2.0)*n_samples)], stats[int((1-alpha/2.0)*n_samples)])\n",
      "\n",
      "\n",
      "def bootstrap_basic_ci(data, n_samples=100000, alpha=0.05, stat_function=np.sum):\n",
      "    \"\"\"\n",
      "    Calculates a confidence interval for True/False count data and returns a tuple (low, high) \n",
      "    \n",
      "    data: (numpy array) of bools to resample\n",
      "    num_samples: (int) number of times to resample\n",
      "    alpha: (float) 1 - desired confidence interval  \n",
      "    \"\"\"\n",
      "    double_observed = 2 * stat_function(data)\n",
      "    high, low = bootstrap_percentile_ci(data, n_samples=n_samples, alpha=alpha, stat_function=stat_function)\n",
      "\n",
      "    return (double_observed - low, double_observed - high)\n"
     ],
     "language": "python",
     "metadata": {},
     "outputs": [],
     "prompt_number": 3
    },
    {
     "cell_type": "heading",
     "level": 3,
     "metadata": {},
     "source": [
      "Graph answers to \"check all that apply\" questions."
     ]
    },
    {
     "cell_type": "code",
     "collapsed": false,
     "input": [
      "def tuple_normalize(counts, n_responses):\n",
      "    return map(lambda x: float(x) / n_responses * 100, counts)\n",
      "\n",
      "def interval_to_error(confidence_interval, center):\n",
      "    \"\"\"\n",
      "    confidence_interval (tuple): low, high relative to the origin\n",
      "    center: (int, float): measured value (e.g., mean)\n",
      "    returns the ci as a tuple relative to the center (i.e., minus, plus the mean)\n",
      "    \"\"\"\n",
      "    return tuple(map(lambda x: abs(float(x) - center), confidence_interval))\n",
      "    \n",
      "def split_interval(interval):\n",
      "    \"\"\"\n",
      "    split a confidence interval tuple and return as a 2-element Series\n",
      "    \"\"\"\n",
      "    return pd.Series(interval, index= ['low','high'])\n",
      "\n",
      "\n",
      "def graph_checkbox(question, answers):\n",
      "    split_checkbox = responses[question].dropna()\n",
      "\n",
      "    # checkbox_responses== DataFrame of bools where index=individual respondents, columns=answer choices\n",
      "    checkbox_responses = expand_checkbox(split_checkbox, answers)\n",
      "    \n",
      "    # sum checked boxes in each column; response_counts== Series with values=sums, index=answer choices\n",
      "    response_counts = checkbox_responses.sum()\n",
      "    \n",
      "    # resample and sum from each column to bootstrap a confidence interval\n",
      "    # count_confidence_intervals== Series with values= tuples (low, high), index=answer choices\n",
      "    count_confidence_intervals = checkbox_responses.apply(lambda x: bootstrap_basic_ci(np.array(x)))\n",
      "    \n",
      "    #print checkbox_responses.apply(lambda x: bootstrap_percentile_ci(np.array(x))).apply(tuple_normalize, args=([len(checkbox_responses)]))\n",
      "    #print checkbox_responses.apply(lambda x: bootstrap_basic_ci(np.array(x))).apply(tuple_normalize, args=([len(checkbox_responses)]))\n",
      "    \n",
      "    #normalize response_counts to percentage of total respondents to the question and sort\n",
      "    response_counts = response_counts.apply(lambda x: float(x) / len(checkbox_responses) * 100)\n",
      "    response_counts.sort(ascending=True)\n",
      "    \n",
      "    #normalize confidence intervals to percentages\n",
      "    count_confidence_intervals = count_confidence_intervals.apply(tuple_normalize, args=([len(checkbox_responses)]))\n",
      "    \n",
      "    \n",
      "    #convert absolute interval values to distance below and above the observed value\n",
      "    for index in count_confidence_intervals.index.values:\n",
      "        count_confidence_intervals.loc[index] = interval_to_error(count_confidence_intervals.loc[index], \n",
      "                                                                  response_counts.loc[index])\n",
      "    \n",
      "    #split interval tuples into 2 element Series\n",
      "    count_confidence_intervals = count_confidence_intervals.apply(split_interval)\n",
      "\n",
      "\n",
      "    fig = response_counts.plot(kind='barh', color='#08519c', edgecolor='w', grid=False, xlim=(0,100))\n",
      "    fig.errorbar(response_counts.as_matrix()[::-1], np.arange(len(response_counts))[::-1], \n",
      "                 xerr=count_confidence_intervals.T.as_matrix(),\n",
      "                 fmt='none', ecolor=BAR_COLOR, alpha=0.65, elinewidth=1, capsize=8, capthick=2)\n",
      "\n",
      "    fig.tick_params(axis='both', which='both', left='off', top='off', right='off')\n",
      "    fig.spines['top'].set_visible(False) \n",
      "    fig.spines['right'].set_visible(False)\n",
      "    \n",
      "    return fig, response_counts\n",
      "    "
     ],
     "language": "python",
     "metadata": {},
     "outputs": [],
     "prompt_number": 10
    },
    {
     "cell_type": "heading",
     "level": 3,
     "metadata": {},
     "source": [
      "Graph interrelationships between \"check all that apply\" answers"
     ]
    },
    {
     "cell_type": "code",
     "collapsed": false,
     "input": [
      "def graph_fisher_exact(question, answers, alpha=0.05, labels=None):\n",
      "    \n",
      "    checkbox_responses = expand_checkbox(question.dropna(), answers)\n",
      "\n",
      "    fig=nx.Graph()\n",
      "    fig.add_nodes_from(checkbox_responses.columns)\n",
      "    pos = nx.circular_layout(fig, scale=10000)\n",
      "\n",
      "    nx.draw_networkx_nodes(fig, pos, node_size=5000, node_color='#cdcdcd', linewidths=0)\n",
      "    nx.draw_networkx_labels(fig, pos, labels=labels, fontsize=10, font_family='serif')\n",
      "    \n",
      "    #return_columns = pd.MultiIndex.from_product([checkbox_responses.columns, ['OR', 'p-value']])\n",
      "    #return_frame = pd.DataFrame(index=checkbox_responses.columns, columns=return_columns)\n",
      "    \n",
      "    i = 0\n",
      "    for a in checkbox_responses.columns:\n",
      "        i += 1\n",
      "        for b in checkbox_responses.columns[i:]:\n",
      "            square = pd.DataFrame({ 0 : 0, 0 : 0}, index=[True, False], columns=[True, False])        \n",
      "        \n",
      "            # fill in counts\n",
      "            square[True] = (checkbox_responses[checkbox_responses[a] == True][b].value_counts())\n",
      "            square[False] = (checkbox_responses[checkbox_responses[a] == False][b].value_counts())\n",
      "\n",
      "            odds_ratio, p = sps.fisher_exact(square.as_matrix())\n",
      "            \n",
      "            e_color = COLORS[4]\n",
      "            if odds_ratio < 1:\n",
      "                odds_ratio, p = sps.fisher_exact(square.T.as_matrix())\n",
      "                e_color = 'r'\n",
      "            \n",
      "            how_significant = 0.5 if p > alpha else 1.0\n",
      "            \n",
      "            nx.draw_networkx_edges(fig, pos, edgelist=[(a,b)], width=odds_ratio, edge_color=e_color, alpha=how_significant)\n",
      "                     \n",
      "            #return_frame.loc[a,(b,'OR')] = return_frame.loc[b,(a,'OR')] = odds_ratio\n",
      "            #return_frame.loc[a,(b,'p-value')] = return_frame.loc[b,(a,'p-value')]= p\n",
      "    plt.axis('off')\n",
      "    return fig"
     ],
     "language": "python",
     "metadata": {},
     "outputs": [],
     "prompt_number": 5
    },
    {
     "cell_type": "heading",
     "level": 3,
     "metadata": {},
     "source": [
      "Graph answers to Likert-scale (i.e., rate from 1 to 5) questions"
     ]
    },
    {
     "cell_type": "code",
     "collapsed": false,
     "input": [
      "def graph_likert(questions, answers, filter_on_column=None, filter_value=None):\n",
      "    \n",
      "    if filter_on_column:\n",
      "        responses_ft = responses[responses[filter_on_column] == filter_value]\n",
      "    else:\n",
      "        responses_ft = responses\n",
      "    \n",
      "    collected_counts = pd.DataFrame(index=answers)\n",
      "    stats = pd.DataFrame(index=questions,columns=['mean', 'ci'])\n",
      "\n",
      "    # set up dict for converstion from likert scale (e.g., 1-5) to 0-100%\n",
      "    number_of_answers = len(answers) \n",
      "    answer_to_value = dict(zip(answers, np.arange(number_of_answers)/float(number_of_answers - 1)*100)) \n",
      "    \n",
      "    for column in questions:\n",
      "        collected_counts[column] = responses_ft[column].value_counts().dropna()\n",
      "       \n",
      "        #scale responses to go from 0 to 100\n",
      "        likert_values = responses[column].dropna().map(answer_to_value)\n",
      "        \n",
      "        #cacluate mean and 95% confidence interval\n",
      "        stats['mean'].loc[column] = likert_values.mean() \n",
      "        stats['ci'].loc[column] = bootstrap_basic_ci(np.array(likert_values), stat_function=np.mean)\n",
      "        \n",
      "    #sort stats and collected_counts by the mean   \n",
      "    stats = stats.sort_index(axis=0, by='mean', ascending=True)\n",
      "    collected_counts = collected_counts.T.reindex(index=stats.index)\n",
      "    collected_counts = collected_counts.div(collected_counts.sum(1).astype(float)/100, axis = 0) \n",
      "    \n",
      "    #convert absolute interval values to distance below and above the observed value\n",
      "    for index in stats.index.values:\n",
      "        stats['ci'].loc[index] = interval_to_error(stats['ci'].loc[index], stats['mean'].loc[index])\n",
      "\n",
      "    #split interval tuples into 2 element Series\n",
      "    stats['ci'] = stats['ci'].apply(split_interval)\n",
      "    \n",
      "    #plot percentages of each response\n",
      "    fig = collected_counts.plot(kind='barh', stacked=True, color=COLORS, grid=False, xlim = (0,100), edgecolor='w') \n",
      "    \n",
      "    # plot mean and 95% confidence interval\n",
      "    fig.plot(stats['mean'], np.arange(len(stats)), marker='o', color='w',axes=fig, markersize=20, markeredgewidth=0, linewidth=0)\n",
      "    fig.errorbar(stats['mean'].as_matrix()[::-1], np.arange(len(stats))[::-1], xerr=stats['ci'],\n",
      "                 fmt='none', ecolor=BAR_COLOR, alpha=0.5, elinewidth=1, capsize=8, capthick=2)\n",
      "    \n",
      "    fig.legend(bbox_to_anchor=(0., 1.02, 1., .102), loc=2, ncol=number_of_answers, mode=\"expand\", borderaxespad=0.,frameon=False)\n",
      "    fig.tick_params(axis='both', which='both', left='off', top='off', right='off')\n",
      "    fig.spines['top'].set_visible(False)\n",
      "    fig.spines['right'].set_visible(False)\n",
      "    \n",
      "    return fig"
     ],
     "language": "python",
     "metadata": {},
     "outputs": [],
     "prompt_number": 6
    },
    {
     "cell_type": "heading",
     "level": 2,
     "metadata": {},
     "source": [
      "Read in and filter data"
     ]
    },
    {
     "cell_type": "markdown",
     "metadata": {},
     "source": [
      "To limit analysis to active researchers, filter out librarians, undergraduates, and respondents who said that they had not generated any data in the last 5 years."
     ]
    },
    {
     "cell_type": "code",
     "collapsed": false,
     "input": [
      "EXCLUDE = {'role' : 'Librarian', 'discipline' : 'Information science', \n",
      "           'highest_degree' : 'Highschool', 'generated_data' : 'No'}\n",
      "\n",
      "responses = pd.read_csv('../Tables/DataPubSurvey_anon.csv')\n",
      "\n",
      "for column, value in EXCLUDE.items():\n",
      "    responses = responses[responses[column] != value]\n"
     ],
     "language": "python",
     "metadata": {},
     "outputs": [],
     "prompt_number": 7
    },
    {
     "cell_type": "markdown",
     "metadata": {},
     "source": [
      "Consolidate fine-grained sub-discipline answers into larger disciplines."
     ]
    },
    {
     "cell_type": "code",
     "collapsed": false,
     "input": [
      "DISCIPLINE_MAP = {'Anthropology' : 'Social science',\n",
      "                  'Archaeology' : 'Archaeology',\n",
      "                  'Area studies' : 'Social science',\n",
      "                  'Economics' : 'Social science',\n",
      "                  'Political science' : 'Social science',\n",
      "                  'Psychology' : 'Social science',\n",
      "                  'Sociology' : 'Social science',\n",
      "                  'Astronomy' : 'Space science',\n",
      "                  'Astrophysics' : 'Space science',\n",
      "                  'Environmental Science' : 'Environmental science',\n",
      "                  'Geology' : 'Earth science',\n",
      "                  'Oceanography' : 'Environmental science',\n",
      "                  'Planetary science' : 'Earth science',\n",
      "                  'Biochemistry' : 'Biology',\n",
      "                  'Bioinformatics' : 'Biology',\n",
      "                  'Biology' : 'Biology',\n",
      "                  'Evolutionary Biology' : 'Biology',\n",
      "                  'Neurobiology' : 'Biology',\n",
      "                  'Social science' : 'Social science',\n",
      "                  'Space science' : 'Space science',\n",
      "                  'Earth science' : 'Earth science',\n",
      "                  'Life science' : 'Biology',\n",
      "                  'Chemistry' : 'Physical science',\n",
      "                  'Physics' : 'Physical science',\n",
      "                  'Computer science' : 'Computer science',\n",
      "                  'Mathematics' : 'Mathematics',\n",
      "                  'Information science' : 'Information science',\n",
      "                  'Other' : 'Other'}\n",
      "\n",
      "responses.discipline= responses.discipline.map(DISCIPLINE_MAP).dropna()"
     ],
     "language": "python",
     "metadata": {},
     "outputs": [],
     "prompt_number": 8
    },
    {
     "cell_type": "heading",
     "level": 2,
     "metadata": {},
     "source": [
      "Figures and tables"
     ]
    },
    {
     "cell_type": "heading",
     "level": 3,
     "metadata": {},
     "source": [
      "**Table 1.** Demographic breakdown of the 249 researchers whose responses are analyzed here."
     ]
    },
    {
     "cell_type": "code",
     "collapsed": false,
     "input": [
      "DEMOGRAPHICS = ['discipline', 'highest_degree', 'role','institution']\n",
      "\n",
      "for column in DEMOGRAPHICS:\n",
      "    count = responses[column].value_counts()\n",
      "    percentages = 100 * count.apply(lambda x: float(x) / count.sum())\n",
      "    display(pd.DataFrame([count, percentages], index=['count', 'percent']).T)"
     ],
     "language": "python",
     "metadata": {},
     "outputs": [
      {
       "html": [
        "<div style=\"max-height:1000px;max-width:1500px;overflow:auto;\">\n",
        "<table border=\"1\" class=\"dataframe\">\n",
        "  <thead>\n",
        "    <tr style=\"text-align: right;\">\n",
        "      <th></th>\n",
        "      <th>count</th>\n",
        "      <th>percent</th>\n",
        "    </tr>\n",
        "  </thead>\n",
        "  <tbody>\n",
        "    <tr>\n",
        "      <th>Biology</th>\n",
        "      <td> 91</td>\n",
        "      <td> 36.842105</td>\n",
        "    </tr>\n",
        "    <tr>\n",
        "      <th>Social science</th>\n",
        "      <td> 32</td>\n",
        "      <td> 12.955466</td>\n",
        "    </tr>\n",
        "    <tr>\n",
        "      <th>Archaeology</th>\n",
        "      <td> 31</td>\n",
        "      <td> 12.550607</td>\n",
        "    </tr>\n",
        "    <tr>\n",
        "      <th>Environmental science</th>\n",
        "      <td> 27</td>\n",
        "      <td> 10.931174</td>\n",
        "    </tr>\n",
        "    <tr>\n",
        "      <th>Other</th>\n",
        "      <td> 21</td>\n",
        "      <td>  8.502024</td>\n",
        "    </tr>\n",
        "    <tr>\n",
        "      <th>Physical science</th>\n",
        "      <td> 18</td>\n",
        "      <td>  7.287449</td>\n",
        "    </tr>\n",
        "    <tr>\n",
        "      <th>Earth science</th>\n",
        "      <td> 13</td>\n",
        "      <td>  5.263158</td>\n",
        "    </tr>\n",
        "    <tr>\n",
        "      <th>Computer science</th>\n",
        "      <td> 11</td>\n",
        "      <td>  4.453441</td>\n",
        "    </tr>\n",
        "    <tr>\n",
        "      <th>Mathematics</th>\n",
        "      <td>  3</td>\n",
        "      <td>  1.214575</td>\n",
        "    </tr>\n",
        "  </tbody>\n",
        "</table>\n",
        "</div>"
       ],
       "metadata": {},
       "output_type": "display_data",
       "text": [
        "                       count    percent\n",
        "Biology                   91  36.842105\n",
        "Social science            32  12.955466\n",
        "Archaeology               31  12.550607\n",
        "Environmental science     27  10.931174\n",
        "Other                     21   8.502024\n",
        "Physical science          18   7.287449\n",
        "Earth science             13   5.263158\n",
        "Computer science          11   4.453441\n",
        "Mathematics                3   1.214575"
       ]
      },
      {
       "html": [
        "<div style=\"max-height:1000px;max-width:1500px;overflow:auto;\">\n",
        "<table border=\"1\" class=\"dataframe\">\n",
        "  <thead>\n",
        "    <tr style=\"text-align: right;\">\n",
        "      <th></th>\n",
        "      <th>count</th>\n",
        "      <th>percent</th>\n",
        "    </tr>\n",
        "  </thead>\n",
        "  <tbody>\n",
        "    <tr>\n",
        "      <th>Doctorate</th>\n",
        "      <td> 186</td>\n",
        "      <td> 75.609756</td>\n",
        "    </tr>\n",
        "    <tr>\n",
        "      <th>Masters</th>\n",
        "      <td>  41</td>\n",
        "      <td> 16.666667</td>\n",
        "    </tr>\n",
        "    <tr>\n",
        "      <th>Bachelors</th>\n",
        "      <td>  19</td>\n",
        "      <td>  7.723577</td>\n",
        "    </tr>\n",
        "  </tbody>\n",
        "</table>\n",
        "</div>"
       ],
       "metadata": {},
       "output_type": "display_data",
       "text": [
        "           count    percent\n",
        "Doctorate    186  75.609756\n",
        "Masters       41  16.666667\n",
        "Bachelors     19   7.723577"
       ]
      },
      {
       "html": [
        "<div style=\"max-height:1000px;max-width:1500px;overflow:auto;\">\n",
        "<table border=\"1\" class=\"dataframe\">\n",
        "  <thead>\n",
        "    <tr style=\"text-align: right;\">\n",
        "      <th></th>\n",
        "      <th>count</th>\n",
        "      <th>percent</th>\n",
        "    </tr>\n",
        "  </thead>\n",
        "  <tbody>\n",
        "    <tr>\n",
        "      <th>PI</th>\n",
        "      <td> 102</td>\n",
        "      <td> 40.963855</td>\n",
        "    </tr>\n",
        "    <tr>\n",
        "      <th>Postdoc</th>\n",
        "      <td>  61</td>\n",
        "      <td> 24.497992</td>\n",
        "    </tr>\n",
        "    <tr>\n",
        "      <th>Grad_student</th>\n",
        "      <td>  41</td>\n",
        "      <td> 16.465863</td>\n",
        "    </tr>\n",
        "    <tr>\n",
        "      <th>Other</th>\n",
        "      <td>  28</td>\n",
        "      <td> 11.244980</td>\n",
        "    </tr>\n",
        "    <tr>\n",
        "      <th>Tech</th>\n",
        "      <td>  17</td>\n",
        "      <td>  6.827309</td>\n",
        "    </tr>\n",
        "  </tbody>\n",
        "</table>\n",
        "</div>"
       ],
       "metadata": {},
       "output_type": "display_data",
       "text": [
        "              count    percent\n",
        "PI              102  40.963855\n",
        "Postdoc          61  24.497992\n",
        "Grad_student     41  16.465863\n",
        "Other            28  11.244980\n",
        "Tech             17   6.827309"
       ]
      },
      {
       "html": [
        "<div style=\"max-height:1000px;max-width:1500px;overflow:auto;\">\n",
        "<table border=\"1\" class=\"dataframe\">\n",
        "  <thead>\n",
        "    <tr style=\"text-align: right;\">\n",
        "      <th></th>\n",
        "      <th>count</th>\n",
        "      <th>percent</th>\n",
        "    </tr>\n",
        "  </thead>\n",
        "  <tbody>\n",
        "    <tr>\n",
        "      <th>Academic: research-focused</th>\n",
        "      <td> 191</td>\n",
        "      <td> 76.706827</td>\n",
        "    </tr>\n",
        "    <tr>\n",
        "      <th>Government</th>\n",
        "      <td>  14</td>\n",
        "      <td>  5.622490</td>\n",
        "    </tr>\n",
        "    <tr>\n",
        "      <th>Academic: teaching-focused</th>\n",
        "      <td>  13</td>\n",
        "      <td>  5.220884</td>\n",
        "    </tr>\n",
        "    <tr>\n",
        "      <th>Nonprofit</th>\n",
        "      <td>  12</td>\n",
        "      <td>  4.819277</td>\n",
        "    </tr>\n",
        "    <tr>\n",
        "      <th>Academic: medical school</th>\n",
        "      <td>   9</td>\n",
        "      <td>  3.614458</td>\n",
        "    </tr>\n",
        "    <tr>\n",
        "      <th>Other</th>\n",
        "      <td>   6</td>\n",
        "      <td>  2.409639</td>\n",
        "    </tr>\n",
        "    <tr>\n",
        "      <th>Commercial</th>\n",
        "      <td>   4</td>\n",
        "      <td>  1.606426</td>\n",
        "    </tr>\n",
        "  </tbody>\n",
        "</table>\n",
        "</div>"
       ],
       "metadata": {},
       "output_type": "display_data",
       "text": [
        "                            count    percent\n",
        "Academic: research-focused    191  76.706827\n",
        "Government                     14   5.622490\n",
        "Academic: teaching-focused     13   5.220884\n",
        "Nonprofit                      12   4.819277\n",
        "Academic: medical school        9   3.614458\n",
        "Other                           6   2.409639\n",
        "Commercial                      4   1.606426"
       ]
      }
     ],
     "prompt_number": 11
    },
    {
     "cell_type": "heading",
     "level": 3,
     "metadata": {},
     "source": [
      "Figure 1. Researchers are generally unfamiliar with data-related funder policies."
     ]
    },
    {
     "cell_type": "code",
     "collapsed": false,
     "input": [
      "AWARENESS_QUESTIONS = ['aware_ostp_policy', 'aware_nsf_dmp', 'aware_nih_data_sharing_policy']\n",
      "AWARENESS_ANSWERS = [\"Never heard of it\", \"Heard of it\", \"Read about it\", \"Know all the details\"]  \n",
      "\n",
      "graph_likert(AWARENESS_QUESTIONS, AWARENESS_ANSWERS, filter_on_column='united_states', filter_value=True)"
     ],
     "language": "python",
     "metadata": {},
     "outputs": [
      {
       "metadata": {},
       "output_type": "pyout",
       "prompt_number": 37,
       "text": [
        "<matplotlib.axes._subplots.AxesSubplot at 0x10ace4f10>"
       ]
      },
      {
       "metadata": {},
       "output_type": "display_data",
       "png": "[encoded data removed]",
       "text": [
        "<matplotlib.figure.Figure at 0x10ace4ad0>"
       ]
      }
     ],
     "prompt_number": 37
    },
    {
     "cell_type": "markdown",
     "metadata": {},
     "source": [
      "Respondents based at US institutions self-reported their familiarity with three government funder policies: NSF Data Management Plan requirements ($n=197$), the NIH data sharing policy (only biologists included, $n=76$), and the Whitehouse OSTP Open Data Initiative ($n=197$). \n",
      "White dots show the mean familiarity for each item; error bars depict bootstrapped 95% confidence intervals."
     ]
    },
    {
     "cell_type": "heading",
     "level": 3,
     "metadata": {},
     "source": [
      "Figure 2. Researchers primarily share data in response to direct contact (e.g. via email)."
     ]
    },
    {
     "cell_type": "heading",
     "level": 4,
     "metadata": {},
     "source": [
      "Figure 2A."
     ]
    },
    {
     "cell_type": "code",
     "collapsed": false,
     "input": [
      "SHARING_CHANNELS = [\"Email / direct contact\", \"Personal or lab website\", \"Journal website (as supplemental material)\", \n",
      "                    \"Database or repository\"]\n",
      "graph_checkbox('how_shared', SHARING_CHANNELS)"
     ],
     "language": "python",
     "metadata": {},
     "outputs": [
      {
       "metadata": {},
       "output_type": "pyout",
       "prompt_number": 11,
       "text": [
        "(<matplotlib.axes._subplots.AxesSubplot at 0x111548b90>,\n",
        " Personal or lab website                       33.333333\n",
        " Journal website (as supplemental material)    36.904762\n",
        " Database or repository                        53.571429\n",
        " Email / direct contact                        86.904762\n",
        " dtype: float64)"
       ]
      },
      {
       "metadata": {},
       "output_type": "display_data",
       "png": "[encoded data removed]",
       "text": [
        "<matplotlib.figure.Figure at 0x109259410>"
       ]
      }
     ],
     "prompt_number": 11
    },
    {
     "cell_type": "heading",
     "level": 4,
     "metadata": {},
     "source": [
      "Figure 2B."
     ]
    },
    {
     "cell_type": "code",
     "collapsed": false,
     "input": [
      "graph_checkbox('how_others_got', SHARING_CHANNELS)"
     ],
     "language": "python",
     "metadata": {},
     "outputs": [
      {
       "metadata": {},
       "output_type": "pyout",
       "prompt_number": 15,
       "text": [
        "<matplotlib.axes._subplots.AxesSubplot at 0x1097df210>"
       ]
      },
      {
       "metadata": {},
       "output_type": "display_data",
       "png": "[encoded data removed]",
       "text": [
        "<matplotlib.figure.Figure at 0x109775590>"
       ]
      }
     ],
     "prompt_number": 15
    },
    {
     "cell_type": "heading",
     "level": 4,
     "metadata": {},
     "source": [
      "Figure 2C."
     ]
    },
    {
     "cell_type": "code",
     "collapsed": false,
     "input": [
      "graph_checkbox('how_you_got', SHARING_CHANNELS)"
     ],
     "language": "python",
     "metadata": {},
     "outputs": [
      {
       "metadata": {},
       "output_type": "pyout",
       "prompt_number": 16,
       "text": [
        "<matplotlib.axes._subplots.AxesSubplot at 0x1097a8e90>"
       ]
      },
      {
       "metadata": {},
       "output_type": "display_data",
       "png": "[encoded data removed]",
       "text": [
        "<matplotlib.figure.Figure at 0x10a0e82d0>"
       ]
      }
     ],
     "prompt_number": 16
    },
    {
     "cell_type": "heading",
     "level": 4,
     "metadata": {},
     "source": [
      "Figure 2D."
     ]
    },
    {
     "cell_type": "code",
     "collapsed": false,
     "input": [
      "HOW_DOCUMENTED_ANSWERS = [\"A traditional research paper based on the data (with analysis and conclusions)\",\n",
      "                          \"A data paper describing the data (without analysis or conclusions)\",\n",
      "                          \"Informal text describing the data\",\n",
      "                          \"Formal metadata describing the data (e.g. as XML)\",\n",
      "                          \"Computer code used to process or generate the data\",\n",
      "                          \"Shared with no additional documentation\"]\n",
      "\n",
      "graph_checkbox('how_documented', HOW_DOCUMENTED_ANSWERS)"
     ],
     "language": "python",
     "metadata": {},
     "outputs": [
      {
       "metadata": {},
       "output_type": "pyout",
       "prompt_number": 17,
       "text": [
        "<matplotlib.axes._subplots.AxesSubplot at 0x1039d2110>"
       ]
      },
      {
       "metadata": {},
       "output_type": "display_data",
       "png": "[encoded data removed]",
       "text": [
        "<matplotlib.figure.Figure at 0x1039d0150>"
       ]
      }
     ],
     "prompt_number": 17
    },
    {
     "cell_type": "markdown",
     "metadata": {},
     "source": [
      "**Researchers primarily share data in response to direct contact (e.g. via email).**\n",
      "Respondents who shared data indicated (A.) the channels they used to share their data, (B.) the channels others used to obtain the data, and (D.) how they documented the data.\n",
      "(C.) Respondents who used others' data indicated the channels through which they obtained the data.\n",
      "Error bars depict bootstrapped 95% confidence intervals."
     ]
    },
    {
     "cell_type": "heading",
     "level": 3,
     "metadata": {},
     "source": [
      "Figure 3. Formal citation is the preferred method of crediting dataset creators."
     ]
    },
    {
     "cell_type": "heading",
     "level": 4,
     "metadata": {},
     "source": [
      "Figure 3A."
     ]
    },
    {
     "cell_type": "code",
     "collapsed": false,
     "input": [
      "HOW_CREDITED_ANSWERS = [\"Authorship on paper\",\n",
      "                        \"Acknowledgement in the paper\",\n",
      "                        \"Data cited in the reference list\",\n",
      "                        \"Data cited informally in the text of the paper\"]\n",
      "\n",
      "graph_checkbox('data_sharing_credit', HOW_CREDITED_ANSWERS)"
     ],
     "language": "python",
     "metadata": {},
     "outputs": [
      {
       "metadata": {},
       "output_type": "pyout",
       "prompt_number": 18,
       "text": [
        "<matplotlib.axes._subplots.AxesSubplot at 0x10394bd50>"
       ]
      },
      {
       "metadata": {},
       "output_type": "display_data",
       "png": "[encoded data removed]",
       "text": [
        "<matplotlib.figure.Figure at 0x10394b450>"
       ]
      }
     ],
     "prompt_number": 18
    },
    {
     "cell_type": "heading",
     "level": 4,
     "metadata": {},
     "source": [
      "Figure 3B."
     ]
    },
    {
     "cell_type": "code",
     "collapsed": false,
     "input": [
      "graph_checkbox('how_you_credited', HOW_CREDITED_ANSWERS)"
     ],
     "language": "python",
     "metadata": {},
     "outputs": [
      {
       "metadata": {},
       "output_type": "pyout",
       "prompt_number": 19,
       "text": [
        "<matplotlib.axes._subplots.AxesSubplot at 0x10a006dd0>"
       ]
      },
      {
       "metadata": {},
       "output_type": "display_data",
       "png": "[encoded data removed]",
       "text": [
        "<matplotlib.figure.Figure at 0x1098bf190>"
       ]
      }
     ],
     "prompt_number": 19
    },
    {
     "cell_type": "markdown",
     "metadata": {},
     "source": [
      "Respondents indicated (A.) how a dataset creator should be credited, (B.) how they actually credited a dataset creator in the past, and (C.) how satisfied they were with the credit they received the last time someone else published using their data.  (A., B.) Respondents could select more than one item for each question.\n",
      "Error bars depict bootstrapped 95% confidence intervals."
     ]
    },
    {
     "cell_type": "heading",
     "level": 3,
     "metadata": {},
     "source": [
      "Figure 4. Researcher expectations of data publication center on availability, not peer review."
     ]
    },
    {
     "cell_type": "heading",
     "level": 4,
     "metadata": {},
     "source": [
      "Figure 4A."
     ]
    },
    {
     "cell_type": "code",
     "collapsed": false,
     "input": [
      "DP_FEATURES = [\"Openly available without contacting the author(s)\",\n",
      "               \"Deposited in a database or repository\",\n",
      "               \"Assigned a unique identifier such as a DOI\",\n",
      "               \"A traditional research paper is based on the data\",\n",
      "               \"A data paper (without conclusions) describes the data\",\n",
      "               \"Packaged with a thorough description of the data\",\n",
      "               \"Packaged with formal metadata describing the data (e.g. as XML)\",\n",
      "               \"Dataset is \\\"peer reviewed\\\"\"]\n",
      "graph_checkbox('publish_definition', DP_FEATURES)"
     ],
     "language": "python",
     "metadata": {},
     "outputs": [
      {
       "metadata": {},
       "output_type": "pyout",
       "prompt_number": 20,
       "text": [
        "<matplotlib.axes._subplots.AxesSubplot at 0x1099d5b50>"
       ]
      },
      {
       "metadata": {},
       "output_type": "display_data",
       "png": "[encoded data removed]",
       "text": [
        "<matplotlib.figure.Figure at 0x1098fab50>"
       ]
      }
     ],
     "prompt_number": 20
    },
    {
     "cell_type": "heading",
     "level": 4,
     "metadata": {},
     "source": [
      "Figure 4B."
     ]
    },
    {
     "cell_type": "code",
     "collapsed": false,
     "input": [
      "PR_FEATURES = [\"Collection and processing methods were evaluated\",\n",
      "               \"Descriptive text is thorough enough to use or replicate the dataset\",\n",
      "               \"Necessary metadata is standardized (e.g. in XML)\",\n",
      "               \"Technical details have been checked (e.g. no missing files no missing values)\",\n",
      "               \"Plausibility considered based on area expertise\",\n",
      "               \"Novelty/impact considered\"]\n",
      "\n",
      "graph_checkbox('peer_review_definition', PR_FEATURES)"
     ],
     "language": "python",
     "metadata": {},
     "outputs": [
      {
       "metadata": {},
       "output_type": "pyout",
       "prompt_number": 21,
       "text": [
        "<matplotlib.axes._subplots.AxesSubplot at 0x109acc990>"
       ]
      },
      {
       "metadata": {},
       "output_type": "display_data",
       "png": "[encoded data removed]",
       "text": [
        "<matplotlib.figure.Figure at 0x10a289710>"
       ]
      }
     ],
     "prompt_number": 21
    },
    {
     "cell_type": "markdown",
     "metadata": {},
     "source": [
      "Respondents conveyed the expectations raised by the terms (A.) publication and (B.) peer review in the context of data. \n",
      "Respondents could select more than one item for each question. \n",
      "Error bars depict bootstrapped 95% confidence intervals."
     ]
    },
    {
     "cell_type": "heading",
     "level": 3,
     "metadata": {},
     "source": [
      "Figure 5.  Researchers have coherent expectations of data publication and peer review."
     ]
    },
    {
     "cell_type": "heading",
     "level": 4,
     "metadata": {},
     "source": [
      "Figure 5A."
     ]
    },
    {
     "cell_type": "code",
     "collapsed": false,
     "input": [
      "dp_labels = {\"Openly available without contacting the author(s)\" : \"openly\\navailable\",\n",
      "             \"Deposited in a database or repository\" : \"repository\\ndeposit\",\n",
      "             \"Assigned a unique identifier such as a DOI\" : \"unique\\nID\",\n",
      "              \"A traditional research paper is based on the data\" : \"traditional\\npaper\",\n",
      "              \"A data paper (without conclusions) describes the data\" : \"data\\npaper\",\n",
      "              \"Packaged with a thorough description of the data\" : \"thorough\\nmetadata\",\n",
      "              \"Packaged with formal metadata describing the data (e.g. as XML)\" : \"formal\\nmetadata\",\n",
      "              \"Dataset is \\\"peer reviewed\\\"\" : \"peer\\nreview\"}\n",
      "graph_fisher_exact(responses.publish_definition, DP_FEATURES, labels=dp_labels, alpha=0.05/28)"
     ],
     "language": "python",
     "metadata": {},
     "outputs": [
      {
       "metadata": {},
       "output_type": "pyout",
       "prompt_number": 202,
       "text": [
        "<networkx.classes.graph.Graph at 0x10ca2d150>"
       ]
      },
      {
       "metadata": {},
       "output_type": "display_data",
       "png": "[encoded data removed]",
       "text": [
        "<matplotlib.figure.Figure at 0x113c46490>"
       ]
      }
     ],
     "prompt_number": 202
    },
    {
     "cell_type": "heading",
     "level": 4,
     "metadata": {},
     "source": [
      "Figure 5B."
     ]
    },
    {
     "cell_type": "code",
     "collapsed": false,
     "input": [
      "pr_labels = {\"Collection and processing methods were evaluated\" : \"methods\\nappropriate\",\n",
      "               \"Descriptive text is thorough enough to use or replicate the dataset\" : \"thorough\\nmetadata\",\n",
      "               \"Necessary metadata is standardized (e.g. in XML)\" : \"standard\\nmetadata\",\n",
      "               \"Technical details have been checked (e.g. no missing files no missing values)\" : \"technical\\ndetails\",\n",
      "               \"Plausibility considered based on area expertise\" : \"data\\nplausible\",\n",
      "               \"Novelty/impact considered\" : \"novelty/\\nimpact\"}\n",
      "graph_fisher_exact(responses.peer_review_definition, PR_FEATURES, labels=pr_labels, alpha=0.05/15)"
     ],
     "language": "python",
     "metadata": {},
     "outputs": [
      {
       "metadata": {},
       "output_type": "pyout",
       "prompt_number": 210,
       "text": [
        "<networkx.classes.graph.Graph at 0x10a761890>"
       ]
      },
      {
       "metadata": {},
       "output_type": "display_data",
       "png": "[encoded data removed]",
       "text": [
        "<matplotlib.figure.Figure at 0x10a761910>"
       ]
      }
     ],
     "prompt_number": 210
    },
    {
     "cell_type": "markdown",
     "metadata": {},
     "source": [
      "Graph of relationships between the researcher expectations shown in Figure 4. \n",
      "Nodes are potential (A.) publication features or (B.) peer review assessments.\n",
      "Edge width is proportional to relationship strength as measured by odds ratio.  \n",
      "Blue edges show positive relationships, red are negative. \n",
      "Dark edges are significant at the $\\alpha=0.05$ level by Fisher's exact test, with correction for multiple hypothesis testing to (A.) $\\alpha=0.0018$ and (B.) $\\alpha=0.0033$.\n"
     ]
    },
    {
     "cell_type": "heading",
     "level": 3,
     "metadata": {},
     "source": [
      "Figure 6. Researchers trust and value peer review highly."
     ]
    },
    {
     "cell_type": "heading",
     "level": 4,
     "metadata": {},
     "source": [
      "Figure 6A."
     ]
    },
    {
     "cell_type": "code",
     "collapsed": false,
     "input": [
      "REVIEW_ACTIONS = [\"reviewed a journal article\",\n",
      "                  \"reviewed a grant proposal\",\n",
      "                  \"reviewed an application to graduate school\",\n",
      "                  \"reviewed a CV to hire someone for your lab\",\n",
      "                  \"served on a hiring committee\",\n",
      "                  \"served on a tenure & promotions committee\"]\n",
      "graph_checkbox('researcher_review_experience', REVIEW_ACTIONS)"
     ],
     "language": "python",
     "metadata": {},
     "outputs": [
      {
       "metadata": {},
       "output_type": "pyout",
       "prompt_number": 22,
       "text": [
        "<matplotlib.axes._subplots.AxesSubplot at 0x10ac4edd0>"
       ]
      },
      {
       "metadata": {},
       "output_type": "display_data",
       "png": "[encoded data removed]",
       "text": [
        "<matplotlib.figure.Figure at 0x10a482490>"
       ]
      }
     ],
     "prompt_number": 22
    },
    {
     "cell_type": "heading",
     "level": 4,
     "metadata": {},
     "source": [
      "Figure 6B."
     ]
    },
    {
     "cell_type": "code",
     "collapsed": false,
     "input": [
      "DATA_TRUST = ['traditional_paper_confidence', 'data_paper_confidence', 'peer_review_confidence', 'reuse_confidence']\n",
      "DATA_TRUST_SEQUENCE = [\"No confidence\", \"Little confidence\", \"Some confidence\", \"High confidence\", \"Complete confidence\"]\n",
      "\n",
      "graph_likert(DATA_TRUST,DATA_TRUST_SEQUENCE)"
     ],
     "language": "python",
     "metadata": {},
     "outputs": [
      {
       "metadata": {},
       "output_type": "pyout",
       "prompt_number": 23,
       "text": [
        "<matplotlib.axes._subplots.AxesSubplot at 0x109962fd0>"
       ]
      },
      {
       "metadata": {},
       "output_type": "display_data",
       "png": "[encoded data removed]",
       "text": [
        "<matplotlib.figure.Figure at 0x10a2d9c50>"
       ]
      }
     ],
     "prompt_number": 23
    },
    {
     "cell_type": "heading",
     "level": 4,
     "metadata": {},
     "source": [
      "Figure 6C."
     ]
    },
    {
     "cell_type": "code",
     "collapsed": false,
     "input": [
      "DATA_IMPACT = ['impact_citation', 'impact_downloads', 'impact_altmetrics', 'impact_google_rank']\n",
      "DATA_IMPACT_SEQUENCE = [\"Not at all useful\", \"Slightly useful\", \"Somewhat useful\", \"Highly useful\", \"Extremely useful\"]\n",
      "\n",
      "graph_likert(DATA_IMPACT, DATA_IMPACT_SEQUENCE)"
     ],
     "language": "python",
     "metadata": {},
     "outputs": [
      {
       "metadata": {},
       "output_type": "pyout",
       "prompt_number": 24,
       "text": [
        "<matplotlib.axes._subplots.AxesSubplot at 0x10a316dd0>"
       ]
      },
      {
       "metadata": {},
       "output_type": "display_data",
       "png": "[encoded data removed]",
       "text": [
        "<matplotlib.figure.Figure at 0x10a7b5410>"
       ]
      }
     ],
     "prompt_number": 24
    },
    {
     "cell_type": "heading",
     "level": 4,
     "metadata": {},
     "source": [
      "Figure 6D."
     ]
    },
    {
     "cell_type": "code",
     "collapsed": false,
     "input": [
      "PUBLICATION_VALUE = [\"traditional_paper_value\", \"data_paper_pr_value\", \"data_paper_npr_value\", \"dataset_pr_value\", \"dataset_npr_value\"]\n",
      "PUBLICATION_VALUE_SEQUENCE = [\"None\", \"A small amount\", \"Some\", \"Significant\", \"A great deal\"]\n",
      "\n",
      "graph_likert(PUBLICATION_VALUE, PUBLICATION_VALUE_SEQUENCE)"
     ],
     "language": "python",
     "metadata": {},
     "outputs": [
      {
       "metadata": {},
       "output_type": "pyout",
       "prompt_number": 25,
       "text": [
        "<matplotlib.axes._subplots.AxesSubplot at 0x10bd0d090>"
       ]
      },
      {
       "metadata": {},
       "output_type": "display_data",
       "png": "[encoded data removed]",
       "text": [
        "<matplotlib.figure.Figure at 0x10a326fd0>"
       ]
      }
     ],
     "prompt_number": 25
    },
    {
     "cell_type": "markdown",
     "metadata": {},
     "source": [
      "(A.) Respondents reported their past experience evaluating other researchers in each context; respondents could select more than one item.\n",
      "Respondents reported (B.) how much trust each data publication feature inspires, (C.) how useful each metric would be for assessing impact, and (D.) how valuable a CV item each kind of data publication would be.\n",
      "White dots show the mean response for each item; error bars depict bootstrapped 95% confidence intervals."
     ]
    },
    {
     "cell_type": "heading",
     "level": 2,
     "metadata": {},
     "source": [
      "Statistical functions"
     ]
    },
    {
     "cell_type": "code",
     "collapsed": false,
     "input": [
      "def dvar_by_ivar(dvar, dvar_values, ivar):    \n",
      "    \"\"\"\n",
      "    utility to group a likert-scale question by another column \n",
      "    (e.g., group peer review definition by research role)\n",
      "    \"\"\"\n",
      "    checkbox_responses = expand_checkbox(dvar.dropna(), dvar_values)\n",
      "    checkbox_responses[ivar.name] = ivar\n",
      "\n",
      "    # group by ivar values \n",
      "    grouped_by_ivar = checkbox_responses.groupby(ivar.name)\n",
      "    \n",
      "    # create a DataFrame where index= ivar values, columns = multi-index [dvar_values, [True, False]],\n",
      "    # cell values= count for each ivar value, dvar value, and bool value\n",
      "    grouped_frame = grouped_by_ivar.agg([np.count_nonzero, lambda x: np.size(x) - np.count_nonzero(x)])\n",
      "    grouped_frame = grouped_frame.rename(columns={'count_nonzero' : True, '<lambda>' : False})\n",
      "    \n",
      "    return grouped_frame"
     ],
     "language": "python",
     "metadata": {},
     "outputs": [],
     "prompt_number": 26
    },
    {
     "cell_type": "heading",
     "level": 3,
     "metadata": {},
     "source": [
      "Chi square for checkbox questions"
     ]
    },
    {
     "cell_type": "code",
     "collapsed": false,
     "input": [
      "def validate_chi_square(expected_values, counts=1):\n",
      "    \"\"\"\n",
      "    check for sufficiently high expected counts in each cell\n",
      "    \"\"\"\n",
      "    for cell in expected_values:\n",
      "        if cell.min() < counts:\n",
      "            print \"expected count less than \" + str(counts)\n",
      "            \n",
      "def chkbx_chi_square(dvar, dvar_values, ivar, validate=True):\n",
      "\n",
      "    grouped_frame = dvar_by_ivar(dvar, dvar_values, ivar)\n",
      "    \n",
      "    # calculate chi square for each dvar value & return all of them in a DataFrame\n",
      "    output = grouped_frame.groupby(level=0, axis=1).apply(lambda x: sps.chi2_contingency(x.as_matrix()))\n",
      "    output = output.apply(lambda x: pd.Series(x, index = ['chi2', 'p', 'df', 'expected_values']))\n",
      "    \n",
      "    if validate: \n",
      "        validate_chi_square(output.expected_values)\n",
      "    \n",
      "    return output"
     ],
     "language": "python",
     "metadata": {},
     "outputs": [],
     "prompt_number": 27
    },
    {
     "cell_type": "heading",
     "level": 3,
     "metadata": {},
     "source": [
      "Fisher exact test for checkbox questions"
     ]
    },
    {
     "cell_type": "code",
     "collapsed": false,
     "input": [
      "def chbx_fisher_exact(dvar, dvar_values, ivar):\n",
      "    grouped_frame = dvar_by_ivar(dvar, dvar_values, ivar)\n",
      "    output = grouped_frame.groupby(level=0, axis=1).apply(lambda x: sps.fisher_exact(x.as_matrix()))\n",
      "    output = output.apply(lambda x: pd.Series(x, index = ['OR', 'p']))\n",
      "    return output"
     ],
     "language": "python",
     "metadata": {},
     "outputs": [],
     "prompt_number": 28
    },
    {
     "cell_type": "code",
     "collapsed": false,
     "input": [
      "def combinatorial_fisher_exact(checkbox_responses):\n",
      "    \"\"\"\n",
      "    checkbox_responses should be a DataFrame in format:\n",
      "                answer1 answer2 ...\n",
      "    respondent1 T/F     T/F\n",
      "    respondent2 T/F     T/F\n",
      "    ...\n",
      "    \n",
      "    returns a DataFrame in format:\n",
      "                option1         option2       ...\n",
      "                OR     p-value  OR    p-value\n",
      "    option1     NaN    NaN      #>1   #\n",
      "    option2     #>1    #        NaN   NaN     ...\n",
      "    ...\n",
      "    \n",
      "    all ORs are calculated to be >1, returned frame is diagonally symmetrical \n",
      "    \"\"\"\n",
      "    \n",
      "    return_columns = pd.MultiIndex.from_product([checkbox_responses.columns, ['OR', 'p-value']])\n",
      "    \n",
      "    return_frame = pd.DataFrame(index=checkbox_responses.columns, columns=return_columns)\n",
      "    \n",
      "    i = 0\n",
      "    for a in checkbox_responses.columns:\n",
      "        i += 1\n",
      "        for b in checkbox_responses.columns[i:]:\n",
      "            square = pd.DataFrame({ 0 : 0, 0 : 0}, index=[True, False], columns=[True, False])        \n",
      "        \n",
      "            # fill in counts\n",
      "            square[True] = (checkbox_responses[checkbox_responses[a] == True][b].value_counts())\n",
      "            square[False] = (checkbox_responses[checkbox_responses[a] == False][b].value_counts())\n",
      "\n",
      "            odds_ratio, p = sps.fisher_exact(square.as_matrix())\n",
      "            \n",
      "            if odds_ratio < 1:\n",
      "                odds_ratio, p = sps.fisher_exact(square.T.as_matrix())\n",
      "                \n",
      "            \n",
      "            return_frame.loc[a,(b,'OR')] = return_frame.loc[b,(a,'OR')] = odds_ratio\n",
      "            return_frame.loc[a,(b,'p-value')] = return_frame.loc[b,(a,'p-value')]= p\n",
      "\n",
      "    return return_frame\n",
      "                    \n",
      "def checkbox_fisher_exact(question, answers):\n",
      "    \n",
      "    # DF of bools; responders x checkbox (checked = True) \n",
      "    checkbox_responses = expand_checkbox(question.dropna(), answers)\n",
      "    \n",
      "    # DF of True and False counts for each checkbox\n",
      "    count_table = checkbox_responses.apply(lambda x: x.value_counts()).T\n",
      "    \n",
      "    return combinatorial_fisher_exact(checkbox_responses)\n"
     ],
     "language": "python",
     "metadata": {},
     "outputs": [],
     "prompt_number": 212
    },
    {
     "cell_type": "heading",
     "level": 3,
     "metadata": {},
     "source": [
      "Jackknife-ish systematic permutation "
     ]
    },
    {
     "cell_type": "code",
     "collapsed": false,
     "input": [
      "def jacknife(data_frame, axis=0):\n",
      "    \"\"\"\n",
      "    returns a list of DataFrames, each with 1 row or column of data_frame deleted\n",
      "    \n",
      "    \"\"\"\n",
      "    frame_list = []\n",
      "    if axis == 0:\n",
      "        for index in data_frame.index:\n",
      "            frame_list.append(data_frame.drop(index))\n",
      "    if axis == 1:\n",
      "        for column in data_frame.columns:\n",
      "            frame_list.append(data_frame.drop(column))\n",
      "    \n",
      "    return frame_list\n",
      "\n",
      "jacknifed_responses = jacknife(responses)"
     ],
     "language": "python",
     "metadata": {},
     "outputs": [],
     "prompt_number": 46
    },
    {
     "cell_type": "heading",
     "level": 2,
     "metadata": {},
     "source": [
      "Few differences in attitudes between disciplines were detected."
     ]
    },
    {
     "cell_type": "markdown",
     "metadata": {},
     "source": [
      "Statistical significance was tested using Fisher's exact test where possible (i.e., for 2x2 tables) and contingency $\\chi^{2}$ in all other cases.\n",
      "A statistical significance cutoff of $\\alpha=0.05$ was used. \n",
      "When testing for e.g., effects of discipline or prior experience, each answer choice was tested separately, then the Bonferroni correction for multiple hypothesis testing was applied to adjust $\\alpha$ for that question; this is a conservative approach that may not detect subtle differences.\n",
      "Mathematicians were omitted from $\\chi^{2}$  significance testing for effects of discipline because their low $n$ led to unacceptably small expected count numbers.\n",
      "The robustness of all significant results was confirmed using a jackknife procedure in which the test was repeated systematically with each respondent removed; the number of caseses in which the absence of a single respondent moved the p-value accross the designated significance threshold is recorded in the \"changed outcomes\" column."
     ]
    },
    {
     "cell_type": "code",
     "collapsed": false,
     "input": [
      "# Not enough mathematicians responded to test reliably.\n",
      "populated_disciplines = responses[responses.discipline != \"Mathematics\"].discipline"
     ],
     "language": "python",
     "metadata": {},
     "outputs": [],
     "prompt_number": 44
    },
    {
     "cell_type": "code",
     "collapsed": false,
     "input": [
      "alpha = 0.05/4\n",
      "\n",
      "how_shared_by_discipline = chkbx_chi_square(responses.how_shared, SHARING_CHANNELS, populated_disciplines)\n",
      "\n",
      "how_shared_by_discipline_chi2_frames = []\n",
      "for frame in jacknifed_responses:\n",
      "    how_shared_by_discipline_chi2_frames.append(chkbx_chi_square(frame.how_shared, SHARING_CHANNELS, \n",
      "                                                                 populated_disciplines, validate=False))\n",
      "how_shared_by_discipline['changed outcomes'] = jacknife_effect_1d(how_shared_by_discipline_chi2_frames, \n",
      "                                                                  how_shared_by_discipline, alpha=alpha)\n",
      "\n",
      "display(how_shared_by_discipline)\n",
      "print \"alpha = \" + str(alpha)"
     ],
     "language": "python",
     "metadata": {},
     "outputs": [
      {
       "html": [
        "<div style=\"max-height:1000px;max-width:1500px;overflow:auto;\">\n",
        "<table border=\"1\" class=\"dataframe\">\n",
        "  <thead>\n",
        "    <tr style=\"text-align: right;\">\n",
        "      <th></th>\n",
        "      <th>chi2</th>\n",
        "      <th>p</th>\n",
        "      <th>df</th>\n",
        "      <th>expected_values</th>\n",
        "      <th>changed outcomes</th>\n",
        "    </tr>\n",
        "  </thead>\n",
        "  <tbody>\n",
        "    <tr>\n",
        "      <th>Database or repository</th>\n",
        "      <td>  8.698958</td>\n",
        "      <td> 0.274998</td>\n",
        "      <td> 7</td>\n",
        "      <td> [[12.5582822086, 10.4417177914], [34.398773006...</td>\n",
        "      <td> 0</td>\n",
        "    </tr>\n",
        "    <tr>\n",
        "      <th>Email / direct contact</th>\n",
        "      <td> 14.215072</td>\n",
        "      <td> 0.047486</td>\n",
        "      <td> 7</td>\n",
        "      <td> [[19.8957055215, 3.10429447853], [54.496932515...</td>\n",
        "      <td> 0</td>\n",
        "    </tr>\n",
        "    <tr>\n",
        "      <th>Journal website (as supplemental material)</th>\n",
        "      <td>  8.353407</td>\n",
        "      <td> 0.302464</td>\n",
        "      <td> 7</td>\n",
        "      <td> [[8.74846625767, 14.2515337423], [23.963190184...</td>\n",
        "      <td> 0</td>\n",
        "    </tr>\n",
        "    <tr>\n",
        "      <th>Personal or lab website</th>\n",
        "      <td>  9.764734</td>\n",
        "      <td> 0.202302</td>\n",
        "      <td> 7</td>\n",
        "      <td> [[7.61963190184, 15.3803680982], [20.871165644...</td>\n",
        "      <td> 0</td>\n",
        "    </tr>\n",
        "  </tbody>\n",
        "</table>\n",
        "</div>"
       ],
       "metadata": {},
       "output_type": "display_data",
       "text": [
        "                                                 chi2         p  df  \\\n",
        "Database or repository                       8.698958  0.274998   7   \n",
        "Email / direct contact                      14.215072  0.047486   7   \n",
        "Journal website (as supplemental material)   8.353407  0.302464   7   \n",
        "Personal or lab website                      9.764734  0.202302   7   \n",
        "\n",
        "                                                                              expected_values  \\\n",
        "Database or repository                      [[12.5582822086, 10.4417177914], [34.398773006...   \n",
        "Email / direct contact                      [[19.8957055215, 3.10429447853], [54.496932515...   \n",
        "Journal website (as supplemental material)  [[8.74846625767, 14.2515337423], [23.963190184...   \n",
        "Personal or lab website                     [[7.61963190184, 15.3803680982], [20.871165644...   \n",
        "\n",
        "                                            changed outcomes  \n",
        "Database or repository                                     0  \n",
        "Email / direct contact                                     0  \n",
        "Journal website (as supplemental material)                 0  \n",
        "Personal or lab website                                    0  "
       ]
      },
      {
       "output_type": "stream",
       "stream": "stdout",
       "text": [
        "alpha = 0.0125\n"
       ]
      }
     ],
     "prompt_number": 203
    },
    {
     "cell_type": "code",
     "collapsed": false,
     "input": [
      "alpha = 0.05/4\n",
      "\n",
      "data_sharing_credit_by_discipline = chkbx_chi_square(responses.data_sharing_credit, HOW_CREDITED_ANSWERS, populated_disciplines)\n",
      "\n",
      "data_sharing_credit_by_discipline_chi2_frames = []\n",
      "for frame in jacknifed_responses:\n",
      "    data_sharing_credit_by_discipline_chi2_frames.append(chkbx_chi_square(frame.data_sharing_credit, HOW_CREDITED_ANSWERS, \n",
      "                                                                          populated_disciplines, validate=False))\n",
      "data_sharing_credit_by_discipline['changed outcomes'] = jacknife_effect_1d(data_sharing_credit_by_discipline_chi2_frames, \n",
      "                                                                           data_sharing_credit_by_discipline, alpha=alpha)\n",
      "\n",
      "display(data_sharing_credit_by_discipline)\n",
      "print \"alpha = \" + str(alpha)"
     ],
     "language": "python",
     "metadata": {},
     "outputs": [
      {
       "html": [
        "<div style=\"max-height:1000px;max-width:1500px;overflow:auto;\">\n",
        "<table border=\"1\" class=\"dataframe\">\n",
        "  <thead>\n",
        "    <tr style=\"text-align: right;\">\n",
        "      <th></th>\n",
        "      <th>chi2</th>\n",
        "      <th>p</th>\n",
        "      <th>df</th>\n",
        "      <th>expected_values</th>\n",
        "      <th>changed outcomes</th>\n",
        "    </tr>\n",
        "  </thead>\n",
        "  <tbody>\n",
        "    <tr>\n",
        "      <th>Acknowledgement in the paper</th>\n",
        "      <td>  9.807940</td>\n",
        "      <td> 0.199721</td>\n",
        "      <td> 7</td>\n",
        "      <td> [[19.4385245902, 11.5614754098], [57.061475409...</td>\n",
        "      <td> 0</td>\n",
        "    </tr>\n",
        "    <tr>\n",
        "      <th>Authorship on paper</th>\n",
        "      <td> 16.347019</td>\n",
        "      <td> 0.022128</td>\n",
        "      <td> 7</td>\n",
        "      <td> [[12.3237704918, 18.6762295082], [36.176229508...</td>\n",
        "      <td> 2</td>\n",
        "    </tr>\n",
        "    <tr>\n",
        "      <th>Data cited in the reference list</th>\n",
        "      <td> 14.267247</td>\n",
        "      <td> 0.046627</td>\n",
        "      <td> 7</td>\n",
        "      <td> [[23.1229508197, 7.87704918033], [67.877049180...</td>\n",
        "      <td> 0</td>\n",
        "    </tr>\n",
        "    <tr>\n",
        "      <th>Data cited informally in the text of the paper</th>\n",
        "      <td> 10.540068</td>\n",
        "      <td> 0.159977</td>\n",
        "      <td> 7</td>\n",
        "      <td> [[4.44672131148, 26.5532786885], [13.053278688...</td>\n",
        "      <td> 0</td>\n",
        "    </tr>\n",
        "  </tbody>\n",
        "</table>\n",
        "</div>"
       ],
       "metadata": {},
       "output_type": "display_data",
       "text": [
        "                                                     chi2         p  df  \\\n",
        "Acknowledgement in the paper                     9.807940  0.199721   7   \n",
        "Authorship on paper                             16.347019  0.022128   7   \n",
        "Data cited in the reference list                14.267247  0.046627   7   \n",
        "Data cited informally in the text of the paper  10.540068  0.159977   7   \n",
        "\n",
        "                                                                                  expected_values  \\\n",
        "Acknowledgement in the paper                    [[19.4385245902, 11.5614754098], [57.061475409...   \n",
        "Authorship on paper                             [[12.3237704918, 18.6762295082], [36.176229508...   \n",
        "Data cited in the reference list                [[23.1229508197, 7.87704918033], [67.877049180...   \n",
        "Data cited informally in the text of the paper  [[4.44672131148, 26.5532786885], [13.053278688...   \n",
        "\n",
        "                                                changed outcomes  \n",
        "Acknowledgement in the paper                                   0  \n",
        "Authorship on paper                                            2  \n",
        "Data cited in the reference list                               0  \n",
        "Data cited informally in the text of the paper                 0  "
       ]
      },
      {
       "output_type": "stream",
       "stream": "stdout",
       "text": [
        "alpha = 0.0125\n"
       ]
      }
     ],
     "prompt_number": 64
    },
    {
     "cell_type": "code",
     "collapsed": false,
     "input": [
      "alpha = 0.05/8\n",
      "\n",
      "publish_definition_by_discipline = chkbx_chi_square(responses.publish_definition, DP_FEATURES, populated_disciplines)\n",
      "\n",
      "publish_definition_by_discipline_chi2_frames = []\n",
      "for frame in jacknifed_responses:\n",
      "    publish_definition_by_discipline_chi2_frames.append(chkbx_chi_square(frame.publish_definition, DP_FEATURES, \n",
      "                                                                         populated_disciplines, validate=False))\n",
      "publish_definition_by_discipline['changed outcomes'] = jacknife_effect_1d(publish_definition_by_discipline_chi2_frames, \n",
      "                                                                          publish_definition_by_discipline, alpha=alpha)\n",
      "display(publish_definition_by_discipline)\n",
      "print \"alpha = \" + str(alpha)"
     ],
     "language": "python",
     "metadata": {},
     "outputs": [
      {
       "html": [
        "<div style=\"max-height:1000px;max-width:1500px;overflow:auto;\">\n",
        "<table border=\"1\" class=\"dataframe\">\n",
        "  <thead>\n",
        "    <tr style=\"text-align: right;\">\n",
        "      <th></th>\n",
        "      <th>chi2</th>\n",
        "      <th>p</th>\n",
        "      <th>df</th>\n",
        "      <th>expected_values</th>\n",
        "      <th>changed outcomes</th>\n",
        "    </tr>\n",
        "  </thead>\n",
        "  <tbody>\n",
        "    <tr>\n",
        "      <th>A data paper (without conclusions) describes the data</th>\n",
        "      <td> 10.721173</td>\n",
        "      <td> 0.151252</td>\n",
        "      <td> 7</td>\n",
        "      <td> [[6.94605809129, 24.0539419087], [19.941908713...</td>\n",
        "      <td> 0</td>\n",
        "    </tr>\n",
        "    <tr>\n",
        "      <th>A traditional research paper is based on the data</th>\n",
        "      <td>  5.794857</td>\n",
        "      <td> 0.563897</td>\n",
        "      <td> 7</td>\n",
        "      <td> [[13.2489626556, 17.7510373444], [38.037344398...</td>\n",
        "      <td> 0</td>\n",
        "    </tr>\n",
        "    <tr>\n",
        "      <th>Assigned a unique identifier such as a DOI</th>\n",
        "      <td>  8.159624</td>\n",
        "      <td> 0.318729</td>\n",
        "      <td> 7</td>\n",
        "      <td> [[12.2199170124, 18.7800829876], [35.082987551...</td>\n",
        "      <td> 0</td>\n",
        "    </tr>\n",
        "    <tr>\n",
        "      <th>Dataset is \"peer reviewed\"</th>\n",
        "      <td>  8.361368</td>\n",
        "      <td> 0.301810</td>\n",
        "      <td> 7</td>\n",
        "      <td> [[9.00414937759, 21.9958506224], [25.850622406...</td>\n",
        "      <td> 0</td>\n",
        "    </tr>\n",
        "    <tr>\n",
        "      <th>Deposited in a database or repository</th>\n",
        "      <td> 14.289540</td>\n",
        "      <td> 0.046265</td>\n",
        "      <td> 7</td>\n",
        "      <td> [[16.7219917012, 14.2780082988], [48.008298755...</td>\n",
        "      <td> 0</td>\n",
        "    </tr>\n",
        "    <tr>\n",
        "      <th>Openly available without contacting the author(s)</th>\n",
        "      <td> 10.742765</td>\n",
        "      <td> 0.150240</td>\n",
        "      <td> 7</td>\n",
        "      <td> [[20.8381742739, 10.1618257261], [59.825726141...</td>\n",
        "      <td> 0</td>\n",
        "    </tr>\n",
        "    <tr>\n",
        "      <th>Packaged with a thorough description of the data</th>\n",
        "      <td> 15.646527</td>\n",
        "      <td> 0.028549</td>\n",
        "      <td> 7</td>\n",
        "      <td> [[12.2199170124, 18.7800829876], [35.082987551...</td>\n",
        "      <td> 0</td>\n",
        "    </tr>\n",
        "    <tr>\n",
        "      <th>Packaged with formal metadata describing the data (e.g. as XML)</th>\n",
        "      <td> 33.025723</td>\n",
        "      <td> 0.000026</td>\n",
        "      <td> 7</td>\n",
        "      <td> [[7.97510373444, 23.0248962656], [22.896265560...</td>\n",
        "      <td> 0</td>\n",
        "    </tr>\n",
        "  </tbody>\n",
        "</table>\n",
        "</div>"
       ],
       "metadata": {},
       "output_type": "display_data",
       "text": [
        "                                                                      chi2  \\\n",
        "A data paper (without conclusions) describes the data            10.721173   \n",
        "A traditional research paper is based on the data                 5.794857   \n",
        "Assigned a unique identifier such as a DOI                        8.159624   \n",
        "Dataset is \"peer reviewed\"                                        8.361368   \n",
        "Deposited in a database or repository                            14.289540   \n",
        "Openly available without contacting the author(s)                10.742765   \n",
        "Packaged with a thorough description of the data                 15.646527   \n",
        "Packaged with formal metadata describing the data (e.g. as XML)  33.025723   \n",
        "\n",
        "                                                                        p  df  \\\n",
        "A data paper (without conclusions) describes the data            0.151252   7   \n",
        "A traditional research paper is based on the data                0.563897   7   \n",
        "Assigned a unique identifier such as a DOI                       0.318729   7   \n",
        "Dataset is \"peer reviewed\"                                       0.301810   7   \n",
        "Deposited in a database or repository                            0.046265   7   \n",
        "Openly available without contacting the author(s)                0.150240   7   \n",
        "Packaged with a thorough description of the data                 0.028549   7   \n",
        "Packaged with formal metadata describing the data (e.g. as XML)  0.000026   7   \n",
        "\n",
        "                                                                                                   expected_values  \\\n",
        "A data paper (without conclusions) describes the data            [[6.94605809129, 24.0539419087], [19.941908713...   \n",
        "A traditional research paper is based on the data                [[13.2489626556, 17.7510373444], [38.037344398...   \n",
        "Assigned a unique identifier such as a DOI                       [[12.2199170124, 18.7800829876], [35.082987551...   \n",
        "Dataset is \"peer reviewed\"                                       [[9.00414937759, 21.9958506224], [25.850622406...   \n",
        "Deposited in a database or repository                            [[16.7219917012, 14.2780082988], [48.008298755...   \n",
        "Openly available without contacting the author(s)                [[20.8381742739, 10.1618257261], [59.825726141...   \n",
        "Packaged with a thorough description of the data                 [[12.2199170124, 18.7800829876], [35.082987551...   \n",
        "Packaged with formal metadata describing the data (e.g. as XML)  [[7.97510373444, 23.0248962656], [22.896265560...   \n",
        "\n",
        "                                                                 changed outcomes  \n",
        "A data paper (without conclusions) describes the data                           0  \n",
        "A traditional research paper is based on the data                               0  \n",
        "Assigned a unique identifier such as a DOI                                      0  \n",
        "Dataset is \"peer reviewed\"                                                      0  \n",
        "Deposited in a database or repository                                           0  \n",
        "Openly available without contacting the author(s)                               0  \n",
        "Packaged with a thorough description of the data                                0  \n",
        "Packaged with formal metadata describing the data (e.g. as XML)                 0  "
       ]
      },
      {
       "output_type": "stream",
       "stream": "stdout",
       "text": [
        "alpha = 0.00625\n"
       ]
      }
     ],
     "prompt_number": 61
    },
    {
     "cell_type": "code",
     "collapsed": false,
     "input": [
      "alpha = 0.05/6\n",
      "\n",
      "peer_review_definition_by_discipline = chkbx_chi_square(responses.peer_review_definition, PR_FEATURES, populated_disciplines)\n",
      "\n",
      "peer_review_definition_by_discipline_chi2_frames = []\n",
      "for frame in jacknifed_responses:\n",
      "    peer_review_definition_by_discipline_chi2_frames.append(chkbx_chi_square(frame.peer_review_definition, PR_FEATURES, \n",
      "                                                                             populated_disciplines, validate=False)) \n",
      "peer_review_definition_by_discipline['changed outcomes'] = jacknife_effect_1d(peer_review_definition_by_discipline_chi2_frames,\n",
      "                                                                              peer_review_definition_by_discipline, alpha=alpha)\n",
      "\n",
      "display(peer_review_definition_by_discipline)\n",
      "print \"alpha = \" + str(alpha)"
     ],
     "language": "python",
     "metadata": {},
     "outputs": [
      {
       "html": [
        "<div style=\"max-height:1000px;max-width:1500px;overflow:auto;\">\n",
        "<table border=\"1\" class=\"dataframe\">\n",
        "  <thead>\n",
        "    <tr style=\"text-align: right;\">\n",
        "      <th></th>\n",
        "      <th>chi2</th>\n",
        "      <th>p</th>\n",
        "      <th>df</th>\n",
        "      <th>expected_values</th>\n",
        "      <th>changed outcomes</th>\n",
        "    </tr>\n",
        "  </thead>\n",
        "  <tbody>\n",
        "    <tr>\n",
        "      <th>Collection and processing methods were evaluated</th>\n",
        "      <td> 14.227971</td>\n",
        "      <td> 0.047272</td>\n",
        "      <td> 7</td>\n",
        "      <td> [[28.0291666667, 2.97083333333], [80.470833333...</td>\n",
        "      <td> 0</td>\n",
        "    </tr>\n",
        "    <tr>\n",
        "      <th>Descriptive text is thorough enough to use or replicate the dataset</th>\n",
        "      <td> 13.592239</td>\n",
        "      <td> 0.058928</td>\n",
        "      <td> 7</td>\n",
        "      <td> [[25.0583333333, 5.94166666667], [71.941666666...</td>\n",
        "      <td> 0</td>\n",
        "    </tr>\n",
        "    <tr>\n",
        "      <th>Necessary metadata is standardized (e.g. in XML)</th>\n",
        "      <td> 26.667930</td>\n",
        "      <td> 0.000382</td>\n",
        "      <td> 7</td>\n",
        "      <td> [[12.0125, 18.9875], [34.4875, 54.5125], [4.26...</td>\n",
        "      <td> 0</td>\n",
        "    </tr>\n",
        "    <tr>\n",
        "      <th>Novelty/impact considered</th>\n",
        "      <td> 14.015437</td>\n",
        "      <td> 0.050907</td>\n",
        "      <td> 7</td>\n",
        "      <td> [[6.84583333333, 24.1541666667], [19.654166666...</td>\n",
        "      <td> 0</td>\n",
        "    </tr>\n",
        "    <tr>\n",
        "      <th>Plausibility considered based on area expertise</th>\n",
        "      <td>  7.207301</td>\n",
        "      <td> 0.407620</td>\n",
        "      <td> 7</td>\n",
        "      <td> [[19.2458333333, 11.7541666667], [55.254166666...</td>\n",
        "      <td> 0</td>\n",
        "    </tr>\n",
        "    <tr>\n",
        "      <th>Technical details have been checked (e.g. no missing files no missing values)</th>\n",
        "      <td>  6.849833</td>\n",
        "      <td> 0.444681</td>\n",
        "      <td> 7</td>\n",
        "      <td> [[21.8291666667, 9.17083333333], [62.670833333...</td>\n",
        "      <td> 0</td>\n",
        "    </tr>\n",
        "  </tbody>\n",
        "</table>\n",
        "</div>"
       ],
       "metadata": {},
       "output_type": "display_data",
       "text": [
        "                                                                                    chi2  \\\n",
        "Collection and processing methods were evaluated                               14.227971   \n",
        "Descriptive text is thorough enough to use or replicate the dataset            13.592239   \n",
        "Necessary metadata is standardized (e.g. in XML)                               26.667930   \n",
        "Novelty/impact considered                                                      14.015437   \n",
        "Plausibility considered based on area expertise                                 7.207301   \n",
        "Technical details have been checked (e.g. no missing files no missing values)   6.849833   \n",
        "\n",
        "                                                                                      p  \\\n",
        "Collection and processing methods were evaluated                               0.047272   \n",
        "Descriptive text is thorough enough to use or replicate the dataset            0.058928   \n",
        "Necessary metadata is standardized (e.g. in XML)                               0.000382   \n",
        "Novelty/impact considered                                                      0.050907   \n",
        "Plausibility considered based on area expertise                                0.407620   \n",
        "Technical details have been checked (e.g. no missing files no missing values)  0.444681   \n",
        "\n",
        "                                                                               df  \\\n",
        "Collection and processing methods were evaluated                                7   \n",
        "Descriptive text is thorough enough to use or replicate the dataset             7   \n",
        "Necessary metadata is standardized (e.g. in XML)                                7   \n",
        "Novelty/impact considered                                                       7   \n",
        "Plausibility considered based on area expertise                                 7   \n",
        "Technical details have been checked (e.g. no missing files no missing values)   7   \n",
        "\n",
        "                                                                                                                 expected_values  \\\n",
        "Collection and processing methods were evaluated                               [[28.0291666667, 2.97083333333], [80.470833333...   \n",
        "Descriptive text is thorough enough to use or replicate the dataset            [[25.0583333333, 5.94166666667], [71.941666666...   \n",
        "Necessary metadata is standardized (e.g. in XML)                               [[12.0125, 18.9875], [34.4875, 54.5125], [4.26...   \n",
        "Novelty/impact considered                                                      [[6.84583333333, 24.1541666667], [19.654166666...   \n",
        "Plausibility considered based on area expertise                                [[19.2458333333, 11.7541666667], [55.254166666...   \n",
        "Technical details have been checked (e.g. no missing files no missing values)  [[21.8291666667, 9.17083333333], [62.670833333...   \n",
        "\n",
        "                                                                               changed outcomes  \n",
        "Collection and processing methods were evaluated                                              0  \n",
        "Descriptive text is thorough enough to use or replicate the dataset                           0  \n",
        "Necessary metadata is standardized (e.g. in XML)                                              0  \n",
        "Novelty/impact considered                                                                     0  \n",
        "Plausibility considered based on area expertise                                               0  \n",
        "Technical details have been checked (e.g. no missing files no missing values)                 0  "
       ]
      },
      {
       "output_type": "stream",
       "stream": "stdout",
       "text": [
        "alpha = 0.00833333333333\n"
       ]
      }
     ],
     "prompt_number": 68
    },
    {
     "cell_type": "markdown",
     "metadata": {},
     "source": [
      "The only two significant differences among disciplines related to structured metadata: discipline had a significant effect on expectation of formal metadata in the publication process (corrected $\\alpha= 0.006$, $\\chi^{2}= 33.0$, $p= 2.6\\times10^{-5}$) and consideration of standardized metadata in peer review (corrected $\\alpha= 0.008$, $\\chi^{2}= 26.7$, $p= 3.8\\times10^{-4}$). \n",
      "In both cases, the most notable distinctions were the expectations of a large fraction of environmental scientists: 63% (compared to 25% in the population as a whole) for publication and 73% (compared to 39%) for peer review."
     ]
    },
    {
     "cell_type": "heading",
     "level": 3,
     "metadata": {},
     "source": [
      "Environmental scientists have high expectations for formal metadata."
     ]
    },
    {
     "cell_type": "code",
     "collapsed": false,
     "input": [
      "dp_checkbox = expand_checkbox(responses.publish_definition.dropna(), DP_FEATURES)\n",
      "dp_checkbox['discipline'] = responses.discipline\n",
      "counts = dp_checkbox.groupby('discipline').sum()\n",
      "disc_totals = dp_checkbox.discipline.value_counts()\n",
      "\n",
      "for disc in counts.index:\n",
      "    counts.ix[disc] = counts.ix[disc].apply(lambda x: float(x) / disc_totals[disc])\n",
      "\n",
      "counts[\"Packaged with formal metadata describing the data (e.g. as XML)\"].plot(kind='barh', color=COLORS[4], \n",
      "                                                                               grid='off', ylim=(0,1)\n"
     ],
     "language": "python",
     "metadata": {},
     "outputs": [
      {
       "metadata": {},
       "output_type": "pyout",
       "prompt_number": 72,
       "text": [
        "<matplotlib.axes._subplots.AxesSubplot at 0x10ff86510>"
       ]
      },
      {
       "metadata": {},
       "output_type": "display_data",
       "png": "[encoded data removed]",
       "text": [
        "<matplotlib.figure.Figure at 0x110038c90>"
       ]
      }
     ],
     "prompt_number": 72
    },
    {
     "cell_type": "code",
     "collapsed": false,
     "input": [
      "pr_checkbox = expand_checkbox(responses.peer_review_definition.dropna(), PR_FEATURES)\n",
      "pr_checkbox['discipline'] = responses.discipline\n",
      "counts = pr_checkbox.groupby('discipline').sum()\n",
      "disc_totals = pr_checkbox.discipline.value_counts()\n",
      "\n",
      "for disc in counts.index:\n",
      "    counts.ix[disc] = counts.ix[disc].apply(lambda x: float(x) / disc_totals[disc])\n",
      "#normalize = counts.apply(test.discipline.value_counts()\n",
      "#display(counts)\n",
      "counts[\"Necessary metadata is standardized (e.g. in XML)\"].plot(kind='bar',color=COLORS[4],\n",
      "                                                                grid='off', ylim=(0,1),\n",
      "                                                                edgecolor='w')\n"
     ],
     "language": "python",
     "metadata": {},
     "outputs": [
      {
       "metadata": {},
       "output_type": "pyout",
       "prompt_number": 207,
       "text": [
        "<matplotlib.axes._subplots.AxesSubplot at 0x11201b390>"
       ]
      },
      {
       "metadata": {},
       "output_type": "display_data",
       "png": "[encoded data removed]",
       "text": [
        "<matplotlib.figure.Figure at 0x1109fd650>"
       ]
      }
     ],
     "prompt_number": 207
    },
    {
     "cell_type": "heading",
     "level": 2,
     "metadata": {},
     "source": [
      "Few differences in attitudes between research roles were detected."
     ]
    },
    {
     "cell_type": "code",
     "collapsed": false,
     "input": [
      "alpha = 0.05/4\n",
      "\n",
      "how_shared_by_role = chkbx_chi_square(responses.how_shared, SHARING_CHANNELS, responses.role)\n",
      "\n",
      "how_shared_by_role_chi2_frames = []\n",
      "for frame in jacknifed_responses:\n",
      "    how_shared_by_role_chi2_frames.append(chkbx_chi_square(frame.how_shared, SHARING_CHANNELS, \n",
      "                                                           populated_disciplines, validate=False))\n",
      "how_shared_by_role['changed outcomes'] = jacknife_effect_1d(how_shared_by_role_chi2_frames, \n",
      "                                                            how_shared_by_discipline, alpha=alpha)\n",
      "\n",
      "display(how_shared_by_role)\n",
      "print \"alpha = \" + str(alpha)"
     ],
     "language": "python",
     "metadata": {},
     "outputs": [
      {
       "html": [
        "<div style=\"max-height:1000px;max-width:1500px;overflow:auto;\">\n",
        "<table border=\"1\" class=\"dataframe\">\n",
        "  <thead>\n",
        "    <tr style=\"text-align: right;\">\n",
        "      <th></th>\n",
        "      <th>chi2</th>\n",
        "      <th>p</th>\n",
        "      <th>df</th>\n",
        "      <th>expected_values</th>\n",
        "      <th>changed outcomes</th>\n",
        "    </tr>\n",
        "  </thead>\n",
        "  <tbody>\n",
        "    <tr>\n",
        "      <th>Database or repository</th>\n",
        "      <td> 1.215118</td>\n",
        "      <td> 0.875603</td>\n",
        "      <td> 4</td>\n",
        "      <td> [[11.7857142857, 10.2142857143], [7.5, 6.5], [...</td>\n",
        "      <td> 0</td>\n",
        "    </tr>\n",
        "    <tr>\n",
        "      <th>Email / direct contact</th>\n",
        "      <td> 7.029752</td>\n",
        "      <td> 0.134324</td>\n",
        "      <td> 4</td>\n",
        "      <td> [[19.119047619, 2.88095238095], [12.1666666667...</td>\n",
        "      <td> 0</td>\n",
        "    </tr>\n",
        "    <tr>\n",
        "      <th>Journal website (as supplemental material)</th>\n",
        "      <td> 7.013019</td>\n",
        "      <td> 0.135202</td>\n",
        "      <td> 4</td>\n",
        "      <td> [[8.11904761905, 13.880952381], [5.16666666667...</td>\n",
        "      <td> 0</td>\n",
        "    </tr>\n",
        "    <tr>\n",
        "      <th>Personal or lab website</th>\n",
        "      <td> 9.499026</td>\n",
        "      <td> 0.049767</td>\n",
        "      <td> 4</td>\n",
        "      <td> [[7.33333333333, 14.6666666667], [4.6666666666...</td>\n",
        "      <td> 0</td>\n",
        "    </tr>\n",
        "  </tbody>\n",
        "</table>\n",
        "</div>"
       ],
       "metadata": {},
       "output_type": "display_data",
       "text": [
        "                                                chi2         p  df  \\\n",
        "Database or repository                      1.215118  0.875603   4   \n",
        "Email / direct contact                      7.029752  0.134324   4   \n",
        "Journal website (as supplemental material)  7.013019  0.135202   4   \n",
        "Personal or lab website                     9.499026  0.049767   4   \n",
        "\n",
        "                                                                              expected_values  \\\n",
        "Database or repository                      [[11.7857142857, 10.2142857143], [7.5, 6.5], [...   \n",
        "Email / direct contact                      [[19.119047619, 2.88095238095], [12.1666666667...   \n",
        "Journal website (as supplemental material)  [[8.11904761905, 13.880952381], [5.16666666667...   \n",
        "Personal or lab website                     [[7.33333333333, 14.6666666667], [4.6666666666...   \n",
        "\n",
        "                                            changed outcomes  \n",
        "Database or repository                                     0  \n",
        "Email / direct contact                                     0  \n",
        "Journal website (as supplemental material)                 0  \n",
        "Personal or lab website                                    0  "
       ]
      },
      {
       "output_type": "stream",
       "stream": "stdout",
       "text": [
        "alpha = 0.0125\n"
       ]
      }
     ],
     "prompt_number": 63
    },
    {
     "cell_type": "code",
     "collapsed": false,
     "input": [
      "alpha = 0.05/4\n",
      "\n",
      "data_sharing_credit_by_role = chkbx_chi_square(responses.data_sharing_credit, HOW_CREDITED_ANSWERS, responses.role)\n",
      "\n",
      "data_sharing_credit_by_role_chi2_frames = []\n",
      "for frame in jacknifed_responses:\n",
      "    data_sharing_credit_by_role_chi2_frames.append(chkbx_chi_square(frame.data_sharing_credit, HOW_CREDITED_ANSWERS, \n",
      "                                                                    populated_disciplines, validate=False))\n",
      "data_sharing_credit_by_role['changed outcomes'] = jacknife_effect_1d(data_sharing_credit_by_role_chi2_frames, \n",
      "                                                                     data_sharing_credit_by_role, alpha=alpha)\n",
      "\n",
      "display(data_sharing_credit_by_role)\n",
      "print \"alpha = \" + str(alpha)"
     ],
     "language": "python",
     "metadata": {},
     "outputs": [
      {
       "html": [
        "<div style=\"max-height:1000px;max-width:1500px;overflow:auto;\">\n",
        "<table border=\"1\" class=\"dataframe\">\n",
        "  <thead>\n",
        "    <tr style=\"text-align: right;\">\n",
        "      <th></th>\n",
        "      <th>chi2</th>\n",
        "      <th>p</th>\n",
        "      <th>df</th>\n",
        "      <th>expected_values</th>\n",
        "      <th>changed outcomes</th>\n",
        "    </tr>\n",
        "  </thead>\n",
        "  <tbody>\n",
        "    <tr>\n",
        "      <th>Acknowledgement in the paper</th>\n",
        "      <td> 11.922001</td>\n",
        "      <td> 0.017941</td>\n",
        "      <td> 4</td>\n",
        "      <td> [[25.8514056225, 15.1485943775], [17.654618473...</td>\n",
        "      <td> 0</td>\n",
        "    </tr>\n",
        "    <tr>\n",
        "      <th>Authorship on paper</th>\n",
        "      <td>  6.204855</td>\n",
        "      <td> 0.184363</td>\n",
        "      <td> 4</td>\n",
        "      <td> [[16.1365461847, 24.8634538153], [11.020080321...</td>\n",
        "      <td> 2</td>\n",
        "    </tr>\n",
        "    <tr>\n",
        "      <th>Data cited in the reference list</th>\n",
        "      <td>  2.559411</td>\n",
        "      <td> 0.634030</td>\n",
        "      <td> 4</td>\n",
        "      <td> [[30.7911646586, 10.2088353414], [21.028112449...</td>\n",
        "      <td> 0</td>\n",
        "    </tr>\n",
        "    <tr>\n",
        "      <th>Data cited informally in the text of the paper</th>\n",
        "      <td>  3.043897</td>\n",
        "      <td> 0.550506</td>\n",
        "      <td> 4</td>\n",
        "      <td> [[5.76305220884, 35.2369477912], [3.9357429718...</td>\n",
        "      <td> 0</td>\n",
        "    </tr>\n",
        "  </tbody>\n",
        "</table>\n",
        "</div>"
       ],
       "metadata": {},
       "output_type": "display_data",
       "text": [
        "                                                     chi2         p  df  \\\n",
        "Acknowledgement in the paper                    11.922001  0.017941   4   \n",
        "Authorship on paper                              6.204855  0.184363   4   \n",
        "Data cited in the reference list                 2.559411  0.634030   4   \n",
        "Data cited informally in the text of the paper   3.043897  0.550506   4   \n",
        "\n",
        "                                                                                  expected_values  \\\n",
        "Acknowledgement in the paper                    [[25.8514056225, 15.1485943775], [17.654618473...   \n",
        "Authorship on paper                             [[16.1365461847, 24.8634538153], [11.020080321...   \n",
        "Data cited in the reference list                [[30.7911646586, 10.2088353414], [21.028112449...   \n",
        "Data cited informally in the text of the paper  [[5.76305220884, 35.2369477912], [3.9357429718...   \n",
        "\n",
        "                                                changed outcomes  \n",
        "Acknowledgement in the paper                                   0  \n",
        "Authorship on paper                                            2  \n",
        "Data cited in the reference list                               0  \n",
        "Data cited informally in the text of the paper                 0  "
       ]
      },
      {
       "output_type": "stream",
       "stream": "stdout",
       "text": [
        "alpha = 0.0125\n"
       ]
      }
     ],
     "prompt_number": 65
    },
    {
     "cell_type": "code",
     "collapsed": false,
     "input": [
      "alpha = 0.05/8\n",
      "\n",
      "publish_definition_by_role = chkbx_chi_square(responses.publish_definition, DP_FEATURES, responses.role)\n",
      "\n",
      "publish_definition_by_role_chi2_frames = []\n",
      "for frame in jacknifed_responses:\n",
      "    publish_definition_by_role_chi2_frames.append(chkbx_chi_square(frame.publish_definition, DP_FEATURES, \n",
      "                                                                   responses.role, validate=False))\n",
      "publish_definition_by_role['changed outcomes'] = jacknife_effect_1d(publish_definition_by_role_chi2_frames, \n",
      "                                                                    publish_definition_by_role, alpha=alpha)\n",
      "\n",
      "display(publish_definition_by_role)\n",
      "print \"alpha = \" + str(alpha)"
     ],
     "language": "python",
     "metadata": {},
     "outputs": [
      {
       "html": [
        "<div style=\"max-height:1000px;max-width:1500px;overflow:auto;\">\n",
        "<table border=\"1\" class=\"dataframe\">\n",
        "  <thead>\n",
        "    <tr style=\"text-align: right;\">\n",
        "      <th></th>\n",
        "      <th>chi2</th>\n",
        "      <th>p</th>\n",
        "      <th>df</th>\n",
        "      <th>expected_values</th>\n",
        "      <th>changed outcomes</th>\n",
        "    </tr>\n",
        "  </thead>\n",
        "  <tbody>\n",
        "    <tr>\n",
        "      <th>A data paper (without conclusions) describes the data</th>\n",
        "      <td>  4.280058</td>\n",
        "      <td> 0.369429</td>\n",
        "      <td> 4</td>\n",
        "      <td> [[9.16666666667, 31.8333333333], [6.2601626016...</td>\n",
        "      <td>   0</td>\n",
        "    </tr>\n",
        "    <tr>\n",
        "      <th>A traditional research paper is based on the data</th>\n",
        "      <td> 14.358619</td>\n",
        "      <td> 0.006234</td>\n",
        "      <td> 4</td>\n",
        "      <td> [[17.5, 23.5], [11.9512195122, 16.0487804878],...</td>\n",
        "      <td> 148</td>\n",
        "    </tr>\n",
        "    <tr>\n",
        "      <th>Assigned a unique identifier such as a DOI</th>\n",
        "      <td>  6.621271</td>\n",
        "      <td> 0.157308</td>\n",
        "      <td> 4</td>\n",
        "      <td> [[15.8333333333, 25.1666666667], [10.813008130...</td>\n",
        "      <td>   0</td>\n",
        "    </tr>\n",
        "    <tr>\n",
        "      <th>Dataset is \"peer reviewed\"</th>\n",
        "      <td> 14.062821</td>\n",
        "      <td> 0.007097</td>\n",
        "      <td> 4</td>\n",
        "      <td> [[11.6666666667, 29.3333333333], [7.9674796748...</td>\n",
        "      <td>  69</td>\n",
        "    </tr>\n",
        "    <tr>\n",
        "      <th>Deposited in a database or repository</th>\n",
        "      <td>  5.890349</td>\n",
        "      <td> 0.207488</td>\n",
        "      <td> 4</td>\n",
        "      <td> [[22.1666666667, 18.8333333333], [15.138211382...</td>\n",
        "      <td>   0</td>\n",
        "    </tr>\n",
        "    <tr>\n",
        "      <th>Openly available without contacting the author(s)</th>\n",
        "      <td>  4.232183</td>\n",
        "      <td> 0.375494</td>\n",
        "      <td> 4</td>\n",
        "      <td> [[27.6666666667, 13.3333333333], [18.894308943...</td>\n",
        "      <td>   0</td>\n",
        "    </tr>\n",
        "    <tr>\n",
        "      <th>Packaged with a thorough description of the data</th>\n",
        "      <td>  4.214483</td>\n",
        "      <td> 0.377756</td>\n",
        "      <td> 4</td>\n",
        "      <td> [[16.1666666667, 24.8333333333], [11.040650406...</td>\n",
        "      <td>   0</td>\n",
        "    </tr>\n",
        "    <tr>\n",
        "      <th>Packaged with formal metadata describing the data (e.g. as XML)</th>\n",
        "      <td>  1.055797</td>\n",
        "      <td> 0.901221</td>\n",
        "      <td> 4</td>\n",
        "      <td> [[10.3333333333, 30.6666666667], [7.0569105691...</td>\n",
        "      <td>   0</td>\n",
        "    </tr>\n",
        "  </tbody>\n",
        "</table>\n",
        "</div>"
       ],
       "metadata": {},
       "output_type": "display_data",
       "text": [
        "                                                                      chi2  \\\n",
        "A data paper (without conclusions) describes the data             4.280058   \n",
        "A traditional research paper is based on the data                14.358619   \n",
        "Assigned a unique identifier such as a DOI                        6.621271   \n",
        "Dataset is \"peer reviewed\"                                       14.062821   \n",
        "Deposited in a database or repository                             5.890349   \n",
        "Openly available without contacting the author(s)                 4.232183   \n",
        "Packaged with a thorough description of the data                  4.214483   \n",
        "Packaged with formal metadata describing the data (e.g. as XML)   1.055797   \n",
        "\n",
        "                                                                        p  df  \\\n",
        "A data paper (without conclusions) describes the data            0.369429   4   \n",
        "A traditional research paper is based on the data                0.006234   4   \n",
        "Assigned a unique identifier such as a DOI                       0.157308   4   \n",
        "Dataset is \"peer reviewed\"                                       0.007097   4   \n",
        "Deposited in a database or repository                            0.207488   4   \n",
        "Openly available without contacting the author(s)                0.375494   4   \n",
        "Packaged with a thorough description of the data                 0.377756   4   \n",
        "Packaged with formal metadata describing the data (e.g. as XML)  0.901221   4   \n",
        "\n",
        "                                                                                                   expected_values  \\\n",
        "A data paper (without conclusions) describes the data            [[9.16666666667, 31.8333333333], [6.2601626016...   \n",
        "A traditional research paper is based on the data                [[17.5, 23.5], [11.9512195122, 16.0487804878],...   \n",
        "Assigned a unique identifier such as a DOI                       [[15.8333333333, 25.1666666667], [10.813008130...   \n",
        "Dataset is \"peer reviewed\"                                       [[11.6666666667, 29.3333333333], [7.9674796748...   \n",
        "Deposited in a database or repository                            [[22.1666666667, 18.8333333333], [15.138211382...   \n",
        "Openly available without contacting the author(s)                [[27.6666666667, 13.3333333333], [18.894308943...   \n",
        "Packaged with a thorough description of the data                 [[16.1666666667, 24.8333333333], [11.040650406...   \n",
        "Packaged with formal metadata describing the data (e.g. as XML)  [[10.3333333333, 30.6666666667], [7.0569105691...   \n",
        "\n",
        "                                                                 changed outcomes  \n",
        "A data paper (without conclusions) describes the data                           0  \n",
        "A traditional research paper is based on the data                             148  \n",
        "Assigned a unique identifier such as a DOI                                      0  \n",
        "Dataset is \"peer reviewed\"                                                     69  \n",
        "Deposited in a database or repository                                           0  \n",
        "Openly available without contacting the author(s)                               0  \n",
        "Packaged with a thorough description of the data                                0  \n",
        "Packaged with formal metadata describing the data (e.g. as XML)                 0  "
       ]
      },
      {
       "output_type": "stream",
       "stream": "stdout",
       "text": [
        "alpha = 0.00625\n"
       ]
      }
     ],
     "prompt_number": 67
    },
    {
     "cell_type": "code",
     "collapsed": false,
     "input": [
      "alpha = 0.05/6\n",
      "\n",
      "peer_review_definition_by_role = chkbx_chi_square(responses.peer_review_definition, PR_FEATURES, responses.role)\n",
      "\n",
      "peer_review_definition_by_role_chi2_frames = []\n",
      "for frame in jacknifed_responses:\n",
      "    peer_review_definition_by_role_chi2_frames.append(chkbx_chi_square(frame.peer_review_definition, PR_FEATURES, \n",
      "                                                                       responses.role, validate=False))\n",
      "peer_review_definition_by_role['changed outcomes'] = jacknife_effect_1d(peer_review_definition_by_role_chi2_frames, \n",
      "                                                                        peer_review_definition_by_role, alpha=alpha)\n",
      "\n",
      "display(peer_review_definition_by_role)\n",
      "print \"alpha = \" + str(alpha)"
     ],
     "language": "python",
     "metadata": {},
     "outputs": [
      {
       "html": [
        "<div style=\"max-height:1000px;max-width:1500px;overflow:auto;\">\n",
        "<table border=\"1\" class=\"dataframe\">\n",
        "  <thead>\n",
        "    <tr style=\"text-align: right;\">\n",
        "      <th></th>\n",
        "      <th>chi2</th>\n",
        "      <th>p</th>\n",
        "      <th>df</th>\n",
        "      <th>expected_values</th>\n",
        "      <th>changed outcomes</th>\n",
        "    </tr>\n",
        "  </thead>\n",
        "  <tbody>\n",
        "    <tr>\n",
        "      <th>Collection and processing methods were evaluated</th>\n",
        "      <td> 3.634805</td>\n",
        "      <td> 0.457679</td>\n",
        "      <td> 4</td>\n",
        "      <td> [[36.9672131148, 4.03278688525], [23.442622950...</td>\n",
        "      <td> 0</td>\n",
        "    </tr>\n",
        "    <tr>\n",
        "      <th>Descriptive text is thorough enough to use or replicate the dataset</th>\n",
        "      <td> 2.006652</td>\n",
        "      <td> 0.734535</td>\n",
        "      <td> 4</td>\n",
        "      <td> [[32.9344262295, 8.06557377049], [20.885245901...</td>\n",
        "      <td> 0</td>\n",
        "    </tr>\n",
        "    <tr>\n",
        "      <th>Necessary metadata is standardized (e.g. in XML)</th>\n",
        "      <td> 4.889011</td>\n",
        "      <td> 0.298876</td>\n",
        "      <td> 4</td>\n",
        "      <td> [[15.7950819672, 25.2049180328], [10.016393442...</td>\n",
        "      <td> 0</td>\n",
        "    </tr>\n",
        "    <tr>\n",
        "      <th>Novelty/impact considered</th>\n",
        "      <td> 5.330965</td>\n",
        "      <td> 0.254992</td>\n",
        "      <td> 4</td>\n",
        "      <td> [[8.90573770492, 32.0942622951], [5.6475409836...</td>\n",
        "      <td> 0</td>\n",
        "    </tr>\n",
        "    <tr>\n",
        "      <th>Plausibility considered based on area expertise</th>\n",
        "      <td> 4.034804</td>\n",
        "      <td> 0.401316</td>\n",
        "      <td> 4</td>\n",
        "      <td> [[25.2049180328, 15.7950819672], [15.983606557...</td>\n",
        "      <td> 0</td>\n",
        "    </tr>\n",
        "    <tr>\n",
        "      <th>Technical details have been checked (e.g. no missing files no missing values)</th>\n",
        "      <td> 1.356123</td>\n",
        "      <td> 0.851784</td>\n",
        "      <td> 4</td>\n",
        "      <td> [[28.9016393443, 12.0983606557], [18.327868852...</td>\n",
        "      <td> 0</td>\n",
        "    </tr>\n",
        "  </tbody>\n",
        "</table>\n",
        "</div>"
       ],
       "metadata": {},
       "output_type": "display_data",
       "text": [
        "                                                                                   chi2  \\\n",
        "Collection and processing methods were evaluated                               3.634805   \n",
        "Descriptive text is thorough enough to use or replicate the dataset            2.006652   \n",
        "Necessary metadata is standardized (e.g. in XML)                               4.889011   \n",
        "Novelty/impact considered                                                      5.330965   \n",
        "Plausibility considered based on area expertise                                4.034804   \n",
        "Technical details have been checked (e.g. no missing files no missing values)  1.356123   \n",
        "\n",
        "                                                                                      p  \\\n",
        "Collection and processing methods were evaluated                               0.457679   \n",
        "Descriptive text is thorough enough to use or replicate the dataset            0.734535   \n",
        "Necessary metadata is standardized (e.g. in XML)                               0.298876   \n",
        "Novelty/impact considered                                                      0.254992   \n",
        "Plausibility considered based on area expertise                                0.401316   \n",
        "Technical details have been checked (e.g. no missing files no missing values)  0.851784   \n",
        "\n",
        "                                                                               df  \\\n",
        "Collection and processing methods were evaluated                                4   \n",
        "Descriptive text is thorough enough to use or replicate the dataset             4   \n",
        "Necessary metadata is standardized (e.g. in XML)                                4   \n",
        "Novelty/impact considered                                                       4   \n",
        "Plausibility considered based on area expertise                                 4   \n",
        "Technical details have been checked (e.g. no missing files no missing values)   4   \n",
        "\n",
        "                                                                                                                 expected_values  \\\n",
        "Collection and processing methods were evaluated                               [[36.9672131148, 4.03278688525], [23.442622950...   \n",
        "Descriptive text is thorough enough to use or replicate the dataset            [[32.9344262295, 8.06557377049], [20.885245901...   \n",
        "Necessary metadata is standardized (e.g. in XML)                               [[15.7950819672, 25.2049180328], [10.016393442...   \n",
        "Novelty/impact considered                                                      [[8.90573770492, 32.0942622951], [5.6475409836...   \n",
        "Plausibility considered based on area expertise                                [[25.2049180328, 15.7950819672], [15.983606557...   \n",
        "Technical details have been checked (e.g. no missing files no missing values)  [[28.9016393443, 12.0983606557], [18.327868852...   \n",
        "\n",
        "                                                                               changed outcomes  \n",
        "Collection and processing methods were evaluated                                              0  \n",
        "Descriptive text is thorough enough to use or replicate the dataset                           0  \n",
        "Necessary metadata is standardized (e.g. in XML)                                              0  \n",
        "Novelty/impact considered                                                                     0  \n",
        "Plausibility considered based on area expertise                                               0  \n",
        "Technical details have been checked (e.g. no missing files no missing values)                 0  "
       ]
      },
      {
       "output_type": "stream",
       "stream": "stdout",
       "text": [
        "alpha = 0.00833333333333\n"
       ]
      }
     ],
     "prompt_number": 69
    },
    {
     "cell_type": "code",
     "collapsed": false,
     "input": [
      "def jacknifed_fisher_exact(question, answers):\n",
      "         \n",
      "    checkbox_responses = expand_checkbox(question.dropna(), answers)\n",
      "\n",
      "    jk_responses = jacknife(checkbox_responses)\n",
      "\n",
      "    jk_results = [combinatorial_fisher_exact(frame) for frame in jk_responses]\n",
      "\n",
      "    #jk_results_dict = dict(zip(question.index, jk_results))\n",
      "    #jk_result_panel = pd.Panel(jk_results_dict)\n",
      "    #return jk_result_panel\n",
      "\n",
      "    return jk_results\n",
      "\n",
      "\n",
      "def jacknife_fisher_exact_effect(jacknifed_frames, reference_frame, alpha=0.05, statistic='p-value'):\n",
      "        reference_significance = reference_frame.xs(statistic, level=1, axis=1).apply(lambda x: x < alpha)\n",
      "        \n",
      "        #display(jacknifed_frames)\n",
      "        sig_frames = [frame.xs(statistic, level=1, axis=1).apply(lambda x: x < alpha) for frame in jacknifed_frames]\n",
      "        filter_frames = [frame != reference_significance for frame in sig_frames]\n",
      "        filter_panel = pd.Panel(dict(zip(np.arange(0,len(filter_frames)-1), filter_frames)))\n",
      "        return filter_panel.sum(axis=0)\n",
      "    \n",
      "def jacknife_effect_1d(jacknifed_results_frames, reference_frame, statistic='p', alpha=0.05):\n",
      "        # apply significance threshold to the reference frame\n",
      "        reference_significance = reference_frame.xs(statistic, axis=1).apply(lambda x: x < alpha)\n",
      "        \n",
      "        # apply significance threshold to each jacknifed frame\n",
      "        sig_frames = [frame.xs(statistic, axis=1).apply(lambda x: x < alpha) for frame in jacknifed_results_frames]\n",
      "        \n",
      "        # compare jacknifed frames to reference\n",
      "        filter_frames = [frame != reference_significance for frame in sig_frames]\n",
      "                        \n",
      "        # build panel of filter_frames\n",
      "        filter_results = pd.DataFrame.from_dict(dict(zip(np.arange(0,len(filter_frames)-1), filter_frames)))\n",
      "        \n",
      "        # sum differences for each cell and return\n",
      "        return filter_results.sum(axis=1)"
     ],
     "language": "python",
     "metadata": {},
     "outputs": [],
     "prompt_number": 34
    },
    {
     "cell_type": "heading",
     "level": 3,
     "metadata": {},
     "source": [
      "The results reported in Figure 4. are at least minimally robust."
     ]
    },
    {
     "cell_type": "markdown",
     "metadata": {},
     "source": [
      "The Fisher's exact tests used to detect relationships betwen items in Figure 4. were repeated with each respondent removed one-at-a-time.\n",
      "In no case did this change the binary outcome of the test.\n"
     ]
    },
    {
     "cell_type": "code",
     "collapsed": false,
     "input": [
      "publish_fe = checkbox_fisher_exact(responses.publish_definition, DP_FEATURES)\n",
      "jk_publish_fe = jacknifed_fisher_exact(responses.publish_definition, DP_FEATURES)\n",
      "display(jacknife_fisher_exact_effect(jk_publish_fe, publish_fe, alpha=0.05/28))"
     ],
     "language": "python",
     "metadata": {},
     "outputs": [
      {
       "html": [
        "<div style=\"max-height:1000px;max-width:1500px;overflow:auto;\">\n",
        "<table border=\"1\" class=\"dataframe\">\n",
        "  <thead>\n",
        "    <tr style=\"text-align: right;\">\n",
        "      <th></th>\n",
        "      <th>A data paper (without conclusions) describes the data</th>\n",
        "      <th>A traditional research paper is based on the data</th>\n",
        "      <th>Assigned a unique identifier such as a DOI</th>\n",
        "      <th>Dataset is \"peer reviewed\"</th>\n",
        "      <th>Deposited in a database or repository</th>\n",
        "      <th>Openly available without contacting the author(s)</th>\n",
        "      <th>Packaged with a thorough description of the data</th>\n",
        "      <th>Packaged with formal metadata describing the data (e.g. as XML)</th>\n",
        "    </tr>\n",
        "  </thead>\n",
        "  <tbody>\n",
        "    <tr>\n",
        "      <th>A data paper (without conclusions) describes the data</th>\n",
        "      <td> 0</td>\n",
        "      <td> 0</td>\n",
        "      <td> 0</td>\n",
        "      <td> 0</td>\n",
        "      <td> 0</td>\n",
        "      <td> 0</td>\n",
        "      <td> 0</td>\n",
        "      <td> 0</td>\n",
        "    </tr>\n",
        "    <tr>\n",
        "      <th>A traditional research paper is based on the data</th>\n",
        "      <td> 0</td>\n",
        "      <td> 0</td>\n",
        "      <td> 0</td>\n",
        "      <td> 0</td>\n",
        "      <td> 0</td>\n",
        "      <td> 0</td>\n",
        "      <td> 0</td>\n",
        "      <td> 0</td>\n",
        "    </tr>\n",
        "    <tr>\n",
        "      <th>Assigned a unique identifier such as a DOI</th>\n",
        "      <td> 0</td>\n",
        "      <td> 0</td>\n",
        "      <td> 0</td>\n",
        "      <td> 0</td>\n",
        "      <td> 0</td>\n",
        "      <td> 0</td>\n",
        "      <td> 0</td>\n",
        "      <td> 0</td>\n",
        "    </tr>\n",
        "    <tr>\n",
        "      <th>Dataset is \"peer reviewed\"</th>\n",
        "      <td> 0</td>\n",
        "      <td> 0</td>\n",
        "      <td> 0</td>\n",
        "      <td> 0</td>\n",
        "      <td> 0</td>\n",
        "      <td> 0</td>\n",
        "      <td> 0</td>\n",
        "      <td> 0</td>\n",
        "    </tr>\n",
        "    <tr>\n",
        "      <th>Deposited in a database or repository</th>\n",
        "      <td> 0</td>\n",
        "      <td> 0</td>\n",
        "      <td> 0</td>\n",
        "      <td> 0</td>\n",
        "      <td> 0</td>\n",
        "      <td> 0</td>\n",
        "      <td> 0</td>\n",
        "      <td> 0</td>\n",
        "    </tr>\n",
        "    <tr>\n",
        "      <th>Openly available without contacting the author(s)</th>\n",
        "      <td> 0</td>\n",
        "      <td> 0</td>\n",
        "      <td> 0</td>\n",
        "      <td> 0</td>\n",
        "      <td> 0</td>\n",
        "      <td> 0</td>\n",
        "      <td> 0</td>\n",
        "      <td> 0</td>\n",
        "    </tr>\n",
        "    <tr>\n",
        "      <th>Packaged with a thorough description of the data</th>\n",
        "      <td> 0</td>\n",
        "      <td> 0</td>\n",
        "      <td> 0</td>\n",
        "      <td> 0</td>\n",
        "      <td> 0</td>\n",
        "      <td> 0</td>\n",
        "      <td> 0</td>\n",
        "      <td> 0</td>\n",
        "    </tr>\n",
        "    <tr>\n",
        "      <th>Packaged with formal metadata describing the data (e.g. as XML)</th>\n",
        "      <td> 0</td>\n",
        "      <td> 0</td>\n",
        "      <td> 0</td>\n",
        "      <td> 0</td>\n",
        "      <td> 0</td>\n",
        "      <td> 0</td>\n",
        "      <td> 0</td>\n",
        "      <td> 0</td>\n",
        "    </tr>\n",
        "  </tbody>\n",
        "</table>\n",
        "</div>"
       ],
       "metadata": {},
       "output_type": "display_data",
       "text": [
        "                                                                 A data paper (without conclusions) describes the data  \\\n",
        "A data paper (without conclusions) describes the data                                                            0       \n",
        "A traditional research paper is based on the data                                                                0       \n",
        "Assigned a unique identifier such as a DOI                                                                       0       \n",
        "Dataset is \"peer reviewed\"                                                                                       0       \n",
        "Deposited in a database or repository                                                                            0       \n",
        "Openly available without contacting the author(s)                                                                0       \n",
        "Packaged with a thorough description of the data                                                                 0       \n",
        "Packaged with formal metadata describing the data (e.g. as XML)                                                  0       \n",
        "\n",
        "                                                                 A traditional research paper is based on the data  \\\n",
        "A data paper (without conclusions) describes the data                                                            0   \n",
        "A traditional research paper is based on the data                                                                0   \n",
        "Assigned a unique identifier such as a DOI                                                                       0   \n",
        "Dataset is \"peer reviewed\"                                                                                       0   \n",
        "Deposited in a database or repository                                                                            0   \n",
        "Openly available without contacting the author(s)                                                                0   \n",
        "Packaged with a thorough description of the data                                                                 0   \n",
        "Packaged with formal metadata describing the data (e.g. as XML)                                                  0   \n",
        "\n",
        "                                                                 Assigned a unique identifier such as a DOI  \\\n",
        "A data paper (without conclusions) describes the data                                                     0   \n",
        "A traditional research paper is based on the data                                                         0   \n",
        "Assigned a unique identifier such as a DOI                                                                0   \n",
        "Dataset is \"peer reviewed\"                                                                                0   \n",
        "Deposited in a database or repository                                                                     0   \n",
        "Openly available without contacting the author(s)                                                         0   \n",
        "Packaged with a thorough description of the data                                                          0   \n",
        "Packaged with formal metadata describing the data (e.g. as XML)                                           0   \n",
        "\n",
        "                                                                 Dataset is \"peer reviewed\"  \\\n",
        "A data paper (without conclusions) describes the data                                     0   \n",
        "A traditional research paper is based on the data                                         0   \n",
        "Assigned a unique identifier such as a DOI                                                0   \n",
        "Dataset is \"peer reviewed\"                                                                0   \n",
        "Deposited in a database or repository                                                     0   \n",
        "Openly available without contacting the author(s)                                         0   \n",
        "Packaged with a thorough description of the data                                          0   \n",
        "Packaged with formal metadata describing the data (e.g. as XML)                           0   \n",
        "\n",
        "                                                                 Deposited in a database or repository  \\\n",
        "A data paper (without conclusions) describes the data                                                0   \n",
        "A traditional research paper is based on the data                                                    0   \n",
        "Assigned a unique identifier such as a DOI                                                           0   \n",
        "Dataset is \"peer reviewed\"                                                                           0   \n",
        "Deposited in a database or repository                                                                0   \n",
        "Openly available without contacting the author(s)                                                    0   \n",
        "Packaged with a thorough description of the data                                                     0   \n",
        "Packaged with formal metadata describing the data (e.g. as XML)                                      0   \n",
        "\n",
        "                                                                 Openly available without contacting the author(s)  \\\n",
        "A data paper (without conclusions) describes the data                                                            0   \n",
        "A traditional research paper is based on the data                                                                0   \n",
        "Assigned a unique identifier such as a DOI                                                                       0   \n",
        "Dataset is \"peer reviewed\"                                                                                       0   \n",
        "Deposited in a database or repository                                                                            0   \n",
        "Openly available without contacting the author(s)                                                                0   \n",
        "Packaged with a thorough description of the data                                                                 0   \n",
        "Packaged with formal metadata describing the data (e.g. as XML)                                                  0   \n",
        "\n",
        "                                                                 Packaged with a thorough description of the data  \\\n",
        "A data paper (without conclusions) describes the data                                                           0   \n",
        "A traditional research paper is based on the data                                                               0   \n",
        "Assigned a unique identifier such as a DOI                                                                      0   \n",
        "Dataset is \"peer reviewed\"                                                                                      0   \n",
        "Deposited in a database or repository                                                                           0   \n",
        "Openly available without contacting the author(s)                                                               0   \n",
        "Packaged with a thorough description of the data                                                                0   \n",
        "Packaged with formal metadata describing the data (e.g. as XML)                                                 0   \n",
        "\n",
        "                                                                 Packaged with formal metadata describing the data (e.g. as XML)  \n",
        "A data paper (without conclusions) describes the data                                                            0                \n",
        "A traditional research paper is based on the data                                                                0                \n",
        "Assigned a unique identifier such as a DOI                                                                       0                \n",
        "Dataset is \"peer reviewed\"                                                                                       0                \n",
        "Deposited in a database or repository                                                                            0                \n",
        "Openly available without contacting the author(s)                                                                0                \n",
        "Packaged with a thorough description of the data                                                                 0                \n",
        "Packaged with formal metadata describing the data (e.g. as XML)                                                  0                "
       ]
      }
     ],
     "prompt_number": 213
    },
    {
     "cell_type": "markdown",
     "metadata": {},
     "source": [
      "Reported values show the number of times the p-value changed from significant to insignificant or vice-versa."
     ]
    },
    {
     "cell_type": "code",
     "collapsed": false,
     "input": [
      "pr_fe = checkbox_fisher_exact(responses.peer_review_definition, PR_FEATURES)\n",
      "jk_pr_fe = jacknifed_fisher_exact(responses.peer_review_definition, PR_FEATURES)\n",
      "display(jacknife_fisher_exact_effect(jk_pr_fe, pr_fe, alpha=0.05/15))"
     ],
     "language": "python",
     "metadata": {},
     "outputs": [
      {
       "html": [
        "<div style=\"max-height:1000px;max-width:1500px;overflow:auto;\">\n",
        "<table border=\"1\" class=\"dataframe\">\n",
        "  <thead>\n",
        "    <tr style=\"text-align: right;\">\n",
        "      <th></th>\n",
        "      <th>Collection and processing methods were evaluated</th>\n",
        "      <th>Descriptive text is thorough enough to use or replicate the dataset</th>\n",
        "      <th>Necessary metadata is standardized (e.g. in XML)</th>\n",
        "      <th>Novelty/impact considered</th>\n",
        "      <th>Plausibility considered based on area expertise</th>\n",
        "      <th>Technical details have been checked (e.g. no missing files no missing values)</th>\n",
        "    </tr>\n",
        "  </thead>\n",
        "  <tbody>\n",
        "    <tr>\n",
        "      <th>Collection and processing methods were evaluated</th>\n",
        "      <td> 0</td>\n",
        "      <td> 0</td>\n",
        "      <td> 0</td>\n",
        "      <td> 0</td>\n",
        "      <td> 0</td>\n",
        "      <td> 0</td>\n",
        "    </tr>\n",
        "    <tr>\n",
        "      <th>Descriptive text is thorough enough to use or replicate the dataset</th>\n",
        "      <td> 0</td>\n",
        "      <td> 0</td>\n",
        "      <td> 0</td>\n",
        "      <td> 0</td>\n",
        "      <td> 0</td>\n",
        "      <td> 0</td>\n",
        "    </tr>\n",
        "    <tr>\n",
        "      <th>Necessary metadata is standardized (e.g. in XML)</th>\n",
        "      <td> 0</td>\n",
        "      <td> 0</td>\n",
        "      <td> 0</td>\n",
        "      <td> 0</td>\n",
        "      <td> 0</td>\n",
        "      <td> 0</td>\n",
        "    </tr>\n",
        "    <tr>\n",
        "      <th>Novelty/impact considered</th>\n",
        "      <td> 0</td>\n",
        "      <td> 0</td>\n",
        "      <td> 0</td>\n",
        "      <td> 0</td>\n",
        "      <td> 0</td>\n",
        "      <td> 0</td>\n",
        "    </tr>\n",
        "    <tr>\n",
        "      <th>Plausibility considered based on area expertise</th>\n",
        "      <td> 0</td>\n",
        "      <td> 0</td>\n",
        "      <td> 0</td>\n",
        "      <td> 0</td>\n",
        "      <td> 0</td>\n",
        "      <td> 0</td>\n",
        "    </tr>\n",
        "    <tr>\n",
        "      <th>Technical details have been checked (e.g. no missing files no missing values)</th>\n",
        "      <td> 0</td>\n",
        "      <td> 0</td>\n",
        "      <td> 0</td>\n",
        "      <td> 0</td>\n",
        "      <td> 0</td>\n",
        "      <td> 0</td>\n",
        "    </tr>\n",
        "  </tbody>\n",
        "</table>\n",
        "</div>"
       ],
       "metadata": {},
       "output_type": "display_data",
       "text": [
        "                                                                               Collection and processing methods were evaluated  \\\n",
        "Collection and processing methods were evaluated                                                                              0   \n",
        "Descriptive text is thorough enough to use or replicate the dataset                                                           0   \n",
        "Necessary metadata is standardized (e.g. in XML)                                                                              0   \n",
        "Novelty/impact considered                                                                                                     0   \n",
        "Plausibility considered based on area expertise                                                                               0   \n",
        "Technical details have been checked (e.g. no missing files no missing values)                                                 0   \n",
        "\n",
        "                                                                               Descriptive text is thorough enough to use or replicate the dataset  \\\n",
        "Collection and processing methods were evaluated                                                                               0                     \n",
        "Descriptive text is thorough enough to use or replicate the dataset                                                            0                     \n",
        "Necessary metadata is standardized (e.g. in XML)                                                                               0                     \n",
        "Novelty/impact considered                                                                                                      0                     \n",
        "Plausibility considered based on area expertise                                                                                0                     \n",
        "Technical details have been checked (e.g. no missing files no missing values)                                                  0                     \n",
        "\n",
        "                                                                               Necessary metadata is standardized (e.g. in XML)  \\\n",
        "Collection and processing methods were evaluated                                                                              0   \n",
        "Descriptive text is thorough enough to use or replicate the dataset                                                           0   \n",
        "Necessary metadata is standardized (e.g. in XML)                                                                              0   \n",
        "Novelty/impact considered                                                                                                     0   \n",
        "Plausibility considered based on area expertise                                                                               0   \n",
        "Technical details have been checked (e.g. no missing files no missing values)                                                 0   \n",
        "\n",
        "                                                                               Novelty/impact considered  \\\n",
        "Collection and processing methods were evaluated                                                       0   \n",
        "Descriptive text is thorough enough to use or replicate the dataset                                    0   \n",
        "Necessary metadata is standardized (e.g. in XML)                                                       0   \n",
        "Novelty/impact considered                                                                              0   \n",
        "Plausibility considered based on area expertise                                                        0   \n",
        "Technical details have been checked (e.g. no missing files no missing values)                          0   \n",
        "\n",
        "                                                                               Plausibility considered based on area expertise  \\\n",
        "Collection and processing methods were evaluated                                                                             0   \n",
        "Descriptive text is thorough enough to use or replicate the dataset                                                          0   \n",
        "Necessary metadata is standardized (e.g. in XML)                                                                             0   \n",
        "Novelty/impact considered                                                                                                    0   \n",
        "Plausibility considered based on area expertise                                                                              0   \n",
        "Technical details have been checked (e.g. no missing files no missing values)                                                0   \n",
        "\n",
        "                                                                               Technical details have been checked (e.g. no missing files no missing values)  \n",
        "Collection and processing methods were evaluated                                                                               0                              \n",
        "Descriptive text is thorough enough to use or replicate the dataset                                                            0                              \n",
        "Necessary metadata is standardized (e.g. in XML)                                                                               0                              \n",
        "Novelty/impact considered                                                                                                      0                              \n",
        "Plausibility considered based on area expertise                                                                                0                              \n",
        "Technical details have been checked (e.g. no missing files no missing values)                                                  0                              "
       ]
      }
     ],
     "prompt_number": 214
    },
    {
     "cell_type": "markdown",
     "metadata": {},
     "source": [
      "Reported values show the number of times the p-value changed from significant to insignificant or vice-versa."
     ]
    },
    {
     "cell_type": "code",
     "collapsed": false,
     "input": [
      "def or_power(p_yes, p_no, n_yes, n_no, alpha=0.05):\n",
      "\n",
      "    kappa= n_yes/n_no\n",
      "    odds_ratio=(p_yes*(1-p_no))/(p_no*(1-p_yes))\n",
      "    \n",
      "    z=log(odds_ratio)*sqrt(n_no)/sqrt(1/(kappa*p_yes*(1-p_yes))+1/(p_no*(1-p_no)))\n",
      "    power=pnorm(z-qnorm(1-alpha/2))+pnorm(-z-qnorm(1-alpha/2))"
     ],
     "language": "python",
     "metadata": {},
     "outputs": [],
     "prompt_number": 40
    },
    {
     "cell_type": "code",
     "collapsed": false,
     "input": [
      "alpha = 0.05/6\n",
      "\n",
      "peer_review_definition_by_expectation = chbx_fisher_exact(responses.peer_review_definition, \n",
      "                                                          PR_FEATURES, dp_checkbox['Dataset is \"peer reviewed\"'])\n",
      "\n",
      "peer_review_definition_by_expectation_fe_frames = []\n",
      "for frame in jacknifed_responses:\n",
      "    peer_review_definition_by_expectation_fe_frames.append(chbx_fisher_exact(frame.peer_review_definition, PR_FEATURES, \n",
      "                                                                       dp_checkbox['Dataset is \"peer reviewed\"']))\n",
      "peer_review_definition_by_expectation['changed outcomes'] = jacknife_effect_1d(peer_review_definition_by_expectation_fe_frames, \n",
      "                                                                               peer_review_definition_by_expectation, \n",
      "                                                                               alpha=alpha)\n",
      "\n",
      "display(peer_review_definition_by_expectation)\n",
      "print \"alpha = \" + str(alpha)"
     ],
     "language": "python",
     "metadata": {},
     "outputs": [
      {
       "html": [
        "<div style=\"max-height:1000px;max-width:1500px;overflow:auto;\">\n",
        "<table border=\"1\" class=\"dataframe\">\n",
        "  <thead>\n",
        "    <tr style=\"text-align: right;\">\n",
        "      <th></th>\n",
        "      <th>OR</th>\n",
        "      <th>p</th>\n",
        "      <th>changed outcomes</th>\n",
        "    </tr>\n",
        "  </thead>\n",
        "  <tbody>\n",
        "    <tr>\n",
        "      <th>Collection and processing methods were evaluated</th>\n",
        "      <td> 0.200535</td>\n",
        "      <td> 0.017611</td>\n",
        "      <td>  2</td>\n",
        "    </tr>\n",
        "    <tr>\n",
        "      <th>Descriptive text is thorough enough to use or replicate the dataset</th>\n",
        "      <td> 0.176309</td>\n",
        "      <td> 0.000289</td>\n",
        "      <td>  0</td>\n",
        "    </tr>\n",
        "    <tr>\n",
        "      <th>Necessary metadata is standardized (e.g. in XML)</th>\n",
        "      <td> 0.585412</td>\n",
        "      <td> 0.079392</td>\n",
        "      <td>  0</td>\n",
        "    </tr>\n",
        "    <tr>\n",
        "      <th>Novelty/impact considered</th>\n",
        "      <td> 0.414412</td>\n",
        "      <td> 0.009154</td>\n",
        "      <td>  0</td>\n",
        "    </tr>\n",
        "    <tr>\n",
        "      <th>Plausibility considered based on area expertise</th>\n",
        "      <td> 0.437247</td>\n",
        "      <td> 0.008728</td>\n",
        "      <td> 18</td>\n",
        "    </tr>\n",
        "    <tr>\n",
        "      <th>Technical details have been checked (e.g. no missing files no missing values)</th>\n",
        "      <td> 0.436812</td>\n",
        "      <td> 0.019529</td>\n",
        "      <td>  0</td>\n",
        "    </tr>\n",
        "  </tbody>\n",
        "</table>\n",
        "</div>"
       ],
       "metadata": {},
       "output_type": "display_data",
       "text": [
        "                                                                                     OR  \\\n",
        "Collection and processing methods were evaluated                               0.200535   \n",
        "Descriptive text is thorough enough to use or replicate the dataset            0.176309   \n",
        "Necessary metadata is standardized (e.g. in XML)                               0.585412   \n",
        "Novelty/impact considered                                                      0.414412   \n",
        "Plausibility considered based on area expertise                                0.437247   \n",
        "Technical details have been checked (e.g. no missing files no missing values)  0.436812   \n",
        "\n",
        "                                                                                      p  \\\n",
        "Collection and processing methods were evaluated                               0.017611   \n",
        "Descriptive text is thorough enough to use or replicate the dataset            0.000289   \n",
        "Necessary metadata is standardized (e.g. in XML)                               0.079392   \n",
        "Novelty/impact considered                                                      0.009154   \n",
        "Plausibility considered based on area expertise                                0.008728   \n",
        "Technical details have been checked (e.g. no missing files no missing values)  0.019529   \n",
        "\n",
        "                                                                               changed outcomes  \n",
        "Collection and processing methods were evaluated                                              2  \n",
        "Descriptive text is thorough enough to use or replicate the dataset                           0  \n",
        "Necessary metadata is standardized (e.g. in XML)                                              0  \n",
        "Novelty/impact considered                                                                     0  \n",
        "Plausibility considered based on area expertise                                              18  \n",
        "Technical details have been checked (e.g. no missing files no missing values)                 0  "
       ]
      },
      {
       "output_type": "stream",
       "stream": "stdout",
       "text": [
        "alpha = 0.00833333333333\n"
       ]
      }
     ],
     "prompt_number": 80
    },
    {
     "cell_type": "code",
     "collapsed": false,
     "input": [
      "alpha = 0.05\n",
      "\n",
      "boxes_checked = pd.DataFrame(pr_checkbox.sum(axis=1), columns=['number_checked'])\n",
      "boxes_checked['included_in_publication'] = dp_checkbox['Dataset is \"peer reviewed\"']\n",
      "\n",
      "pr_def_sum_table = pd.concat([boxes_checked[boxes_checked['included_in_publication'] == False]['number_checked'].value_counts(),\n",
      "                              boxes_checked[boxes_checked['included_in_publication'] == True]['number_checked'].value_counts()],\n",
      "                             axis=1, keys=[False, True])\n",
      "pr_def_sum_table = pr_def_sum_table.fillna(value=0).T\n",
      "\n",
      "pr_def_sum_table.T.plot(kind='bar', color=[COLORS[2],COLORS[4]], grid='off')\n",
      "\n",
      "chi2_results = pd.Series(sps.chi2_contingency(pr_def_sum_table.as_matrix()), index = ['chi2', 'p', 'df', 'expected_vals'])\n",
      "\n",
      "display(chi2_results)\n",
      "print \"alpha = \" + str(alpha)"
     ],
     "language": "python",
     "metadata": {},
     "outputs": [
      {
       "metadata": {},
       "output_type": "display_data",
       "text": [
        "chi2                                                      25.24516\n",
        "p                                                     0.0003075431\n",
        "df                                                               6\n",
        "expected_vals    [[4.26446280992, 10.6611570248, 21.3223140496,...\n",
        "dtype: object"
       ]
      },
      {
       "output_type": "stream",
       "stream": "stdout",
       "text": [
        "alpha = 0.05\n"
       ]
      },
      {
       "metadata": {},
       "output_type": "display_data",
       "png": "[encoded data removed]",
       "text": [
        "<matplotlib.figure.Figure at 0x114083350>"
       ]
      }
     ],
     "prompt_number": 233
    },
    {
     "cell_type": "code",
     "collapsed": false,
     "input": [
      "i=0\n",
      "boxes_checked_jacknife = jacknife(boxes_checked)\n",
      "boxes_checked_chi2_series = pd.Series()\n",
      "\n",
      "for frame in boxes_checked_jacknife:\n",
      "    pr_sum_table = pd.concat([frame[frame['included_in_publication'] == False]['number_checked'].value_counts(),\n",
      "                              frame[frame['included_in_publication'] == True]['number_checked'].value_counts()],\n",
      "                             axis=1, keys=[False, True])\n",
      "    pr_sum_table = pr_sum_table.fillna(value=0).T\n",
      "    chi2, jk_p, df, expected = sps.chi2_contingency(pr_sum_table.as_matrix())\n",
      "    boxes_checked_chi2_series = boxes_checked_chi2_series.append(pd.Series(jk_p <= alpha, index=[i]), verify_integrity=True)\n",
      "    i += 1\n",
      "\n",
      "    \n",
      "display(sum(boxes_checked_chi2_series != significant))"
     ],
     "language": "python",
     "metadata": {},
     "outputs": [
      {
       "metadata": {},
       "output_type": "display_data",
       "text": [
        "0"
       ]
      }
     ],
     "prompt_number": 218
    },
    {
     "cell_type": "code",
     "collapsed": false,
     "input": [
      "RESEARCHER_VALUE = [\"traditional_paper_value\",\n",
      "                    \"data_paper_pr_value\",\n",
      "                    \"data_paper_npr_value\",\n",
      "                    \"dataset_pr_value\",\n",
      "                    \"dataset_npr_value\"] \n",
      "\n",
      "\n",
      "RESEARCHER_VALUE_SEQUENCE = [\"A great deal\",\n",
      "                             \"Significant\",\n",
      "                             \"Some\",\n",
      "                             \"A small amount\",\n",
      "                             \"None\"]\n",
      "alpha = 0.05\n",
      "\n",
      "dp_values = responses[RESEARCHER_VALUE].dropna()\n",
      "dp_values['have_reviewed'] = (\n",
      "    responses.researcher_review_experience.dropna().apply(lambda x : \"served on a tenure & promotions committee\" in x))\n",
      "\n",
      "output = pd.DataFrame\n",
      "\n",
      "for column in RESEARCHER_VALUE:\n",
      "    square = pd.DataFrame(columns=[True, False], index=RESEARCHER_VALUE_SEQUENCE)\n",
      "    square[True] = dp_values[dp_values.have_reviewed == True][column].value_counts()\n",
      "    square[False] = dp_values[dp_values.have_reviewed == False][column].value_counts()\n",
      "    print column, sps.chi2_contingency(square.dropna().as_matrix())"
     ],
     "language": "python",
     "metadata": {},
     "outputs": []
    },
    {
     "cell_type": "code",
     "collapsed": false,
     "input": [
      "pr_checkbox['included_in_publication'] = dp_checkbox['Dataset is \"peer reviewed\"']\n",
      "counts = pr_checkbox.groupby('included_in_publication').sum()\n",
      "totals = pr_checkbox.included_in_publication.value_counts()\n",
      "\n",
      "display(counts)\n",
      "\n",
      "for disc in counts.index:\n",
      "    counts.ix[disc] = counts.ix[disc].apply(lambda x: float(x) / totals[disc])\n",
      "\n",
      "counts.plot(kind='bar', legend=None, color=COLORS)"
     ],
     "language": "python",
     "metadata": {},
     "outputs": []
    },
    {
     "cell_type": "markdown",
     "metadata": {},
     "source": [
      "**Calculation from G*Power:**\n",
      "\n",
      "\u03c7\u00b2 tests - Goodness-of-fit tests: Contingency tables\n",
      "\n",
      "Analysis:\tSensitivity: Compute required effect size \n",
      "\n",
      "Input:\n",
      "* \u03b1 err prob = 0.05\n",
      "* Power (1-\u03b2 err prob) = 0.8\n",
      "* Total sample size =\t249\n",
      "* Df = 7\n",
      "\n",
      "Output:\t\n",
      "* Noncentrality parameter \u03bb =\t14.3505266 \n",
      "* Critical \u03c7\u00b2 = 14.0671404 \n",
      "* Effect size w =\t0.2400680 \n",
      "\n",
      "*Conclusion* When testing for the effect of discipline on responses, we have 80% power to detect a moderate effect size of w = 0.24. DataONE saw small effects of discipline on fair conditions for sharing ranging from 0.11 to 0.17. Our power for those effects ranges from 19% to 45%.\n"
     ]
    },
    {
     "cell_type": "code",
     "collapsed": false,
     "input": [
      "[1] -- Wednesday, December 03, 2014 -- 16:24:42\n",
      "\u03c7\u00b2 tests - Goodness-of-fit tests: Contingency tables\n",
      "\n",
      "Analysis:\tSensitivity: Compute required effect size \n",
      "Input:\t\t\u03b1 err prob                    \t=\t0.05\n",
      "\t\t\tPower (1-\u03b2 err prob)          \t=\t0.8\n",
      "\t\t\tTotal sample size             \t=\t249\n",
      "\t\t\tDf                            \t=\t4\n",
      "Output:\t\tNoncentrality parameter \u03bb     \t=\t11.9352858\n",
      "\t\t\tCritical \u03c7\u00b2                   \t=\t9.4877290\n",
      "\t\t\tEffect size w                 \t=\t0.2189358\n"
     ],
     "language": "python",
     "metadata": {},
     "outputs": []
    },
    {
     "cell_type": "markdown",
     "metadata": {},
     "source": [
      "Test for effect of discipline on importance of sharing"
     ]
    },
    {
     "cell_type": "code",
     "collapsed": false,
     "input": [
      "importance = pd.DataFrame(responses.groupby('discipline').data_sharing_importance.value_counts()).unstack().fillna(value=0)\n",
      "display(pd.Series(sps.chi2_contingency(importance.as_matrix()), index= ['chi2', 'p', 'df', 'expected counts']))"
     ],
     "language": "python",
     "metadata": {},
     "outputs": []
    },
    {
     "cell_type": "code",
     "collapsed": false,
     "input": [
      "def combinatorial_fisher_exact_power(checkbox_responses):\n",
      "    \"\"\"\n",
      "    checkbox_responses should be a DataFrame in format:\n",
      "                answer1 answer2 ...\n",
      "    respondent1 T/F     T/F\n",
      "    respondent2 T/F     T/F\n",
      "    ...\n",
      "    \n",
      "    returns a DataFrame in format:\n",
      "                option1         option2       ...\n",
      "                OR     p-value  OR    p-value\n",
      "    option1     NaN    NaN      #>1   #\n",
      "    option2     #>1    #        NaN   NaN     ...\n",
      "    ...\n",
      "    \n",
      "    all ORs are calculated to be >1, returned frame is diagonally symmetrical \n",
      "    \"\"\"\n",
      "    return_columns = pd.MultiIndex.from_product([checkbox_responses.columns, ['OR', 'p-value', 'p1', 'p2', 'n1', 'n2']])\n",
      "    \n",
      "    return_frame = pd.DataFrame(index=checkbox_responses.columns, columns=return_columns)\n",
      "    \n",
      "    i = 0\n",
      "    for a in checkbox_responses.columns:\n",
      "        i += 1\n",
      "        for b in checkbox_responses.columns[i:]:\n",
      "            square = pd.DataFrame({ 0 : 0, 0 : 0}, index=[True, False], columns=[True, False])        \n",
      "        \n",
      "            # fill in counts\n",
      "            square[True] = (checkbox_responses[checkbox_responses[a] == True][b].value_counts())\n",
      "            square[False] = (checkbox_responses[checkbox_responses[a] == False][b].value_counts())\n",
      "\n",
      "            odds_ratio, p = sps.fisher_exact(square.as_matrix())\n",
      "            \n",
      "            if odds_ratio < 1:\n",
      "                odds_ratio, p = sps.fisher_exact(square.T.as_matrix())\n",
      "                \n",
      "            \n",
      "            return_frame.loc[a,(b,'OR')] = return_frame.loc[b,(a,'OR')] = odds_ratio\n",
      "            return_frame.loc[a,(b,'p-value')] = return_frame.loc[b,(a,'p-value')]= p\n",
      "            return_frame.loc[a,(b, 'n1')] = square[True][True] + square[True][False]\n",
      "            return_frame.loc[a,(b, 'n2')] = square[False][True] + square[False][False]\n",
      "            return_frame.loc[a,(b, 'p1')] = square[True][True] / float(return_frame.loc[a,(b, 'n1')])\n",
      "            return_frame.loc[a,(b, 'p2')] = square[False][True] / float(return_frame.loc[a,(b, 'n2')])\n",
      "           \n",
      "\n",
      "\n",
      "    return return_frame\n",
      "\n",
      "                    \n",
      "def checkbox_fisher_exact_power(question, answers):\n",
      "    \n",
      "    # DF of bools; responders x checkbox (checked = True) \n",
      "    checkbox_responses = expand_checkbox(question.dropna(), answers)\n",
      "    \n",
      "    # DF of True and False counts for each checkbox\n",
      "    count_table = checkbox_responses.apply(lambda x: x.value_counts()).T\n",
      "    \n",
      "    return combinatorial_fisher_exact_power(checkbox_responses)"
     ],
     "language": "python",
     "metadata": {},
     "outputs": []
    },
    {
     "cell_type": "code",
     "collapsed": false,
     "input": [
      "publish_fe = checkbox_fisher_exact_power(responses.publish_definition, DP_FEATURES)\n",
      "\n",
      "for feature in DP_FEATURES:\n",
      "    display(publish_fe[feature])\n"
     ],
     "language": "python",
     "metadata": {},
     "outputs": []
    },
    {
     "cell_type": "code",
     "collapsed": false,
     "input": [
      "[2] -- Friday, December 05, 2014 -- 10:18:15\n",
      "\u03c7\u00b2 tests - Goodness-of-fit tests: Contingency tables\n",
      "\n",
      "Analysis:\tSensitivity: Compute required effect size \n",
      "Input:\t\t\u03b1 err prob                    \t=\t0.05\n",
      "\t\t\tPower (1-\u03b2 err prob)          \t=\t0.8\n",
      "\t\t\tTotal sample size             \t=\t249\n",
      "\t\t\tDf                            \t=\t1\n",
      "Output:\t\tNoncentrality parameter \u03bb     \t=\t7.8488605\n",
      "\t\t\tCritical \u03c7\u00b2                   \t=\t3.8414588\n",
      "\t\t\tEffect size w                 \t=\t0.1775430\n",
      "\n",
      "\n",
      "[3] -- Friday, December 05, 2014 -- 11:02:46\n",
      "Exact - Proportions: Inequality, two independent groups (Fisher's exact test) \n",
      "\n",
      "Options:\tExact distribution\n",
      "\n",
      "Analysis:\tPost hoc: Compute achieved power \n",
      "Input:\t\tTail(s)                  \t=\tTwo\n",
      "\t\t\tProportion p1            \t=\t0.515\n",
      "\t\t\tProportion p2            \t=\t0.081\n",
      "\t\t\t\u03b1 err prob               \t=\t0.05\n",
      "\t\t\tSample size group 1      \t=\t97\n",
      "\t\t\tSample size group 2      \t=\t149\n",
      "Output:\t\tPower (1-\u03b2 err prob)     \t=\t1.0000000\n",
      "\t\t\tActual \u03b1                 \t=\t0.0361614\n",
      "\n",
      "\n",
      "[4] -- Friday, December 05, 2014 -- 11:04:55\n",
      "Exact - Proportions: Inequality, two independent groups (Fisher's exact test) \n",
      "\n",
      "Options:\tExact distribution\n",
      "\n",
      "Analysis:\tPost hoc: Compute achieved power \n",
      "Input:\t\tTail(s)                  \t=\tTwo\n",
      "\t\t\tProportion p1            \t=\t0.4\n",
      "\t\t\tProportion p2            \t=\t0.39\n",
      "\t\t\t\u03b1 err prob               \t=\t0.05\n",
      "\t\t\tSample size group 1      \t=\t105\n",
      "\t\t\tSample size group 2      \t=\t141\n",
      "Output:\t\tPower (1-\u03b2 err prob)     \t=\t0.0472693\n",
      "\t\t\tActual \u03b1                 \t=\t0.0446068\n",
      "\n",
      "\n",
      "[5] -- Friday, December 05, 2014 -- 11:05:58\n",
      "Exact - Proportions: Inequality, two independent groups (Fisher's exact test) \n",
      "\n",
      "Options:\tExact distribution\n",
      "\n",
      "Analysis:\tSensitivity: Compute required effect size \n",
      "Input:\t\tTail(s)                  \t=\tTwo\n",
      "\t\t\tEffect direction         \t=\tp1\u2265p2\n",
      "\t\t\tProportion p2            \t=\t0.39\n",
      "\t\t\t\u03b1 err prob               \t=\t0.05\n",
      "\t\t\tPower (1-\u03b2 err prob)     \t=\t0.8\n",
      "\t\t\tSample size group 1      \t=\t105\n",
      "\t\t\tSample size group 2      \t=\t141\n",
      "Output:\t\tProportion p1            \t=\t0.5756715\n",
      "\t\t\tActual power             \t=\t0.8000000\n",
      "\t\t\tActual \u03b1                 \t=\t0.0446068\n",
      "\n",
      "\n",
      "[6] -- Friday, December 05, 2014 -- 11:06:08\n",
      "Exact - Proportions: Inequality, two independent groups (Fisher's exact test) \n",
      "\n",
      "Options:\tExact distribution\n",
      "\n",
      "Analysis:\tSensitivity: Compute required effect size \n",
      "Input:\t\tTail(s)                  \t=\tTwo\n",
      "\t\t\tEffect direction         \t=\tp1\u2264p2\n",
      "\t\t\tProportion p2            \t=\t0.39\n",
      "\t\t\t\u03b1 err prob               \t=\t0.05\n",
      "\t\t\tPower (1-\u03b2 err prob)     \t=\t0.8\n",
      "\t\t\tSample size group 1      \t=\t105\n",
      "\t\t\tSample size group 2      \t=\t141\n",
      "Output:\t\tProportion p1            \t=\t0.2198081\n",
      "\t\t\tActual power             \t=\t0.8000000\n",
      "\t\t\tActual \u03b1                 \t=\t0.0446068\n",
      "\n",
      "\n",
      "[7] -- Friday, December 05, 2014 -- 11:07:26\n",
      "Exact - Proportions: Inequality, two independent groups (Fisher's exact test) \n",
      "\n",
      "Options:\tExact distribution\n",
      "\n",
      "Analysis:\tSensitivity: Compute required effect size \n",
      "Input:\t\tTail(s)                  \t=\tTwo\n",
      "\t\t\tEffect direction         \t=\tp1\u2264p2\n",
      "\t\t\tProportion p2            \t=\t.43\n",
      "\t\t\t\u03b1 err prob               \t=\t0.05\n",
      "\t\t\tPower (1-\u03b2 err prob)     \t=\t0.8\n",
      "\t\t\tSample size group 1      \t=\t133\n",
      "\t\t\tSample size group 2      \t=\t113\n",
      "Output:\t\tProportion p1            \t=\t0.2572962\n",
      "\t\t\tActual power             \t=\t0.8000000\n",
      "\t\t\tActual \u03b1                 \t=\t0.0404907\n",
      "\n",
      "\n",
      "[8] -- Friday, December 05, 2014 -- 11:07:41\n",
      "Exact - Proportions: Inequality, two independent groups (Fisher's exact test) \n",
      "\n",
      "Options:\tExact distribution\n",
      "\n",
      "Analysis:\tSensitivity: Compute required effect size \n",
      "Input:\t\tTail(s)                  \t=\tTwo\n",
      "\t\t\tEffect direction         \t=\tp1\u2265p2\n",
      "\t\t\tProportion p2            \t=\t0.43\n",
      "\t\t\t\u03b1 err prob               \t=\t0.05\n",
      "\t\t\tPower (1-\u03b2 err prob)     \t=\t0.8\n",
      "\t\t\tSample size group 1      \t=\t133\n",
      "\t\t\tSample size group 2      \t=\t113\n",
      "Output:\t\tProportion p1            \t=\t0.6135019\n",
      "\t\t\tActual power             \t=\t0.8000000\n",
      "\t\t\tActual \u03b1                 \t=\t0.0404907"
     ],
     "language": "python",
     "metadata": {},
     "outputs": [
      {
       "ename": "SyntaxError",
       "evalue": "invalid syntax (<ipython-input-1-853cd2b16332>, line 1)",
       "output_type": "pyerr",
       "traceback": [
        "\u001b[0;36m  File \u001b[0;32m\"<ipython-input-1-853cd2b16332>\"\u001b[0;36m, line \u001b[0;32m1\u001b[0m\n\u001b[0;31m    [2] -- Friday, December 05, 2014 -- 10:18:15\u001b[0m\n\u001b[0m                             ^\u001b[0m\n\u001b[0;31mSyntaxError\u001b[0m\u001b[0;31m:\u001b[0m invalid syntax\n"
       ]
      }
     ],
     "prompt_number": 1
    },
    {
     "cell_type": "code",
     "collapsed": false,
     "input": [
      "graph_likert(['data_sharing_importance'], [5,4,3,2,1])"
     ],
     "language": "python",
     "metadata": {},
     "outputs": [
      {
       "metadata": {},
       "output_type": "pyout",
       "prompt_number": 12,
       "text": [
        "<matplotlib.axes._subplots.AxesSubplot at 0x1097385d0>"
       ]
      },
      {
       "metadata": {},
       "output_type": "display_data",
       "png": "[encoded data removed]",
       "text": [
        "<matplotlib.figure.Figure at 0x1094b7d50>"
       ]
      }
     ],
     "prompt_number": 12
    }
   ],
   "metadata": {}
  }
 ]
}