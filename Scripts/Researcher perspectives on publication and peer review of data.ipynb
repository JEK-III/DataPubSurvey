{
 "metadata": {
  "name": "",
  "signature": "sha256:d6fe2bbd0715ba321b31f59a60df3e85b58b3bb28b6d7ae374250edcc30b2ac5"
 },
 "nbformat": 3,
 "nbformat_minor": 0,
 "worksheets": [
  {
   "cells": [
    {
     "cell_type": "code",
     "collapsed": false,
     "input": [
      "import pandas as pd\n",
      "import pprint as pp\n",
      "\n",
      "responses = pd.read_csv('../Tables/DataPubSurvey_anon.csv')"
     ],
     "language": "python",
     "metadata": {},
     "outputs": [],
     "prompt_number": 19
    },
    {
     "cell_type": "code",
     "collapsed": false,
     "input": [
      "EXCLUDE = {'role' : 'Librarian',\n",
      "           'discipline' : 'Information science',\n",
      "           'highest_degree' : 'Highschool',\n",
      "           'generated_data' : 'No'}\n",
      "\n",
      "for column, value in EXCLUDE.iteritems():\n",
      "    responses = responses[responses[column] != value]"
     ],
     "language": "python",
     "metadata": {},
     "outputs": [],
     "prompt_number": 9
    },
    {
     "cell_type": "code",
     "collapsed": false,
     "input": [
      "DEMOGRAPHICS = ['discipline',\n",
      "                'highest_degree',\n",
      "                'role',\n",
      "                'institution']\n",
      "\n",
      "for column in DEMOGRAPHICS:\n",
      "    counts = responses[column].value_counts()\n",
      "    percentages = 100 * counts.apply(lambda x: float(x) / counts.sum())\n",
      "    stats = pd.DataFrame([counts, percentages], index=['counts', 'percent'])\n",
      "    print stats.T\n"
     ],
     "language": "python",
     "metadata": {},
     "outputs": [
      {
       "output_type": "stream",
       "stream": "stdout",
       "text": [
        "                       counts    percent\n",
        "Biology                    52  18.637993\n",
        "Archaeology                32  11.469534\n",
        "Environmental Science      29  10.394265\n",
        "Other                      24   8.602151\n",
        "Earth science              17   6.093190\n",
        "Information science        13   4.659498\n",
        "Evolutionary Biology       11   3.942652\n",
        "Computer science           11   3.942652\n",
        "Chemistry                  10   3.584229\n",
        "Neurobiology               10   3.584229\n",
        "Social science             10   3.584229\n",
        "Physics                     9   3.225806\n",
        "Life science                8   2.867384\n",
        "Bioinformatics              8   2.867384\n",
        "Psychology                  8   2.867384\n",
        "Sociology                   8   2.867384\n",
        "Anthropology                6   2.150538\n",
        "Economics                   5   1.792115\n",
        "Biochemistry                5   1.792115\n",
        "Mathematics                 3   1.075269\n",
        "              counts    percent\n",
        "Doctorate        199  71.582734\n",
        "Masters           56  20.143885\n",
        "Bachelor_\ufffd\ufffds      20   7.194245\n",
        "Highschool         3   1.079137\n",
        "              counts    percent\n",
        "PI               110  39.145907\n",
        "Postdoc           61  21.708185\n",
        "Grad_student      46  16.370107\n",
        "Other             30  10.676157\n",
        "Tech              18   6.405694\n",
        "Librarian         16   5.693950\n",
        "                            counts    percent\n",
        "Academic: research-focused     214  76.156584\n",
        "Academic: teaching-focused      16   5.693950\n",
        "Government                      14   4.982206\n",
        "Nonprofit                       13   4.626335\n",
        "Academic: medical school         9   3.202847\n",
        "Other                            8   2.846975\n",
        "Commercial                       7   2.491103\n"
       ]
      }
     ],
     "prompt_number": 23
    },
    {
     "cell_type": "code",
     "collapsed": false,
     "input": [],
     "language": "python",
     "metadata": {},
     "outputs": [
      {
       "metadata": {},
       "output_type": "pyout",
       "prompt_number": 11,
       "text": [
        "Academic: research-focused    191\n",
        "Government                     14\n",
        "Academic: teaching-focused     13\n",
        "Nonprofit                      12\n",
        "Academic: medical school        9\n",
        "Other                           6\n",
        "Commercial                      4\n",
        "dtype: int64"
       ]
      }
     ],
     "prompt_number": 11
    },
    {
     "cell_type": "code",
     "collapsed": false,
     "input": [
      "stats.T"
     ],
     "language": "python",
     "metadata": {},
     "outputs": [
      {
       "html": [
        "<div style=\"max-height:1000px;max-width:1500px;overflow:auto;\">\n",
        "<table border=\"1\" class=\"dataframe\">\n",
        "  <thead>\n",
        "    <tr style=\"text-align: right;\">\n",
        "      <th></th>\n",
        "      <th>counts</th>\n",
        "      <th>percent</th>\n",
        "    </tr>\n",
        "  </thead>\n",
        "  <tbody>\n",
        "    <tr>\n",
        "      <th>Academic: research-focused</th>\n",
        "      <td> 191</td>\n",
        "      <td> 76.706827</td>\n",
        "    </tr>\n",
        "    <tr>\n",
        "      <th>Government</th>\n",
        "      <td>  14</td>\n",
        "      <td>  5.622490</td>\n",
        "    </tr>\n",
        "    <tr>\n",
        "      <th>Academic: teaching-focused</th>\n",
        "      <td>  13</td>\n",
        "      <td>  5.220884</td>\n",
        "    </tr>\n",
        "    <tr>\n",
        "      <th>Nonprofit</th>\n",
        "      <td>  12</td>\n",
        "      <td>  4.819277</td>\n",
        "    </tr>\n",
        "    <tr>\n",
        "      <th>Academic: medical school</th>\n",
        "      <td>   9</td>\n",
        "      <td>  3.614458</td>\n",
        "    </tr>\n",
        "    <tr>\n",
        "      <th>Other</th>\n",
        "      <td>   6</td>\n",
        "      <td>  2.409639</td>\n",
        "    </tr>\n",
        "    <tr>\n",
        "      <th>Commercial</th>\n",
        "      <td>   4</td>\n",
        "      <td>  1.606426</td>\n",
        "    </tr>\n",
        "  </tbody>\n",
        "</table>\n",
        "</div>"
       ],
       "metadata": {},
       "output_type": "pyout",
       "prompt_number": 13,
       "text": [
        "                            counts    percent\n",
        "Academic: research-focused     191  76.706827\n",
        "Government                      14   5.622490\n",
        "Academic: teaching-focused      13   5.220884\n",
        "Nonprofit                       12   4.819277\n",
        "Academic: medical school         9   3.614458\n",
        "Other                            6   2.409639\n",
        "Commercial                       4   1.606426"
       ]
      }
     ],
     "prompt_number": 13
    },
    {
     "cell_type": "code",
     "collapsed": false,
     "input": [],
     "language": "python",
     "metadata": {},
     "outputs": []
    }
   ],
   "metadata": {}
  }
 ]
}