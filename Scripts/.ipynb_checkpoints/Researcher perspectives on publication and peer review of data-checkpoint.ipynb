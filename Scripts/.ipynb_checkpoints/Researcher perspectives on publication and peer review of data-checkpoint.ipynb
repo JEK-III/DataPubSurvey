{
 "metadata": {
  "name": "",
  "signature": "sha256:6fe422c014636d33edd6a108b17801c51a242dcf47defc6f24bbed2ef93d8f22"
 },
 "nbformat": 3,
 "nbformat_minor": 0,
 "worksheets": [
  {
   "cells": [
    {
     "cell_type": "heading",
     "level": 1,
     "metadata": {},
     "source": [
      "Researcher perspectives on publication and peer review of data"
     ]
    },
    {
     "cell_type": "markdown",
     "metadata": {},
     "source": [
      "John Kratz & Carly Strasser"
     ]
    },
    {
     "cell_type": "heading",
     "level": 2,
     "metadata": {},
     "source": [
      "Abstract"
     ]
    },
    {
     "cell_type": "markdown",
     "metadata": {},
     "source": [
      "Data \"publication\" seeks to appropriate the prestige of authorship in the peer-reviewed literature to reward researchers who create useful and well-documented datasets. \n",
      "The scholarly communication community has embraced data publication as an incentive to document and share data.\n",
      "But, numerous new and ongoing experiments in implementation have not yet resolved what a data publication should be, when data should be peer-reviewed, or how data peer review should work. \n",
      "While researchers have been surveyed extensively regarding data management and sharing, their perceptions and expectations of data publication are largely unknown.\n",
      "To bring this important yet neglected perspective into the conversation, we surveyed ~250 researchers across the sciences and social sciences-- asking what expectations \"data publication\" raises and what features would be useful to evaluate the trustworthiness, evaluate the impact, and enhance the prestige of a data publication.\n",
      "We found that researcher expectations of data publication center on availability, generally through an open database or repository.\n",
      "Few respondents expected published data to be peer-reviewed, but peer-reviewed data enjoyed much greater trust and prestige.\n",
      "The importance of adequate metadata was acknowledged, in that almost all respondents expected data peer review to include evaluation of the data's documentation.\n",
      "Formal citation in the reference list was affirmed by most respondents as the proper way to credit dataset creators.\n",
      "Citation count was viewed as the most useful measure of impact, but download count was seen as nearly as valuable.\n",
      "These results offer practical guidance for data publishers seeking to meet researcher expectations and enhance the value of published data."
     ]
    },
    {
     "cell_type": "heading",
     "level": 2,
     "metadata": {},
     "source": [
      "Configuration"
     ]
    },
    {
     "cell_type": "code",
     "collapsed": false,
     "input": [
      "%matplotlib inline\n",
      "from IPython.display import display\n",
      "from math import sqrt\n",
      "import matplotlib.pyplot as plt\n",
      "import networkx as nx\n",
      "import numpy as np\n",
      "import pandas as pd\n",
      "import pylab\n",
      "import scipy as sp\n",
      "import scipy.stats as sps\n",
      "\n",
      "pylab.rcParams['figure.figsize'] = (14.0, 6.0)\n",
      "\n",
      "COLORS = ['#eff3ff', '#bdd7e7', '#6baed6', '#3182bd', '#08519c']"
     ],
     "language": "python",
     "metadata": {},
     "outputs": [],
     "prompt_number": 11
    },
    {
     "cell_type": "code",
     "collapsed": false,
     "input": [
      "def expand_checkbox(checkbox_column, options):\n",
      "    \"\"\"\n",
      "    checkbox_column = a series of lists of boxes checked in response to a question\n",
      "    options = a list the options available to check\n",
      "    \n",
      "    expand checkbox_column into a DataFrame of bools with index= respondents, columns= options\n",
      "    \"\"\"\n",
      "    return pd.DataFrame({option : checkbox_column.apply(lambda x: option in x) for option in options})"
     ],
     "language": "python",
     "metadata": {},
     "outputs": [],
     "prompt_number": 12
    },
    {
     "cell_type": "heading",
     "level": 2,
     "metadata": {},
     "source": [
      "Graphing functions"
     ]
    },
    {
     "cell_type": "heading",
     "level": 3,
     "metadata": {},
     "source": [
      "Bootstrap functions to generate error bars"
     ]
    },
    {
     "cell_type": "code",
     "collapsed": false,
     "input": [
      "def bootstrap_percentile_ci(data, n_samples=100000, alpha=0.05, stat_function=np.sum):\n",
      "    \"\"\"\n",
      "    Calculates a confidence interval for True/False count data and returns a tuple (low, high) \n",
      "    \n",
      "    data: (numpy array) of bools to resample\n",
      "    num_samples: (int) number of times to resample\n",
      "    alpha: (float) 1 - desired confidence interval  \n",
      "    \"\"\"\n",
      "    n_responses = len(data)\n",
      "    # get num_samples resampled arrays (of length n) of valid indicies for data\n",
      "    indicies = np.random.randint(0, n_responses, (n_samples, n_responses))\n",
      "    \n",
      "    # generate sorted array of desired stat in each resampled array\n",
      "    stats = [stat_function(data[x]) for x in indicies]\n",
      "    stats.sort()\n",
      "\n",
      "    # return stats at the edge of the 2.5 and 97.5 percentiles\n",
      "    return (stats[int((alpha/2.0)*n_samples)], stats[int((1-alpha/2.0)*n_samples)])\n",
      "\n",
      "\n",
      "def bootstrap_basic_ci(data, n_samples=100000, alpha=0.05, stat_function=np.sum):\n",
      "    \"\"\"\n",
      "    Calculates a confidence interval for True/False count data and returns a tuple (low, high) \n",
      "    \n",
      "    data: (numpy array) of bools to resample\n",
      "    num_samples: (int) number of times to resample\n",
      "    alpha: (float) 1 - desired confidence interval  \n",
      "    \"\"\"\n",
      "    double_observed = 2 * stat_function(data)\n",
      "    high, low = bootstrap_percentile_ci(data, n_samples=n_samples, alpha=alpha, stat_function=stat_function)\n",
      "\n",
      "    return (double_observed - low, double_observed - high)\n"
     ],
     "language": "python",
     "metadata": {},
     "outputs": [],
     "prompt_number": 7
    },
    {
     "cell_type": "heading",
     "level": 3,
     "metadata": {},
     "source": [
      "Graph answers to \"check all that apply\" questions."
     ]
    },
    {
     "cell_type": "code",
     "collapsed": false,
     "input": [
      "def tuple_normalize(counts, n_responses):\n",
      "    return map(lambda x: float(x) / n_responses * 100, counts)\n",
      "\n",
      "def interval_to_error(confidence_interval, center):\n",
      "    \"\"\"\n",
      "    confidence_interval (tuple): low, high relative to the origin\n",
      "    center: (int, float): measured value (e.g., mean)\n",
      "    returns the ci as a tuple relative to the center (i.e., minus, plus the mean)\n",
      "    \"\"\"\n",
      "    return tuple(map(lambda x: abs(float(x) - center), confidence_interval))\n",
      "    \n",
      "def split_interval(interval):\n",
      "    \"\"\"\n",
      "    split a confidence interval tuple and return as a 2-element Series\n",
      "    \"\"\"\n",
      "    return pd.Series(interval, index= ['low','high'])\n",
      "\n",
      "\n",
      "def graph_checkbox(question, answers):\n",
      "    split_checkbox = responses[question].dropna()\n",
      "\n",
      "    # checkbox_responses== DataFrame of bools where index=individual respondents, columns=answer choices\n",
      "    checkbox_responses = expand_checkbox(split_checkbox, answers)\n",
      "    \n",
      "    # sum checked boxes in each column; response_counts== Series with values=sums, index=answer choices\n",
      "    response_counts = checkbox_responses.sum()\n",
      "    \n",
      "    # resample and sum from each column to bootstrap a confidence interval\n",
      "    # count_confidence_intervals== Series with values= tuples (low, high), index=answer choices\n",
      "    count_confidence_intervals = checkbox_responses.apply(lambda x: bootstrap_basic_ci(np.array(x)))\n",
      "    \n",
      "    #print checkbox_responses.apply(lambda x: bootstrap_percentile_ci(np.array(x))).apply(tuple_normalize, args=([len(checkbox_responses)]))\n",
      "    #print checkbox_responses.apply(lambda x: bootstrap_basic_ci(np.array(x))).apply(tuple_normalize, args=([len(checkbox_responses)]))\n",
      "    \n",
      "    #normalize response_counts to percentage of total respondents to the question and sort\n",
      "    response_counts = response_counts.apply(lambda x: float(x) / len(checkbox_responses) * 100)\n",
      "    response_counts.sort(ascending=True)\n",
      "    \n",
      "    #normalize confidence intervals to percentages\n",
      "    count_confidence_intervals = count_confidence_intervals.apply(tuple_normalize, args=([len(checkbox_responses)]))\n",
      "    \n",
      "    \n",
      "    #convert absolute interval values to distance below and above the observed value\n",
      "    for index in count_confidence_intervals.index.values:\n",
      "        count_confidence_intervals.loc[index] = interval_to_error(count_confidence_intervals.loc[index], \n",
      "                                                                  response_counts.loc[index])\n",
      "    \n",
      "    #split interval tuples into 2 element Series\n",
      "    count_confidence_intervals = count_confidence_intervals.apply(split_interval)\n",
      "\n",
      "\n",
      "    fig = response_counts.plot(kind='barh', color='#08519c', edgecolor='w', grid=False, xlim=(0,100))\n",
      "    fig.errorbar(response_counts.as_matrix()[::-1], np.arange(len(response_counts))[::-1], \n",
      "                 xerr=count_confidence_intervals.T.as_matrix(),\n",
      "                 fmt='none', ecolor='#C2C2C2', alpha=0.65, elinewidth=1, capsize=8, capthick=2)\n",
      "\n",
      "    fig.tick_params(axis='both', which='both', left='off', top='off', right='off')\n",
      "    fig.spines['top'].set_visible(False) \n",
      "    fig.spines['right'].set_visible(False)\n",
      "    \n",
      "    return fig  #, response_counts\n",
      "    "
     ],
     "language": "python",
     "metadata": {},
     "outputs": [],
     "prompt_number": 60
    },
    {
     "cell_type": "heading",
     "level": 3,
     "metadata": {},
     "source": [
      "Graph answers to Likert-scale (i.e., rate from 1 to 5) questions"
     ]
    },
    {
     "cell_type": "code",
     "collapsed": false,
     "input": [
      "def graph_likert(questions, answers, filter_on_column=None, filter_value=None):\n",
      "    \n",
      "    if filter_on_column:\n",
      "        responses_ft = responses[responses[filter_on_column] == filter_value]\n",
      "    else:\n",
      "        responses_ft = responses\n",
      "    \n",
      "    collected_counts = pd.DataFrame(index=answers)\n",
      "    stats = pd.DataFrame(index=questions,columns=['mean', 'ci'])\n",
      "\n",
      "    # set up dict for converstion from likert scale (e.g., 1-5) to 0-100%\n",
      "    number_of_answers = len(answers) \n",
      "    answer_to_value = dict(zip(answers, np.arange(number_of_answers)/float(number_of_answers - 1)*100)) \n",
      "    \n",
      "    for column in questions:\n",
      "        collected_counts[column] = responses_ft[column].value_counts().dropna()\n",
      "       \n",
      "        #scale responses to go from 0 to 100\n",
      "        likert_values = responses[column].dropna().map(answer_to_value)\n",
      "        \n",
      "        #cacluate mean and 95% confidence interval\n",
      "        stats['mean'].loc[column] = likert_values.mean() \n",
      "        stats['ci'].loc[column] = bootstrap_basic_ci(np.array(likert_values), stat_function=np.mean)\n",
      "        \n",
      "    #sort stats and collected_counts by the mean   \n",
      "    stats = stats.sort_index(axis=0, by='mean', ascending=True)\n",
      "    collected_counts = collected_counts.T.reindex(index=stats.index)\n",
      "    collected_counts = collected_counts.div(collected_counts.sum(1).astype(float)/100, axis = 0) \n",
      "    \n",
      "    #convert absolute interval values to distance below and above the observed value\n",
      "    for index in stats.index.values:\n",
      "        stats['ci'].loc[index] = interval_to_error(stats['ci'].loc[index], stats['mean'].loc[index])\n",
      "\n",
      "    #split interval tuples into 2 element Series\n",
      "    stats['ci'] = stats['ci'].apply(split_interval)\n",
      "    \n",
      "    #plot percentages of each response\n",
      "    fig = collected_counts.plot(kind='barh', stacked=True, color=COLORS, grid=False, xlim = (0,100), edgecolor='w') \n",
      "    \n",
      "    # plot mean and 95% confidence interval\n",
      "    fig.plot(stats['mean'], np.arange(len(stats)), marker='o', color='w',axes=fig, markersize=20, markeredgewidth=0, linewidth=0)\n",
      "    fig.errorbar(stats['mean'].as_matrix()[::-1], np.arange(len(stats))[::-1], xerr=stats['ci'],\n",
      "                 fmt='none', ecolor='#C2C2C2', alpha=0.65, elinewidth=1, capsize=8, capthick=1)\n",
      "    \n",
      "    fig.legend(bbox_to_anchor=(0., 1.02, 1., .102), loc=2, ncol=number_of_answers, mode=\"expand\", borderaxespad=0.,frameon=False)\n",
      "    fig.tick_params(axis='both', which='both', left='off', top='off', right='off')\n",
      "    fig.spines['top'].set_visible(False)\n",
      "    fig.spines['right'].set_visible(False)\n",
      "    \n",
      "    return fig"
     ],
     "language": "python",
     "metadata": {},
     "outputs": [],
     "prompt_number": 61
    },
    {
     "cell_type": "heading",
     "level": 3,
     "metadata": {},
     "source": [
      "Read in and filter data"
     ]
    },
    {
     "cell_type": "markdown",
     "metadata": {},
     "source": [
      "To limit analysis to active researchers, filter out librarians, undergraduates, and respondents who said that they had not generated any data in the last 5 years."
     ]
    },
    {
     "cell_type": "code",
     "collapsed": false,
     "input": [
      "EXCLUDE = {'role' : 'Librarian', 'discipline' : 'Information science', \n",
      "           'highest_degree' : 'Highschool', 'generated_data' : 'No'}\n",
      "\n",
      "responses = pd.read_csv('../Tables/DataPubSurvey_anon.csv')\n",
      "\n",
      "for column, value in EXCLUDE.items():\n",
      "    responses = responses[responses[column] != value]"
     ],
     "language": "python",
     "metadata": {},
     "outputs": [],
     "prompt_number": 17
    },
    {
     "cell_type": "markdown",
     "metadata": {},
     "source": [
      "Consolidate fine-grained sub-discipline answers into larger disciplines."
     ]
    },
    {
     "cell_type": "code",
     "collapsed": false,
     "input": [
      "DISCIPLINE_MAP = {'Anthropology' : 'Social science',\n",
      "                  'Archaeology' : 'Archaeology',\n",
      "                  'Area studies' : 'Social science',\n",
      "                  'Economics' : 'Social science',\n",
      "                  'Political science' : 'Social science',\n",
      "                  'Psychology' : 'Social science',\n",
      "                  'Sociology' : 'Social science',\n",
      "                  'Astronomy' : 'Space science',\n",
      "                  'Astrophysics' : 'Space science',\n",
      "                  'Environmental Science' : 'Environmental science',\n",
      "                  'Geology' : 'Earth science',\n",
      "                  'Oceanography' : 'Environmental science',\n",
      "                  'Planetary science' : 'Earth science',\n",
      "                  'Biochemistry' : 'Biology',\n",
      "                  'Bioinformatics' : 'Biology',\n",
      "                  'Biology' : 'Biology',\n",
      "                  'Evolutionary Biology' : 'Biology',\n",
      "                  'Neurobiology' : 'Biology',\n",
      "                  'Social science' : 'Social science',\n",
      "                  'Space science' : 'Space science',\n",
      "                  'Earth science' : 'Earth science',\n",
      "                  'Life science' : 'Biology',\n",
      "                  'Chemistry' : 'Physical science',\n",
      "                  'Physics' : 'Physical science',\n",
      "                  'Computer science' : 'Computer science',\n",
      "                  'Mathematics' : 'Mathematics',\n",
      "                  'Information science' : 'Information science',\n",
      "                  'Other' : 'Other'}\n",
      "\n",
      "responses.discipline= responses.discipline.map(DISCIPLINE_MAP).dropna()"
     ],
     "language": "python",
     "metadata": {},
     "outputs": [],
     "prompt_number": 18
    },
    {
     "cell_type": "heading",
     "level": 2,
     "metadata": {},
     "source": [
      "Figures and tables"
     ]
    },
    {
     "cell_type": "heading",
     "level": 3,
     "metadata": {},
     "source": [
      "**Table 1.** Demographic breakdown of the 249 researchers whose responses are analyzed here."
     ]
    },
    {
     "cell_type": "code",
     "collapsed": false,
     "input": [
      "DEMOGRAPHICS = ['discipline', 'highest_degree', 'role','institution']\n",
      "\n",
      "for column in DEMOGRAPHICS:\n",
      "    count = responses[column].value_counts()\n",
      "    percentages = 100 * count.apply(lambda x: float(x) / count.sum())\n",
      "    display(pd.DataFrame([count, percentages], index=['count', 'percent']).T)"
     ],
     "language": "python",
     "metadata": {},
     "outputs": [
      {
       "html": [
        "<div style=\"max-height:1000px;max-width:1500px;overflow:auto;\">\n",
        "<table border=\"1\" class=\"dataframe\">\n",
        "  <thead>\n",
        "    <tr style=\"text-align: right;\">\n",
        "      <th></th>\n",
        "      <th>count</th>\n",
        "      <th>percent</th>\n",
        "    </tr>\n",
        "  </thead>\n",
        "  <tbody>\n",
        "    <tr>\n",
        "      <th>Biology</th>\n",
        "      <td> 91</td>\n",
        "      <td> 36.842105</td>\n",
        "    </tr>\n",
        "    <tr>\n",
        "      <th>Social science</th>\n",
        "      <td> 32</td>\n",
        "      <td> 12.955466</td>\n",
        "    </tr>\n",
        "    <tr>\n",
        "      <th>Archaeology</th>\n",
        "      <td> 31</td>\n",
        "      <td> 12.550607</td>\n",
        "    </tr>\n",
        "    <tr>\n",
        "      <th>Environmental science</th>\n",
        "      <td> 27</td>\n",
        "      <td> 10.931174</td>\n",
        "    </tr>\n",
        "    <tr>\n",
        "      <th>Other</th>\n",
        "      <td> 21</td>\n",
        "      <td>  8.502024</td>\n",
        "    </tr>\n",
        "    <tr>\n",
        "      <th>Physical science</th>\n",
        "      <td> 18</td>\n",
        "      <td>  7.287449</td>\n",
        "    </tr>\n",
        "    <tr>\n",
        "      <th>Earth science</th>\n",
        "      <td> 13</td>\n",
        "      <td>  5.263158</td>\n",
        "    </tr>\n",
        "    <tr>\n",
        "      <th>Computer science</th>\n",
        "      <td> 11</td>\n",
        "      <td>  4.453441</td>\n",
        "    </tr>\n",
        "    <tr>\n",
        "      <th>Mathematics</th>\n",
        "      <td>  3</td>\n",
        "      <td>  1.214575</td>\n",
        "    </tr>\n",
        "  </tbody>\n",
        "</table>\n",
        "</div>"
       ],
       "metadata": {},
       "output_type": "display_data",
       "text": [
        "                       count    percent\n",
        "Biology                   91  36.842105\n",
        "Social science            32  12.955466\n",
        "Archaeology               31  12.550607\n",
        "Environmental science     27  10.931174\n",
        "Other                     21   8.502024\n",
        "Physical science          18   7.287449\n",
        "Earth science             13   5.263158\n",
        "Computer science          11   4.453441\n",
        "Mathematics                3   1.214575"
       ]
      },
      {
       "html": [
        "<div style=\"max-height:1000px;max-width:1500px;overflow:auto;\">\n",
        "<table border=\"1\" class=\"dataframe\">\n",
        "  <thead>\n",
        "    <tr style=\"text-align: right;\">\n",
        "      <th></th>\n",
        "      <th>count</th>\n",
        "      <th>percent</th>\n",
        "    </tr>\n",
        "  </thead>\n",
        "  <tbody>\n",
        "    <tr>\n",
        "      <th>Doctorate</th>\n",
        "      <td> 186</td>\n",
        "      <td> 75.609756</td>\n",
        "    </tr>\n",
        "    <tr>\n",
        "      <th>Masters</th>\n",
        "      <td>  41</td>\n",
        "      <td> 16.666667</td>\n",
        "    </tr>\n",
        "    <tr>\n",
        "      <th>Bachelors</th>\n",
        "      <td>  19</td>\n",
        "      <td>  7.723577</td>\n",
        "    </tr>\n",
        "  </tbody>\n",
        "</table>\n",
        "</div>"
       ],
       "metadata": {},
       "output_type": "display_data",
       "text": [
        "           count    percent\n",
        "Doctorate    186  75.609756\n",
        "Masters       41  16.666667\n",
        "Bachelors     19   7.723577"
       ]
      },
      {
       "html": [
        "<div style=\"max-height:1000px;max-width:1500px;overflow:auto;\">\n",
        "<table border=\"1\" class=\"dataframe\">\n",
        "  <thead>\n",
        "    <tr style=\"text-align: right;\">\n",
        "      <th></th>\n",
        "      <th>count</th>\n",
        "      <th>percent</th>\n",
        "    </tr>\n",
        "  </thead>\n",
        "  <tbody>\n",
        "    <tr>\n",
        "      <th>PI</th>\n",
        "      <td> 102</td>\n",
        "      <td> 40.963855</td>\n",
        "    </tr>\n",
        "    <tr>\n",
        "      <th>Postdoc</th>\n",
        "      <td>  61</td>\n",
        "      <td> 24.497992</td>\n",
        "    </tr>\n",
        "    <tr>\n",
        "      <th>Grad_student</th>\n",
        "      <td>  41</td>\n",
        "      <td> 16.465863</td>\n",
        "    </tr>\n",
        "    <tr>\n",
        "      <th>Other</th>\n",
        "      <td>  28</td>\n",
        "      <td> 11.244980</td>\n",
        "    </tr>\n",
        "    <tr>\n",
        "      <th>Tech</th>\n",
        "      <td>  17</td>\n",
        "      <td>  6.827309</td>\n",
        "    </tr>\n",
        "  </tbody>\n",
        "</table>\n",
        "</div>"
       ],
       "metadata": {},
       "output_type": "display_data",
       "text": [
        "              count    percent\n",
        "PI              102  40.963855\n",
        "Postdoc          61  24.497992\n",
        "Grad_student     41  16.465863\n",
        "Other            28  11.244980\n",
        "Tech             17   6.827309"
       ]
      },
      {
       "html": [
        "<div style=\"max-height:1000px;max-width:1500px;overflow:auto;\">\n",
        "<table border=\"1\" class=\"dataframe\">\n",
        "  <thead>\n",
        "    <tr style=\"text-align: right;\">\n",
        "      <th></th>\n",
        "      <th>count</th>\n",
        "      <th>percent</th>\n",
        "    </tr>\n",
        "  </thead>\n",
        "  <tbody>\n",
        "    <tr>\n",
        "      <th>Academic: research-focused</th>\n",
        "      <td> 191</td>\n",
        "      <td> 76.706827</td>\n",
        "    </tr>\n",
        "    <tr>\n",
        "      <th>Government</th>\n",
        "      <td>  14</td>\n",
        "      <td>  5.622490</td>\n",
        "    </tr>\n",
        "    <tr>\n",
        "      <th>Academic: teaching-focused</th>\n",
        "      <td>  13</td>\n",
        "      <td>  5.220884</td>\n",
        "    </tr>\n",
        "    <tr>\n",
        "      <th>Nonprofit</th>\n",
        "      <td>  12</td>\n",
        "      <td>  4.819277</td>\n",
        "    </tr>\n",
        "    <tr>\n",
        "      <th>Academic: medical school</th>\n",
        "      <td>   9</td>\n",
        "      <td>  3.614458</td>\n",
        "    </tr>\n",
        "    <tr>\n",
        "      <th>Other</th>\n",
        "      <td>   6</td>\n",
        "      <td>  2.409639</td>\n",
        "    </tr>\n",
        "    <tr>\n",
        "      <th>Commercial</th>\n",
        "      <td>   4</td>\n",
        "      <td>  1.606426</td>\n",
        "    </tr>\n",
        "  </tbody>\n",
        "</table>\n",
        "</div>"
       ],
       "metadata": {},
       "output_type": "display_data",
       "text": [
        "                            count    percent\n",
        "Academic: research-focused    191  76.706827\n",
        "Government                     14   5.622490\n",
        "Academic: teaching-focused     13   5.220884\n",
        "Nonprofit                      12   4.819277\n",
        "Academic: medical school        9   3.614458\n",
        "Other                           6   2.409639\n",
        "Commercial                      4   1.606426"
       ]
      }
     ],
     "prompt_number": 19
    },
    {
     "cell_type": "code",
     "collapsed": false,
     "input": [
      "graph_likert(['data_sharing_importance'], [5,4,3,2,1])"
     ],
     "language": "python",
     "metadata": {},
     "outputs": [
      {
       "metadata": {},
       "output_type": "pyout",
       "prompt_number": 62,
       "text": [
        "<matplotlib.axes._subplots.AxesSubplot at 0x10558b048>"
       ]
      },
      {
       "metadata": {},
       "output_type": "display_data",
       "png": "[encoded data removed]",
       "text": [
        "<matplotlib.figure.Figure at 0x109520128>"
       ]
      }
     ],
     "prompt_number": 62
    },
    {
     "cell_type": "heading",
     "level": 3,
     "metadata": {},
     "source": [
      "Figure 1. Researchers are generally unfamiliar with data-related funder policies."
     ]
    },
    {
     "cell_type": "code",
     "collapsed": false,
     "input": [
      "AWARENESS_QUESTIONS = ['aware_nsf_dmp', 'aware_nih_data_sharing_policy', 'aware_ostp_policy']\n",
      "AWARENESS_ANSWERS = [\"Never heard of it\", \"Heard of it\", \"Read about it\", \"Know all the details\"]  \n",
      "\n",
      "graph_likert(AWARENESS_QUESTIONS, AWARENESS_ANSWERS, filter_on_column='united_states', filter_value=True)"
     ],
     "language": "python",
     "metadata": {},
     "outputs": [
      {
       "metadata": {},
       "output_type": "pyout",
       "prompt_number": 63,
       "text": [
        "<matplotlib.axes._subplots.AxesSubplot at 0x10945f9e8>"
       ]
      },
      {
       "metadata": {},
       "output_type": "display_data",
       "png": "[encoded data removed]",
       "text": [
        "<matplotlib.figure.Figure at 0x10945f710>"
       ]
      }
     ],
     "prompt_number": 63
    },
    {
     "cell_type": "markdown",
     "metadata": {},
     "source": [
      "Respondents based at US institutions self-reported their familiarity with three government funder policies: the Whitehouse OSTP Open Data Initiative (n = 197), NSF Data Management Plan requirements (n = 197), and the NIH data sharing policy (only biologists included, n = 76). White dots show the mean familiarity for each item; standard error of each mean < the radius of the dot."
     ]
    },
    {
     "cell_type": "heading",
     "level": 3,
     "metadata": {},
     "source": [
      "Figure 2. Researchers primarily share data in response to direct contact (e.g. via email)."
     ]
    },
    {
     "cell_type": "heading",
     "level": 4,
     "metadata": {},
     "source": [
      "Figure 2A."
     ]
    },
    {
     "cell_type": "code",
     "collapsed": false,
     "input": [
      "SHARING_CHANNELS = [\"Email / direct contact\", \"Personal or lab website\", \"Journal website (as supplemental material)\", \n",
      "                    \"Database or repository\"]\n",
      "graph_checkbox('how_shared', SHARING_CHANNELS)"
     ],
     "language": "python",
     "metadata": {},
     "outputs": [
      {
       "metadata": {},
       "output_type": "pyout",
       "prompt_number": 64,
       "text": [
        "<matplotlib.axes._subplots.AxesSubplot at 0x109851390>"
       ]
      },
      {
       "metadata": {},
       "output_type": "display_data",
       "png": "[encoded data removed]",
       "text": [
        "<matplotlib.figure.Figure at 0x10a086978>"
       ]
      }
     ],
     "prompt_number": 64
    },
    {
     "cell_type": "heading",
     "level": 4,
     "metadata": {},
     "source": [
      "Figure 2B."
     ]
    },
    {
     "cell_type": "code",
     "collapsed": false,
     "input": [
      "graph_checkbox('how_others_got', SHARING_CHANNELS)"
     ],
     "language": "python",
     "metadata": {},
     "outputs": [
      {
       "metadata": {},
       "output_type": "pyout",
       "prompt_number": 65,
       "text": [
        "<matplotlib.axes._subplots.AxesSubplot at 0x109384c88>"
       ]
      },
      {
       "metadata": {},
       "output_type": "display_data",
       "png": "[encoded data removed]",
       "text": [
        "<matplotlib.figure.Figure at 0x1098703c8>"
       ]
      }
     ],
     "prompt_number": 65
    },
    {
     "cell_type": "heading",
     "level": 4,
     "metadata": {},
     "source": [
      "Figure 2C."
     ]
    },
    {
     "cell_type": "code",
     "collapsed": false,
     "input": [
      "graph_checkbox('how_you_got', SHARING_CHANNELS)"
     ],
     "language": "python",
     "metadata": {},
     "outputs": [
      {
       "metadata": {},
       "output_type": "pyout",
       "prompt_number": 66,
       "text": [
        "<matplotlib.axes._subplots.AxesSubplot at 0x10958c5c0>"
       ]
      },
      {
       "metadata": {},
       "output_type": "display_data",
       "png": "[encoded data removed]",
       "text": [
        "<matplotlib.figure.Figure at 0x1098f8f60>"
       ]
      }
     ],
     "prompt_number": 66
    },
    {
     "cell_type": "heading",
     "level": 4,
     "metadata": {},
     "source": [
      "Figure 2D."
     ]
    },
    {
     "cell_type": "code",
     "collapsed": false,
     "input": [
      "HOW_DOCUMENTED_ANSWERS = [\"A traditional research paper based on the data (with analysis and conclusions)\",\n",
      "                          \"A data paper describing the data (without analysis or conclusions)\",\n",
      "                          \"Informal text describing the data\",\n",
      "                          \"Formal metadata describing the data (e.g. as XML)\",\n",
      "                          \"Computer code used to process or generate the data\",\n",
      "                          \"Shared with no additional documentation\"]\n",
      "\n",
      "graph_checkbox('how_documented', HOW_DOCUMENTED_ANSWERS)"
     ],
     "language": "python",
     "metadata": {},
     "outputs": [
      {
       "metadata": {},
       "output_type": "pyout",
       "prompt_number": 67,
       "text": [
        "<matplotlib.axes._subplots.AxesSubplot at 0x10944a9b0>"
       ]
      },
      {
       "metadata": {},
       "output_type": "display_data",
       "png": "[encoded data removed]",
       "text": [
        "<matplotlib.figure.Figure at 0x10a056588>"
       ]
      }
     ],
     "prompt_number": 67
    },
    {
     "cell_type": "markdown",
     "metadata": {},
     "source": [
      "**Researchers primarily share data in response to direct contact (e.g. via email).**\n",
      "Respondents who shared data indicated (A.) the channels they used to share their data, (B.) the channels others used to obtain the data, and (D.) how they documented the data. (C.) Respondents who used others data indicated the channels through which they obtained the data."
     ]
    },
    {
     "cell_type": "heading",
     "level": 3,
     "metadata": {},
     "source": [
      "Figure 3. Formal citation is the preferred method of crediting dataset creators."
     ]
    },
    {
     "cell_type": "heading",
     "level": 4,
     "metadata": {},
     "source": [
      "Figure 3A."
     ]
    },
    {
     "cell_type": "code",
     "collapsed": false,
     "input": [
      "HOW_CREDITED_ANSWERS = [\"Authorship on paper\",\n",
      "                        \"Acknowledgement in the paper\",\n",
      "                        \"Data cited in the reference list\",\n",
      "                        \"Data cited informally in the text of the paper\"]\n",
      "\n",
      "graph_checkbox('data_sharing_credit', HOW_CREDITED_ANSWERS)"
     ],
     "language": "python",
     "metadata": {},
     "outputs": [
      {
       "metadata": {},
       "output_type": "pyout",
       "prompt_number": 68,
       "text": [
        "<matplotlib.axes._subplots.AxesSubplot at 0x10a48feb8>"
       ]
      },
      {
       "metadata": {},
       "output_type": "display_data",
       "png": "[encoded data removed]",
       "text": [
        "<matplotlib.figure.Figure at 0x109c70cf8>"
       ]
      }
     ],
     "prompt_number": 68
    },
    {
     "cell_type": "heading",
     "level": 4,
     "metadata": {},
     "source": [
      "Figure 3B."
     ]
    },
    {
     "cell_type": "code",
     "collapsed": false,
     "input": [
      "graph_checkbox('how_you_credited', HOW_CREDITED_ANSWERS)"
     ],
     "language": "python",
     "metadata": {},
     "outputs": [
      {
       "metadata": {},
       "output_type": "pyout",
       "prompt_number": 69,
       "text": [
        "<matplotlib.axes._subplots.AxesSubplot at 0x10a14d128>"
       ]
      },
      {
       "metadata": {},
       "output_type": "display_data",
       "png": "[encoded data removed]",
       "text": [
        "<matplotlib.figure.Figure at 0x10a14a438>"
       ]
      }
     ],
     "prompt_number": 69
    },
    {
     "cell_type": "markdown",
     "metadata": {},
     "source": [
      "Respondents indicated (A.) how a dataset creator should be credited, (B.) how they actually credited a dataset creator in the past, and (C.) how satisfied they were with the credit they received the last time someone else published using their data.  (A., B.) Respondents could select more than one item for each question.\n",
      "Error bars depict bootstrapped 95% confidence intervals."
     ]
    },
    {
     "cell_type": "heading",
     "level": 3,
     "metadata": {},
     "source": [
      "Figure 4. Researcher expectations of data publication center on availability, not peer review."
     ]
    },
    {
     "cell_type": "heading",
     "level": 4,
     "metadata": {},
     "source": [
      "Figure 4A."
     ]
    },
    {
     "cell_type": "code",
     "collapsed": false,
     "input": [
      "DP_FEATURES = [\"Openly available without contacting the author(s)\",\n",
      "               \"Deposited in a database or repository\",\n",
      "               \"Assigned a unique identifier such as a DOI\",\n",
      "               \"A traditional research paper is based on the data\",\n",
      "               \"A data paper (without conclusions) describes the data\",\n",
      "               \"Packaged with a thorough description of the data\",\n",
      "               \"Packaged with formal metadata describing the data (e.g. as XML)\",\n",
      "               \"Dataset is \\\"peer reviewed\\\"\"]\n",
      "graph_checkbox('publish_definition', DP_FEATURES)"
     ],
     "language": "python",
     "metadata": {},
     "outputs": [
      {
       "metadata": {},
       "output_type": "pyout",
       "prompt_number": 70,
       "text": [
        "<matplotlib.axes._subplots.AxesSubplot at 0x109cb9780>"
       ]
      },
      {
       "metadata": {},
       "output_type": "display_data",
       "png": "[encoded data removed]",
       "text": [
        "<matplotlib.figure.Figure at 0x109ce2588>"
       ]
      }
     ],
     "prompt_number": 70
    },
    {
     "cell_type": "heading",
     "level": 4,
     "metadata": {},
     "source": [
      "Figure 4B."
     ]
    },
    {
     "cell_type": "code",
     "collapsed": false,
     "input": [
      "PR_FEATURES = [\"Collection and processing methods were evaluated\",\n",
      "               \"Descriptive text is thorough enough to use or replicate the dataset\",\n",
      "               \"Necessary metadata is standardized (e.g. in XML)\",\n",
      "               \"Technical details have been checked (e.g. no missing files no missing values)\",\n",
      "               \"Plausibility considered based on area expertise\",\n",
      "               \"Novelty/impact considered\"]\n",
      "\n",
      "graph_checkbox('peer_review_definition', PR_FEATURES)"
     ],
     "language": "python",
     "metadata": {},
     "outputs": [
      {
       "metadata": {},
       "output_type": "pyout",
       "prompt_number": 71,
       "text": [
        "<matplotlib.axes._subplots.AxesSubplot at 0x10a0b7a20>"
       ]
      },
      {
       "metadata": {},
       "output_type": "display_data",
       "png": "[encoded data removed]",
       "text": [
        "<matplotlib.figure.Figure at 0x10a406780>"
       ]
      }
     ],
     "prompt_number": 71
    },
    {
     "cell_type": "markdown",
     "metadata": {},
     "source": [
      "Respondents conveyed the expectations raised by the terms (A.) publication and (B.) peer review in the context of data. \n",
      "Respondents could select more than one item for each question. \n",
      "Error bars depict bootstrapped 95% confidence intervals."
     ]
    },
    {
     "cell_type": "heading",
     "level": 3,
     "metadata": {},
     "source": [
      "Figure 6. Researchers trust and value peer review highly."
     ]
    },
    {
     "cell_type": "heading",
     "level": 4,
     "metadata": {},
     "source": [
      "Figure 6A."
     ]
    },
    {
     "cell_type": "code",
     "collapsed": false,
     "input": [
      "DATA_TRUST = ['traditional_paper_confidence', 'data_paper_confidence', 'peer_review_confidence', 'reuse_confidence']\n",
      "DATA_TRUST_SEQUENCE = [\"No confidence\", \"Little confidence\", \"Some confidence\", \"High confidence\", \"Complete confidence\"]\n",
      "\n",
      "graph_likert(DATA_TRUST,DATA_TRUST_SEQUENCE)"
     ],
     "language": "python",
     "metadata": {},
     "outputs": [
      {
       "metadata": {},
       "output_type": "pyout",
       "prompt_number": 72,
       "text": [
        "<matplotlib.axes._subplots.AxesSubplot at 0x10a0bb3c8>"
       ]
      },
      {
       "metadata": {},
       "output_type": "display_data",
       "png": "[encoded data removed]",
       "text": [
        "<matplotlib.figure.Figure at 0x10a42de10>"
       ]
      }
     ],
     "prompt_number": 72
    },
    {
     "cell_type": "heading",
     "level": 4,
     "metadata": {},
     "source": [
      "Figure 6B."
     ]
    },
    {
     "cell_type": "code",
     "collapsed": false,
     "input": [
      "DATA_IMPACT = ['impact_citation', 'impact_downloads', 'impact_altmetrics', 'impact_google_rank']\n",
      "DATA_IMPACT_SEQUENCE = [\"Not at all useful\", \"Slightly useful\", \"Somewhat useful\", \"Highly useful\", \"Extremely useful\"]\n",
      "\n",
      "graph_likert(DATA_IMPACT, DATA_IMPACT_SEQUENCE)"
     ],
     "language": "python",
     "metadata": {},
     "outputs": [
      {
       "metadata": {},
       "output_type": "pyout",
       "prompt_number": 73,
       "text": [
        "<matplotlib.axes._subplots.AxesSubplot at 0x10a42d978>"
       ]
      },
      {
       "metadata": {},
       "output_type": "display_data",
       "png": "[encoded data removed]",
       "text": [
        "<matplotlib.figure.Figure at 0x10964c898>"
       ]
      }
     ],
     "prompt_number": 73
    },
    {
     "cell_type": "heading",
     "level": 4,
     "metadata": {},
     "source": [
      "Figure 6C."
     ]
    },
    {
     "cell_type": "code",
     "collapsed": false,
     "input": [
      "PUBLICATION_VALUE = [\"traditional_paper_value\", \"data_paper_pr_value\", \"data_paper_npr_value\", \"dataset_pr_value\", \"dataset_npr_value\"]\n",
      "PUBLICATION_VALUE_SEQUENCE = [\"None\", \"A small amount\", \"Some\", \"Significant\", \"A great deal\"]\n",
      "\n",
      "graph_likert(PUBLICATION_VALUE, PUBLICATION_VALUE_SEQUENCE)"
     ],
     "language": "python",
     "metadata": {},
     "outputs": [
      {
       "metadata": {},
       "output_type": "pyout",
       "prompt_number": 74,
       "text": [
        "<matplotlib.axes._subplots.AxesSubplot at 0x10a614860>"
       ]
      },
      {
       "metadata": {},
       "output_type": "display_data",
       "png": "[encoded data removed]",
       "text": [
        "<matplotlib.figure.Figure at 0x10a336a58>"
       ]
      }
     ],
     "prompt_number": 74
    },
    {
     "cell_type": "markdown",
     "metadata": {},
     "source": [
      "(A.) Respondents reported their past experience evaluating other researchers in each context; respondents could select more than one item.\n",
      "Respondents reported (B.) how much trust each data publication feature inspires, (C.) how useful each metric would be for assessing impact, and (D.) how valuable a CV item each kind of data publication would be.\n",
      "White dots show the mean response for each item; error bars depict bootstrapped 95% confidence intervals."
     ]
    },
    {
     "cell_type": "heading",
     "level": 2,
     "metadata": {},
     "source": [
      "Statistical functions"
     ]
    },
    {
     "cell_type": "code",
     "collapsed": false,
     "input": [
      "def dvar_by_ivar(dvar, dvar_values, ivar):    \n",
      "    checkbox_responses = expand_checkbox(dvar.dropna(), dvar_values)\n",
      "    checkbox_responses[ivar.name] = ivar\n",
      "\n",
      "    # group by ivar values \n",
      "    grouped_by_ivar = checkbox_responses.groupby(ivar.name)\n",
      "    \n",
      "    # create a DataFrame where index= ivar values, columns = multi-index [dvar_values, [True, False]],\n",
      "    # cell values= count for each ivar value, dvar value, and bool value\n",
      "    grouped_frame = grouped_by_ivar.agg([np.count_nonzero, lambda x: np.size(x) - np.count_nonzero(x)])\n",
      "    grouped_frame = grouped_frame.rename(columns={'count_nonzero' : True, '<lambda>' : False})\n",
      "    return grouped_frame\n",
      "        "
     ],
     "language": "python",
     "metadata": {},
     "outputs": []
    },
    {
     "cell_type": "code",
     "collapsed": false,
     "input": [
      "def validate_chi_square(expected_values, counts=1, fraction=0.8):\n",
      "    for cell in expected_values:\n",
      "        if cell.min() < counts:\n",
      "            print \"expected count less than \" + str(counts)\n",
      "            \n",
      "def chkbx_chi_square(dvar, dvar_values, ivar, validate=True):\n",
      "\n",
      "    grouped_frame = dvar_by_ivar(dvar, dvar_values, ivar)\n",
      "    \n",
      "    # calculate chi square for each dvar value & return all of them in a DataFrame\n",
      "    output = grouped_frame.groupby(level=0, axis=1).apply(lambda x: sps.chi2_contingency(x.as_matrix()))\n",
      "    output = output.apply(lambda x: pd.Series(x, index = ['chi2', 'p', 'df', 'expected_values']))\n",
      "    \n",
      "    if validate: \n",
      "        validate_chi_square(output.expected_values)\n",
      "    \n",
      "    return output"
     ],
     "language": "python",
     "metadata": {},
     "outputs": []
    },
    {
     "cell_type": "code",
     "collapsed": false,
     "input": [
      "def chbx_fisher_exact(dvar, dvar_values, ivar):\n",
      "    grouped_frame = dvar_by_ivar(dvar, dvar_values, ivar)\n",
      "    output = grouped_frame.groupby(level=0, axis=1).apply(lambda x: sps.fisher_exact(x.as_matrix()))\n",
      "    output = output.apply(lambda x: pd.Series(x, index = ['OR', 'p']))\n",
      "    return output"
     ],
     "language": "python",
     "metadata": {},
     "outputs": []
    },
    {
     "cell_type": "heading",
     "level": 2,
     "metadata": {},
     "source": [
      "Influence of discipline"
     ]
    },
    {
     "cell_type": "code",
     "collapsed": false,
     "input": [
      "def draw_graph(graph):\n",
      "    \n",
      "    #nodes = set([n1 for n1, n2 in graph] + [n2 for n1,n2 in graph])\n",
      "    G=nx.Graph()\n",
      "    \n",
      "    G.add_nodes_from(DP_FEATURES)\n",
      "    \"\"\n",
      "    for edge in graph:\n",
      "        G.add_edge(edge[0], edge[1])\n",
      "    \"\"\n",
      "    pos = nx.shell_layout(G)\n",
      "    nx.draw(G, pos)\n",
      "\n",
      "    # show graph\n",
      "    plt.show()"
     ],
     "language": "python",
     "metadata": {},
     "outputs": []
    },
    {
     "cell_type": "code",
     "collapsed": false,
     "input": [
      "Q=nx.Graph()"
     ],
     "language": "python",
     "metadata": {},
     "outputs": []
    },
    {
     "cell_type": "code",
     "collapsed": false,
     "input": [
      "Q.add_nodes_from(DP_FEATURES)"
     ],
     "language": "python",
     "metadata": {},
     "outputs": []
    },
    {
     "cell_type": "code",
     "collapsed": false,
     "input": [
      "Q.add_edge(\"Openly available without contacting the author(s)\",\n",
      "               \"Deposited in a database or repository\")"
     ],
     "language": "python",
     "metadata": {},
     "outputs": []
    },
    {
     "cell_type": "code",
     "collapsed": false,
     "input": [
      "pos = nx.shell_layout(Q)\n",
      "nx.draw(Q, pos)\n",
      "#dplt.show()"
     ],
     "language": "python",
     "metadata": {},
     "outputs": []
    },
    {
     "cell_type": "code",
     "collapsed": false,
     "input": [
      "def combinatorial_fisher_exact(checkbox_responses):\n",
      "    \"\"\"\n",
      "    checkbox_responses should be a DataFrame in format:\n",
      "                answer1 answer2 ...\n",
      "    respondent1 T/F     T/F\n",
      "    respondent2 T/F     T/F\n",
      "    ...\n",
      "    \n",
      "    returns a DataFrame in format:\n",
      "                option1         option2       ...\n",
      "                OR     p-value  OR    p-value\n",
      "    option1     NaN    NaN      #>1   #\n",
      "    option2     #>1    #        NaN   NaN     ...\n",
      "    ...\n",
      "    \n",
      "    all ORs are calculated to be >1, returned frame is diagonally symmetrical \n",
      "    \"\"\"\n",
      "    return_columns = pd.MultiIndex.from_product([checkbox_responses.columns, ['OR', 'p-value']])\n",
      "    \n",
      "    return_frame = pd.DataFrame(index=checkbox_responses.columns, columns=return_columns)\n",
      "    \n",
      "    i = 0\n",
      "    for a in checkbox_responses.columns:\n",
      "        i += 1\n",
      "        for b in checkbox_responses.columns[i:]:\n",
      "            square = pd.DataFrame({ 0 : 0, 0 : 0}, index=[True, False], columns=[True, False])        \n",
      "        \n",
      "            # fill in counts\n",
      "            square[True] = (checkbox_responses[checkbox_responses[a] == True][b].value_counts())\n",
      "            square[False] = (checkbox_responses[checkbox_responses[a] == False][b].value_counts())\n",
      "\n",
      "            odds_ratio, p = sps.fisher_exact(square.as_matrix())\n",
      "            \n",
      "            if odds_ratio < 1:\n",
      "                odds_ratio, p = sps.fisher_exact(square.T.as_matrix())\n",
      "                \n",
      "            \n",
      "            return_frame.loc[a,(b,'OR')] = return_frame.loc[b,(a,'OR')] = odds_ratio\n",
      "            return_frame.loc[a,(b,'p-value')] = return_frame.loc[b,(a,'p-value')]= p\n",
      "\n",
      "    return return_frame\n",
      "\n",
      "\n",
      "\n",
      "                    \n",
      "def checkbox_fisher_exact(question, answers):\n",
      "    \n",
      "    # DF of bools; responders x checkbox (checked = True) \n",
      "    checkbox_responses = expand_checkbox(question.dropna(), answers)\n",
      "    \n",
      "    # DF of True and False counts for each checkbox\n",
      "    count_table = checkbox_responses.apply(lambda x: x.value_counts()).T\n",
      "    \n",
      "    return combinatorial_fisher_exact(checkbox_responses)\n",
      "    \n",
      "   \n",
      "    #fig = nx.Graph()\n",
      "    #fig.add_nodes_from(answers, color='b')\n",
      "    #edge_color = 'b' if prelim_oddsratio == oddsratio else 'r'\n",
      "    #fig.add_edge(a, b, color=edge_color, weight=(oddsratio))      \n",
      "    #pos = nx.circular_layout(fig)\n",
      "    #nx.draw_circular(fig)\n",
      "    #plt.show()\n",
      "\n",
      "def jacknifed_fisher_exact(question, answers):\n",
      "         \n",
      "    checkbox_responses = expand_checkbox(question.dropna(), answers)\n",
      "\n",
      "    jk_responses = jacknife(checkbox_responses)\n",
      "\n",
      "    jk_results = [combinatorial_fisher_exact(frame) for frame in jk_responses]\n",
      "\n",
      "    #jk_results_dict = dict(zip(question.index, jk_results))\n",
      "    #jk_result_panel = pd.Panel(jk_results_dict)\n",
      "    #return jk_result_panel\n",
      "\n",
      "    return jk_results\n",
      "\n",
      "\n",
      "def jacknife_fisher_exact_effect(jacknifed_frames, reference_frame, alpha=0.05, statistic='p-value'):\n",
      "        reference_significance = reference_frame.xs(statistic, level=1, axis=1).apply(lambda x: x < alpha)\n",
      "        \n",
      "        #display(jacknifed_frames)\n",
      "        sig_frames = [frame.xs(statistic, level=1, axis=1).apply(lambda x: x < alpha) for frame in jacknifed_frames]\n",
      "        filter_frames = [frame != reference_significance for frame in sig_frames]\n",
      "        filter_panel = pd.Panel(dict(zip(np.arange(0,len(filter_frames)-1), filter_frames)))\n",
      "        return filter_panel.sum(axis=0)\n",
      "    \n",
      "def jacknife_effect_1d(jacknifed_results_frames, reference_frame, statistic='p', alpha=0.05):\n",
      "        # apply significance threshold to the reference frame\n",
      "        reference_significance = reference_frame.xs(statistic, axis=1).apply(lambda x: x < alpha)\n",
      "        \n",
      "        # apply significance threshold to each jacknifed frame\n",
      "        sig_frames = [frame.xs(statistic, axis=1).apply(lambda x: x < alpha) for frame in jacknifed_results_frames]\n",
      "        \n",
      "        # compare jacknifed frames to reference\n",
      "        filter_frames = [frame != reference_significance for frame in sig_frames]\n",
      "                        \n",
      "        # build panel of filter_frames\n",
      "        filter_results = pd.DataFrame.from_dict(dict(zip(np.arange(0,len(filter_frames)-1), filter_frames)))\n",
      "        \n",
      "        # sum differences for each cell and return\n",
      "        return filter_results.sum(axis=1)\n",
      "\n",
      "\n",
      "\n"
     ],
     "language": "python",
     "metadata": {},
     "outputs": []
    },
    {
     "cell_type": "code",
     "collapsed": false,
     "input": [
      "publish_fe = checkbox_fisher_exact(responses.publish_definition, DP_FEATURES)\n",
      "display(publish_fe)\n"
     ],
     "language": "python",
     "metadata": {},
     "outputs": []
    },
    {
     "cell_type": "code",
     "collapsed": false,
     "input": [
      "jk_publish_fe = jacknifed_fisher_exact(responses.publish_definition, DP_FEATURES)\n",
      "display(jacknife_fisher_exact_effect(jk_publish_fe, publish_fe, alpha=0.05/28))"
     ],
     "language": "python",
     "metadata": {},
     "outputs": []
    },
    {
     "cell_type": "code",
     "collapsed": false,
     "input": [
      "pr_fe = checkbox_fisher_exact(responses.peer_review_definition, PR_FEATURES)\n",
      "jk_pr_fe = jacknifed_fisher_exact(responses.peer_review_definition, PR_FEATURES)"
     ],
     "language": "python",
     "metadata": {},
     "outputs": []
    },
    {
     "cell_type": "code",
     "collapsed": false,
     "input": [
      "display(jacknife_fisher_exact_effect(jk_pr_fe, pr_fe, alpha=0.05/15))"
     ],
     "language": "python",
     "metadata": {},
     "outputs": []
    },
    {
     "cell_type": "code",
     "collapsed": false,
     "input": [
      "def or_power(p_yes, p_no, n_yes, n_no, alpha=0.05):\n",
      "\n",
      "    kappa= n_yes/n_no\n",
      "    odds_ratio=(p_yes*(1-p_no))/(p_no*(1-p_yes))\n",
      "    \n",
      "    z=log(odds_ratio)*sqrt(n_no)/sqrt(1/(kappa*p_yes*(1-p_yes))+1/(p_no*(1-p_no)))\n",
      "    power=pnorm(z-qnorm(1-alpha/2))+pnorm(-z-qnorm(1-alpha/2))"
     ],
     "language": "python",
     "metadata": {},
     "outputs": []
    },
    {
     "cell_type": "code",
     "collapsed": false,
     "input": [
      "def jacknife(data_frame, axis=0):\n",
      "    \"\"\"\n",
      "    returns a list of DataFrames, each with 1 row or column of data_frame deleted\n",
      "    \n",
      "            frame_list.append(data_frame.drop(index))\n",
      "    if axis == 1:\n",
      "        for column in data_frame.columns:\n",
      "            frame_list.append(data_frame.drop(column))\n",
      "    \n",
      "    return frame_list\n",
      "\n",
      "jacknifed_responses = jacknife(responses)"
     ],
     "language": "python",
     "metadata": {},
     "outputs": []
    },
    {
     "cell_type": "code",
     "collapsed": false,
     "input": [
      "populated_disciplines = responses[responses.discipline != \"Mathematics\"].discipline"
     ],
     "language": "python",
     "metadata": {},
     "outputs": []
    },
    {
     "cell_type": "code",
     "collapsed": false,
     "input": [
      "alpha = 0.05/4\n",
      "\n",
      "how_shared_by_discipline = chkbx_chi_square(responses.how_shared, SHARING_CHANNELS, populated_disciplines)\n",
      "display(how_shared_by_discipline)\n",
      "\n",
      "how_shared_by_discipline_chi2_frames = []\n",
      "for frame in jacknifed_responses:\n",
      "    how_shared_by_discipline_chi2_frames.append(chkbx_chi_square(frame.how_shared, SHARING_CHANNELS, populated_disciplines, validate=False))\n",
      "display(jacknife_effect_1d(how_shared_by_discipline_chi2_frames, how_shared_by_discipline, alpha=alpha))\n",
      "\n",
      "how_shared_by_role = chkbx_chi_square(responses.how_shared, SHARING_CHANNELS, responses.role)\n",
      "display(how_shared_by_role)\n",
      "\n",
      "how_shared_by_role_chi2_frames = []\n",
      "for frame in jacknifed_responses:\n",
      "    how_shared_by_role_chi2_frames.append(chkbx_chi_square(frame.how_shared, SHARING_CHANNELS, populated_disciplines, validate=False))\n",
      "display(jacknife_effect_1d(how_shared_by_role_chi2_frames, how_shared_by_discipline, alpha=alpha))\n",
      "\n",
      "\n",
      "print \"alpha = \" + str(alpha)\n"
     ],
     "language": "python",
     "metadata": {},
     "outputs": []
    },
    {
     "cell_type": "code",
     "collapsed": false,
     "input": [
      "alpha = 0.05/4\n",
      "\n",
      "data_sharing_credit_by_discipline = chkbx_chi_square(responses.data_sharing_credit, HOW_CREDITED_ANSWERS, populated_disciplines)\n",
      "display(data_sharing_credit_by_discipline)\n",
      "\n",
      "data_sharing_credit_by_discipline_chi2_frames = []\n",
      "for frame in jacknifed_responses:\n",
      "    data_sharing_credit_by_discipline_chi2_frames.append(chkbx_chi_square(frame.data_sharing_credit, HOW_CREDITED_ANSWERS, populated_disciplines, validate=False))\n",
      "display(jacknife_effect_1d(data_sharing_credit_by_discipline_chi2_frames, data_sharing_credit_by_discipline, alpha=alpha))\n",
      "\n",
      "data_sharing_credit_by_role = chkbx_chi_square(responses.data_sharing_credit, HOW_CREDITED_ANSWERS, responses.role)\n",
      "display(data_sharing_credit_by_role)\n",
      "\n",
      "data_sharing_credit_by_role_chi2_frames = []\n",
      "for frame in jacknifed_responses:\n",
      "    data_sharing_credit_by_role_chi2_frames.append(chkbx_chi_square(frame.data_sharing_credit, HOW_CREDITED_ANSWERS, populated_disciplines, validate=False))\n",
      "display(jacknife_effect_1d(data_sharing_credit_by_role_chi2_frames, data_sharing_credit_by_role, alpha=alpha))\n",
      "\n",
      "print \"alpha = \" + str(alpha)\n"
     ],
     "language": "python",
     "metadata": {},
     "outputs": []
    },
    {
     "cell_type": "code",
     "collapsed": false,
     "input": [
      "alpha = 0.05/8\n",
      "\n",
      "publish_definition_by_discipline = chkbx_chi_square(responses.publish_definition, DP_FEATURES, populated_disciplines)\n",
      "display(publish_definition_by_discipline)\n",
      "\n",
      "publish_definition_by_discipline_chi2_frames = []\n",
      "for frame in jacknifed_responses:\n",
      "    publish_definition_by_discipline_chi2_frames.append(chkbx_chi_square(frame.publish_definition, DP_FEATURES, \n",
      "                                                                         populated_disciplines, validate=False))\n",
      "    \n",
      "display(jacknife_effect_1d(publish_definition_by_discipline_chi2_frames, publish_definition_by_discipline, alpha=alpha))\n",
      "\n",
      "publish_definition_by_role = chkbx_chi_square(responses.publish_definition, DP_FEATURES, responses.role)\n",
      "display(publish_definition_by_role)\n",
      "\n",
      "publish_definition_by_role_chi2_frames = []\n",
      "for frame in jacknifed_responses:\n",
      "    publish_definition_by_role_chi2_frames.append(chkbx_chi_square(frame.publish_definition, DP_FEATURES, \n",
      "                                                                   responses.role, validate=False))\n",
      "    \n",
      "display(jacknife_effect_1d(publish_definition_by_role_chi2_frames, publish_definition_by_role, alpha=alpha))\n",
      "\n",
      "print \"alpha = \" + str(alpha)\n"
     ],
     "language": "python",
     "metadata": {},
     "outputs": []
    },
    {
     "cell_type": "code",
     "collapsed": false,
     "input": [
      "alpha = 0.05/6\n",
      "\n",
      "peer_review_definition_by_discipline = chkbx_chi_square(responses.peer_review_definition, PR_FEATURES, populated_disciplines)\n",
      "display(peer_review_definition_by_discipline)\n",
      "\n",
      "peer_review_definition_by_discipline_chi2_frames = []\n",
      "for frame in jacknifed_responses:\n",
      "    peer_review_definition_by_discipline_chi2_frames.append(chkbx_chi_square(frame.peer_review_definition, PR_FEATURES, \n",
      "                                                                             populated_disciplines, validate=False))\n",
      "    \n",
      "display(jacknife_effect_1d(peer_review_definition_by_discipline_chi2_frames, peer_review_definition_by_discipline, alpha=alpha))\n",
      "\n",
      "peer_review_definition_by_role = chkbx_chi_square(responses.peer_review_definition, PR_FEATURES, responses.role)\n",
      "display(peer_review_definition_by_role)\n",
      "\n",
      "peer_review_definition_by_role_chi2_frames = []\n",
      "for frame in jacknifed_responses:\n",
      "    peer_review_definition_by_role_chi2_frames.append(chkbx_chi_square(frame.peer_review_definition, PR_FEATURES, \n",
      "                                                                       responses.role, validate=False))\n",
      "    \n",
      "display(jacknife_effect_1d(peer_review_definition_by_role_chi2_frames, peer_review_definition_by_role, alpha=alpha))\n",
      "\n",
      "print \"alpha = \" + str(alpha)\n"
     ],
     "language": "python",
     "metadata": {},
     "outputs": []
    },
    {
     "cell_type": "code",
     "collapsed": false,
     "input": [
      "dp_checkbox = expand_checkbox(responses.publish_definition.dropna(), DP_FEATURES)\n",
      "dp_checkbox['discipline'] = responses.discipline\n",
      "counts = dp_checkbox.groupby('discipline').sum()\n",
      "disc_totals = dp_checkbox.discipline.value_counts()\n",
      "\n",
      "for disc in counts.index:\n",
      "    counts.ix[disc] = counts.ix[disc].apply(lambda x: float(x) / disc_totals[disc])\n",
      "#normalize = counts.apply(test.discipline.value_counts()\n",
      "#display(counts)\n",
      "counts[\"Packaged with formal metadata describing the data (e.g. as XML)\"].plot(kind='bar',\n",
      "                                                                               color=COLORS[4],\n",
      "                                                                               grid='off')\n",
      "display(counts[\"Packaged with formal metadata describing the data (e.g. as XML)\"])"
     ],
     "language": "python",
     "metadata": {},
     "outputs": []
    },
    {
     "cell_type": "code",
     "collapsed": false,
     "input": [
      "pr_checkbox = expand_checkbox(responses.peer_review_definition.dropna(), PR_FEATURES)\n",
      "pr_checkbox['discipline'] = responses.discipline\n",
      "counts = pr_checkbox.groupby('discipline').sum()\n",
      "disc_totals = pr_checkbox.discipline.value_counts()\n",
      "\n",
      "for disc in counts.index:\n",
      "    counts.ix[disc] = counts.ix[disc].apply(lambda x: float(x) / disc_totals[disc])\n",
      "#normalize = counts.apply(test.discipline.value_counts()\n",
      "#display(counts)\n",
      "counts[\"Necessary metadata is standardized (e.g. in XML)\"].plot(kind='bar',\n",
      "                                                                color=COLORS[4],\n",
      "                                                                grid='off')\n",
      "display(counts[\"Necessary metadata is standardized (e.g. in XML)\"])"
     ],
     "language": "python",
     "metadata": {},
     "outputs": []
    },
    {
     "cell_type": "code",
     "collapsed": false,
     "input": [
      "alpha = 0.05/6\n",
      "peer_review_definition_by_expectation = chkbx_chi_square(responses.peer_review_definition, PR_FEATURES, dp_checkbox['Dataset is \"peer reviewed\"'])\n",
      "display(peer_review_definition_by_expectation)\n",
      "\n",
      "peer_review_definition_by_expectation_chi2_frames = []\n",
      "for frame in jacknifed_responses:\n",
      "    peer_review_definition_by_expectation_chi2_frames.append(chkbx_chi_square(frame.peer_review_definition, PR_FEATURES, \n",
      "                                                                       dp_checkbox['Dataset is \"peer reviewed\"'], \n",
      "                                                                       validate=False))\n",
      "    \n",
      "display(jacknife_effect_1d(peer_review_definition_by_expectation_chi2_frames, \n",
      "                           peer_review_definition_by_expectation, alpha=alpha))\n",
      "\n",
      "print \"alpha = \" + str(alpha)"
     ],
     "language": "python",
     "metadata": {},
     "outputs": []
    },
    {
     "cell_type": "code",
     "collapsed": false,
     "input": [
      "alpha = 0.05/6\n",
      "peer_review_definition_by_expectation = chbx_fisher_exact(responses.peer_review_definition, PR_FEATURES, dp_checkbox['Dataset is \"peer reviewed\"'])\n",
      "display(peer_review_definition_by_expectation)\n",
      "\n",
      "peer_review_definition_by_expectation_fe_frames = []\n",
      "for frame in jacknifed_responses:\n",
      "    peer_review_definition_by_expectation_fe_frames.append(chbx_fisher_exact(frame.peer_review_definition, PR_FEATURES, \n",
      "                                                                       dp_checkbox['Dataset is \"peer reviewed\"']))\n",
      "    \n",
      "display(jacknife_effect_1d(peer_review_definition_by_expectation_fe_frames, \n",
      "                           peer_review_definition_by_expectation, alpha=alpha))\n",
      "\n",
      "print \"alpha = \" + str(alpha)"
     ],
     "language": "python",
     "metadata": {},
     "outputs": []
    },
    {
     "cell_type": "code",
     "collapsed": false,
     "input": [
      "alpha = 0.05\n",
      "\n",
      "boxes_checked = pd.DataFrame(pr_checkbox.sum(axis=1), columns=['number_checked'])\n",
      "boxes_checked['included_in_publication'] = dp_checkbox['Dataset is \"peer reviewed\"']\n",
      "\n",
      "display(boxes_checked.groupby('included_in_publication').agg([np.mean, np.std]))\n",
      "\n",
      "pr_def_sum_table = pd.concat([boxes_checked[boxes_checked['included_in_publication'] == False]['number_checked'].value_counts(),\n",
      "                              boxes_checked[boxes_checked['included_in_publication'] == True]['number_checked'].value_counts()],\n",
      "                             axis=1, keys=[False, True])\n",
      "pr_def_sum_table = pr_def_sum_table.fillna(value=0).T\n",
      "display(pr_def_sum_table)\n",
      "\n",
      "chi2_results = pd.Series(sps.chi2_contingency(pr_def_sum_table.as_matrix()), index = ['chi2', 'p', 'df', 'expected_vals'])\n",
      "\n",
      "#chi2, p, df, expected = sps.chi2_contingency(pr_def_sum_table.as_matrix())\n",
      "#display(chi2,p,df,expected)\n",
      "display(chi2_results)\n",
      "significant = p <= alpha\n",
      "\n",
      "i=0\n",
      "boxes_checked_jacknife = jacknife(boxes_checked)\n",
      "boxes_checked_chi2_series = pd.Series()\n",
      "\n",
      "for frame in boxes_checked_jacknife:\n",
      "    pr_sum_table = pd.concat([frame[frame['included_in_publication'] == False]['number_checked'].value_counts(),\n",
      "                              frame[frame['included_in_publication'] == True]['number_checked'].value_counts()],\n",
      "                             axis=1, keys=[False, True])\n",
      "    pr_sum_table = pr_sum_table.fillna(value=0).T\n",
      "    chi2, jk_p, df, expected = sps.chi2_contingency(pr_sum_table.as_matrix())\n",
      "    boxes_checked_chi2_series = boxes_checked_chi2_series.append(pd.Series(jk_p <= alpha, index=[i]), verify_integrity=True)\n",
      "    i += 1\n",
      "\n",
      "    \n",
      "display(sum(boxes_checked_chi2_series != significant))\n",
      "    \n",
      "#display(jacknife_effect_1d(boxes_checked_chi2_series, chi2_results, alpha=alpha))\n",
      "significant"
     ],
     "language": "python",
     "metadata": {},
     "outputs": []
    },
    {
     "cell_type": "code",
     "collapsed": false,
     "input": [
      "RESEARCHER_VALUE = [\"traditional_paper_value\",\n",
      "                    \"data_paper_pr_value\",\n",
      "                    \"data_paper_npr_value\",\n",
      "                    \"dataset_pr_value\",\n",
      "                    \"dataset_npr_value\"] \n",
      "\n",
      "\n",
      "RESEARCHER_VALUE_SEQUENCE = [\"A great deal\",\n",
      "                             \"Significant\",\n",
      "                             \"Some\",\n",
      "                             \"A small amount\",\n",
      "                             \"None\"]\n",
      "alpha = 0.05\n",
      "\n",
      "dp_values = responses[RESEARCHER_VALUE].dropna()\n",
      "dp_values['have_reviewed'] = (\n",
      "    responses.researcher_review_experience.dropna().apply(lambda x : \"served on a tenure & promotions committee\" in x))\n",
      "\n",
      "output = pd.DataFrame\n",
      "\n",
      "for column in RESEARCHER_VALUE:\n",
      "    square = pd.DataFrame(columns=[True, False], index=RESEARCHER_VALUE_SEQUENCE)\n",
      "    square[True] = dp_values[dp_values.have_reviewed == True][column].value_counts()\n",
      "    square[False] = dp_values[dp_values.have_reviewed == False][column].value_counts()\n",
      "    print column, sps.chi2_contingency(square.dropna().as_matrix())"
     ],
     "language": "python",
     "metadata": {},
     "outputs": []
    },
    {
     "cell_type": "code",
     "collapsed": false,
     "input": [
      "pr_checkbox['included_in_publication'] = dp_checkbox['Dataset is \"peer reviewed\"']\n",
      "counts = pr_checkbox.groupby('included_in_publication').sum()\n",
      "totals = pr_checkbox.included_in_publication.value_counts()\n",
      "\n",
      "display(counts)\n",
      "\n",
      "for disc in counts.index:\n",
      "    counts.ix[disc] = counts.ix[disc].apply(lambda x: float(x) / totals[disc])\n",
      "\n",
      "counts.plot(kind='bar', legend=None, color=COLORS)"
     ],
     "language": "python",
     "metadata": {},
     "outputs": []
    },
    {
     "cell_type": "markdown",
     "metadata": {},
     "source": [
      "**Calculation from G*Power:**\n",
      "\n",
      "\u03c7\u00b2 tests - Goodness-of-fit tests: Contingency tables\n",
      "\n",
      "Analysis:\tSensitivity: Compute required effect size \n",
      "\n",
      "Input:\n",
      "* \u03b1 err prob = 0.05\n",
      "* Power (1-\u03b2 err prob) = 0.8\n",
      "* Total sample size =\t249\n",
      "* Df = 7\n",
      "\n",
      "Output:\t\n",
      "* Noncentrality parameter \u03bb =\t14.3505266 \n",
      "* Critical \u03c7\u00b2 = 14.0671404 \n",
      "* Effect size w =\t0.2400680 \n",
      "\n",
      "*Conclusion* When testing for the effect of discipline on responses, we have 80% power to detect a moderate effect size of w = 0.24. DataONE saw small effects of discipline on fair conditions for sharing ranging from 0.11 to 0.17. Our power for those effects ranges from 19% to 45%.\n"
     ]
    },
    {
     "cell_type": "code",
     "collapsed": false,
     "input": [
      "[1] -- Wednesday, December 03, 2014 -- 16:24:42\n",
      "\u03c7\u00b2 tests - Goodness-of-fit tests: Contingency tables\n",
      "\n",
      "Analysis:\tSensitivity: Compute required effect size \n",
      "Input:\t\t\u03b1 err prob                    \t=\t0.05\n",
      "\t\t\tPower (1-\u03b2 err prob)          \t=\t0.8\n",
      "\t\t\tTotal sample size             \t=\t249\n",
      "\t\t\tDf                            \t=\t4\n",
      "Output:\t\tNoncentrality parameter \u03bb     \t=\t11.9352858\n",
      "\t\t\tCritical \u03c7\u00b2                   \t=\t9.4877290\n",
      "\t\t\tEffect size w                 \t=\t0.2189358\n"
     ],
     "language": "python",
     "metadata": {},
     "outputs": []
    },
    {
     "cell_type": "markdown",
     "metadata": {},
     "source": [
      "Test for effect of discipline on importance of sharing"
     ]
    },
    {
     "cell_type": "code",
     "collapsed": false,
     "input": [
      "importance = pd.DataFrame(responses.groupby('discipline').data_sharing_importance.value_counts()).unstack().fillna(value=0)\n",
      "display(pd.Series(sps.chi2_contingency(importance.as_matrix()), index= ['chi2', 'p', 'df', 'expected counts']))"
     ],
     "language": "python",
     "metadata": {},
     "outputs": []
    },
    {
     "cell_type": "code",
     "collapsed": false,
     "input": [
      "def combinatorial_fisher_exact_power(checkbox_responses):\n",
      "    \"\"\"\n",
      "    checkbox_responses should be a DataFrame in format:\n",
      "                answer1 answer2 ...\n",
      "    respondent1 T/F     T/F\n",
      "    respondent2 T/F     T/F\n",
      "    ...\n",
      "    \n",
      "    returns a DataFrame in format:\n",
      "                option1         option2       ...\n",
      "                OR     p-value  OR    p-value\n",
      "    option1     NaN    NaN      #>1   #\n",
      "    option2     #>1    #        NaN   NaN     ...\n",
      "    ...\n",
      "    \n",
      "    all ORs are calculated to be >1, returned frame is diagonally symmetrical \n",
      "    \"\"\"\n",
      "    return_columns = pd.MultiIndex.from_product([checkbox_responses.columns, ['OR', 'p-value', 'p1', 'p2', 'n1', 'n2']])\n",
      "    \n",
      "    return_frame = pd.DataFrame(index=checkbox_responses.columns, columns=return_columns)\n",
      "    \n",
      "    i = 0\n",
      "    for a in checkbox_responses.columns:\n",
      "        i += 1\n",
      "        for b in checkbox_responses.columns[i:]:\n",
      "            square = pd.DataFrame({ 0 : 0, 0 : 0}, index=[True, False], columns=[True, False])        \n",
      "        \n",
      "            # fill in counts\n",
      "            square[True] = (checkbox_responses[checkbox_responses[a] == True][b].value_counts())\n",
      "            square[False] = (checkbox_responses[checkbox_responses[a] == False][b].value_counts())\n",
      "\n",
      "            odds_ratio, p = sps.fisher_exact(square.as_matrix())\n",
      "            \n",
      "            if odds_ratio < 1:\n",
      "                odds_ratio, p = sps.fisher_exact(square.T.as_matrix())\n",
      "                \n",
      "            \n",
      "            return_frame.loc[a,(b,'OR')] = return_frame.loc[b,(a,'OR')] = odds_ratio\n",
      "            return_frame.loc[a,(b,'p-value')] = return_frame.loc[b,(a,'p-value')]= p\n",
      "            return_frame.loc[a,(b, 'n1')] = square[True][True] + square[True][False]\n",
      "            return_frame.loc[a,(b, 'n2')] = square[False][True] + square[False][False]\n",
      "            return_frame.loc[a,(b, 'p1')] = square[True][True] / float(return_frame.loc[a,(b, 'n1')])\n",
      "            return_frame.loc[a,(b, 'p2')] = square[False][True] / float(return_frame.loc[a,(b, 'n2')])\n",
      "           \n",
      "\n",
      "\n",
      "    return return_frame\n",
      "\n",
      "                    \n",
      "def checkbox_fisher_exact_power(question, answers):\n",
      "    \n",
      "    # DF of bools; responders x checkbox (checked = True) \n",
      "    checkbox_responses = expand_checkbox(question.dropna(), answers)\n",
      "    \n",
      "    # DF of True and False counts for each checkbox\n",
      "    count_table = checkbox_responses.apply(lambda x: x.value_counts()).T\n",
      "    \n",
      "    return combinatorial_fisher_exact_power(checkbox_responses)"
     ],
     "language": "python",
     "metadata": {},
     "outputs": []
    },
    {
     "cell_type": "code",
     "collapsed": false,
     "input": [
      "publish_fe = checkbox_fisher_exact_power(responses.publish_definition, DP_FEATURES)\n",
      "\n",
      "for feature in DP_FEATURES:\n",
      "    display(publish_fe[feature])\n"
     ],
     "language": "python",
     "metadata": {},
     "outputs": []
    },
    {
     "cell_type": "code",
     "collapsed": false,
     "input": [
      "[2] -- Friday, December 05, 2014 -- 10:18:15\n",
      "\u03c7\u00b2 tests - Goodness-of-fit tests: Contingency tables\n",
      "\n",
      "Analysis:\tSensitivity: Compute required effect size \n",
      "Input:\t\t\u03b1 err prob                    \t=\t0.05\n",
      "\t\t\tPower (1-\u03b2 err prob)          \t=\t0.8\n",
      "\t\t\tTotal sample size             \t=\t249\n",
      "\t\t\tDf                            \t=\t1\n",
      "Output:\t\tNoncentrality parameter \u03bb     \t=\t7.8488605\n",
      "\t\t\tCritical \u03c7\u00b2                   \t=\t3.8414588\n",
      "\t\t\tEffect size w                 \t=\t0.1775430\n",
      "\n",
      "\n",
      "[3] -- Friday, December 05, 2014 -- 11:02:46\n",
      "Exact - Proportions: Inequality, two independent groups (Fisher's exact test) \n",
      "\n",
      "Options:\tExact distribution\n",
      "\n",
      "Analysis:\tPost hoc: Compute achieved power \n",
      "Input:\t\tTail(s)                  \t=\tTwo\n",
      "\t\t\tProportion p1            \t=\t0.515\n",
      "\t\t\tProportion p2            \t=\t0.081\n",
      "\t\t\t\u03b1 err prob               \t=\t0.05\n",
      "\t\t\tSample size group 1      \t=\t97\n",
      "\t\t\tSample size group 2      \t=\t149\n",
      "Output:\t\tPower (1-\u03b2 err prob)     \t=\t1.0000000\n",
      "\t\t\tActual \u03b1                 \t=\t0.0361614\n",
      "\n",
      "\n",
      "[4] -- Friday, December 05, 2014 -- 11:04:55\n",
      "Exact - Proportions: Inequality, two independent groups (Fisher's exact test) \n",
      "\n",
      "Options:\tExact distribution\n",
      "\n",
      "Analysis:\tPost hoc: Compute achieved power \n",
      "Input:\t\tTail(s)                  \t=\tTwo\n",
      "\t\t\tProportion p1            \t=\t0.4\n",
      "\t\t\tProportion p2            \t=\t0.39\n",
      "\t\t\t\u03b1 err prob               \t=\t0.05\n",
      "\t\t\tSample size group 1      \t=\t105\n",
      "\t\t\tSample size group 2      \t=\t141\n",
      "Output:\t\tPower (1-\u03b2 err prob)     \t=\t0.0472693\n",
      "\t\t\tActual \u03b1                 \t=\t0.0446068\n",
      "\n",
      "\n",
      "[5] -- Friday, December 05, 2014 -- 11:05:58\n",
      "Exact - Proportions: Inequality, two independent groups (Fisher's exact test) \n",
      "\n",
      "Options:\tExact distribution\n",
      "\n",
      "Analysis:\tSensitivity: Compute required effect size \n",
      "Input:\t\tTail(s)                  \t=\tTwo\n",
      "\t\t\tEffect direction         \t=\tp1\u2265p2\n",
      "\t\t\tProportion p2            \t=\t0.39\n",
      "\t\t\t\u03b1 err prob               \t=\t0.05\n",
      "\t\t\tPower (1-\u03b2 err prob)     \t=\t0.8\n",
      "\t\t\tSample size group 1      \t=\t105\n",
      "\t\t\tSample size group 2      \t=\t141\n",
      "Output:\t\tProportion p1            \t=\t0.5756715\n",
      "\t\t\tActual power             \t=\t0.8000000\n",
      "\t\t\tActual \u03b1                 \t=\t0.0446068\n",
      "\n",
      "\n",
      "[6] -- Friday, December 05, 2014 -- 11:06:08\n",
      "Exact - Proportions: Inequality, two independent groups (Fisher's exact test) \n",
      "\n",
      "Options:\tExact distribution\n",
      "\n",
      "Analysis:\tSensitivity: Compute required effect size \n",
      "Input:\t\tTail(s)                  \t=\tTwo\n",
      "\t\t\tEffect direction         \t=\tp1\u2264p2\n",
      "\t\t\tProportion p2            \t=\t0.39\n",
      "\t\t\t\u03b1 err prob               \t=\t0.05\n",
      "\t\t\tPower (1-\u03b2 err prob)     \t=\t0.8\n",
      "\t\t\tSample size group 1      \t=\t105\n",
      "\t\t\tSample size group 2      \t=\t141\n",
      "Output:\t\tProportion p1            \t=\t0.2198081\n",
      "\t\t\tActual power             \t=\t0.8000000\n",
      "\t\t\tActual \u03b1                 \t=\t0.0446068\n",
      "\n",
      "\n",
      "[7] -- Friday, December 05, 2014 -- 11:07:26\n",
      "Exact - Proportions: Inequality, two independent groups (Fisher's exact test) \n",
      "\n",
      "Options:\tExact distribution\n",
      "\n",
      "Analysis:\tSensitivity: Compute required effect size \n",
      "Input:\t\tTail(s)                  \t=\tTwo\n",
      "\t\t\tEffect direction         \t=\tp1\u2264p2\n",
      "\t\t\tProportion p2            \t=\t.43\n",
      "\t\t\t\u03b1 err prob               \t=\t0.05\n",
      "\t\t\tPower (1-\u03b2 err prob)     \t=\t0.8\n",
      "\t\t\tSample size group 1      \t=\t133\n",
      "\t\t\tSample size group 2      \t=\t113\n",
      "Output:\t\tProportion p1            \t=\t0.2572962\n",
      "\t\t\tActual power             \t=\t0.8000000\n",
      "\t\t\tActual \u03b1                 \t=\t0.0404907\n",
      "\n",
      "\n",
      "[8] -- Friday, December 05, 2014 -- 11:07:41\n",
      "Exact - Proportions: Inequality, two independent groups (Fisher's exact test) \n",
      "\n",
      "Options:\tExact distribution\n",
      "\n",
      "Analysis:\tSensitivity: Compute required effect size \n",
      "Input:\t\tTail(s)                  \t=\tTwo\n",
      "\t\t\tEffect direction         \t=\tp1\u2265p2\n",
      "\t\t\tProportion p2            \t=\t0.43\n",
      "\t\t\t\u03b1 err prob               \t=\t0.05\n",
      "\t\t\tPower (1-\u03b2 err prob)     \t=\t0.8\n",
      "\t\t\tSample size group 1      \t=\t133\n",
      "\t\t\tSample size group 2      \t=\t113\n",
      "Output:\t\tProportion p1            \t=\t0.6135019\n",
      "\t\t\tActual power             \t=\t0.8000000\n",
      "\t\t\tActual \u03b1                 \t=\t0.0404907"
     ],
     "language": "python",
     "metadata": {},
     "outputs": []
    }
   ],
   "metadata": {}
  }
 ]
}