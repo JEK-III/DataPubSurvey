{
 "metadata": {
  "name": "",
  "signature": "sha256:47e70ea09aa147889a3d5af735a8fd7647a615e34fe3fbfa4361487012a6d452"
 },
 "nbformat": 3,
 "nbformat_minor": 0,
 "worksheets": [
  {
   "cells": [
    {
     "cell_type": "code",
     "collapsed": false,
     "input": [
      "import math\n",
      "import numpy as np\n",
      "import scipy.stats as sps"
     ],
     "language": "python",
     "metadata": {},
     "outputs": [],
     "prompt_number": 1
    },
    {
     "cell_type": "code",
     "collapsed": false,
     "input": [
      "def effect_size(chi_squared, n):\n",
      "        return math.sqrt(chi_squared/n)"
     ],
     "language": "python",
     "metadata": {},
     "outputs": [],
     "prompt_number": 4
    },
    {
     "cell_type": "code",
     "collapsed": false,
     "input": [
      "N = 1317"
     ],
     "language": "python",
     "metadata": {},
     "outputs": [],
     "prompt_number": 2
    },
    {
     "cell_type": "heading",
     "level": 3,
     "metadata": {},
     "source": [
      "Table 20. Conditions for data sharing for reuse by subject discipline."
     ]
    },
    {
     "cell_type": "heading",
     "level": 5,
     "metadata": {},
     "source": [
      "Question 2. It is important that my data are cited when used by other researchers."
     ]
    },
    {
     "cell_type": "code",
     "collapsed": false,
     "input": [
      "n_t20_q2 = sum([119,68,112,331,40,134,17,63,55,32,30,109,10,31,9,22])\n",
      "print effect_size(41.985,n_t20_q2)"
     ],
     "language": "python",
     "metadata": {},
     "outputs": [
      {
       "output_type": "stream",
       "stream": "stdout",
       "text": [
        "0.188468311842\n"
       ]
      }
     ],
     "prompt_number": 11
    },
    {
     "cell_type": "heading",
     "level": 3,
     "metadata": {},
     "source": [
      "Table 21. Using others\u2019 data by subject discipline."
     ]
    },
    {
     "cell_type": "code",
     "collapsed": false,
     "input": [
      "chi_squares_table21 = [17.514, 15.076, 14.610, 24.282, 17.680, 35.158]\n",
      "\n",
      "for value in chi_squares_table21:\n",
      "    print effect_size(value, N)"
     ],
     "language": "python",
     "metadata": {},
     "outputs": [
      {
       "output_type": "stream",
       "stream": "stdout",
       "text": [
        "0.115318712562\n",
        "0.106991721875\n",
        "0.105325182542\n",
        "0.135784231894\n",
        "0.115863926683\n",
        "0.163387637603\n"
       ]
      }
     ],
     "prompt_number": 8
    },
    {
     "cell_type": "heading",
     "level": 3,
     "metadata": {},
     "source": [
      "Table 22. Using others\u2019 data by subject discipline."
     ]
    },
    {
     "cell_type": "code",
     "collapsed": false,
     "input": [
      "chi_squares_table22 = [20.469, 15.439, 23.199, 35.590]\n",
      "\n",
      "for value in chi_squares_table22:\n",
      "    print effect_size(value, N)"
     ],
     "language": "python",
     "metadata": {},
     "outputs": [
      {
       "output_type": "stream",
       "stream": "stdout",
       "text": [
        "0.124668124354\n",
        "0.108272133873\n",
        "0.132721641674\n",
        "0.16438837655\n"
       ]
      }
     ],
     "prompt_number": 9
    },
    {
     "cell_type": "code",
     "collapsed": false,
     "input": [],
     "language": "python",
     "metadata": {},
     "outputs": []
    }
   ],
   "metadata": {}
  }
 ]
}